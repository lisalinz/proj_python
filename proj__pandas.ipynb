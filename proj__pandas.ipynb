{
  "nbformat": 4,
  "nbformat_minor": 0,
  "metadata": {
    "colab": {
      "name": "proj__pandas.ipynb",
      "provenance": [],
      "collapsed_sections": []
    },
    "kernelspec": {
      "name": "python3",
      "display_name": "Python 3"
    },
    "language_info": {
      "name": "python"
    }
  },
  "cells": [
    {
      "cell_type": "code",
      "execution_count": 1,
      "metadata": {
        "id": "vTdowU3L9c6T"
      },
      "outputs": [],
      "source": [
        "import pandas as pd"
      ]
    },
    {
      "cell_type": "code",
      "source": [
        "import os"
      ],
      "metadata": {
        "id": "cIKyFRVTJkZw"
      },
      "execution_count": 3,
      "outputs": []
    },
    {
      "cell_type": "code",
      "source": [
        "from google.colab import files\n",
        "files.upload()"
      ],
      "metadata": {
        "id": "z_mG43QWEK74"
      },
      "execution_count": null,
      "outputs": []
    },
    {
      "cell_type": "code",
      "source": [
        "with open(\"bj_name.txt\", \"r\") as file1:\n",
        "  res1=file1.read()\n",
        "  print(res1)"
      ],
      "metadata": {
        "colab": {
          "base_uri": "https://localhost:8080/"
        },
        "id": "4YT8VSJPH4Zk",
        "outputId": "3d156e7e-c3a8-49be-eb03-8346fca24be5"
      },
      "execution_count": 16,
      "outputs": [
        {
          "output_type": "stream",
          "name": "stdout",
          "text": [
            "Beetlejuice (Broadway)\n",
            "\n"
          ]
        }
      ]
    },
    {
      "cell_type": "code",
      "source": [
        "with open(\"chg_name.txt\", \"r\") as file2:\n",
        "  res2=file2.read()\n",
        "  print(res2)"
      ],
      "metadata": {
        "colab": {
          "base_uri": "https://localhost:8080/"
        },
        "outputId": "dca7bd31-5ffb-4fbe-c8aa-7f7de750feec",
        "id": "yUQgHzP0Sh_b"
      },
      "execution_count": 17,
      "outputs": [
        {
          "output_type": "stream",
          "name": "stdout",
          "text": [
            "Chicago (Broadway)\n",
            "\n"
          ]
        }
      ]
    },
    {
      "cell_type": "code",
      "source": [
        "with open(\"comp_name.txt\", \"r\") as file3:\n",
        "  res3=file3.read()\n",
        "  print(res3)"
      ],
      "metadata": {
        "colab": {
          "base_uri": "https://localhost:8080/"
        },
        "outputId": "16b59e72-22aa-47cd-a0fa-1a88344b92e5",
        "id": "Q8GFex4xSiNd"
      },
      "execution_count": 18,
      "outputs": [
        {
          "output_type": "stream",
          "name": "stdout",
          "text": [
            "Company (Broadway)\n",
            "\n"
          ]
        }
      ]
    },
    {
      "cell_type": "code",
      "source": [
        "with open(\"ham_name.txt\", \"r\") as file4:\n",
        "  res4=file4.read()\n",
        "  print(res4)"
      ],
      "metadata": {
        "colab": {
          "base_uri": "https://localhost:8080/"
        },
        "outputId": "1ec4cd14-7699-4e21-d575-0cca050329c4",
        "id": "OrqxoTIDSiZe"
      },
      "execution_count": 19,
      "outputs": [
        {
          "output_type": "stream",
          "name": "stdout",
          "text": [
            "Hamilton (Broadway)\n",
            "\n"
          ]
        }
      ]
    },
    {
      "cell_type": "code",
      "source": [
        "with open(\"hp_name.txt\", \"r\") as file5:\n",
        "  res5=file5.read()\n",
        "  print(res1)"
      ],
      "metadata": {
        "colab": {
          "base_uri": "https://localhost:8080/"
        },
        "outputId": "12cfad8b-9baf-45b0-fa20-bfabb24f2dd9",
        "id": "QTbPvXpoSikd"
      },
      "execution_count": 20,
      "outputs": [
        {
          "output_type": "stream",
          "name": "stdout",
          "text": [
            "Beetlejuice (Broadway)\n",
            "\n"
          ]
        }
      ]
    },
    {
      "cell_type": "code",
      "source": [
        "with open(\"hstw_name.txt\", \"r\") as file6:\n",
        "  res6=file6.read()\n",
        "  print(res6)"
      ],
      "metadata": {
        "colab": {
          "base_uri": "https://localhost:8080/"
        },
        "outputId": "4b2c5926-0121-424e-81bd-c7491955808e",
        "id": "0PsNbdhZSitw"
      },
      "execution_count": 21,
      "outputs": [
        {
          "output_type": "stream",
          "name": "stdout",
          "text": [
            "Hadestown (Broadway)\n",
            "\n"
          ]
        }
      ]
    },
    {
      "cell_type": "code",
      "source": [
        "with open(\"mm_name.txt\", \"r\") as file7:\n",
        "  res7=file7.read()\n",
        "  print(res7)"
      ],
      "metadata": {
        "colab": {
          "base_uri": "https://localhost:8080/"
        },
        "outputId": "55b99c12-c6e6-485e-f7e6-308be6efb9f6",
        "id": "yeZlNjJJSi3e"
      },
      "execution_count": 22,
      "outputs": [
        {
          "output_type": "stream",
          "name": "stdout",
          "text": [
            "The Music Man (Broadway)\n",
            "\n"
          ]
        }
      ]
    },
    {
      "cell_type": "code",
      "source": [
        "with open(\"mr_name.txt\", \"r\") as file8:\n",
        "  res8=file8.read()\n",
        "  print(res8)"
      ],
      "metadata": {
        "colab": {
          "base_uri": "https://localhost:8080/"
        },
        "outputId": "9a1f461b-9202-4f16-a77f-b6c1b8222b5a",
        "id": "lweDnFitSjAi"
      },
      "execution_count": 23,
      "outputs": [
        {
          "output_type": "stream",
          "name": "stdout",
          "text": [
            "Moulin Rouge! (Broadway)\n",
            "\n"
          ]
        }
      ]
    },
    {
      "cell_type": "code",
      "source": [
        "with open(\"poto_name.txt\", \"r\") as file9:\n",
        "  res9=file9.read()\n",
        "  print(res9)"
      ],
      "metadata": {
        "colab": {
          "base_uri": "https://localhost:8080/"
        },
        "outputId": "2c3ccdc9-8ad0-414b-b791-7b6e7719f198",
        "id": "IuDuvxkeTSlC"
      },
      "execution_count": 24,
      "outputs": [
        {
          "output_type": "stream",
          "name": "stdout",
          "text": [
            "The Phantom of the Opera (Broadway)\n",
            "\n"
          ]
        }
      ]
    },
    {
      "cell_type": "code",
      "source": [
        "with open(\"six_name.txt\", \"r\") as file10:\n",
        "  res10=file10.read()\n",
        "  print(res10)"
      ],
      "metadata": {
        "colab": {
          "base_uri": "https://localhost:8080/"
        },
        "outputId": "87549694-3461-4d47-fa3f-0bcaeef7043c",
        "id": "xIIUTmXITRu7"
      },
      "execution_count": 25,
      "outputs": [
        {
          "output_type": "stream",
          "name": "stdout",
          "text": [
            "Six (Broadway)\n",
            "\n"
          ]
        }
      ]
    },
    {
      "cell_type": "code",
      "source": [
        "with open(\"wckd_name.txt\", \"r\") as file11:\n",
        "  res11=file11.read()\n",
        "  print(res11)"
      ],
      "metadata": {
        "colab": {
          "base_uri": "https://localhost:8080/"
        },
        "outputId": "9e3a8c21-5caf-4cee-8804-b35de2d7535d",
        "id": "O2xgAe-9TR_0"
      },
      "execution_count": 26,
      "outputs": [
        {
          "output_type": "stream",
          "name": "stdout",
          "text": [
            "Wicked (Broadway)\n",
            "\n"
          ]
        }
      ]
    },
    {
      "cell_type": "code",
      "source": [
        "with open('all_heads.txt', 'x') as file:\n",
        "  file.write(res1)\n",
        "  file.write(res2)\n",
        "  file.write(res3)\n",
        "  file.write(res4)\n",
        "  file.write(res5)\n",
        "  file.write(res6)\n",
        "  file.write(res7)\n",
        "  file.write(res8)\n",
        "  file.write(res9)\n",
        "  file.write(res10)\n",
        "  file.write(res11)"
      ],
      "metadata": {
        "id": "JUAquGxcTfQ9"
      },
      "execution_count": 46,
      "outputs": []
    },
    {
      "cell_type": "code",
      "source": [
        "with open('all_heads.txt','r') as file:\n",
        "    print(file.read())"
      ],
      "metadata": {
        "colab": {
          "base_uri": "https://localhost:8080/"
        },
        "id": "q9PxLpYFVgCl",
        "outputId": "3d198093-7c0e-4f45-bfcc-9bccfe1b86a1"
      },
      "execution_count": 47,
      "outputs": [
        {
          "output_type": "stream",
          "name": "stdout",
          "text": [
            "Beetlejuice (Broadway)\n",
            "Chicago (Broadway)\n",
            "Company (Broadway)\n",
            "Hamilton (Broadway)\n",
            "Harry Potter and the Cursed Child (NYC)\n",
            "Hadestown (Broadway)\n",
            "The Music Man (Broadway)\n",
            "Moulin Rouge! (Broadway)\n",
            "The Phantom of the Opera (Broadway)\n",
            "Six (Broadway)\n",
            "Wicked (Broadway)\n",
            "\n"
          ]
        }
      ]
    },
    {
      "cell_type": "code",
      "source": [
        "from google.colab import files\n",
        "files.upload()"
      ],
      "metadata": {
        "id": "u3r3v7HoVhxK"
      },
      "execution_count": null,
      "outputs": []
    },
    {
      "cell_type": "code",
      "source": [
        "with open(\"bj_descript.txt\", \"r\") as file12:\n",
        "  res12=file12.read()\n",
        "  print(res12)"
      ],
      "metadata": {
        "colab": {
          "base_uri": "https://localhost:8080/"
        },
        "id": "5P65UJqIWLJB",
        "outputId": "e2dc7d26-e8f4-4422-9399-c2199e24e013"
      },
      "execution_count": 137,
      "outputs": [
        {
          "output_type": "stream",
          "name": "stdout",
          "text": [
            "Directed by Alex Timbers (Moulin Rouge!), Beetlejuice tells the story of Lydia Deetz, a strange and unusual teenager whose whole life changes when she meets a recently deceased couple and a demon with a thing for stripes. And under its uproarious surface (six feet under, to be exact), it’s a remarkably touching show about family, love, and making the most of every Day-O!\n",
            "\n"
          ]
        }
      ]
    },
    {
      "cell_type": "code",
      "source": [
        "with open(\"chg_descript.txt\", \"r\") as file13:\n",
        "  res13=file13.read()\n",
        "  print(res13)"
      ],
      "metadata": {
        "colab": {
          "base_uri": "https://localhost:8080/"
        },
        "outputId": "919759f6-c126-4a5a-c180-b64c8ad78601",
        "id": "OIYbsHLlWrnw"
      },
      "execution_count": 138,
      "outputs": [
        {
          "output_type": "stream",
          "name": "stdout",
          "text": [
            "Set in the legendary city during the roaring “jazz hot” 20s, Chicago tells the story of two rival vaudevillian murderesses locked up in Cook County Jail. Nightclub star Velma’s serving time for killing her husband and sister after finding the two in bed together. Driven chorus girl Roxie’s been tossed in the joint for bumping off the lover she’s been cheating on her husband with. Not one to rest on her laurels, Velma enlists the help of prison matron Mama Morton and slickster lawyer Billy Flynn, who turn Velma’s incarceration into a murder-of-the-week media frenzy, thus preparing the world for a splashy showbiz comeback. But Roxie’s got some of her own tricks up her sleeve…\n",
            "\n"
          ]
        }
      ]
    },
    {
      "cell_type": "code",
      "source": [
        "with open(\"comp_descript.txt\", \"r\") as file14:\n",
        "  res14=file14.read()\n",
        "  print(res14)"
      ],
      "metadata": {
        "colab": {
          "base_uri": "https://localhost:8080/"
        },
        "id": "RhRvJCQdWgNQ",
        "outputId": "0352f753-2bd7-4adb-f08a-03bc1fb4dde0"
      },
      "execution_count": 139,
      "outputs": [
        {
          "output_type": "stream",
          "name": "stdout",
          "text": [
            "The quintessential musical comedy about the search for love and cocktails in the Big Apple is turned on its head in Marianne Elliott’s revelatory staging, in which musical theater’s most iconic bachelor becomes a bachelorette. At Bobbie’s 35th birthday party, all her friends are wondering why isn’t she married? Why can’t she find the right man? And, why can’t she settle down and have a family? This whip smart musical, given a game-changing makeover for a modern-day Manhattan, features some of Sondheim’s best loved songs, including “Company,” “You Could Drive a Person Crazy,” “The Ladies Who Lunch,” “Side by Side,” and the iconic “Being Alive.”\n",
            "\n"
          ]
        }
      ]
    },
    {
      "cell_type": "code",
      "source": [
        "with open(\"ham_descript.txt\", \"r\") as file15:\n",
        "  res15=file15.read()\n",
        "  print(res15)"
      ],
      "metadata": {
        "colab": {
          "base_uri": "https://localhost:8080/"
        },
        "id": "0HNIVo89W4Qu",
        "outputId": "3c168e20-92f7-4cf9-84fd-1d03654f3ad0"
      },
      "execution_count": 140,
      "outputs": [
        {
          "output_type": "stream",
          "name": "stdout",
          "text": [
            "Hamilton is the story of the unlikely Founding Father determined to make his mark on the new nation as hungry and ambitious as he is. From bastard orphan to Washington's right-hand man, rebel to war hero, a loving husband caught in the country's first sex scandal, to the Treasury head who made an untrusting world believe in the American economy. George Washington, Eliza Hamilton, Thomas Jefferson and Hamilton's lifelong friend/foil Aaron Burr all make their mark in this astonishing new musical exploration of a political mastermind.\n",
            "\n"
          ]
        }
      ]
    },
    {
      "cell_type": "code",
      "source": [
        "with open(\"ham_descript.txt\", \"r\") as file16:\n",
        "  res16=file16.read()\n",
        "  print(res16)"
      ],
      "metadata": {
        "colab": {
          "base_uri": "https://localhost:8080/"
        },
        "id": "P9XXSS-CW7wH",
        "outputId": "89b3f710-fe1b-45e8-b97d-f8db3f0c2248"
      },
      "execution_count": 141,
      "outputs": [
        {
          "output_type": "stream",
          "name": "stdout",
          "text": [
            "Hamilton is the story of the unlikely Founding Father determined to make his mark on the new nation as hungry and ambitious as he is. From bastard orphan to Washington's right-hand man, rebel to war hero, a loving husband caught in the country's first sex scandal, to the Treasury head who made an untrusting world believe in the American economy. George Washington, Eliza Hamilton, Thomas Jefferson and Hamilton's lifelong friend/foil Aaron Burr all make their mark in this astonishing new musical exploration of a political mastermind.\n",
            "\n"
          ]
        }
      ]
    },
    {
      "cell_type": "code",
      "source": [
        "with open(\"hstw_descript.txt\", \"r\") as file17:\n",
        "  res17=file17.read()\n",
        "  print(res17)"
      ],
      "metadata": {
        "colab": {
          "base_uri": "https://localhost:8080/"
        },
        "id": "HCnIdigHW_BM",
        "outputId": "d05cd914-b2d6-48e2-ddc4-0a1326573609"
      },
      "execution_count": 142,
      "outputs": [
        {
          "output_type": "stream",
          "name": "stdout",
          "text": [
            "Welcome to Hadestown, where a song can change your fate. This acclaimed new musical by celebrated singer-songwriter Anaïs Mitchell and innovative director Rachel Chavkin (Natasha, Pierre & The Great Comet of 1812) is a love story for today… and always. Hadestown intertwines two mythic tales—that of young dreamers Orpheus and Eurydice, and that of King Hades and his wife Persephone—as it invites you on a hell-raising journey to the underworld and back. Mitchell’s beguiling melodies and Chavkin’s poetic imagination pit industry against nature, doubt against faith, and fear against love. Performed by a vibrant ensemble of actors, dancers and singers, Hadestown is a haunting and hopeful theatrical experience that grabs you and never lets go.\n",
            "\n"
          ]
        }
      ]
    },
    {
      "cell_type": "code",
      "source": [
        "with open(\"mm_descript.txt\", \"r\") as file18:\n",
        "  res18=file18.read()\n",
        "  print(res18)"
      ],
      "metadata": {
        "colab": {
          "base_uri": "https://localhost:8080/"
        },
        "id": "K_dR-NDSXCRt",
        "outputId": "23dc2bd3-2776-42be-fb61-1e942528db30"
      },
      "execution_count": 143,
      "outputs": [
        {
          "output_type": "stream",
          "name": "stdout",
          "text": [
            "Hugh Jackman will not appear as Harold Hill August 15–21, 2022; September 5–11, 2022 and October 10–16, 2022.Two-time Tony Award®, Grammy Award®, and Emmy Award® winner Hugh Jackman will make his highly anticipated return to Broadway in what is widely agreed to be the greatest role ever created for an actor in the history of musical theater: Professor Harold Hill in Meredith Willson’s beloved classic, The Music Man. \n",
            "\n"
          ]
        }
      ]
    },
    {
      "cell_type": "code",
      "source": [
        "with open(\"mr_descript.txt\", \"r\") as file19:\n",
        "  res19=file19.read()\n",
        "  print(res19)"
      ],
      "metadata": {
        "colab": {
          "base_uri": "https://localhost:8080/"
        },
        "id": "bSPwgNhXXGLp",
        "outputId": "341e18b9-4449-4910-9903-a8b2423cdb87"
      },
      "execution_count": 144,
      "outputs": [
        {
          "output_type": "stream",
          "name": "stdout",
          "text": [
            "Enter a world of splendor and romance, of eye-popping excess, of glitz, grandeur and glory! A world where Bohemians and aristocrats rub elbows and revel in electrifying enchantment. Pop the champagne and prepare for the spectacular spectacular... Welcome to Moulin Rouge! The Musical. Baz Luhrmann’s revolutionary film comes to life onstage, remixed in a new musical mash-up extravaganza. A theatrical celebration of truth, beauty, freedom and—above all—LOVE, Moulin Rouge! is more than a musical; it is a state of mind. How wonderful life is...at the Moulin Rouge.\n",
            "\n"
          ]
        }
      ]
    },
    {
      "cell_type": "code",
      "source": [
        "with open(\"poto_descript.txt\", \"r\") as file20:\n",
        "  res20=file20.read()\n",
        "  print(res20)"
      ],
      "metadata": {
        "colab": {
          "base_uri": "https://localhost:8080/"
        },
        "id": "LqRjsWyGXKi6",
        "outputId": "43d77158-a77a-4517-b1e3-01254aad7af0"
      },
      "execution_count": 145,
      "outputs": [
        {
          "output_type": "stream",
          "name": "stdout",
          "text": [
            "The longest-running show in Broadway history, Andrew Lloyd Webber’s The Phantom of the Opera debuted in 1988, winning seven Tony Awards® including Best Musical. Based on Gaston Leroux’s horror novel, it tells the enticing story of the Phantom, who haunts the stage of the Paris Opera and subsequently falls in love with a beautiful young soprano. Audiences are in for a thrilling night at the theater to see this timeless tale, accompanied by an unforgettable musical score.\n",
            "\n"
          ]
        }
      ]
    },
    {
      "cell_type": "code",
      "source": [
        "with open(\"six_descript.txt\", \"r\") as file21:\n",
        "  res21=file21.read()\n",
        "  print(res21)"
      ],
      "metadata": {
        "colab": {
          "base_uri": "https://localhost:8080/"
        },
        "id": "be7FHut_XOFX",
        "outputId": "ef7ba616-01b1-456f-d076-ca3829a02e37"
      },
      "execution_count": 146,
      "outputs": [
        {
          "output_type": "stream",
          "name": "stdout",
          "text": [
            "From Tudor Queens to Pop Princesses, the Six wives of Henry VIII take the mic to remix five hundred years of historical heartbreak into an exuberant celebration of 21st century girl power! This new original musical is the global sensation that everyone is losing their head over. The New York Times says Six is “pure entertainment!” and Evening Standard hails Six as “the most uplifting new British musical I have ever had the privilege to watch.”\n",
            "\n"
          ]
        }
      ]
    },
    {
      "cell_type": "code",
      "source": [
        "with open(\"wckd_descript.txt\", \"r\") as file22:\n",
        "  res22=file22.read()\n",
        "  print(res22)"
      ],
      "metadata": {
        "colab": {
          "base_uri": "https://localhost:8080/"
        },
        "id": "vmobRV3YXRV1",
        "outputId": "68216e2a-b5db-41b5-c79f-0241c35605fa"
      },
      "execution_count": 147,
      "outputs": [
        {
          "output_type": "stream",
          "name": "stdout",
          "text": [
            "Wicked, the Broadway sensation, looks at what happened in the Land of Oz…but from a different angle. Long before Dorothy arrives, there is another girl, born with emerald-green skin—smart, fiery, misunderstood, and possessing an extraordinary talent. When she meets a bubbly blonde who is exceptionally popular, their initial rivalry turns into the unlikeliest of friendships…until the world decides to call one “good,” and the other one “wicked.”\n",
            "\n"
          ]
        }
      ]
    },
    {
      "cell_type": "code",
      "source": [
        "with open('all_descripts.txt', 'x') as file:\n",
        "  file.write(res12)\n",
        "  file.write(res13)\n",
        "  file.write(res14)\n",
        "  file.write(res15)\n",
        "  file.write(res16)\n",
        "  file.write(res17)\n",
        "  file.write(res18)\n",
        "  file.write(res19)\n",
        "  file.write(res20)\n",
        "  file.write(res21)\n",
        "  file.write(res22)"
      ],
      "metadata": {
        "id": "UjveMcb9XU7r"
      },
      "execution_count": 148,
      "outputs": []
    },
    {
      "cell_type": "code",
      "source": [
        "with open('all_descripts.txt','r') as file:\n",
        "    print(file.read())"
      ],
      "metadata": {
        "colab": {
          "base_uri": "https://localhost:8080/"
        },
        "id": "pSaugqufXih8",
        "outputId": "a689e948-df81-4728-dba1-27dec2f3509e"
      },
      "execution_count": 149,
      "outputs": [
        {
          "output_type": "stream",
          "name": "stdout",
          "text": [
            "Directed by Alex Timbers (Moulin Rouge!), Beetlejuice tells the story of Lydia Deetz, a strange and unusual teenager whose whole life changes when she meets a recently deceased couple and a demon with a thing for stripes. And under its uproarious surface (six feet under, to be exact), it’s a remarkably touching show about family, love, and making the most of every Day-O!\n",
            "Set in the legendary city during the roaring “jazz hot” 20s, Chicago tells the story of two rival vaudevillian murderesses locked up in Cook County Jail. Nightclub star Velma’s serving time for killing her husband and sister after finding the two in bed together. Driven chorus girl Roxie’s been tossed in the joint for bumping off the lover she’s been cheating on her husband with. Not one to rest on her laurels, Velma enlists the help of prison matron Mama Morton and slickster lawyer Billy Flynn, who turn Velma’s incarceration into a murder-of-the-week media frenzy, thus preparing the world for a splashy showbiz comeback. But Roxie’s got some of her own tricks up her sleeve…\n",
            "The quintessential musical comedy about the search for love and cocktails in the Big Apple is turned on its head in Marianne Elliott’s revelatory staging, in which musical theater’s most iconic bachelor becomes a bachelorette. At Bobbie’s 35th birthday party, all her friends are wondering why isn’t she married? Why can’t she find the right man? And, why can’t she settle down and have a family? This whip smart musical, given a game-changing makeover for a modern-day Manhattan, features some of Sondheim’s best loved songs, including “Company,” “You Could Drive a Person Crazy,” “The Ladies Who Lunch,” “Side by Side,” and the iconic “Being Alive.”\n",
            "Hamilton is the story of the unlikely Founding Father determined to make his mark on the new nation as hungry and ambitious as he is. From bastard orphan to Washington's right-hand man, rebel to war hero, a loving husband caught in the country's first sex scandal, to the Treasury head who made an untrusting world believe in the American economy. George Washington, Eliza Hamilton, Thomas Jefferson and Hamilton's lifelong friend/foil Aaron Burr all make their mark in this astonishing new musical exploration of a political mastermind.\n",
            "Hamilton is the story of the unlikely Founding Father determined to make his mark on the new nation as hungry and ambitious as he is. From bastard orphan to Washington's right-hand man, rebel to war hero, a loving husband caught in the country's first sex scandal, to the Treasury head who made an untrusting world believe in the American economy. George Washington, Eliza Hamilton, Thomas Jefferson and Hamilton's lifelong friend/foil Aaron Burr all make their mark in this astonishing new musical exploration of a political mastermind.\n",
            "Welcome to Hadestown, where a song can change your fate. This acclaimed new musical by celebrated singer-songwriter Anaïs Mitchell and innovative director Rachel Chavkin (Natasha, Pierre & The Great Comet of 1812) is a love story for today… and always. Hadestown intertwines two mythic tales—that of young dreamers Orpheus and Eurydice, and that of King Hades and his wife Persephone—as it invites you on a hell-raising journey to the underworld and back. Mitchell’s beguiling melodies and Chavkin’s poetic imagination pit industry against nature, doubt against faith, and fear against love. Performed by a vibrant ensemble of actors, dancers and singers, Hadestown is a haunting and hopeful theatrical experience that grabs you and never lets go.\n",
            "Hugh Jackman will not appear as Harold Hill August 15–21, 2022; September 5–11, 2022 and October 10–16, 2022.Two-time Tony Award®, Grammy Award®, and Emmy Award® winner Hugh Jackman will make his highly anticipated return to Broadway in what is widely agreed to be the greatest role ever created for an actor in the history of musical theater: Professor Harold Hill in Meredith Willson’s beloved classic, The Music Man. \n",
            "Enter a world of splendor and romance, of eye-popping excess, of glitz, grandeur and glory! A world where Bohemians and aristocrats rub elbows and revel in electrifying enchantment. Pop the champagne and prepare for the spectacular spectacular... Welcome to Moulin Rouge! The Musical. Baz Luhrmann’s revolutionary film comes to life onstage, remixed in a new musical mash-up extravaganza. A theatrical celebration of truth, beauty, freedom and—above all—LOVE, Moulin Rouge! is more than a musical; it is a state of mind. How wonderful life is...at the Moulin Rouge.\n",
            "The longest-running show in Broadway history, Andrew Lloyd Webber’s The Phantom of the Opera debuted in 1988, winning seven Tony Awards® including Best Musical. Based on Gaston Leroux’s horror novel, it tells the enticing story of the Phantom, who haunts the stage of the Paris Opera and subsequently falls in love with a beautiful young soprano. Audiences are in for a thrilling night at the theater to see this timeless tale, accompanied by an unforgettable musical score.\n",
            "From Tudor Queens to Pop Princesses, the Six wives of Henry VIII take the mic to remix five hundred years of historical heartbreak into an exuberant celebration of 21st century girl power! This new original musical is the global sensation that everyone is losing their head over. The New York Times says Six is “pure entertainment!” and Evening Standard hails Six as “the most uplifting new British musical I have ever had the privilege to watch.”\n",
            "Wicked, the Broadway sensation, looks at what happened in the Land of Oz…but from a different angle. Long before Dorothy arrives, there is another girl, born with emerald-green skin—smart, fiery, misunderstood, and possessing an extraordinary talent. When she meets a bubbly blonde who is exceptionally popular, their initial rivalry turns into the unlikeliest of friendships…until the world decides to call one “good,” and the other one “wicked.”\n",
            "\n"
          ]
        }
      ]
    },
    {
      "cell_type": "code",
      "source": [
        "from google.colab import files\n",
        "files.upload()"
      ],
      "metadata": {
        "id": "_gECcbSnXpxc"
      },
      "execution_count": null,
      "outputs": []
    },
    {
      "cell_type": "code",
      "source": [
        "with open(\"bj_price.txt\", \"w\") as file23:\n",
        "  file23.write('69\\n')"
      ],
      "metadata": {
        "id": "zfPNDjrvkpvL"
      },
      "execution_count": 168,
      "outputs": []
    },
    {
      "cell_type": "code",
      "source": [
        "with open(\"bj_price.txt\", \"r\") as file23:\n",
        "  res23=file23.read()\n",
        "  print(res23)"
      ],
      "metadata": {
        "colab": {
          "base_uri": "https://localhost:8080/"
        },
        "id": "OSKxd5ncgNje",
        "outputId": "c66c2c1a-869d-4389-842c-bc6378e57a0c"
      },
      "execution_count": 169,
      "outputs": [
        {
          "output_type": "stream",
          "name": "stdout",
          "text": [
            "69\n",
            "\n"
          ]
        }
      ]
    },
    {
      "cell_type": "code",
      "source": [
        "with open(\"chg_price.txt\", \"r\") as file24:\n",
        "  res24=file24.read()\n",
        "  print(res24)"
      ],
      "metadata": {
        "id": "nQQY1lVemCEx",
        "outputId": "4872ffc7-918d-46fb-8781-5f3957e3f2b4",
        "colab": {
          "base_uri": "https://localhost:8080/"
        }
      },
      "execution_count": 203,
      "outputs": [
        {
          "output_type": "stream",
          "name": "stdout",
          "text": [
            "49\n",
            "\n"
          ]
        }
      ]
    },
    {
      "cell_type": "code",
      "source": [
        "with open(\"chg_price.txt\", \"w\") as file24:\n",
        "  file24.write('49\\n')"
      ],
      "metadata": {
        "id": "AK40Th8oo-5W"
      },
      "execution_count": 202,
      "outputs": []
    },
    {
      "cell_type": "code",
      "source": [
        "with open(\"comp_price.txt\", \"r\") as file25:\n",
        "  res25=file25.read()\n",
        "  print(res25)"
      ],
      "metadata": {
        "id": "95bEoMcOmI9S",
        "outputId": "7a93a3bc-1bcd-48b9-c31f-fb7f1339ab4c",
        "colab": {
          "base_uri": "https://localhost:8080/"
        }
      },
      "execution_count": 173,
      "outputs": [
        {
          "output_type": "stream",
          "name": "stdout",
          "text": [
            "39\n",
            "\n"
          ]
        }
      ]
    },
    {
      "cell_type": "code",
      "source": [
        "with open(\"comp_price.txt\", \"w\") as file25:\n",
        "  file25.write('39\\n')"
      ],
      "metadata": {
        "id": "3wv-46Kel3f8"
      },
      "execution_count": 172,
      "outputs": []
    },
    {
      "cell_type": "code",
      "source": [
        "with open(\"ham_price.txt\", \"r\") as file26:\n",
        "  res26=file26.read()\n",
        "  print(res26)"
      ],
      "metadata": {
        "id": "50NJpZYomT-O",
        "outputId": "21a0b465-1802-41d5-93f1-972a2a23d736",
        "colab": {
          "base_uri": "https://localhost:8080/"
        }
      },
      "execution_count": 205,
      "outputs": [
        {
          "output_type": "stream",
          "name": "stdout",
          "text": [
            "199\n",
            "\n"
          ]
        }
      ]
    },
    {
      "cell_type": "code",
      "source": [
        "with open(\"ham_price.txt\", \"w\") as file26:\n",
        "  file26.write('199\\n')"
      ],
      "metadata": {
        "id": "dybCUcQPmclN"
      },
      "execution_count": 204,
      "outputs": []
    },
    {
      "cell_type": "code",
      "source": [
        "with open(\"hp_price.txt\", \"r\") as file27:\n",
        "  res27=file27.read()\n",
        "  print(res27)"
      ],
      "metadata": {
        "id": "2iwhNZsxnErY",
        "outputId": "a9e767e4-17f4-4834-d9a6-caa5d90d8a5a",
        "colab": {
          "base_uri": "https://localhost:8080/"
        }
      },
      "execution_count": 181,
      "outputs": [
        {
          "output_type": "stream",
          "name": "stdout",
          "text": [
            "59\n",
            "\n"
          ]
        }
      ]
    },
    {
      "cell_type": "code",
      "source": [
        "with open(\"hp_price.txt\", \"w\") as file27:\n",
        "  file27.write('59\\n')"
      ],
      "metadata": {
        "id": "OHe9qOcsnMVz"
      },
      "execution_count": 180,
      "outputs": []
    },
    {
      "cell_type": "code",
      "source": [
        "with open(\"hstw_price.txt\", \"r\") as file28:\n",
        "  res28=file28.read()\n",
        "  print(res28)"
      ],
      "metadata": {
        "id": "2kT5r15_nPdY",
        "outputId": "db3e0315-7a2f-4ab1-baeb-b5b2485f1c58",
        "colab": {
          "base_uri": "https://localhost:8080/"
        }
      },
      "execution_count": 184,
      "outputs": [
        {
          "output_type": "stream",
          "name": "stdout",
          "text": [
            "49\n",
            "\n"
          ]
        }
      ]
    },
    {
      "cell_type": "code",
      "source": [
        "with open(\"hstw_price.txt\", \"w\") as file28:\n",
        "  file28.write('49\\n')"
      ],
      "metadata": {
        "id": "oSe92McPnSsH"
      },
      "execution_count": 183,
      "outputs": []
    },
    {
      "cell_type": "code",
      "source": [
        "with open(\"mm_price.txt\", \"r\") as file29:\n",
        "  res29=file29.read()\n",
        "  print(res29)"
      ],
      "metadata": {
        "id": "qE8KnpH1njzH",
        "outputId": "201c86ac-3520-4410-cdca-335fef66c295",
        "colab": {
          "base_uri": "https://localhost:8080/"
        }
      },
      "execution_count": 187,
      "outputs": [
        {
          "output_type": "stream",
          "name": "stdout",
          "text": [
            "99\n",
            "\n"
          ]
        }
      ]
    },
    {
      "cell_type": "code",
      "source": [
        "with open(\"mm_price.txt\", \"w\") as file29:\n",
        "  file29.write('99\\n')"
      ],
      "metadata": {
        "id": "3o4TbCicnVFh"
      },
      "execution_count": 186,
      "outputs": []
    },
    {
      "cell_type": "code",
      "source": [
        "with open(\"mr_price.txt\", \"r\") as file30:\n",
        "  res30=file30.read()\n",
        "  print(res30)"
      ],
      "metadata": {
        "id": "NT6qRKQWnrEq",
        "outputId": "734c59f9-6487-4d96-fca5-db136d785ac8",
        "colab": {
          "base_uri": "https://localhost:8080/"
        }
      },
      "execution_count": 190,
      "outputs": [
        {
          "output_type": "stream",
          "name": "stdout",
          "text": [
            "69\n",
            "\n"
          ]
        }
      ]
    },
    {
      "cell_type": "code",
      "source": [
        "with open(\"mr_price.txt\", \"w\") as file30:\n",
        "  file30.write('69\\n')"
      ],
      "metadata": {
        "id": "JfUNeDLWnUcO"
      },
      "execution_count": 189,
      "outputs": []
    },
    {
      "cell_type": "code",
      "source": [
        "with open(\"poto_price.txt\", \"r\") as file31:\n",
        "  res31=file31.read()\n",
        "  print(res31)"
      ],
      "metadata": {
        "id": "NseiQjnfnzbw",
        "outputId": "caa571c8-9143-46c1-e25e-370ca04d0c85",
        "colab": {
          "base_uri": "https://localhost:8080/"
        }
      },
      "execution_count": 193,
      "outputs": [
        {
          "output_type": "stream",
          "name": "stdout",
          "text": [
            "29\n",
            "\n"
          ]
        }
      ]
    },
    {
      "cell_type": "code",
      "source": [
        "with open(\"poto_price.txt\", \"w\") as file31:\n",
        "  file31.write('29\\n')"
      ],
      "metadata": {
        "id": "Z3cw0VmSnUHg"
      },
      "execution_count": 192,
      "outputs": []
    },
    {
      "cell_type": "code",
      "source": [
        "with open(\"six_price.txt\", \"r\") as file32:\n",
        "  res32=file32.read()\n",
        "  print(res32)"
      ],
      "metadata": {
        "id": "c5vCmrUGn-AU",
        "outputId": "1aea0f73-6df6-44f2-c3f2-49689bf8ab4d",
        "colab": {
          "base_uri": "https://localhost:8080/"
        }
      },
      "execution_count": 207,
      "outputs": [
        {
          "output_type": "stream",
          "name": "stdout",
          "text": [
            "69\n",
            "\n"
          ]
        }
      ]
    },
    {
      "cell_type": "code",
      "source": [
        "with open(\"six_price.txt\", \"w\") as file32:\n",
        "  file32.write('69\\n')"
      ],
      "metadata": {
        "id": "NM9Y7e1hnTsK"
      },
      "execution_count": 206,
      "outputs": []
    },
    {
      "cell_type": "code",
      "source": [
        "with open(\"wckd_price.txt\", \"r\") as file33:\n",
        "  res33=file33.read()\n",
        "  print(res33)"
      ],
      "metadata": {
        "id": "kOU-wkMDn_i8",
        "outputId": "c52fffa5-d44c-4fd1-caab-b0fbb4049852",
        "colab": {
          "base_uri": "https://localhost:8080/"
        }
      },
      "execution_count": 199,
      "outputs": [
        {
          "output_type": "stream",
          "name": "stdout",
          "text": [
            "75\n",
            "\n"
          ]
        }
      ]
    },
    {
      "cell_type": "code",
      "source": [
        "with open(\"wckd_price.txt\", \"w\") as file33:\n",
        "  file33.write('75\\n')"
      ],
      "metadata": {
        "id": "V9qxJtO7oCDg"
      },
      "execution_count": 198,
      "outputs": []
    },
    {
      "cell_type": "code",
      "source": [
        "with open('all_prices.txt', 'x') as file:\n",
        "  file.write(res23)\n",
        "  file.write(res24)\n",
        "  file.write(res25)\n",
        "  file.write(res26)\n",
        "  file.write(res27)\n",
        "  file.write(res28)\n",
        "  file.write(res29)\n",
        "  file.write(res30)\n",
        "  file.write(res31)\n",
        "  file.write(res32)\n",
        "  file.write(res33)"
      ],
      "metadata": {
        "id": "TfBJIgo-oTWW"
      },
      "execution_count": 208,
      "outputs": []
    },
    {
      "cell_type": "code",
      "source": [
        "with open('all_prices.txt','r') as file:\n",
        "    print(file.read())"
      ],
      "metadata": {
        "id": "EyCAyX4YoiHq",
        "outputId": "791f33f5-abe0-4069-b34f-e9c35f8767fa",
        "colab": {
          "base_uri": "https://localhost:8080/"
        }
      },
      "execution_count": 209,
      "outputs": [
        {
          "output_type": "stream",
          "name": "stdout",
          "text": [
            "69\n",
            "49\n",
            "39\n",
            "199\n",
            "59\n",
            "49\n",
            "99\n",
            "69\n",
            "29\n",
            "69\n",
            "75\n",
            "\n"
          ]
        }
      ]
    },
    {
      "cell_type": "code",
      "source": [
        ""
      ],
      "metadata": {
        "id": "kJk3H3IEpOBq"
      },
      "execution_count": null,
      "outputs": []
    }
  ]
}