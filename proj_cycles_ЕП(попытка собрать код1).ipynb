{
  "nbformat": 4,
  "nbformat_minor": 0,
  "metadata": {
    "colab": {
      "name": "proj_cycles.ipynb",
      "provenance": []
    },
    "kernelspec": {
      "name": "python3",
      "display_name": "Python 3"
    },
    "language_info": {
      "name": "python"
    }
  },
  "cells": [
    {
      "cell_type": "code",
      "source": [
        "import pandas as pd"
      ],
      "metadata": {
        "id": "xbHt4KwxVrcg"
      },
      "execution_count": 3,
      "outputs": []
    },
    {
      "cell_type": "code",
      "execution_count": 29,
      "metadata": {
        "colab": {
          "resources": {
            "http://localhost:8080/nbextensions/google.colab/files.js": {
              "data": "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",
              "ok": true,
              "headers": [
                [
                  "content-type",
                  "application/javascript"
                ]
              ],
              "status": 200,
              "status_text": ""
            }
          },
          "base_uri": "https://localhost:8080/",
          "height": 111
        },
        "id": "h22KqzClrcRy",
        "outputId": "87414958-0c54-4aeb-f90c-b4e0ad948152"
      },
      "outputs": [
        {
          "output_type": "display_data",
          "data": {
            "text/html": [
              "\n",
              "     <input type=\"file\" id=\"files-01a3cb3e-3376-4de3-aaa1-398bd4b15faf\" name=\"files[]\" multiple disabled\n",
              "        style=\"border:none\" />\n",
              "     <output id=\"result-01a3cb3e-3376-4de3-aaa1-398bd4b15faf\">\n",
              "      Upload widget is only available when the cell has been executed in the\n",
              "      current browser session. Please rerun this cell to enable.\n",
              "      </output>\n",
              "      <script src=\"/nbextensions/google.colab/files.js\"></script> "
            ],
            "text/plain": [
              "<IPython.core.display.HTML object>"
            ]
          },
          "metadata": {}
        },
        {
          "output_type": "stream",
          "name": "stdout",
          "text": [
            "Saving musics_base.csv to musics_base.csv\n"
          ]
        },
        {
          "output_type": "execute_result",
          "data": {
            "text/plain": [
              "{'musics_base.csv': b',Title,Description,Cast&Crew,Duration,Minimum price,Rating\\n1,Beetlejuice,\"Directed by Alex Timbers (Moulin Rouge!), Beetlejuice\\xc2\\xa0tells the story of Lydia Deetz, a strange and unusual teenager whose whole life changes when she meets a recently deceased couple and a demon with a thing for stripes. And under its uproarious surface (six feet under, to be exact), it\\xe2\\x80\\x99s a remarkably touching show about family, love, and making the most of every Day-O!\",\"Eddie Perfect, Alex Timbers\",150,69,83\\n2,Chicago,\"Set in the legendary city during the roaring \\xe2\\x80\\x9cjazz hot\\xe2\\x80\\x9d 20s, Chicago tells the story of two rival vaudevillian murderesses locked up in Cook County Jail. Nightclub star Velma\\xe2\\x80\\x99s serving time for killing her husband and sister after finding the two in bed together. Driven chorus girl Roxie\\xe2\\x80\\x99s been tossed in the joint for bumping off the lover she\\xe2\\x80\\x99s been cheating on her husband with. Not one to rest on her laurels, Velma enlists the help of prison matron Mama Morton and slickster lawyer Billy Flynn, who turn Velma\\xe2\\x80\\x99s incarceration into a murder-of-the-week media frenzy, thus preparing the world for a splashy showbiz comeback. But Roxie\\xe2\\x80\\x99s got some of her own tricks up her sleeve\\xe2\\x80\\xa6\",\"Charlotte d\\xe2\\x80\\x99Amboise, Bianca Marroquin, James Monroe Iglehart, Raymond Bokhour, Jennifer Fouche, Ryan Lowe\",150,49,83\\n3,Company,\"The quintessential musical comedy about the search for love and cocktails in the Big Apple is turned on its head in Marianne Elliott\\xe2\\x80\\x99s revelatory staging, in which musical theater\\xe2\\x80\\x99s most iconic bachelor becomes a bachelorette. At Bobbie\\xe2\\x80\\x99s\\xc2\\xa035th birthday party, all her friends are wondering why isn\\xe2\\x80\\x99t she married? Why can\\xe2\\x80\\x99t she find the right man? And, why can\\xe2\\x80\\x99t she settle down and have a family? This whip smart musical, given a game-changing makeover for a modern-day Manhattan, features some of Sondheim\\xe2\\x80\\x99s best loved songs, including \\xe2\\x80\\x9cCompany,\\xe2\\x80\\x9d \\xe2\\x80\\x9cYou Could Drive a Person Crazy,\\xe2\\x80\\x9d \\xe2\\x80\\x9cThe Ladies Who Lunch,\\xe2\\x80\\x9d \\xe2\\x80\\x9cSide by Side,\\xe2\\x80\\x9d and the iconic \\xe2\\x80\\x9cBeing Alive.\\xe2\\x80\\x9d\",\"Katrina Lenk, Patti LuPone, Matt Doyle, Etai Benson, Jennifer Simard, Christopher Fitzgerald, Christopher Sieber\",165,39,86\\n4,Hamilton,\"Hamilton\\xc2\\xa0is the story of the unlikely Founding Father determined to make his mark on the new nation as hungry and ambitious as he is. From bastard orphan to Washington\\xe2\\x80\\x99s right-hand man, rebel to war hero, a loving husband caught in the country\\xe2\\x80\\x99s first sex scandal, to the Treasury head who made an untrusting world believe in the American economy. George Washington, Eliza Hamilton, Thomas Jefferson and Hamilton\\xe2\\x80\\x99s lifelong friend/foil Aaron Burr all make their mark in this astonishing new musical exploration of a political mastermind.\",\"Miguel Cervantes, Jin Ha, Mandy Gonzalez, Euan Morton, Krystal Joy Brown, Tamar Greene, Kyle Scatliffe, Fergie L. Philippe, Aubin Wise, Daniel Yearwood\",175,199,97\\n5,Harry Potter and the Cursed Child,\"19 years after Harry, Ron, and Hermione saved the wizarding world, they\\xe2\\x80\\x99re back on a most extraordinary new adventure \\xe2\\x80\\x93 this time, joined by a brave new generation that has only just arrived at the legendary Hogwarts School of Witchcraft and Wizardry. Prepare for spectacular spells, a mind-blowing race through time, and an epic battle to stop mysterious forces, all while the future hangs in the balance.\",\"Steve Haggard, David Abeles, Jenny Jules, Diane Davis, Brady Dalton Richards, James Romney, Nadia Brown, Aaron Bartz\",210,59,90\\n6,Hadestown,\"Welcome to Hadestown, where a song can change your fate. This acclaimed new musical by celebrated singer-songwriter Ana\\xc3\\xafs Mitchell and innovative director Rachel Chavkin (Natasha, Pierre & The Great Comet of 1812) is a love story for today\\xe2\\x80\\xa6 and always. Hadestown intertwines two mythic tales\\xe2\\x80\\x94that of young dreamers Orpheus and Eurydice, and that of King Hades and his wife Persephone\\xe2\\x80\\x94as it invites you on a hell-raising journey to the underworld and back. Mitchell\\xe2\\x80\\x99s beguiling melodies and Chavkin\\xe2\\x80\\x99s poetic imagination pit industry against nature, doubt against faith, and fear against love. Performed by a vibrant ensemble of actors, dancers and singers, Hadestown is a haunting and hopeful theatrical experience that grabs you and never lets go.\",\"Patrick Page, Eva Noblezada, Andr\\xc3\\xa9 De Shields, Amber Gray, Reeve Carney\",150,49,91\\n7,The Music Man,\"Hugh Jackman will not appear as Harold Hill August 15\\xe2\\x80\\x9321, 2022; September 5\\xe2\\x80\\x9311, 2022 and October 10\\xe2\\x80\\x9316, 2022.Two-time Tony Award\\xc2\\xae, Grammy Award\\xc2\\xae, and Emmy Award\\xc2\\xae\\xc2\\xa0winner Hugh Jackman will make his highly anticipated return to Broadway in what is widely agreed to be the greatest role ever created for an actor in the history of musical theater: Professor Harold Hill in Meredith Willson\\xe2\\x80\\x99s beloved classic, The Music Man.\",\"Hugh Jackman\\nSutton Foster\\nJefferson Mays\\nJayne Houdyshell\\nShuler Hensley\\nMarie Mullen\\nRemy Auberjonois\\nGino Cosculluela\",170,99,89\\n8,Moulin Rouge,\"Enter a world of splendor and romance, of eye-popping excess, of glitz, grandeur and glory! A world where Bohemians and aristocrats rub elbows and revel in electrifying enchantment. Pop the champagne and prepare for the spectacular spectacular... Welcome to Moulin Rouge! The Musical. Baz Luhrmann\\xe2\\x80\\x99s revolutionary film comes to life onstage, remixed in a new musical mash-up extravaganza. A theatrical celebration of truth, beauty, freedom and\\xe2\\x80\\x94above all\\xe2\\x80\\x94LOVE, Moulin Rouge! is more than a musical; it is a state of mind. How wonderful life is...at the Moulin Rouge.\",\"Aaron Tveit, Natalie Mendoza, Eric Anderson, Sahr Ngaujah, Tam Mutu, Ricky Rojas, Robyn Hurder\",165,69,84\\n9,The Phantom of the Opera,\"The longest-running show in Broadway history, Andrew Lloyd Webber\\xe2\\x80\\x99s\\xc2\\xa0The Phantom of the Opera\\xc2\\xa0debuted in 1988, winning seven Tony Awards\\xc2\\xae including Best Musical. Based on Gaston Leroux\\xe2\\x80\\x99s horror novel, it tells the enticing story of the Phantom, who haunts the stage of the Paris Opera and subsequently falls in love with a beautiful young soprano. Audiences are in for a thrilling night at the theater to see this timeless tale, accompanied by an unforgettable musical score.\",\"Ben Crawford, Emilie Kouatchou, John Riddle, Sara Esty, Maree Johnson, Raquel Suarez Groen, Bradley Dean, Craig Bennett, Carlton Moe\",150,29,87\\n10,Six,\"From Tudor Queens to Pop Princesses, the Six\\xc2\\xa0wives of Henry VIII take the mic to remix five hundred years of historical heartbreak into an exuberant celebration of 21st century girl power! This new original musical is the global sensation that everyone is losing their head over. The New York Times says Six is \\xe2\\x80\\x9cpure entertainment!\\xe2\\x80\\x9d and Evening Standard hails Six as \\xe2\\x80\\x9cthe most uplifting new British musical I have ever had the privilege to watch.\\xe2\\x80\\x9d\",\"Adrianna Hicks, Andrea Macasaet, Abby Mueller, Brittney Mack, Samantha Pauly, Anna Uzele\",80,69,85\\n11,Wicked,\"Wicked, the Broadway sensation, looks at what happened in the Land of Oz\\xe2\\x80\\xa6but from a different angle. Long before Dorothy arrives, there is another girl, born with emerald-green skin\\xe2\\x80\\x94smart, fiery, misunderstood, and possessing an extraordinary talent. When she meets a bubbly blonde who is exceptionally popular, their initial rivalry turns into the unlikeliest of friendships\\xe2\\x80\\xa6until the world decides to call one \\xe2\\x80\\x9cgood,\\xe2\\x80\\x9d and the other one \\xe2\\x80\\x9cwicked.\\xe2\\x80\\x9d\",\"Lindsay Pearce, Ginna Claire Mason, Sam Gravitte, Judy Kaye, Mili Diaz, Jordan Barrow, Michael McCormick, Michael X. Martin\",165,75,93\\n'}"
            ]
          },
          "metadata": {},
          "execution_count": 29
        }
      ],
      "source": [
        "from google.colab import files\n",
        "files.upload()"
      ]
    },
    {
      "cell_type": "code",
      "source": [
        "musicals = pd.read_csv(\"musics_base.csv\", encoding='utf-8') #sep='\\t' #делит по знаку табуляции #sep - каким символом разедлены колонки в нашем текстовом доке (например, запятая, она по дефолту и поэтому можно его не прописывать) #можно указать аргумент метода после запятой, например encoding\n",
        "musicals"
      ],
      "metadata": {
        "colab": {
          "base_uri": "https://localhost:8080/",
          "height": 664
        },
        "id": "WM50Z82MOdwd",
        "outputId": "5748e6bb-5b48-4f8b-9798-74642b4fbadd"
      },
      "execution_count": 30,
      "outputs": [
        {
          "output_type": "execute_result",
          "data": {
            "text/html": [
              "\n",
              "  <div id=\"df-e391f1b4-a0fc-4a02-bf37-09695aebea67\">\n",
              "    <div class=\"colab-df-container\">\n",
              "      <div>\n",
              "<style scoped>\n",
              "    .dataframe tbody tr th:only-of-type {\n",
              "        vertical-align: middle;\n",
              "    }\n",
              "\n",
              "    .dataframe tbody tr th {\n",
              "        vertical-align: top;\n",
              "    }\n",
              "\n",
              "    .dataframe thead th {\n",
              "        text-align: right;\n",
              "    }\n",
              "</style>\n",
              "<table border=\"1\" class=\"dataframe\">\n",
              "  <thead>\n",
              "    <tr style=\"text-align: right;\">\n",
              "      <th></th>\n",
              "      <th>Unnamed: 0</th>\n",
              "      <th>Title</th>\n",
              "      <th>Description</th>\n",
              "      <th>Cast&amp;Crew</th>\n",
              "      <th>Duration</th>\n",
              "      <th>Minimum price</th>\n",
              "      <th>Rating</th>\n",
              "    </tr>\n",
              "  </thead>\n",
              "  <tbody>\n",
              "    <tr>\n",
              "      <th>0</th>\n",
              "      <td>1</td>\n",
              "      <td>Beetlejuice</td>\n",
              "      <td>Directed by Alex Timbers (Moulin Rouge!), Beet...</td>\n",
              "      <td>Eddie Perfect, Alex Timbers</td>\n",
              "      <td>150</td>\n",
              "      <td>69</td>\n",
              "      <td>83</td>\n",
              "    </tr>\n",
              "    <tr>\n",
              "      <th>1</th>\n",
              "      <td>2</td>\n",
              "      <td>Chicago</td>\n",
              "      <td>Set in the legendary city during the roaring “...</td>\n",
              "      <td>Charlotte d’Amboise, Bianca Marroquin, James M...</td>\n",
              "      <td>150</td>\n",
              "      <td>49</td>\n",
              "      <td>83</td>\n",
              "    </tr>\n",
              "    <tr>\n",
              "      <th>2</th>\n",
              "      <td>3</td>\n",
              "      <td>Company</td>\n",
              "      <td>The quintessential musical comedy about the se...</td>\n",
              "      <td>Katrina Lenk, Patti LuPone, Matt Doyle, Etai B...</td>\n",
              "      <td>165</td>\n",
              "      <td>39</td>\n",
              "      <td>86</td>\n",
              "    </tr>\n",
              "    <tr>\n",
              "      <th>3</th>\n",
              "      <td>4</td>\n",
              "      <td>Hamilton</td>\n",
              "      <td>Hamilton is the story of the unlikely Founding...</td>\n",
              "      <td>Miguel Cervantes, Jin Ha, Mandy Gonzalez, Euan...</td>\n",
              "      <td>175</td>\n",
              "      <td>199</td>\n",
              "      <td>97</td>\n",
              "    </tr>\n",
              "    <tr>\n",
              "      <th>4</th>\n",
              "      <td>5</td>\n",
              "      <td>Harry Potter and the Cursed Child</td>\n",
              "      <td>19 years after Harry, Ron, and Hermione saved ...</td>\n",
              "      <td>Steve Haggard, David Abeles, Jenny Jules, Dian...</td>\n",
              "      <td>210</td>\n",
              "      <td>59</td>\n",
              "      <td>90</td>\n",
              "    </tr>\n",
              "    <tr>\n",
              "      <th>5</th>\n",
              "      <td>6</td>\n",
              "      <td>Hadestown</td>\n",
              "      <td>Welcome to Hadestown, where a song can change ...</td>\n",
              "      <td>Patrick Page, Eva Noblezada, André De Shields,...</td>\n",
              "      <td>150</td>\n",
              "      <td>49</td>\n",
              "      <td>91</td>\n",
              "    </tr>\n",
              "    <tr>\n",
              "      <th>6</th>\n",
              "      <td>7</td>\n",
              "      <td>The Music Man</td>\n",
              "      <td>Hugh Jackman will not appear as Harold Hill Au...</td>\n",
              "      <td>Hugh Jackman\\nSutton Foster\\nJefferson Mays\\nJ...</td>\n",
              "      <td>170</td>\n",
              "      <td>99</td>\n",
              "      <td>89</td>\n",
              "    </tr>\n",
              "    <tr>\n",
              "      <th>7</th>\n",
              "      <td>8</td>\n",
              "      <td>Moulin Rouge</td>\n",
              "      <td>Enter a world of splendor and romance, of eye-...</td>\n",
              "      <td>Aaron Tveit, Natalie Mendoza, Eric Anderson, S...</td>\n",
              "      <td>165</td>\n",
              "      <td>69</td>\n",
              "      <td>84</td>\n",
              "    </tr>\n",
              "    <tr>\n",
              "      <th>8</th>\n",
              "      <td>9</td>\n",
              "      <td>The Phantom of the Opera</td>\n",
              "      <td>The longest-running show in Broadway history, ...</td>\n",
              "      <td>Ben Crawford, Emilie Kouatchou, John Riddle, S...</td>\n",
              "      <td>150</td>\n",
              "      <td>29</td>\n",
              "      <td>87</td>\n",
              "    </tr>\n",
              "    <tr>\n",
              "      <th>9</th>\n",
              "      <td>10</td>\n",
              "      <td>Six</td>\n",
              "      <td>From Tudor Queens to Pop Princesses, the Six w...</td>\n",
              "      <td>Adrianna Hicks, Andrea Macasaet, Abby Mueller,...</td>\n",
              "      <td>80</td>\n",
              "      <td>69</td>\n",
              "      <td>85</td>\n",
              "    </tr>\n",
              "    <tr>\n",
              "      <th>10</th>\n",
              "      <td>11</td>\n",
              "      <td>Wicked</td>\n",
              "      <td>Wicked, the Broadway sensation, looks at what ...</td>\n",
              "      <td>Lindsay Pearce, Ginna Claire Mason, Sam Gravit...</td>\n",
              "      <td>165</td>\n",
              "      <td>75</td>\n",
              "      <td>93</td>\n",
              "    </tr>\n",
              "  </tbody>\n",
              "</table>\n",
              "</div>\n",
              "      <button class=\"colab-df-convert\" onclick=\"convertToInteractive('df-e391f1b4-a0fc-4a02-bf37-09695aebea67')\"\n",
              "              title=\"Convert this dataframe to an interactive table.\"\n",
              "              style=\"display:none;\">\n",
              "        \n",
              "  <svg xmlns=\"http://www.w3.org/2000/svg\" height=\"24px\"viewBox=\"0 0 24 24\"\n",
              "       width=\"24px\">\n",
              "    <path d=\"M0 0h24v24H0V0z\" fill=\"none\"/>\n",
              "    <path d=\"M18.56 5.44l.94 2.06.94-2.06 2.06-.94-2.06-.94-.94-2.06-.94 2.06-2.06.94zm-11 1L8.5 8.5l.94-2.06 2.06-.94-2.06-.94L8.5 2.5l-.94 2.06-2.06.94zm10 10l.94 2.06.94-2.06 2.06-.94-2.06-.94-.94-2.06-.94 2.06-2.06.94z\"/><path d=\"M17.41 7.96l-1.37-1.37c-.4-.4-.92-.59-1.43-.59-.52 0-1.04.2-1.43.59L10.3 9.45l-7.72 7.72c-.78.78-.78 2.05 0 2.83L4 21.41c.39.39.9.59 1.41.59.51 0 1.02-.2 1.41-.59l7.78-7.78 2.81-2.81c.8-.78.8-2.07 0-2.86zM5.41 20L4 18.59l7.72-7.72 1.47 1.35L5.41 20z\"/>\n",
              "  </svg>\n",
              "      </button>\n",
              "      \n",
              "  <style>\n",
              "    .colab-df-container {\n",
              "      display:flex;\n",
              "      flex-wrap:wrap;\n",
              "      gap: 12px;\n",
              "    }\n",
              "\n",
              "    .colab-df-convert {\n",
              "      background-color: #E8F0FE;\n",
              "      border: none;\n",
              "      border-radius: 50%;\n",
              "      cursor: pointer;\n",
              "      display: none;\n",
              "      fill: #1967D2;\n",
              "      height: 32px;\n",
              "      padding: 0 0 0 0;\n",
              "      width: 32px;\n",
              "    }\n",
              "\n",
              "    .colab-df-convert:hover {\n",
              "      background-color: #E2EBFA;\n",
              "      box-shadow: 0px 1px 2px rgba(60, 64, 67, 0.3), 0px 1px 3px 1px rgba(60, 64, 67, 0.15);\n",
              "      fill: #174EA6;\n",
              "    }\n",
              "\n",
              "    [theme=dark] .colab-df-convert {\n",
              "      background-color: #3B4455;\n",
              "      fill: #D2E3FC;\n",
              "    }\n",
              "\n",
              "    [theme=dark] .colab-df-convert:hover {\n",
              "      background-color: #434B5C;\n",
              "      box-shadow: 0px 1px 3px 1px rgba(0, 0, 0, 0.15);\n",
              "      filter: drop-shadow(0px 1px 2px rgba(0, 0, 0, 0.3));\n",
              "      fill: #FFFFFF;\n",
              "    }\n",
              "  </style>\n",
              "\n",
              "      <script>\n",
              "        const buttonEl =\n",
              "          document.querySelector('#df-e391f1b4-a0fc-4a02-bf37-09695aebea67 button.colab-df-convert');\n",
              "        buttonEl.style.display =\n",
              "          google.colab.kernel.accessAllowed ? 'block' : 'none';\n",
              "\n",
              "        async function convertToInteractive(key) {\n",
              "          const element = document.querySelector('#df-e391f1b4-a0fc-4a02-bf37-09695aebea67');\n",
              "          const dataTable =\n",
              "            await google.colab.kernel.invokeFunction('convertToInteractive',\n",
              "                                                     [key], {});\n",
              "          if (!dataTable) return;\n",
              "\n",
              "          const docLinkHtml = 'Like what you see? Visit the ' +\n",
              "            '<a target=\"_blank\" href=https://colab.research.google.com/notebooks/data_table.ipynb>data table notebook</a>'\n",
              "            + ' to learn more about interactive tables.';\n",
              "          element.innerHTML = '';\n",
              "          dataTable['output_type'] = 'display_data';\n",
              "          await google.colab.output.renderOutput(dataTable, element);\n",
              "          const docLink = document.createElement('div');\n",
              "          docLink.innerHTML = docLinkHtml;\n",
              "          element.appendChild(docLink);\n",
              "        }\n",
              "      </script>\n",
              "    </div>\n",
              "  </div>\n",
              "  "
            ],
            "text/plain": [
              "    Unnamed: 0                              Title  ... Minimum price Rating\n",
              "0            1                        Beetlejuice  ...            69     83\n",
              "1            2                            Chicago  ...            49     83\n",
              "2            3                            Company  ...            39     86\n",
              "3            4                           Hamilton  ...           199     97\n",
              "4            5  Harry Potter and the Cursed Child  ...            59     90\n",
              "5            6                          Hadestown  ...            49     91\n",
              "6            7                      The Music Man  ...            99     89\n",
              "7            8                       Moulin Rouge  ...            69     84\n",
              "8            9           The Phantom of the Opera  ...            29     87\n",
              "9           10                                Six  ...            69     85\n",
              "10          11                             Wicked  ...            75     93\n",
              "\n",
              "[11 rows x 7 columns]"
            ]
          },
          "metadata": {},
          "execution_count": 30
        }
      ]
    },
    {
      "cell_type": "code",
      "source": [
        "musicals.info()"
      ],
      "metadata": {
        "id": "1gvDbhXrV3Q5"
      },
      "execution_count": null,
      "outputs": []
    },
    {
      "cell_type": "code",
      "source": [
        "musicals.drop(['Unnamed: 0'], axis=1)"
      ],
      "metadata": {
        "id": "RXu1hVa6n0pq"
      },
      "execution_count": null,
      "outputs": []
    },
    {
      "cell_type": "code",
      "source": [
        "titles=musicals['Title'].to_list()\n",
        "titles"
      ],
      "metadata": {
        "id": "EtXr6HuJpuEe"
      },
      "execution_count": null,
      "outputs": []
    },
    {
      "cell_type": "code",
      "source": [
        "descps=musicals['Description'].to_list()\n",
        "descps"
      ],
      "metadata": {
        "id": "k_plTLHlrkd_"
      },
      "execution_count": null,
      "outputs": []
    },
    {
      "cell_type": "code",
      "source": [
        "cast=musicals['Cast&Crew'].to_list()\n",
        "cast"
      ],
      "metadata": {
        "id": "9-kMGqCKr5I2"
      },
      "execution_count": null,
      "outputs": []
    },
    {
      "cell_type": "code",
      "source": [
        "dure=musicals['Duration'].to_list()\n",
        "dure"
      ],
      "metadata": {
        "colab": {
          "base_uri": "https://localhost:8080/"
        },
        "id": "7C-RFwtir_ZA",
        "outputId": "63c884af-87d4-44ae-ae13-a46c4e6ee8a2"
      },
      "execution_count": 82,
      "outputs": [
        {
          "output_type": "execute_result",
          "data": {
            "text/plain": [
              "[150, 150, 165, 175, 210, 150, 170, 165, 150, 80, 165]"
            ]
          },
          "metadata": {},
          "execution_count": 82
        }
      ]
    },
    {
      "cell_type": "code",
      "source": [
        "min=musicals['Minimum price'].to_list()\n",
        "min"
      ],
      "metadata": {
        "colab": {
          "base_uri": "https://localhost:8080/"
        },
        "id": "RDOIUmGktsF-",
        "outputId": "d4c098d8-1582-40bf-f4cd-9f28bbee9b09"
      },
      "execution_count": 83,
      "outputs": [
        {
          "output_type": "execute_result",
          "data": {
            "text/plain": [
              "[69, 49, 39, 199, 59, 49, 99, 69, 29, 69, 75]"
            ]
          },
          "metadata": {},
          "execution_count": 83
        }
      ]
    },
    {
      "cell_type": "code",
      "source": [
        "rate=musicals['Rating'].to_list()\n",
        "rate"
      ],
      "metadata": {
        "colab": {
          "base_uri": "https://localhost:8080/"
        },
        "id": "8NjGSTE1t3ow",
        "outputId": "4339f268-2de9-4fd9-9a5c-be6c3dfa8952"
      },
      "execution_count": 84,
      "outputs": [
        {
          "output_type": "execute_result",
          "data": {
            "text/plain": [
              "[83, 83, 86, 97, 90, 91, 89, 84, 87, 85, 93]"
            ]
          },
          "metadata": {},
          "execution_count": 84
        }
      ]
    },
    {
      "cell_type": "code",
      "source": [
        "heads=(titles)\n",
        "descps=(descps)\n",
        "cast=(cast)\n",
        "dure=(dure)\n",
        "min=(min)\n",
        "rate=(rate)\n",
        "\n",
        "cast"
      ],
      "metadata": {
        "colab": {
          "base_uri": "https://localhost:8080/"
        },
        "id": "x8J7S27KoRQD",
        "outputId": "148a8681-7c11-46cd-cb06-928b6d1eebf3"
      },
      "execution_count": 71,
      "outputs": [
        {
          "output_type": "execute_result",
          "data": {
            "text/plain": [
              "['Eddie Perfect, Alex Timbers',\n",
              " 'Charlotte d’Amboise, Bianca Marroquin, James Monroe Iglehart, Raymond Bokhour, Jennifer Fouche, Ryan Lowe',\n",
              " 'Katrina Lenk, Patti LuPone, Matt Doyle, Etai Benson, Jennifer Simard, Christopher Fitzgerald, Christopher Sieber',\n",
              " 'Miguel Cervantes, Jin Ha, Mandy Gonzalez, Euan Morton, Krystal Joy Brown, Tamar Greene, Kyle Scatliffe, Fergie L. Philippe, Aubin Wise, Daniel Yearwood',\n",
              " 'Steve Haggard, David Abeles, Jenny Jules, Diane Davis, Brady Dalton Richards, James Romney, Nadia Brown, Aaron Bartz',\n",
              " 'Patrick Page, Eva Noblezada, André De Shields, Amber Gray, Reeve Carney',\n",
              " 'Hugh Jackman\\nSutton Foster\\nJefferson Mays\\nJayne Houdyshell\\nShuler Hensley\\nMarie Mullen\\nRemy Auberjonois\\nGino Cosculluela',\n",
              " 'Aaron Tveit, Natalie Mendoza, Eric Anderson, Sahr Ngaujah, Tam Mutu, Ricky Rojas, Robyn Hurder',\n",
              " 'Ben Crawford, Emilie Kouatchou, John Riddle, Sara Esty, Maree Johnson, Raquel Suarez Groen, Bradley Dean, Craig Bennett, Carlton Moe',\n",
              " 'Adrianna Hicks, Andrea Macasaet, Abby Mueller, Brittney Mack, Samantha Pauly, Anna Uzele',\n",
              " 'Lindsay Pearce, Ginna Claire Mason, Sam Gravitte, Judy Kaye, Mili Diaz, Jordan Barrow, Michael McCormick, Michael X. Martin']"
            ]
          },
          "metadata": {},
          "execution_count": 71
        }
      ]
    },
    {
      "cell_type": "code",
      "source": [
        "import string\n",
        "\n",
        "def normalize(text):\n",
        "    normalized = text.lower()\n",
        "    return normalized"
      ],
      "metadata": {
        "id": "2JStfHbEx7At"
      },
      "execution_count": 55,
      "outputs": []
    },
    {
      "cell_type": "code",
      "source": [
        ""
      ],
      "metadata": {
        "id": "bSlIp8o7yL12"
      },
      "execution_count": null,
      "outputs": []
    },
    {
      "cell_type": "code",
      "source": [
        "x=input('Please, print the name of the musical you are looking for: ').capitalize().strip(\" )?!.\")\n",
        "if x in ['Beetlejuice', 'Chicago', 'Company', 'Hamilton', 'Harry Potter and the Cursed Child', 'Hadestown', 'The Music Man', 'Moulin Rouge', 'The Phantom of the Opera', 'Six', 'Wicked']:\n",
        "  print(descps, cast, dure, min, rate)\n",
        "else:\n",
        "  print(\"Sorry, we don't have this one yet :(\")\n",
        "  y=input(\"Let's try to search by a memeber of a crew or cast. Please, enter a name: \").capitalize().strip(\" )?!.\")\n",
        "  if y in ['Eddie Perfe, Alex Timbers', 'Charlotte d’Amboise, Bianca Marroquin, James Monroe Iglehart, Raymond Bokhour, Jennifer Fouche, Ryan Lowe', 'Katrina Lenk, Patti LuPone, Matt Doyle, Etai Benson, Jennifer Simard, Christopher Fitzgerald, Christopher Sieber', 'Miguel Cervantes, Jin Ha, Mandy Gonzalez, Euan Morton, Krystal Joy Brown, Tamar Greene, Kyle Scatliffe, Fergie L. Philippe, Aubin Wise, Daniel Yearwood', 'Steve Haggard, David Abeles, Jenny Jules, Diane Davis, Brady Dalton Richards, James Romney, Nadia Brown, Aaron Bartz', 'Patrick Page, Eva Noblezada, André De Shields, Amber Gray, Reeve Carney', 'Hugh Jackman\\nSutton Foster\\nJefferson Mays\\nJayne Houdyshell\\nShuler Hensley\\nMarie Mullen\\nRemy Auberjonois\\nGino Cosculluela', 'Aaron Tveit, Natalie Mendoza, Eric Anderson, Sahr Ngaujah, Tam Mutu, Ricky Rojas, Robyn Hurder', 'Ben Crawford, Emilie Kouatchou, John Riddle, Sara Esty, Maree Johnson, Raquel Suarez Groen, Bradley Dean, Craig Bennett, Carlton Moe', 'Adrianna Hicks, Andrea Macasaet, Abby Mueller, Brittney Mack, Samantha Pauly, Anna Uzele', 'Lindsay Pearce, Ginna Claire Mason, Sam Gravitte, Judy Kaye, Mili Diaz, Jordan Barrow, Michael McCormick, Michael X. Martin']:\n",
        "    print(heads, descps, dure, min, rate)\n",
        "  else:\n",
        "    print(\"Oops, it seems there is no show with this person currently starring...\")\n",
        "    z=input(\"Maybe you're looking for a random musical for your fancy weekend night? Please, enter duration in minutes. It has to be just a number!! If you want to try different criteria, skip to the next option. \")\n",
        "    z=int(z)\n",
        "    if z in [150, 150, 165, 175, 210, 150, 170, 165, 150, 80, 165]:\n",
        "      print(heads)"
      ],
      "metadata": {
        "colab": {
          "base_uri": "https://localhost:8080/"
        },
        "id": "bzYgymAIuIhh",
        "outputId": "b426fb1e-d671-4182-ac57-cbb51bcc5607"
      },
      "execution_count": 91,
      "outputs": [
        {
          "output_type": "stream",
          "name": "stdout",
          "text": [
            "Please, print the name of the musical you are looking for: h\n",
            "Sorry, we don't have this one yet :(\n",
            "Let's try to search by a memeber of a crew or cast. Please, enter a name: h\n",
            "Oops, it seems there is no show with this person currently starring...\n",
            "Maybe you're looking for a random musical for your fancy weekend night? Please, enter duration in minutes. It has to be just a number!! If you want to try different criteria, skip to the next option. 210\n",
            "['Beetlejuice', 'Chicago', 'Company', 'Hamilton', 'Harry Potter and the Cursed Child', 'Hadestown', 'The Music Man', 'Moulin Rouge', 'The Phantom of the Opera', 'Six', 'Wicked']\n"
          ]
        }
      ]
    },
    {
      "cell_type": "code",
      "source": [
        ""
      ],
      "metadata": {
        "id": "0mHW47NTwzvk"
      },
      "execution_count": 72,
      "outputs": []
    },
    {
      "cell_type": "markdown",
      "source": [
        "Анастасия, здравствуйте! Это кусок конечного кода. У меня в прошлый раз был вопрос, как быть, если какой-то из критериев останется пустым. Я решила немного поменять \"концепт\" и не запрашивать у пользователя сразу все критерии, а выдавать их после каждого \"неудачного\" исхода. То есть если не нашлось по названию, можно попробовать по цене, членам каста и пр.\n",
        "Не могли бы Вы, пожалуйста, подсказать, в какой теме я могу поискать, как мне сделать так, чтобы каждый элемент одного критерия коррелировался с элементом другого? То есть чтобы система выдавала, допустим, Phantom of the Opera => The longest-running musical...=> Ben Crawford,.. => 150 => 29 => 87. То есть чтобы соотношение было такое же, как в таблице, а не целиком строка со всеми данными выдавалась. И ещё вопрос по столбцу Cast&Crew: у меня сейчас имена разделены запятыми (до этого пробовала ставить \\n как индекатор разделителя) внутри одного элемента списка, и, получается, когда вводишь в запущенном коде какое-то одно имя, он выдаёт, что не удалось найти, т.к. ему, как я поняла, нужно полностью вводить, например, \"Eddie Perfect, Alex Timbers\", а просто по \"Eddie Perfect\" результата не будет. В какой теме я могу поискать ответ на эту проблему?"
      ],
      "metadata": {
        "id": "1kqiwEoo7sSc"
      }
    }
  ]
}