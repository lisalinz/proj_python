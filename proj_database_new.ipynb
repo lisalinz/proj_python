{
  "nbformat": 4,
  "nbformat_minor": 0,
  "metadata": {
    "colab": {
      "name": "proj_database_new.ipynb",
      "provenance": [],
      "collapsed_sections": []
    },
    "kernelspec": {
      "name": "python3",
      "display_name": "Python 3"
    },
    "language_info": {
      "name": "python"
    }
  },
  "cells": [
    {
      "cell_type": "code",
      "execution_count": 3,
      "metadata": {
        "id": "-aqfk2nSQ8lu"
      },
      "outputs": [],
      "source": [
        "import requests as rq\n",
        "\n",
        "from bs4 import BeautifulSoup"
      ]
    },
    {
      "cell_type": "code",
      "source": [
        "import pandas as pd"
      ],
      "metadata": {
        "id": "K2hg_SBiXwei"
      },
      "execution_count": 4,
      "outputs": []
    },
    {
      "cell_type": "code",
      "source": [
        "hamilton=rq.get('https://www.broadway.com/shows/hamilton-broadway/')\n",
        "hamilton"
      ],
      "metadata": {
        "colab": {
          "base_uri": "https://localhost:8080/"
        },
        "id": "sfXRGuhiRmUy",
        "outputId": "c318332c-2a2c-42d8-97bf-31e6b40ccd93"
      },
      "execution_count": null,
      "outputs": [
        {
          "output_type": "execute_result",
          "data": {
            "text/plain": [
              "<Response [200]>"
            ]
          },
          "metadata": {},
          "execution_count": 18
        }
      ]
    },
    {
      "cell_type": "code",
      "source": [
        "hamilton.text"
      ],
      "metadata": {
        "id": "WqIAyE5PVZt6",
        "colab": {
          "base_uri": "https://localhost:8080/",
          "height": 174
        },
        "outputId": "75dc356a-70a5-4771-f5a2-e5d681d3df16"
      },
      "execution_count": null,
      "outputs": [
        {
          "output_type": "execute_result",
          "data": {
            "application/vnd.google.colaboratory.intrinsic+json": {
              "type": "string"
            },
            "text/plain": [
              "'\\n\\n<!DOCTYPE html>\\n\\n\\n<html xmlns=\"http://www.w3.org/1999/xhtml\" xml:lang=\"en\" lang=\"en\"\\n    xmlns:fb=\"http://www.facebook.com/2008/fbml\"\\n    xmlns:og=\"http://ogp.me/ns#\"\\n    class=\"no-js\">\\n\\n    <head>\\n        \\n            <meta charset=\"utf-8\">\\n            <title>\\nHamilton - Broadway | Tickets | Broadway | Broadway.com\\n</title>\\n            <meta name=\"viewport\" content=\"width=device-width, minimum-scale=0.1, initial-scale=1\">\\n            <meta name=\"description\" content=\"Hamilton Overview - The BEST Broadway source for Hamilton tickets and Hamilton information, photos and videos. Click Here to buy Hamilton tickets today!\"/>\\n\\n            \\n            \\n            <meta name=\"msvalidate.01\" content=\"10C3133083513657F42058B6E919699D\"/> \\n            <meta name=\"y_key\" content=\"b4c96cd61f1e98c1\"/> \\n            \\n\\n             \\n             <!-- start Mixpanel --><script type=\"text/javascript\">(function(c,a){if(!a.__SV){var b=window;try{var d,m,j,k=b.location,f=k.hash;d=function(a,b){return(m=a.match(RegExp(b+\"=([^&]*)\")))?m[1]:null};f&&d(f,\"state\")&&(j=JSON.parse(decodeURIComponent(d(f,\"state\"))),\"mpeditor\"===j.action&&(b.sessionStorage.setItem(\"_mpcehash\",f),history.replaceState(j.desiredHash||\"\",c.title,k.pathname+k.search)))}catch(n){}var l,h;window.mixpanel=a;a._i=[];a.init=function(b,d,g){function c(b,i){var a=i.split(\".\");2==a.length&&(b=b[a[0]],i=a[1]);b[i]=function(){b.push([i].concat(Array.prototype.slice.call(arguments,\\n                0)))}}var e=a;\"undefined\"!==typeof g?e=a[g]=[]:g=\"mixpanel\";e.people=e.people||[];e.toString=function(b){var a=\"mixpanel\";\"mixpanel\"!==g&&(a+=\".\"+g);b||(a+=\" (stub)\");return a};e.people.toString=function(){return e.toString(1)+\".people (stub)\"};l=\"disable time_event track track_pageview track_links track_forms track_with_groups add_group set_group remove_group register register_once alias unregister identify name_tag set_config reset opt_in_tracking opt_out_tracking has_opted_in_tracking has_opted_out_tracking clear_opt_in_out_tracking people.set people.set_once people.unset people.increment people.append people.union people.track_charge people.clear_charges people.delete_user people.remove\".split(\" \");\\n                for(h=0;h<l.length;h++)c(e,l[h]);var f=\"set set_once union unset remove delete\".split(\" \");e.get_group=function(){function a(c){b[c]=function(){call2_args=arguments;call2=[c].concat(Array.prototype.slice.call(call2_args,0));e.push([d,call2])}}for(var b={},d=[\"get_group\"].concat(Array.prototype.slice.call(arguments,0)),c=0;c<f.length;c++)a(f[c]);return b};a._i.push([b,d,g])};a.__SV=1.2;b=c.createElement(\"script\");b.type=\"text/javascript\";b.async=!0;b.src=\"undefined\"!==typeof MIXPANEL_CUSTOM_LIB_URL?\\n                MIXPANEL_CUSTOM_LIB_URL:\"file:\"===c.location.protocol&&\"//cdn.mxpnl.com/libs/mixpanel-2-latest.min.js\".match(/^\\\\/\\\\//)?\"https://cdn.mxpnl.com/libs/mixpanel-2-latest.min.js\":\"//cdn.mxpnl.com/libs/mixpanel-2-latest.min.js\";d=c.getElementsByTagName(\"script\")[0];d.parentNode.insertBefore(b,d)}})(document,window.mixpanel||[]);\\n                mixpanel.init(\"f4468a5f0cdec7b851e99c76f72ca3dc\", { track_links_timeout: 250 });\\n\\n             </script>\\n            <!-- end Mixpanel -->\\n            \\n\\n            \\n<script>\\n\\twindow.dataLayer = window.dataLayer || [];\\n    window.dataLayer.push({\\n      \\'page-type\\': \\'Show Detail - Overview\\',\\n      \\'show-name\\': \\'Hamilton\\',\\n      \\'show-categories\\':\\'Broadway|Musicals|Award Winning|2016 Tony Nominees|2016 Tony Winners|\\'\\n    });\\n\\n    window.showPageData = {\\n        actors: JSON.parse(\\'[{\\\\u0022id\\\\u0022: 37876, \\\\u0022role\\\\u0022: 1, \\\\u0022title\\\\u0022: \\\\u0022Alexander Hamilton\\\\u0022, \\\\u0022first_name\\\\u0022: \\\\u0022Miguel\\\\u0022, \\\\u0022middle_name\\\\u0022: null, \\\\u0022last_name\\\\u0022: \\\\u0022Cervantes\\\\u0022, \\\\u0022headshot_image\\\\u0022: 116989, \\\\u0022headshot_image_version\\\\u0022: 15, \\\\u0022star\\\\u0022: true, \\\\u0022actor_active\\\\u0022: true, \\\\u0022actor_slug\\\\u0022: \\\\u0022miguel\\\\u002Dcervantes\\\\u0022}, {\\\\u0022id\\\\u0022: 38028, \\\\u0022role\\\\u0022: 1, \\\\u0022title\\\\u0022: \\\\u0022Aaron Burr\\\\u0022, \\\\u0022first_name\\\\u0022: \\\\u0022Jin\\\\u0022, \\\\u0022middle_name\\\\u0022: null, \\\\u0022last_name\\\\u0022: \\\\u0022Ha\\\\u0022, \\\\u0022headshot_image\\\\u0022: 120379, \\\\u0022headshot_image_version\\\\u0022: 14, \\\\u0022star\\\\u0022: true, \\\\u0022actor_active\\\\u0022: true, \\\\u0022actor_slug\\\\u0022: \\\\u0022jin\\\\u002Dha\\\\u0022}, {\\\\u0022id\\\\u0022: 31583, \\\\u0022role\\\\u0022: 1, \\\\u0022title\\\\u0022: \\\\u0022Angelica Schuyler\\\\u0022, \\\\u0022first_name\\\\u0022: \\\\u0022Mandy\\\\u0022, \\\\u0022middle_name\\\\u0022: null, \\\\u0022last_name\\\\u0022: \\\\u0022Gonzalez\\\\u0022, \\\\u0022headshot_image\\\\u0022: 83539, \\\\u0022headshot_image_version\\\\u0022: 16, \\\\u0022star\\\\u0022: true, \\\\u0022actor_active\\\\u0022: true, \\\\u0022actor_slug\\\\u0022: \\\\u0022mandy\\\\u002Dgonzalez\\\\u0022}, {\\\\u0022id\\\\u0022: 33199, \\\\u0022role\\\\u0022: 1, \\\\u0022title\\\\u0022: \\\\u0022King George\\\\u0022, \\\\u0022first_name\\\\u0022: \\\\u0022Euan\\\\u0022, \\\\u0022middle_name\\\\u0022: \\\\u0022\\\\u0022, \\\\u0022last_name\\\\u0022: \\\\u0022Morton\\\\u0022, \\\\u0022headshot_image\\\\u0022: 84624, \\\\u0022headshot_image_version\\\\u0022: 23, \\\\u0022star\\\\u0022: true, \\\\u0022actor_active\\\\u0022: true, \\\\u0022actor_slug\\\\u0022: \\\\u0022euan\\\\u002Dmorton\\\\u002D106041\\\\u0022}, {\\\\u0022id\\\\u0022: 37299, \\\\u0022role\\\\u0022: 1, \\\\u0022title\\\\u0022: \\\\u0022Eliza Hamilton\\\\u0022, \\\\u0022first_name\\\\u0022: \\\\u0022Krystal\\\\u0022, \\\\u0022middle_name\\\\u0022: \\\\u0022Joy\\\\u0022, \\\\u0022last_name\\\\u0022: \\\\u0022Brown\\\\u0022, \\\\u0022headshot_image\\\\u0022: 114831, \\\\u0022headshot_image_version\\\\u0022: 16, \\\\u0022star\\\\u0022: true, \\\\u0022actor_active\\\\u0022: true, \\\\u0022actor_slug\\\\u0022: \\\\u0022krystal\\\\u002Djoy\\\\u002Dbrown\\\\u0022}, {\\\\u0022id\\\\u0022: 37750, \\\\u0022role\\\\u0022: 1, \\\\u0022title\\\\u0022: \\\\u0022George Washington\\\\u0022, \\\\u0022first_name\\\\u0022: \\\\u0022Tamar\\\\u0022, \\\\u0022middle_name\\\\u0022: null, \\\\u0022last_name\\\\u0022: \\\\u0022Greene\\\\u0022, \\\\u0022headshot_image\\\\u0022: 115868, \\\\u0022headshot_image_version\\\\u0022: 15, \\\\u0022star\\\\u0022: true, \\\\u0022actor_active\\\\u0022: true, \\\\u0022actor_slug\\\\u0022: \\\\u0022tamar\\\\u002Dgreene\\\\u0022}, {\\\\u0022id\\\\u0022: 37016, \\\\u0022role\\\\u0022: 1, \\\\u0022title\\\\u0022: \\\\u0022Marquis de Lafayette/Thomas Jefferson\\\\u0022, \\\\u0022first_name\\\\u0022: \\\\u0022Kyle\\\\u0022, \\\\u0022middle_name\\\\u0022: null, \\\\u0022last_name\\\\u0022: \\\\u0022Scatliffe\\\\u0022, \\\\u0022headshot_image\\\\u0022: 111707, \\\\u0022headshot_image_version\\\\u0022: 9, \\\\u0022star\\\\u0022: true, \\\\u0022actor_active\\\\u0022: true, \\\\u0022actor_slug\\\\u0022: \\\\u0022kyle\\\\u002Dscatliffe\\\\u0022}, {\\\\u0022id\\\\u0022: 37751, \\\\u0022role\\\\u0022: 1, \\\\u0022title\\\\u0022: \\\\u0022Hercules Mulligan/James Madison\\\\u0022, \\\\u0022first_name\\\\u0022: \\\\u0022Fergie\\\\u0022, \\\\u0022middle_name\\\\u0022: \\\\u0022L.\\\\u0022, \\\\u0022last_name\\\\u0022: \\\\u0022Philippe\\\\u0022, \\\\u0022headshot_image\\\\u0022: 115866, \\\\u0022headshot_image_version\\\\u0022: 15, \\\\u0022star\\\\u0022: true, \\\\u0022actor_active\\\\u0022: true, \\\\u0022actor_slug\\\\u0022: \\\\u0022fergie\\\\u002Dl\\\\u002Dphilippe\\\\u0022}, {\\\\u0022id\\\\u0022: 37752, \\\\u0022role\\\\u0022: 1, \\\\u0022title\\\\u0022: \\\\u0022Peggy Schuyler/Maria Reynolds\\\\u0022, \\\\u0022first_name\\\\u0022: \\\\u0022Aubin\\\\u0022, \\\\u0022middle_name\\\\u0022: null, \\\\u0022last_name\\\\u0022: \\\\u0022Wise\\\\u0022, \\\\u0022headshot_image\\\\u0022: 115869, \\\\u0022headshot_image_version\\\\u0022: 17, \\\\u0022star\\\\u0022: true, \\\\u0022actor_active\\\\u0022: true, \\\\u0022actor_slug\\\\u0022: \\\\u0022aubin\\\\u002Dwise\\\\u0022}, {\\\\u0022id\\\\u0022: 37606, \\\\u0022role\\\\u0022: 1, \\\\u0022title\\\\u0022: \\\\u0022John Laurens/Phillip Hamilton\\\\u0022, \\\\u0022first_name\\\\u0022: \\\\u0022Daniel\\\\u0022, \\\\u0022middle_name\\\\u0022: null, \\\\u0022last_name\\\\u0022: \\\\u0022Yearwood\\\\u0022, \\\\u0022headshot_image\\\\u0022: 115874, \\\\u0022headshot_image_version\\\\u0022: 17, \\\\u0022star\\\\u0022: true, \\\\u0022actor_active\\\\u0022: true, \\\\u0022actor_slug\\\\u0022: \\\\u0022daniel\\\\u002Dyearwood\\\\u0022}]\\'),\\n        creative: JSON.parse(\\'[{\\\\u0022id\\\\u0022: 28344, \\\\u0022title\\\\u0022: \\\\u0022Music, Lyrics and Book\\\\u0022, \\\\u0022first_name\\\\u0022: \\\\u0022Lin\\\\u002DManuel\\\\u0022, \\\\u0022middle_name\\\\u0022: null, \\\\u0022last_name\\\\u0022: \\\\u0022Miranda\\\\u0022, \\\\u0022star\\\\u0022: true, \\\\u0022creative_active\\\\u0022: true, \\\\u0022creative_slug\\\\u0022: \\\\u0022lin\\\\u002Dmanuel\\\\u002Dmiranda\\\\u0022}, {\\\\u0022id\\\\u0022: 28346, \\\\u0022title\\\\u0022: \\\\u0022Director\\\\u0022, \\\\u0022first_name\\\\u0022: \\\\u0022Thomas\\\\u0022, \\\\u0022middle_name\\\\u0022: null, \\\\u0022last_name\\\\u0022: \\\\u0022Kail\\\\u0022, \\\\u0022star\\\\u0022: false, \\\\u0022creative_active\\\\u0022: true, \\\\u0022creative_slug\\\\u0022: \\\\u0022thomas\\\\u002Dkail\\\\u0022}, {\\\\u0022id\\\\u0022: 28353, \\\\u0022title\\\\u0022: \\\\u0022Inspired by the book by\\\\u0022, \\\\u0022first_name\\\\u0022: \\\\u0022Ron\\\\u0022, \\\\u0022middle_name\\\\u0022: \\\\u0022\\\\u0022, \\\\u0022last_name\\\\u0022: \\\\u0022Chernow\\\\u0022, \\\\u0022star\\\\u0022: false, \\\\u0022creative_active\\\\u0022: true, \\\\u0022creative_slug\\\\u0022: \\\\u0022ron\\\\u002Dchernow\\\\u0022}, {\\\\u0022id\\\\u0022: 28354, \\\\u0022title\\\\u0022: \\\\u0022Choreographer\\\\u0022, \\\\u0022first_name\\\\u0022: \\\\u0022Andy\\\\u0022, \\\\u0022middle_name\\\\u0022: \\\\u0022\\\\u0022, \\\\u0022last_name\\\\u0022: \\\\u0022Blankenbuehler\\\\u0022, \\\\u0022star\\\\u0022: false, \\\\u0022creative_active\\\\u0022: true, \\\\u0022creative_slug\\\\u0022: \\\\u0022andy\\\\u002Dblankenbuehler\\\\u0022}, {\\\\u0022id\\\\u0022: 28355, \\\\u0022title\\\\u0022: \\\\u0022Set Designer\\\\u0022, \\\\u0022first_name\\\\u0022: \\\\u0022David\\\\u0022, \\\\u0022middle_name\\\\u0022: null, \\\\u0022last_name\\\\u0022: \\\\u0022Korins\\\\u0022, \\\\u0022star\\\\u0022: false, \\\\u0022creative_active\\\\u0022: true, \\\\u0022creative_slug\\\\u0022: \\\\u0022david\\\\u002Dkorins\\\\u0022}, {\\\\u0022id\\\\u0022: 28356, \\\\u0022title\\\\u0022: \\\\u0022Costume Designer\\\\u0022, \\\\u0022first_name\\\\u0022: \\\\u0022Paul\\\\u0022, \\\\u0022middle_name\\\\u0022: null, \\\\u0022last_name\\\\u0022: \\\\u0022Tazewell\\\\u0022, \\\\u0022star\\\\u0022: false, \\\\u0022creative_active\\\\u0022: true, \\\\u0022creative_slug\\\\u0022: \\\\u0022paul\\\\u002Dtazewell\\\\u0022}, {\\\\u0022id\\\\u0022: 28357, \\\\u0022title\\\\u0022: \\\\u0022Lighting Designer\\\\u0022, \\\\u0022first_name\\\\u0022: \\\\u0022Howell\\\\u0022, \\\\u0022middle_name\\\\u0022: null, \\\\u0022last_name\\\\u0022: \\\\u0022Binkley\\\\u0022, \\\\u0022star\\\\u0022: false, \\\\u0022creative_active\\\\u0022: true, \\\\u0022creative_slug\\\\u0022: \\\\u0022howell\\\\u002Dbinkley\\\\u0022}, {\\\\u0022id\\\\u0022: 28358, \\\\u0022title\\\\u0022: \\\\u0022Sound Designer\\\\u0022, \\\\u0022first_name\\\\u0022: \\\\u0022Nevin\\\\u0022, \\\\u0022middle_name\\\\u0022: null, \\\\u0022last_name\\\\u0022: \\\\u0022Steinberg\\\\u0022, \\\\u0022star\\\\u0022: false, \\\\u0022creative_active\\\\u0022: true, \\\\u0022creative_slug\\\\u0022: \\\\u0022nevin\\\\u002Dsteinberg\\\\u0022}, {\\\\u0022id\\\\u0022: 28359, \\\\u0022title\\\\u0022: \\\\u0022Orchestrations and Musical Direction\\\\u0022, \\\\u0022first_name\\\\u0022: \\\\u0022Alex\\\\u0022, \\\\u0022middle_name\\\\u0022: null, \\\\u0022last_name\\\\u0022: \\\\u0022Lacamoire\\\\u0022, \\\\u0022star\\\\u0022: false, \\\\u0022creative_active\\\\u0022: true, \\\\u0022creative_slug\\\\u0022: \\\\u0022alex\\\\u002Dlacamoire\\\\u0022}]\\'),\\n        castSlug: \"/shows/hamilton-broadway/cast/\",\\n        faq: JSON.parse(\\'[]\\'),\\n    };\\n</script>\\n\\n\\n            <!-- Google Tag Manager -->\\n            <script>(function(w,d,s,l,i){w[l]=w[l]||[];w[l].push({\\'gtm.start\\':\\n            new Date().getTime(),event:\\'gtm.js\\'});var f=d.getElementsByTagName(s)[0],\\n            j=d.createElement(s),dl=l!=\\'dataLayer\\'?\\'&l=\\'+l:\\'\\';j.async=true;j.src=\\n            \\'//www.googletagmanager.com/gtm.js?id=\\'+i+dl;f.parentNode.insertBefore(j,f);\\n            })(window,document,\\'script\\',\\'dataLayer\\',\\'GTM-HRPQ\\');</script>\\n            <!-- End Google Tag Manager -->\\n\\n            \\n\\n            \\n            <script>(function(H){H.className=H.className.replace(/\\\\bno-js\\\\b/,\\'js\\')})(document.documentElement);</script>\\n\\n             <script>\\n                (function() {                                                                                   \\n                    var d = document.documentElement;\\n                    d.setAttribute(\\'data-useragent\\', navigator.userAgent);\\n                })();\\n            </script>\\n\\n            <link rel=\"shortcut icon\" type=\"image/x-icon\" href=\"https://static.broadway.com/img/responsive/favicons/favicon.8992145d808c.ico\" />\\n            <link rel=\"apple-touch-icon\" sizes=\"180x180\" href=\"https://static.broadway.com/img/responsive/favicons/apple-touch-icon.f003c455893a.png\">\\n            <link rel=\"icon\" type=\"image/png\" href=\"https://static.broadway.com/img/responsive/favicons/favicon-32x32.6dbfeff78479.png\" sizes=\"32x32\">\\n            <link rel=\"icon\" type=\"image/png\" href=\"https://static.broadway.com/img/responsive/favicons/favicon-16x16.4b373edbfbd4.png\" sizes=\"16x16\">\\n            <link rel=\"manifest\" href=\"https://static.broadway.com/img/responsive/favicons/manifest.799459f8be68.json\">\\n            <link rel=\"mask-icon\" href=\"https://static.broadway.com/img/responsive/favicons/safari-pinned-tab.123c12a54604.svg\" color=\"#a91f16\">\\n            <meta name=\"msapplication-TileColor\" content=\"#25262b\">\\n            <meta name=\"theme-color\" content=\"#1f2023\">\\n\\n            <link rel=\"canonical\" href=\"https://www.broadway.com/shows/hamilton-broadway/\"/>\\n\\n            \\n            <link rel=\"alternate\" type=\"application/rss+xml\" title=\"RSS\" href=\"/feeds/buzz/latest\" />\\n            \\n\\n            \\n\\n            \\n\\n            \\n            <script>\\n                (function(d) {\\n                    var config = {\\n                        kitId: \\'nuf8rzv\\',\\n                        scriptTimeout: 3000,\\n                        async: true\\n                },\\n                h=d.documentElement,t=setTimeout(function(){h.className=h.className.replace(/\\\\bwf-loading\\\\b/g,\"\")+\" wf-inactive\";},config.scriptTimeout),tk=d.createElement(\"script\"),f=false,s=d.getElementsByTagName(\"script\")[0],a;h.className+=\" wf-loading\";tk.src=\\'https://use.typekit.net/\\'+config.kitId+\\'.js\\';tk.async=true;tk.onload=tk.onreadystatechange=function(){a=this.readyState;if(f||a&&a!=\"complete\"&&a!=\"loaded\")return;f=true;clearTimeout(t);try{Typekit.load(config)}catch(e){}};s.parentNode.insertBefore(tk,s)\\n                })(document);\\n            </script>\\n\\n            <script>\\n                (function() {\\n                    document.addEventListener(\"touchstart\", function(){}, true);        \\n                })();\\n\\n                !function(f,b,e,v,n,t,s){if(f.fbq)return;n=f.fbq=function(){n.callMethod?\\n                n.callMethod.apply(n,arguments):n.queue.push(arguments)};if(!f._fbq)f._fbq=n;\\n                n.push=n;n.loaded=!0;n.version=\\'2.0\\';n.queue=[];t=b.createElement(e);t.async=!0;\\n                t.src=v;s=b.getElementsByTagName(e)[0];s.parentNode.insertBefore(t,s)}(window,\\n                document,\\'script\\',\\'https://connect.facebook.net/en_US/fbevents.js\\');\\n                fbq(\\'init\\', \\'682878898465597\\'); // Insert your pixel ID here.\\n                fbq(\\'track\\', \\'PageView\\');\\n            </script>\\n            <!-- DO NOT MODIFY -->\\n            <!-- End Facebook Pixel Code -->\\n\\n\\n            \\n                <script type=\"text/javascript\">\\n                    var googletag = googletag || {};\\n                    googletag.cmd = googletag.cmd || [];\\n                    (function() {\\n                        var gads = document.createElement(\"script\");\\n                        gads.async = true;\\n                        gads.type = \"text/javascript\";\\n                        var useSSL = \"https:\" == document.location.protocol;\\n                        gads.src = (useSSL ? \"https:\" : \"http:\") + \"//www.googletagservices.com/tag/js/gpt.js\";\\n                        var node =document.getElementsByTagName(\"script\")[0];\\n                        node.parentNode.insertBefore(gads, node);\\n                    })();\\n                </script>\\n\\n                <script>\\n                    \\n                    (function() {\\n\\n                        \\n                            var networkCode = 73255505;\\n                            var subdomain = \\'broadway\\';\\n\\n                            var topLevelAdUnit = subdomain;\\n\\n                            var s_values = [];\\n\\n                            \\n    \\n    var s1 = \\'shows\\';\\n    s_values.push(s1);\\n\\n\\n                            var s_values_str = s_values.join(\\'/\\');\\n\\n                            var adUnit = topLevelAdUnit;\\n                            if ( s_values_str.length ) {\\n                                adUnit += \\'/\\' + s_values_str;\\n                            }\\n\\n                            var slotName = \\'/\\' + networkCode;\\n                            if ( adUnit.length ) {\\n                                slotName += \\'/\\' + adUnit;\\n                            }\\n\\n                            function getQueryVariables(variable){\\n                                var temp, i;\\n                                var queryString = window.location.search.substring(1);\\n                                var queries = queryString.split(\"&\");\\n                                var len = queries.length;\\n\\n                                for ( i = 0;  i < len; i++ ){\\n                                    temp = queries[i].split(\"=\");\\n                                    if (temp[0] === variable){\\n                                        return temp[1]\\n                                    }\\n                                }\\n                            }\\n\\n                            var type= \\'\\';\\n                            var breakpoint= \\'\\';\\n                            var dfp_test = getQueryVariables(\"dfp_test\") || \\'\\';\\n\\n                        \\n\\n                            googletag.cmd.push(function() {\\n\\n                                \\n\\n                                    \\n\\n                                    \\n\\n                                    googletag.defineSlot(slotName, [111, 12], \\'dfp-nav-mastercard-desktop\\')\\n                                        .addService(googletag.pubads())\\n                                        .setTargeting(\\'pos\\', \\'nav-mastercard-desktop\\')\\n                                        .setCollapseEmptyDiv(true,true);\\n                                    googletag.defineSlot(slotName, [111, 12], \\'dfp-nav-mastercard-mobile\\')\\n                                        .addService(googletag.pubads())\\n                                        .setTargeting(\\'pos\\', \\'nav-mastercard-mobile\\')\\n                                        .setCollapseEmptyDiv(true,true);\\n\\n                                \\n\\n                                \\n    \\n    googletag.defineSlot(slotName, [370,60], \\'dfp-marquee-left\\')\\n        .addService(googletag.pubads())\\n        .setTargeting(\\'pos\\', \\'marquee-left\\');\\n\\n\\n    \\n    googletag.defineSlot(slotName, [370,60], \\'dfp-marquee-center\\')\\n        .addService(googletag.pubads())\\n        .setTargeting(\\'pos\\', \\'marquee-center\\');\\n\\n\\n    \\n    googletag.defineSlot(slotName, [370,60], \\'dfp-marquee-right\\')\\n        .addService(googletag.pubads())\\n        .setTargeting(\\'pos\\', \\'marquee-right\\');\\n\\n\\n\\n\\n                                \\n                                s_values.forEach(function(s_value, index){\\n                                    s_key = \\'s\\' + (index + 1);\\n                                    googletag.pubads().setTargeting(s_key,s_value);\\n                                });\\n\\n                                \\n\\n                                googletag.pubads().setTargeting(\\'type\\',type);\\n                                googletag.pubads().setTargeting(\\'breakpoint\\',breakpoint);\\n                                googletag.pubads().setTargeting(\\'dfp_test\\',dfp_test);\\n                                googletag.pubads().collapseEmptyDivs();\\n                                googletag.pubads().enableSingleRequest();\\n                                googletag.enableServices();\\n                            });\\n                    })();\\n                </script>\\n            \\n\\n            <script>\\n                (function() {\\n                    document.addEventListener(\"touchstart\", function(){}, true);        \\n                })();\\n            </script>\\n\\n            \\n    \\n    \\n                <link rel=\"stylesheet\" href=\"https://static.broadway.com/css/responsive-global.b65c398fcc2d.css\">\\n            \\n    <link rel=\"stylesheet\" href=\"https://static.broadway.com/css/responsive-shows-v2.378a38f1efcb.css\">\\n\\n    <link rel=\"stylesheet\" href=\"https://static.broadway.com/css/responsive/plugins/lightgallery/lightgallery.23a0e097a7d4.css\">\\n\\n\\n            \\n    \\n    \\n    \\n    <meta property=\"og:title\" content=\"Hamilton\"/>\\n        \\n    \\n    <meta property=\"og:type\" content=\"article\"/>\\n    <meta property=\"og:image\" content=\"https://imaging.broadway.com/images/poster-178275/w178/96902-11.jpg\"/>\\n    <meta property=\"og:url\" content=\"https://www.broadway.com/shows/hamilton-broadway/\"/>\\n    <meta property=\"og:site_name\" content=\"Broadway.com\"/>\\n    \\n    \\n    \\n    <meta property=\"og:description\" content=\"A&nbsp;fresh&nbsp;look&nbsp;at&nbsp;the&nbsp;era&nbsp;of&nbsp;the&nbsp;Founding&nbsp;Fathers.\"/>    \\n    \\n    \\n    <meta property=\"fb:app_id\" content=\"189953424367267\"/>\\n\\n\\n    \\n\\n    \\n        <meta name=\"twitter:card\" content=\"summary\" />\\n    \\n\\t<meta name=\"twitter:site\" content=\"@broadwaycom\"/>\\n\\t\\n\\t\\t<meta name=\"twitter:title\" content=\"Hamilton - Broadway | Tickets | Broadway | Broadway.com\"/>\\n\\t\\n\\n    \\n        \\n            <meta name=\"twitter:description\" content=\"The BEST Broadway source for Hamilton tickets and Hamilton information, photos and videos. Click Here to buy Hamilton tickets today\"/>\\n        \\n    \\n\\n    \\n\\n    \\n\\n\\n\\n\\n            \\n\\n            \\n            \\n\\n        \\n\\n    </head>\\n\\n\\n    \\n    \\n    <body id=\"shows-overview\"  class=\"system shows-overview \">\\n        \\n\\n        \\n            \\n\\n            <svg aria-hidden=\"true\" class=\"hide\" xmlns=\"http://www.w3.org/2000/svg\" width=\"21\" height=\"21\" viewBox=\"0 0 21 21\">\\n    <defs>\\n        <path id=\"svg-search-icon\" fill=\"currentColor\" d=\"M19.113155,17.9037012 L25,23.7929106 L23.7907228,25 L17.9054697,19.1128509 C15.6658066,20.917957 12.5961156,21.3813043 9.89728381,20.2636249 C6.93295211,19.0359928 5.00000117,16.1428035 5.0000004,12.9335019 C4.99861985,8.55352667 8.54696109,5.00165848 12.9256226,5.00000192 L12.9256226,5.00000192 C16.1339608,4.99777703 19.0276222,6.92930099 20.2569415,9.89366997 C21.3759319,12.5919925 20.9152633,15.6622323 19.113155,17.9037012 Z M18.7909337,10.5014905 C17.8074157,8.12992377 15.4923831,6.58468155 12.9256226,6.58700192 C11.2434612,6.58753227 9.63040741,7.25647742 8.44131466,8.44667707 C7.25222191,9.63687671 6.58449451,11.2508359 6.58502486,12.9335019 C6.58502551,15.5010332 8.13144581,17.8156638 10.5029982,18.7977946 C12.8745505,19.7799254 15.6040422,19.2360777 17.4183727,17.4199152 C19.2327031,15.6037528 19.7744517,12.8730572 18.7909337,10.5014905 Z\"/>\\n        <filter id=\"svg-search-icon-filter\" width=\"200%\" height=\"200%\" x=\"-50%\" y=\"-50%\" filterUnits=\"objectBoundingBox\">\\n            <feOffset dy=\"1\" in=\"SourceAlpha\" result=\"shadowOffsetOuter1\"/>\\n            <feColorMatrix values=\"0 0 0 0 0 0 0 0 0 0 0 0 0 0 0 0 0 0 0.5 0\" in=\"shadowOffsetOuter1\"/>\\n        </filter>\\n    </defs>\\n</svg>\\n            <svg aria-hidden=\"true\" class=\"hide\" xmlns=\"http://www.w3.org/2000/svg\" width=\"16\" height=\"16\" viewBox=\"0 0 16 16\">\\n  <g fill=\"none\" fill-rule=\"evenodd\" id=\"svg-icon-gift\">\\n    <path stroke=\"currentColor\" d=\"M15.5,7.5 L15.5,4.5 L0.5,4.5 L0.5,7.5 L1.5,7.5 L1.5,15.5 L14.5,15.5 L14.5,7.5 L15.5,7.5 Z\"/>\\n    <rect width=\"12\" height=\"1\" x=\"2\" y=\"7\" fill=\"currentColor\"/>\\n    <path fill=\"currentColor\" d=\"M5.15117994,2.86117118 L7.03099228,2.86117118 L5.8163443,1.42367118 C5.64924904,1.23914645 5.4275298,1.14688546 5.15117994,1.14688546 C4.8941103,1.14688546 4.67560438,1.23021796 4.49565563,1.39688546 C4.31570688,1.56355296 4.22573386,1.76593189 4.22573386,2.00402832 C4.22573386,2.24212475 4.31570688,2.44450368 4.49565563,2.61117118 C4.67560438,2.77783868 4.8941103,2.86117118 5.15117994,2.86117118 Z M11.5136217,2.61117118 C11.6935705,2.44450368 11.7835435,2.24212475 11.7835435,2.00402832 C11.7835435,1.76593189 11.6935705,1.56355296 11.5136217,1.39688546 C11.333673,1.23021796 11.115167,1.14688546 10.8580974,1.14688546 C10.5817475,1.14688546 10.3600283,1.23914645 10.192933,1.42367118 L8.98792513,2.86117118 L10.8580974,2.86117118 C11.115167,2.86117118 11.333673,2.77783868 11.5136217,2.61117118 Z M13.2488331,12.0040283 L2.76044424,12.0040283 L13.2488331,12.0040283 Z M0.60107006,7.14688546 L0.60107006,4.28974261 L0.60107006,7.14688546 Z M5.15117994,4.00402832 C4.55349302,4.00402832 4.04418144,3.80908979 3.6232299,3.41920689 C3.20227837,3.02932399 2.99180576,2.55760252 2.99180576,2.00402832 C2.99180576,1.45045412 3.20227837,0.978732651 3.6232299,0.588849749 C4.04418144,0.198966847 4.55349302,0.00402832031 5.15117994,0.00402832031 C5.83884122,0.00402832031 6.37867937,0.233192695 6.77071057,0.69152832 L8.00463867,2.16474261 L9.23856677,0.69152832 C9.63059797,0.233192695 10.1704361,0.00402832031 10.8580974,0.00402832031 C11.4557843,0.00402832031 11.9650959,0.198966847 12.3860474,0.588849749 C12.806999,0.978732651 13.0174716,1.45045412 13.0174716,2.00402832 C13.0174716,2.55760252 12.806999,3.02932399 12.3860474,3.41920689 C11.9650959,3.80908979 11.4557843,4.00402832 10.8580974,4.00402832 L5.15117994,4.00402832 Z\"/>\\n  </g>\\n</svg>\\n\\n            <svg aria-hidden=\"true\" class=\"hide\" xmlns=\"http://www.w3.org/2000/svg\" width=\"16\" height=\"16\" viewBox=\"0 0 16 16\">\\n  <g fill=\"none\" fill-rule=\"evenodd\" id=\"svg-icon-calendar\">\\n    <path stroke=\"currentColor\" d=\"M.5 3.5L.5 15.5 15.5 15.5 15.5 3.5.5 3.5zM2.5 3.5L5.5 3.5 5.5 2C5.5 1.16683021 4.83139152.5 4 .5 3.16683021.5 2.5 1.16860848 2.5 2L2.5 3.5zM10.5 3.5L13.5 3.5 13.5 2C13.5 1.16683021 12.8313915.5 12 .5 11.1668302.5 10.5 1.16860848 10.5 2L10.5 3.5z\"/>\\n    <rect width=\"14\" height=\"1\" x=\"1\" y=\"6\" fill=\"currentColor\"/>\\n  </g>\\n</svg>\\n\\n            <svg xmlns=\"http://www.w3.org/2000/svg\" aria-hidden=\"true\" class=\"hide\" width=\"12\" height=\"21\" viewBox=\"0 0 12 21\">\\n  <path id=\"svg-icon-chevron\" fill=\"currentColor\" fill-rule=\"evenodd\" d=\"M0.684144,9.78697111 L5.55111512e-16,10.4711151 L0.684144,11.1566261 L10.4724821,20.9435972 L11.1566261,20.2594532 L1.36897148,10.4717986 L11.1566261,0.684144 L10.4724821,-3.55271368e-15 L0.684827478,9.78765459 Z\" transform=\"matrix(-1 0 0 1 11.157 0)\"/>\\n</svg>\\n\\n            <svg xmlns=\"http://www.w3.org/2000/svg\" aria-hidden=\"true\" class=\"hide\" width=\"17\" height=\"14\" viewBox=\"0 0 17 14\">\\n  <path id=\"svg-icon-envelope\" fill=\"currentColor\" fill-rule=\"evenodd\" d=\"M24 12.307v7.5323c0 .4174-.1486.7747-.4459 1.072-.2972.2972-.6545.4458-1.072.4458H8.518c-.4175 0-.7748-.1486-1.072-.4458C7.1486 20.614 7 20.2567 7 19.8393v-7.5324c.2783.31.5977.585.9581.8254 2.2895 1.5558 3.861 2.6467 4.7149 3.2728.3605.2657.653.4728.8775.6214.2245.1486.5233.3004.8965.4554.3731.155.721.2324 1.0435.2324h.019c.3225 0 .6704-.0775 1.0435-.2324.3732-.155.672-.3068.8965-.4554.2245-.1486.517-.3557.8775-.6214 1.0752-.7779 2.65-1.8688 4.7243-3.2728.3605-.2467.6767-.5218.9487-.8254zm0-2.7891c0 .4996-.155.977-.4648 1.4324-.31.4554-.6957.8443-1.1574 1.1669a7660.883 7660.883 0 0 0-4.4397 3.0831 42.051 42.051 0 0 0-.4032.2894 19.8514 19.8514 0 0 1-.5123.3605c-.136.0917-.3004.1944-.4933.3083-.1929.1138-.3747.1992-.5455.2561-.1707.057-.3289.0854-.4743.0854h-.019c-.1454 0-.3036-.0285-.4743-.0854-.1708-.0569-.3526-.1423-.5455-.2561-.1929-.1139-.3573-.2166-.4933-.3083a19.8514 19.8514 0 0 1-.5123-.3605 42.051 42.051 0 0 0-.4032-.2894c-.5755-.4047-1.404-.9818-2.4854-1.7313-1.0815-.7494-1.7298-1.2-1.9448-1.3518-.3921-.2656-.762-.6309-1.11-1.0957C7.174 10.5566 7 10.125 7 9.7265c0-.4932.1312-.9043.3937-1.2332C7.6562 8.1644 8.0309 8 8.5179 8H22.482c.4111 0 .7669.1486 1.0673.4459.3004.2972.4506.6545.4506 1.072z\" transform=\"translate(-7 -8)\"/>\\n</svg>\\n            <svg xmlns=\"http://www.w3.org/2000/svg\" aria-hidden=\"true\" class=\"hide\" width=\"16\" height=\"16\" viewBox=\"0 0 16 16\">\\n  <polygon id=\"svg-icon-close\" fill=\"currentColor\" fill-rule=\"evenodd\" points=\"8 7.238 15.238 0 16 .762 8.762 8 16 15.238 15.238 16 8 8.762 .762 16 0 15.238 7.238 8 0 .762 .762 0\"/>\\n</svg>\\n\\n            <svg xmlns=\"http://www.w3.org/2000/svg\" aria-hidden=\"true\" class=\"hide\" width=\"12\" height=\"12\" viewBox=\"0 0 12 12\">\\n  <path id=\"svg-icon-phone\" fill=\"currentColor\" fill-rule=\"evenodd\" d=\"M19,17.3203125 C19,17.2630205 18.9947917,17.2213543 18.984375,17.1953125 C18.9687499,17.1536456 18.8684905,17.0768235 18.6835938,16.9648438 C18.498697,16.852864 18.2682305,16.7239591 17.9921875,16.578125 L17.578125,16.3515625 C17.5520832,16.3359374 17.5026045,16.3020836 17.4296875,16.25 C17.3567705,16.1979164 17.291667,16.1588543 17.234375,16.1328125 C17.177083,16.1067707 17.1223961,16.09375 17.0703125,16.09375 C16.976562,16.09375 16.8541674,16.1783846 16.703125,16.3476562 C16.5520826,16.5169279 16.4036466,16.6874991 16.2578125,16.859375 C16.1119784,17.0312509 15.9973962,17.1171875 15.9140625,17.1171875 C15.877604,17.1171875 15.8346357,17.108073 15.7851562,17.0898438 C15.7356768,17.0716145 15.6953127,17.0546876 15.6640625,17.0390625 C15.6328123,17.0234374 15.588542,16.9986981 15.53125,16.9648438 C15.473958,16.9309894 15.4375001,16.9088542 15.421875,16.8984375 C14.9062474,16.6119777 14.4622414,16.2825539 14.0898438,15.9101562 C13.7174461,15.5377586 13.3880223,15.0937526 13.1015625,14.578125 C13.0911458,14.5624999 13.0690106,14.526042 13.0351562,14.46875 C13.0013019,14.411458 12.9765626,14.3671877 12.9609375,14.3359375 C12.9453124,14.3046873 12.9283855,14.2643232 12.9101562,14.2148438 C12.891927,14.1653643 12.8828125,14.122396 12.8828125,14.0859375 C12.8828125,14.0182288 12.9361974,13.9309901 13.0429688,13.8242188 C13.1497401,13.7174474 13.2669264,13.617188 13.3945312,13.5234375 C13.5221361,13.429687 13.6393224,13.3268235 13.7460938,13.2148438 C13.8528651,13.102864 13.90625,13.0078129 13.90625,12.9296875 C13.90625,12.8776039 13.8932293,12.822917 13.8671875,12.765625 C13.8411457,12.708333 13.8020836,12.6432295 13.75,12.5703125 C13.6979164,12.4973955 13.6640626,12.4479168 13.6484375,12.421875 C13.6328124,12.3906248 13.5937503,12.3164068 13.53125,12.1992188 C13.4687497,12.0820307 13.4036462,11.9635423 13.3359375,11.84375 C13.2682288,11.7239577 13.1992191,11.6002611 13.1289062,11.4726562 C13.0585934,11.3450514 12.9934899,11.2395838 12.9335938,11.15625 C12.8736976,11.0729162 12.8307293,11.0260417 12.8046875,11.015625 C12.7786457,11.0052083 12.7369795,11 12.6796875,11 C12.4296863,11 12.166668,11.0572911 11.890625,11.171875 C11.6510405,11.2812505 11.4427092,11.5273418 11.265625,11.9101562 C11.0885408,12.2929707 11,12.632811 11,12.9296875 C11,13.0130213 11.0065104,13.101562 11.0195312,13.1953125 C11.0325521,13.289063 11.0455729,13.3684893 11.0585938,13.4335938 C11.0716146,13.4986982 11.0950519,13.5846349 11.1289062,13.6914062 C11.1627606,13.7981776 11.188802,13.8749998 11.2070312,13.921875 C11.2252605,13.9687502 11.2578123,14.0546869 11.3046875,14.1796875 C11.3515627,14.3046881 11.3802083,14.3828123 11.390625,14.4140625 C11.7031266,15.2682334 12.266923,16.1028605 13.0820312,16.9179688 C13.8971395,17.733077 14.7317666,18.2968734 15.5859375,18.609375 C15.6171877,18.6197917 15.6953119,18.6484373 15.8203125,18.6953125 C15.9453131,18.7421877 16.0312498,18.7747395 16.078125,18.7929688 C16.1250002,18.811198 16.2018224,18.8372394 16.3085938,18.8710938 C16.4153651,18.9049481 16.5013018,18.9283854 16.5664062,18.9414062 C16.6315107,18.9544271 16.710937,18.9674479 16.8046875,18.9804688 C16.898438,18.9934896 16.9869788,19 17.0703125,19 C17.367189,19 17.7070293,18.9114592 18.0898438,18.734375 C18.4726582,18.5572908 18.7187495,18.3489595 18.828125,18.109375 C18.9427089,17.833332 19,17.5703138 19,17.3203125 Z M21,11.25 L21,18.75 C21,19.3697948 20.7799501,19.8997374 20.3398438,20.3398438 C19.8997374,20.7799501 19.3697948,21 18.75,21 L11.25,21 C10.6302052,21 10.1002626,20.7799501 9.66015625,20.3398438 C9.22004988,19.8997374 9,19.3697948 9,18.75 L9,11.25 C9,10.6302052 9.22004988,10.1002626 9.66015625,9.66015625 C10.1002626,9.22004988 10.6302052,9 11.25,9 L18.75,9 C19.3697948,9 19.8997374,9.22004988 20.3398438,9.66015625 C20.7799501,10.1002626 21,10.6302052 21,11.25 Z\" transform=\"translate(-9 -9)\"/>\\n</svg>\\n\\n            <svg xmlns=\"http://www.w3.org/2000/svg\" aria-hidden=\"true\" class=\"hide\" width=\"16\" height=\"16\" viewBox=\"0 0 30 30\">\\n  <circle id=\"svg-icon-loading\" class=\"loading-spinner\" fill=\"transparent\" stroke=\"#aaa\" cx=\"15\" cy=\"15\" r=\"10\" />\\n</svg>\\n\\n\\n            <svg aria-hidden=\"true\" class=\"hide\" xmlns=\"http://www.w3.org/2000/svg\" width=\"11\" height=\"20\" viewBox=\"0 0 11 20\">\\n    <defs>\\n        <path id=\"svg-fb-icon\" fill=\"currentColor\" fill-rule=\"evenodd\" d=\"M20.3846154,5.14423077 L20.3846154,8.31730769 L18.4975962,8.31730769 C17.8084901,8.31730769 17.3437512,8.46153702 17.1033654,8.75 C16.8629796,9.03846298 16.7427885,9.47115096 16.7427885,10.0480769 L16.7427885,12.3197115 L20.2644231,12.3197115 L19.7956731,15.8774038 L16.7427885,15.8774038 L16.7427885,25 L13.0649038,25 L13.0649038,15.8774038 L10,15.8774038 L10,12.3197115 L13.0649038,12.3197115 L13.0649038,9.69951923 C13.0649038,8.20912716 13.4815663,7.05328936 14.3149038,6.23197115 C15.1482413,5.41065294 16.2580059,5 17.6442308,5 C18.8221213,5 19.7355737,5.04807644 20.3846154,5.14423077 Z\" transform=\"translate(-10 -5)\"/>\\n    </defs>\\n</svg>\\n\\n            <svg aria-hidden=\"true\" class=\"hide\" xmlns=\"http://www.w3.org/2000/svg\">\\n  <defs>\\n    <path id=\"svg-twitter-icon\" fill=\"currentColor\" fill-rule=\"evenodd\" d=\"M24.7 8.9a8.46 8.46 0 0 1-2.025 2.088 11.47 11.47 0 0 1-.463 3.769 11.722 11.722 0 0 1-1.443 3.105 12.21 12.21 0 0 1-2.306 2.632c-.892.762-1.967 1.37-3.226 1.825-1.258.454-2.604.681-4.037.681-2.258 0-4.325-.604-6.2-1.813.292.034.617.05.975.05 1.875 0 3.546-.574 5.013-1.724a3.936 3.936 0 0 1-2.35-.807 3.95 3.95 0 0 1-1.425-1.994c.275.042.529.063.762.063.358 0 .712-.046 1.063-.137a3.972 3.972 0 0 1-2.32-1.394 3.9 3.9 0 0 1-.918-2.569v-.05a4.005 4.005 0 0 0 1.825.512A4.033 4.033 0 0 1 6.312 11.7a3.934 3.934 0 0 1-.487-1.925c0-.733.183-1.412.55-2.038a11.445 11.445 0 0 0 3.681 2.982 11.25 11.25 0 0 0 4.644 1.244 4.485 4.485 0 0 1-.1-.925c0-1.117.394-2.07 1.181-2.857C16.57 7.394 17.521 7 18.637 7c1.167 0 2.15.425 2.95 1.275A7.917 7.917 0 0 0 24.15 7.3a3.92 3.92 0 0 1-1.775 2.225A8.045 8.045 0 0 0 24.7 8.9z\" transform=\"translate(-5 -7)\"/>\\n  </defs>\\n</svg>\\n            <svg aria-hidden=\"true\" class=\"hide\" xmlns=\"http://www.w3.org/2000/svg\" width=\"25px\" height=\"18px\" viewBox=\"0 0 25 18\">\\n    <defs>\\n        <g id=\"svg-youtube-icon\" fill=\"currentColor\" stroke=\"none\" stroke-width=\"1\" fill-rule=\"evenodd\">\\n            <g id=\"320-P1\" transform=\"translate(-124.000000, -594.000000)\">\\n                <g id=\"bwy/header/nav/320\" transform=\"translate(0.000000, 110.000000)\">\\n                    <g id=\"box\" transform=\"translate(0.000000, 59.000000)\">\\n                        <path d=\"M148.477557,427.737818 C149,429.691039 149,433.766447 149,433.766447 C149,433.766447 149,437.841714 148.477557,439.795218 C148.190057,440.872784 147.34304,441.721433 146.26733,442.009594 C144.317756,442.532895 136.5,442.532895 136.5,442.532895 C136.5,442.532895 128.682244,442.532895 126.73267,442.009594 C125.657102,441.721433 124.809943,440.872784 124.522443,439.795218 C124,437.841714 124,433.766447 124,433.766447 C124,433.766447 124,429.691039 124.522443,427.737818 C124.809943,426.660111 125.657102,425.811462 126.73267,425.523442 C128.682244,425 136.5,425 136.5,425 C136.5,425 144.317756,425 146.26733,425.523442 C147.34304,425.811462 148.190057,426.660111 148.477557,427.737818 Z M133.440789,437.8125 L140.184211,433.766602 L133.440789,429.720395 L133.440789,437.8125 Z\" id=\"youtube\"></path>\\n                    </g>\\n                </g>\\n            </g>\\n        </g>\\n    </defs>\\n</svg>\\n\\n            <svg aria-hidden=\"true\" class=\"hide\" xmlns=\"http://www.w3.org/2000/svg\" width=\"20\" height=\"20\" viewBox=\"0 0 20 20\">\\n  <defs>\\n    <path id=\"svg-pinterest-icon\" fill=\"currentColor\" fill-rule=\"evenodd\" d=\"M25 15c0 1.814-.447 3.487-1.341 5.02a9.955 9.955 0 0 1-3.64 3.639C18.488 24.553 16.815 25 15 25c-.964 0-1.91-.139-2.839-.417.513-.807.851-1.519 1.016-2.135.078-.295.313-1.211.703-2.747.174.338.49.631.95.878.46.248.956.372 1.485.372 1.05 0 1.988-.298 2.813-.892.824-.595 1.462-1.413 1.914-2.455.451-1.042.677-2.213.677-3.515 0-.99-.258-1.919-.775-2.787-.516-.868-1.265-1.575-2.246-2.122-.981-.547-2.088-.82-3.32-.82a8.36 8.36 0 0 0-2.552.377c-.79.252-1.461.586-2.012 1.003a6.857 6.857 0 0 0-1.42 1.438 5.954 5.954 0 0 0-.872 1.687 5.682 5.682 0 0 0-.28 1.744c0 .903.174 1.697.521 2.383.347.686.855 1.168 1.523 1.445.26.105.426.018.495-.26.018-.06.052-.195.104-.404.053-.208.087-.338.105-.39.052-.2.004-.386-.144-.56-.442-.53-.664-1.185-.664-1.966 0-1.311.454-2.437 1.361-3.38.907-.941 2.094-1.412 3.561-1.412 1.31 0 2.333.356 3.067 1.068.733.712 1.1 1.636 1.1 2.773 0 1.476-.297 2.73-.892 3.763s-1.356 1.55-2.285 1.55c-.53 0-.955-.19-1.276-.567-.321-.377-.421-.83-.3-1.36.07-.304.185-.71.345-1.218.16-.508.291-.955.39-1.34.1-.387.15-.715.15-.984 0-.434-.117-.794-.35-1.08-.235-.287-.57-.43-1.004-.43-.538 0-.993.247-1.367.742-.373.495-.56 1.11-.56 1.849 0 .633.109 1.163.326 1.588l-1.29 5.443c-.147.608-.203 1.376-.168 2.305-1.789-.79-3.234-2.01-4.336-3.66C5.55 18.859 5 17.024 5 15c0-1.814.447-3.487 1.341-5.02a9.955 9.955 0 0 1 3.64-3.639C11.512 5.447 13.185 5 15 5s3.487.447 5.02 1.341a9.955 9.955 0 0 1 3.639 3.64C24.553 11.512 25 13.185 25 15z\" transform=\"translate(-5 -5)\"/>\\n  </defs>\\n</svg>\\n            <svg aria-hidden=\"true\" class=\"hide\" xmlns=\"http://www.w3.org/2000/svg\" width=\"12\" height=\"20\" viewBox=\"0 0 12 20\">\\n  <defs>\\n    <path id=\"svg-tumblr-icon\" fill=\"currentColor\" fill-rule=\"evenodd\" d=\"M19.528 20.972l.961 2.849c-.184.28-.628.544-1.334.793a6.59 6.59 0 0 1-2.127.384c-.833.016-1.596-.088-2.29-.312-.692-.224-1.263-.52-1.712-.89a5.566 5.566 0 0 1-1.142-1.273 5.168 5.168 0 0 1-.865-2.86v-6.539H9V10.54a5.761 5.761 0 0 0 1.55-.835c.457-.348.822-.709 1.094-1.081.272-.373.505-.782.697-1.226a7.02 7.02 0 0 0 .409-1.19c.08-.349.14-.703.18-1.064a.195.195 0 0 1 .054-.102.126.126 0 0 1 .09-.042h2.933v5.096h4.002v3.028h-4.014v6.226c0 .24.026.465.078.673.052.208.142.418.27.63.128.213.327.38.595.5.268.12.595.176.98.168.625-.016 1.161-.132 1.61-.349z\" transform=\"translate(-9 -5)\"/>\\n  </defs>\\n</svg>\\n            <svg aria-hidden=\"true\" class=\"hide\" xmlns=\"http://www.w3.org/2000/svg\" width=\"20\" height=\"20\" viewBox=\"0 0 20 20\">\\n  <defs>\\n    <path id=\"svg-instagram-icon\" fill=\"currentColor\" fill-rule=\"evenodd\" d=\"M18.333 15c0-.92-.325-1.706-.976-2.357A3.212 3.212 0 0 0 15 11.667c-.92 0-1.706.325-2.357.976A3.212 3.212 0 0 0 11.667 15c0 .92.325 1.706.976 2.357a3.212 3.212 0 0 0 2.357.976c.92 0 1.706-.325 2.357-.976A3.212 3.212 0 0 0 18.333 15zm1.797 0c0 1.424-.499 2.635-1.497 3.633-.998.998-2.21 1.497-3.633 1.497-1.424 0-2.635-.499-3.633-1.497-.998-.998-1.497-2.21-1.497-3.633 0-1.424.499-2.635 1.497-3.633.998-.998 2.21-1.497 3.633-1.497 1.424 0 2.635.499 3.633 1.497.998.998 1.497 2.21 1.497 3.633zm1.406-5.339c0 .33-.117.612-.351.847a1.154 1.154 0 0 1-.846.351c-.33 0-.612-.117-.847-.351a1.154 1.154 0 0 1-.351-.847c0-.33.117-.612.351-.846.235-.234.517-.351.847-.351.33 0 .612.117.846.351.234.234.351.517.351.846zM15 6.797l-.996-.007a70.637 70.637 0 0 0-1.374 0c-.312.005-.731.018-1.256.04-.525.021-.973.065-1.341.13a5.22 5.22 0 0 0-.931.24 3.378 3.378 0 0 0-1.146.756c-.33.33-.582.712-.755 1.146a5.22 5.22 0 0 0-.241.93c-.065.37-.109.817-.13 1.342-.022.525-.035.944-.04 1.256-.004.313-.004.77 0 1.374l.007.996-.007.996a70.637 70.637 0 0 0 0 1.374c.005.312.018.731.04 1.256.021.525.065.973.13 1.341.065.37.145.68.24.931.174.434.426.816.756 1.146.33.33.712.582 1.146.755.251.096.562.176.93.241.37.065.817.109 1.342.13.525.022.944.035 1.256.04.313.004.77.004 1.374 0l.996-.007.996.007c.603.004 1.061.004 1.374 0 .312-.005.731-.018 1.256-.04.525-.021.973-.065 1.341-.13a5.22 5.22 0 0 0 .931-.24 3.378 3.378 0 0 0 1.146-.756c.33-.33.582-.712.755-1.146a5.22 5.22 0 0 0 .241-.93c.065-.37.109-.817.13-1.342.022-.525.035-.944.04-1.256.004-.313.004-.77 0-1.374L23.203 15l.007-.996c.004-.603.004-1.061 0-1.374a48.238 48.238 0 0 0-.04-1.256 10.319 10.319 0 0 0-.13-1.341 5.22 5.22 0 0 0-.24-.931 3.378 3.378 0 0 0-.756-1.146 3.378 3.378 0 0 0-1.146-.755 5.22 5.22 0 0 0-.93-.241 10.319 10.319 0 0 0-1.342-.13 48.238 48.238 0 0 0-1.256-.04c-.313-.004-.77-.004-1.374 0L15 6.797zM25 15c0 1.988-.022 3.364-.065 4.128-.087 1.805-.625 3.203-1.615 4.192-.99.99-2.387 1.528-4.192 1.615-.764.043-2.14.065-4.128.065s-3.364-.022-4.128-.065c-1.805-.087-3.203-.625-4.192-1.615-.99-.99-1.528-2.387-1.615-4.192C5.022 18.364 5 16.988 5 15s.022-3.364.065-4.128C5.152 9.067 5.69 7.67 6.68 6.68c.99-.99 2.387-1.528 4.192-1.615C11.636 5.022 13.012 5 15 5s3.364.022 4.128.065c1.805.087 3.203.625 4.192 1.615.99.99 1.528 2.387 1.615 4.192.043.764.065 2.14.065 4.128z\" transform=\"translate(-5 -5)\"/>\\n  </defs>\\n</svg>\\n\\n        \\n\\n        <!-- Google Tag Manager -->\\n        <noscript><iframe src=\"//www.googletagmanager.com/ns.html?id=GTM-HRPQ\"\\n        height=\"0\" width=\"0\" style=\"display:none;visibility:hidden\"></iframe></noscript>\\n        <!-- End Google Tag Manager -->\\n\\n        <a class=\"sr-only nav-bar__skiplink\" href=\"#skiplink-target\">Skip to main content</a>\\n\\n        <div class=\"global-nav-placeholder\"></div> \\n        <div class=\"global-mask global-mask-js\"></div>\\n        \\n        \\n        <div class=\"announcement-hook-js\">\\n\\n            \\n                \\n\\n\\n<header class=\"global-navigation-wrapper\">\\n    <nav id=\"nav-menu\" class=\"global-navigation-container global-nav-js mbn white\" role=\"navigation\" aria-expanded=\"false\">\\n        <h2 class=\"sr-only\">Navigation</h2>\\n        <div class=\"nav-bar__top-wrapper\">\\n            <ul class=\"nav-bar__top container\">\\n                <li>\\n                    \\n<script type=\"text/javascript\">\\n    googletag.cmd.push(function() { googletag.display(\\'dfp-nav-mastercard-desktop\\'); });\\n</script>\\n<div id=\"dfp-nav-mastercard-desktop\" >\\n</div>\\n\\n\\n                </li>\\n                <li>\\n                    <a class=\"nav-bar__top-link\" href=\"/the-show/\" rel=\"nofollow\" data-qa=\"bwy-show-header\">\\n                        <svg width=\"12\" height=\"12\" viewBox=\"0 0 12 12\" fill=\"none\" xmlns=\"http://www.w3.org/2000/svg\">\\n<path d=\"M10.9091 1H1.09091C0.490909 1 0 1.5 0 2.11111V8.77778C0 9.38889 0.490909 10 1.09091 10H4V11.5H8V10H10.9091C11.5091 10 11.9945 9.38889 11.9945 8.77778L12 2.11111C12 1.5 11.5091 1 10.9091 1ZM10.5 8.5H1.5V2.5H10.5V8.5Z\" fill=\"currentColor\"/>\\n<rect x=\"3\" y=\"4\" width=\"6\" height=\"3\" fill=\"#C5C6CD\"/>\\n</svg>\\n\\n                        The Broadway Show\\n                    </a>\\n                </li>\\n                <li>\\n                    <a class=\"nav-bar__top-link\" href=\"/gift-certificates/\" data-qa=\"giftcard-header\">\\n                        <svg width=\"12\" height=\"12\" viewBox=\"0 0 12 12\" fill=\"none\" xmlns=\"http://www.w3.org/2000/svg\">\\n<path fill-rule=\"evenodd\" clip-rule=\"evenodd\" d=\"M9.93317 0.54827C9.55529 0.182755 9.09808 0 8.56154 0C7.94423 0 7.45962 0.214842 7.10769 0.644531L6 2.02567L4.89231 0.644531C4.54038 0.214842 4.05577 0 3.43846 0C2.90192 0 2.44471 0.182755 2.06683 0.54827C1.68894 0.913785 1.5 1.35602 1.5 1.875C1.5 2.3019 1.62784 2.67688 1.88354 2.99994L0 3H3.74227C3.53608 3 3.36083 2.92708 3.21649 2.78125C3.07216 2.63542 3 2.45833 3 2.25C3 2.04167 3.07216 1.86458 3.21649 1.71875C3.36083 1.57292 3.53608 1.5 3.74227 1.5C3.96392 1.5 4.14175 1.58073 4.27577 1.74219L5.25 3H6.75L7.71983 1.74219C7.85431 1.58073 8.03276 1.5 8.25517 1.5C8.46207 1.5 8.63793 1.57292 8.78276 1.71875C8.92759 1.86458 9 2.04167 9 2.25C9 2.45833 8.92759 2.63542 8.78276 2.78125C8.63793 2.92708 8.46207 3 8.25517 3H12L10.1165 2.99994C10.3722 2.67688 10.5 2.3019 10.5 1.875C10.5 1.35602 10.3111 0.913785 9.93317 0.54827ZM12 4H0V6H1H11H12V4ZM11 12V7.5H1V12H11Z\" fill=\"currentColor\"/>\\n</svg>\\n\\n                        Gift Cards\\n                    </a>\\n                </li>\\n                <li>\\n                    <a class=\"nav-bar__top-link\" href=\"https://groups.broadway.com\" data-qa=\"groups-header\">\\n                        <svg width=\"12\" height=\"12\" viewBox=\"0 0 12 12\" fill=\"none\" xmlns=\"http://www.w3.org/2000/svg\">\\n<path fill-rule=\"evenodd\" clip-rule=\"evenodd\" d=\"M3.5 2C4.32843 2 5 1.10457 5 0H7V12H5C5 10.8954 4.32843 10 3.5 10C2.67157 10 2 10.8954 2 12H0V0H2C2 1.10457 2.67157 2 3.5 2ZM12 3L8.5 1V11L12 3Z\" fill=\"currentColor\"/>\\n</svg>\\n\\n                        Group Sales\\n                    </a>\\n                </li>\\n            </ul>\\n        </div>\\n        <div class=\"nav-bar__bottom-wrapper\">\\n            <div class=\"nav-bar__bottom container\">\\n                <div class=\"nav-bar__bottom__mobile\">\\n                    <a href=\"/\" style=\"fill: #fff;\" aria-label=\"Broadway.com Home\" data-qa=\"header_logo\" class=\"nav-bar__logo-link\">\\n                        <svg xmlns=\"http://www.w3.org/2000/svg\" width=\"116\" height=\"32\" class=\"\" viewBox=\"0 0 109 30\"  fill=\"currentColor\" aria-label=\"Home\" data-qa=\"broadway-logo\">\\n  <g fill-rule=\"evenodd\">\\n    <path d=\"M107.972009,1.02532258 L107.128591,1.48451613 C105.326942,2.69129032 103.740871,3.89032258 102.627618,6.00919355 C101.544884,3.97693548 100.083316,2.74064516 98.1009689,1.46080645 L96.8888889,0.870967742 L96.8888889,27.3919355 L99.2999689,28.2629032 L99.2999689,6.08709677 C100.613667,7.84116851 101.301333,9.98417528 101.253249,12.1741935 L101.253249,28.2614516 L104.155556,29.1290323 L104.155556,11.7396774 C104.162139,9.82694913 104.846961,7.97840314 106.088489,6.52209677 L106.088489,29.1290323 L108.526698,30 L108.526698,0.810967742 M79.9648222,1.81790323 C79.46972,2.49096774 79.4392,3.01596774 79.4392,4.34758065 L79.4392,20.8698387 C79.4392,22.2556452 79.5980978,23.4667742 80.2273911,24.2627419 C80.8010011,25.0727685 81.7073572,25.5839873 82.6980578,25.6562903 C83.8200311,25.7966129 84.6116133,25.6679032 85.2559244,25.1525806 C86.0542889,24.5129032 86.2296578,23.336129 86.2296578,21.738871 L86.2296578,14.7832258 L83.7992,14.3477419 L83.7992,21.7393548 C83.7992,22.5735484 83.6703378,22.9277419 83.4659022,23.1082258 C83.2730377,23.2396728 83.0308423,23.2765199 82.8075422,23.2083871 C82.1065511,23.1212903 81.8822533,22.7903226 81.8822533,21.3048387 L81.8822533,4.34806452 C81.8822533,2.77064516 82.1922978,2.83258065 82.7692711,2.83258065 C83.3869378,2.84612903 83.7992,3.15435484 83.7992,4.78306452 L83.7992,11.6196774 L86.2311111,11.5993548 L86.2311111,4.76274194 C86.2311111,3.54387097 86.328,2.73048387 85.9825911,2.11790323 C85.8297147,1.80628317 85.6223464,1.52443881 85.3702533,1.28564516 C84.6468493,0.667542765 83.7220914,0.335044692 82.77024,0.350806452 C81.8033777,0.350038988 80.8840307,0.769516666 80.2516133,1.5 L79.9648222,1.81790323 Z M65.39564,0.496451613 L65.39564,8.69612903 C65.39564,9.8066129 65.3815911,10.4312903 65.73136,11.0472581 C65.8748899,11.3007572 66.054378,11.5321858 66.2642489,11.7343548 C66.7204034,12.1296958 67.2527546,12.4275847 67.82852,12.6096774 L67.82852,23.7024194 L70.2507422,23.9927419 L70.2507422,12.6653226 C70.8529557,12.5253674 71.4166354,12.2538589 71.9012444,11.8703226 L72.1957867,11.546129 C72.6937956,10.9103226 72.6521333,10.0620968 72.6521333,8.69564516 L72.6521333,0.496451613 L70.2299111,0.496451613 L70.2299111,8.69612903 C70.2635377,9.25928249 70.0914001,9.81548846 69.7454667,10.2614516 C69.5527087,10.4055029 69.3066717,10.4585034 69.0716044,10.4066129 C68.3507511,10.3906452 67.8222222,10.1070968 67.8222222,8.69612903 L67.8222222,0.476129032 L65.39564,0.496451613 Z M52.1005467,18.701129 C51.4911156,17.1256452 50.8700578,15.5908065 50.8700578,13.9137097 L50.8700578,0.971129032 L48.4478356,0.971129032 L48.4478356,13.9137097 C48.4675772,15.5696079 48.1767445,17.21456 47.5903689,18.7635484 C46.9132393,17.2337342 46.543869,15.5858661 46.5032756,13.9137097 L46.5032756,0.971129032 L44.0718489,0.971129032 L44.0718489,14.3482258 C43.9986379,15.9213013 44.225679,17.493929 44.7408667,18.9822581 C44.8377556,19.2725806 44.9641956,19.5832258 45.1177644,19.9301613 C45.7233434,21.243148 46.4742285,22.4842692 47.3563822,23.6303226 L47.60684,23.9690323 L47.8408267,23.6196774 C48.649237,22.4498664 49.3190195,21.1903148 49.8367378,19.8662903 C50.3865201,21.1483562 51.0606936,22.3735591 51.8496044,23.5243548 L52.0806844,23.8630645 L52.3301733,23.5359677 C53.278072,22.2907362 54.0514343,20.9221461 54.6288622,19.4680645 L54.8483156,18.8903226 C55.4073644,17.3322581 55.2203689,15.6624194 55.2203689,13.9132258 L55.2203689,0.951290323 L52.7981467,0.951290323 L52.7981467,13.9137097 C52.8707442,15.539173 52.6344948,17.1638667 52.1005467,18.701129 Z M21.9453333,0.318387097 C21.0659269,0.343481633 20.2292374,0.702750877 19.6059511,1.32290323 C19.4122259,1.49390378 19.236878,1.68461211 19.0827511,1.89193548 C18.5857111,2.64241935 18.4045289,3.44032258 18.4045289,4.8483871 L18.4045289,22.2135484 C18.4045289,23.4745161 18.5537378,24.2753226 18.9030222,24.8917742 C18.999352,25.1971675 19.16327,25.4769865 19.3826222,25.7104839 C20.1488792,26.236344 21.1005504,26.4177845 22.0068578,26.2108065 C22.9384444,26.0322581 23.2828844,25.5817742 23.9446356,24.9696774 C24.1648746,24.7688874 24.3590366,24.5413056 24.5225778,24.2922581 C24.99588,23.5412903 25.1799689,22.7177419 25.1799689,21.3512903 L25.1799689,4.65483871 C25.1799689,3.45048387 25.0297911,2.68596774 24.6776,2.09903226 C24.4833384,1.75983041 24.2332572,1.4557371 23.9378533,1.19951613 C23.2533333,0.60483871 22.9098622,0.290322581 21.9453333,0.318387097 Z M20.8422533,22.0616129 L20.8422533,4.68725806 C20.8422533,3.02080645 21.1847556,2.87322581 21.7491333,2.85435484 L21.7709333,2.85435484 C22.3575956,2.87080645 22.7989244,3.21677419 22.7771244,4.78306452 C22.75048,4.67516129 22.7708267,21.7185484 22.7708267,21.7185484 C22.7708267,23.2509677 22.6540756,23.5543548 21.9545378,23.6695161 L21.9322533,23.6695161 L21.9123911,23.6724194 C21.6292002,23.7233418 21.337174,23.6856566 21.07624,23.5645161 C20.8592089,23.3733871 20.8422533,22.8812903 20.8422533,22.0616129 Z M8.72,0 L8.72,28.0645161 L11.4430622,27.3479032 C11.4430622,27.3479032 11.1601467,21.7195161 11.1601467,20.771129 C11.4183556,20.9559677 11.9546356,21.2104839 12.1963733,21.4330645 C12.8983408,22.0983909 13.4424143,22.9121297 13.7887422,23.8146774 C14.1169062,24.6866215 14.2939995,25.60802 14.3124267,26.5393548 L14.3226,26.8814516 L17.0839333,26.4154839 L17.0742444,26.1532258 C17.0571255,24.5690202 16.6674922,23.011006 15.9367689,21.6048387 C15.503625,20.8100031 14.9371673,20.0952815 14.2620444,19.4917742 C13.908164,19.1779727 13.5324205,18.889667 13.1376489,18.6290323 C13.5622299,18.1158605 13.9555025,17.5776293 14.3153333,17.0172581 C15.4745033,15.1553967 16.0596232,12.9940424 15.9978089,10.8024194 C16.0680848,8.63455986 15.4804117,6.49614046 14.3119422,4.66790323 C13.8193204,3.9295713 13.2450267,3.24899325 12.5999156,2.63903226 C11.8714492,1.95815255 11.0686951,1.36118201 10.20676,0.859354839 C9.82356444,0.634354839 9.43794667,0.429193548 9.05911111,0.25016129 L8.63667556,0.0483870968 L8.72,0 Z M12.1440533,6.47564516 C12.9440127,7.84349373 13.3641011,9.39975582 13.3609778,10.983871 C13.351623,12.5957882 12.9309561,14.1787076 12.1387244,15.5830645 C11.9284756,15.9556452 11.3888044,16.1951613 11.1402844,16.5212903 L11.1402844,5.21806452 C11.4982072,5.61894309 11.832621,6.0388882 12.1440533,6.47564516 Z M0,0.520645161 L0,30 L0.426795556,29.7914516 C0.829929261,29.5933077 1.2225309,29.3744669 1.60302667,29.1358065 C2.31238342,28.6933064 2.97966755,28.1868355 3.59651556,27.6227419 C4.47267993,26.8204408 5.23308779,25.9005311 5.85596444,24.8893548 C6.9509093,23.1312661 7.53772446,21.1049638 7.55152,19.0345161 C7.55831183,17.1180039 6.9627163,15.2476953 5.84869778,13.6872581 L5.42577778,13.0969355 C5.58806667,12.8104839 5.73969778,12.5264516 5.87049778,12.2506452 C6.46025435,11.0497108 6.7613247,9.72789492 6.74976444,8.39032258 C6.7551255,7.09454569 6.45262261,5.81598564 5.86710667,4.65967742 C5.31669069,3.57452468 4.53644659,2.62200354 3.58052889,1.86822581 C2.96519008,1.37738315 2.28714345,0.970581149 1.56427111,0.658548387 C1.17854354,0.490454449 0.782036622,0.348204229 0.377382222,0.232741935 L0,0.126290323 L0,0.520645161 Z M3.14549778,5.5683871 C3.72252923,6.49990269 4.02476994,7.57510906 4.01749778,8.67048387 C4.01619304,9.81811815 3.71387412,10.9453837 3.14065333,11.94 C3.02729333,12.1253226 2.54333333,12.4456452 2.41398667,12.6096774 L2.41398667,5.21806452 C2.54817778,5.38790323 3.03310667,5.38935484 3.14549778,5.5683871 Z M3.16632889,14.8993548 C4.26195103,16.1323376 4.86542499,17.7246562 4.86188444,19.3732258 C4.80403131,21.1336954 4.20755792,22.834199 3.15276444,24.2458065 C3.03552889,24.4103226 2.54720889,24.6208065 2.41253333,24.7833871 L2.41253333,14.3482258 C2.64334801,14.5602 2.89547439,14.7451336 3.16632889,14.8993548 Z M88.4619778,2.34774194 C87.8843442,3.18909249 87.6054902,4.1994443 87.6699111,5.21758065 L87.6699111,22.6093548 C87.6282409,23.493347 87.8310441,24.3717344 88.2560889,25.1482258 C88.4713583,25.5859431 88.7686886,25.9783552 89.1319644,26.3041935 C89.7968895,26.8936549 90.6194491,27.2767029 91.49896,27.4064516 L91.5759867,27.4108065 C92.5213281,27.5963409 93.500973,27.3689787 94.26756,26.786129 C94.4058735,26.6450107 94.5264229,26.4875559 94.6265333,26.3172581 C95.2232228,25.4961909 95.508252,24.4899941 95.4307111,23.4783871 L95.4307111,5.21806452 C95.4666816,4.32412401 95.2501196,3.43810943 94.8057778,2.66129032 C94.6778428,2.35893346 94.5038029,2.07818768 94.2898444,1.82903226 C93.5627408,1.1292173 92.5864834,0.747534616 91.5769556,0.768387097 C90.691914,0.768926053 89.8337174,1.07201287 89.1450444,1.62725806 C88.8859502,1.8356424 88.6561889,2.07798964 88.4619778,2.34774194 Z M90.5945022,5.21806452 C90.5945022,4.34709677 90.5208667,3.79693548 90.7611511,3.56274194 C91.0054029,3.42209527 91.286768,3.35913734 91.5677511,3.38225806 L91.6084444,3.38225806 C92.1733067,3.38225806 92.5254978,3.48725806 92.5254978,5.21806452 L92.5254978,23.478871 C92.5254978,24.0595161 92.5618311,24.3895161 92.3496444,24.6029032 C92.0653846,24.7604906 91.7413767,24.8321083 91.4170889,24.8090323 C90.7495244,24.6962903 90.5945022,24.5951613 90.5945022,23.0443548 L90.5945022,5.21806452 Z M60.2450267,0.344032258 C59.3315067,1.5930711 58.5688764,2.94550295 57.9729822,4.37322581 L57.7205867,5.01435484 C57.1823689,6.57387097 57.15088,8.21951613 57.15088,9.99822581 L57.15088,23.2156452 L59.5731022,23.2156452 L59.5731022,16.4414516 C59.8695822,16.4501613 61.1678933,16.4346774 61.5258978,16.4414516 L61.5258978,23.2108065 L63.94812,23.4793548 L63.94812,10.0006452 C64.0238811,8.33520719 63.8039427,6.66951955 63.29848,5.08064516 C63.3953689,5.38064516 62.0563644,2.14983871 60.7454578,0.344516129 L60.5071111,0.0140322581 L60.2450267,0.344032258 Z M60.4935467,5.27951613 C61.1473261,6.76934065 61.4977633,8.37421251 61.5244444,10.0006452 L61.5244444,14.2258065 C61.1959911,14.2141935 60.5071111,14.1943548 60.5071111,14.1943548 C60.5071111,14.1943548 59.8981644,14.1687097 59.5760089,14.1537097 C59.5764933,13.6543548 59.5929644,10.0006452 59.5929644,10.0006452 C59.5828439,8.38307962 59.8887548,6.77956531 60.4935467,5.27951613 Z M30.2608222,0.347419355 C29.387918,1.68852531 28.703315,3.14288697 28.2261556,4.66983871 L27.9776356,5.37096774 C27.4066622,7.14817632 27.1219752,9.00469929 27.1342178,10.871129 L27.1342178,25.1453226 L29.5511111,25.1453226 L29.5511111,17.3917742 C29.8722978,17.3685484 30.5258133,17.3651613 30.5258133,17.3651613 C30.8429163,17.3908251 31.1611569,17.3997085 31.4792,17.3917742 L31.4792,24.3483871 L33.9212844,24.1495161 L33.9212844,10.3064516 C33.9605055,8.44252959 33.7154777,6.58350145 33.1946178,4.79322581 C32.5650565,3.21637234 31.7425149,1.72341043 30.7457511,0.348387097 L30.5040133,0 L30.2608222,0.347419355 Z M30.5064356,5.53064516 C31.0877689,7.03935484 31.2621689,8.71548387 31.4787156,10.4351613 C31.6400356,10.4032258 31.5092356,14.5577419 31.4787156,15.0522581 C31.1589822,15.078871 30.4788222,15.2085484 30.4788222,15.2085484 C30.4788222,15.2085484 29.8863467,15.1930645 29.5501324,15.2182258 L29.5501422,10.4351613 C29.5480748,8.75390984 29.8725439,7.08812638 30.5064356,5.53064516 Z M35.8401689,23.9133871 L36.1041911,23.8412903 C36.4738222,23.5969355 36.44088,23.3351613 36.8129333,23.0414516 C37.7104588,22.3298712 38.5335304,21.5293356 39.2695511,20.6520968 C39.8549656,19.95111 40.3892284,19.2090405 40.8682178,18.4316129 C41.0968756,18.0498387 41.3090622,17.6574194 41.5004178,17.2654839 C42.3511922,15.5681105 42.8080377,13.7010487 42.837,11.8030645 C42.8165669,9.91751268 42.3583782,8.06241361 41.49848,6.38370968 C41.3047022,6 41.0934844,5.62209677 40.8687022,5.26016129 C40.4035581,4.49701068 39.8666249,3.77989492 39.2651911,3.11854839 C38.5316941,2.30334917 37.7045283,1.57737036 36.8008222,0.955645161 C36.4302222,0.702580645 36.2147445,0.46443828 35.8485045,0.255889893 L35.8401689,23.9133871 Z M37.7866667,5.69370968 C38.05408,6.07741935 38.5743733,6.45919355 38.7846222,6.84387097 C39.6900189,8.31853215 40.1800751,10.0099661 40.2030756,11.7396774 C40.1670451,13.5731502 39.6791979,15.3695002 38.7826844,16.9698387 C38.5830933,17.3569355 38.0870222,17.8408065 37.8031378,18.2612903 C37.8016844,16.7419355 37.7866667,7.17919355 37.7866667,5.69370968 Z\"/>\\n    <g transform=\"translate(71.698 20.806)\">\\n      <ellipse cx=\"3.149\" cy=\"3.145\" fill=\"#B62825\" rx=\"3.149\" ry=\"3.145\"/>\\n      <path fill=\"#FFF\" d=\"M6.27817299,3.49809825 L4.5624831,3.49809825 L4.36938039,0.967741935 L3.19475078,3.49953053 L0.968888889,3.49953053 L2.47085113,4.58042236 L1.74559557,5.96151068 C1.91061051,6.0436964 2.0838641,6.11183961 2.26378762,6.16437348 L3.40433786,5.42833045 L4.17310964,6.12020429 C4.39200134,6.0450404 4.59998719,5.94645479 4.79406698,5.82744402 L4.67740276,4.59617741 L6.2326075,3.7848309 C6.25207398,3.6907223 6.26733093,3.59507639 6.27817299,3.49809825 Z\"/>\\n    </g>\\n  </g>\\n</svg>\\n\\n                    </a>\\n                    <button\\n                        class=\"nav-bar__menu-button aria-nav-controls-js nav-bar__menu-button--open\"\\n                        data-qa=\"header_hamburger_menu\"\\n                        aria-label=\"Menu\"\\n                        aria-haspopup=\"menu/dialog\"\\n                        aria-pressed=\"false\"\\n                        aria-controls=\"nav-menu\"\\n                    >\\n                        <svg width=\"16px\" height=\"12px\" viewBox=\"0 0 16 12\" version=\"1.1\" xmlns=\"http://www.w3.org/2000/svg\" xmlns:xlink=\"http://www.w3.org/1999/xlink\">\\n    <title>Icon/Menu</title>\\n    <g stroke=\"none\" stroke-width=\"1\" fill=\"none\" fill-rule=\"evenodd\">\\n        <g transform=\"translate(-652.000000, -216.000000)\" fill=\"currentColor\">\\n            <g transform=\"translate(528.000000, 214.000000)\">\\n                <g id=\"Icon/Menu\" transform=\"translate(124.000000, 0.000000)\">\\n                    <path d=\"M16,12 L16,14 L0,14 L0,12 L16,12 Z M16,7 L16,9 L0,9 L0,7 L16,7 Z M16,2 L16,4 L0,4 L0,2 L16,2 Z\" id=\"Menu\"></path>\\n                </g>\\n            </g>\\n        </g>\\n    </g>\\n</svg>\\n\\n                        <span style=\"margin-top: 3px\">Menu</span>\\n                    </button>\\n                    <button\\n                        class=\"nav-bar__menu-button aria-nav-controls-js nav-bar__menu-button--close\"\\n                        data-qa=\"header_hamburger_menu_close\"\\n                        aria-label=\"Close Menu\"\\n                        aria-haspopup=\"menu/dialog\"\\n                        aria-pressed=\"false\"\\n                        aria-controls=\"nav-menu\"\\n                    >\\n                        <svg width=\"16\" height=\"16\" class=\"\" viewBox=\"0 0 16 16\" version=\"1.1\" xmlns=\"http://www.w3.org/2000/svg\" xmlns:xlink=\"http://www.w3.org/1999/xlink\">\\n    <title>Icon/Close</title>\\n    <g id=\"General\" stroke=\"none\" stroke-width=\"1\" fill=\"none\" fill-rule=\"evenodd\">\\n        <g id=\"Branding,-Symbols-&amp;-Icons\" transform=\"translate(-559.000000, -214.000000)\" fill=\"currentColor\">\\n            <g id=\"UI-Icons\" transform=\"translate(528.000000, 214.000000)\">\\n                <g id=\"Icon/Close\" transform=\"translate(31.000000, 0.000000)\">\\n                    <polygon id=\"Close\" points=\"16 1.61142857 14.3885714 0 8 6.38857143 1.61142857 0 0 1.61142857 6.38857143 8 0 14.3885714 1.61142857 16 8 9.61142857 14.3885714 16 16 14.3885714 9.61142857 8\"></polygon>\\n                </g>\\n            </g>\\n        </g>\\n    </g>\\n</svg>\\n\\n                    </button>\\n                </div>\\n                <div class=\"nav-bar__bottom-header\">\\n                    \\n                        <a href=\"/\" aria-label=\"Broadway.com Home\" data-qa=\"header_logo\" class=\"nav-bar__logo-link\">\\n                            <svg xmlns=\"http://www.w3.org/2000/svg\" width=\"116\" height=\"32\" class=\"\" viewBox=\"0 0 109 30\"  fill=\"currentColor\" aria-label=\"Home\" data-qa=\"broadway-logo\">\\n  <g fill-rule=\"evenodd\">\\n    <path d=\"M107.972009,1.02532258 L107.128591,1.48451613 C105.326942,2.69129032 103.740871,3.89032258 102.627618,6.00919355 C101.544884,3.97693548 100.083316,2.74064516 98.1009689,1.46080645 L96.8888889,0.870967742 L96.8888889,27.3919355 L99.2999689,28.2629032 L99.2999689,6.08709677 C100.613667,7.84116851 101.301333,9.98417528 101.253249,12.1741935 L101.253249,28.2614516 L104.155556,29.1290323 L104.155556,11.7396774 C104.162139,9.82694913 104.846961,7.97840314 106.088489,6.52209677 L106.088489,29.1290323 L108.526698,30 L108.526698,0.810967742 M79.9648222,1.81790323 C79.46972,2.49096774 79.4392,3.01596774 79.4392,4.34758065 L79.4392,20.8698387 C79.4392,22.2556452 79.5980978,23.4667742 80.2273911,24.2627419 C80.8010011,25.0727685 81.7073572,25.5839873 82.6980578,25.6562903 C83.8200311,25.7966129 84.6116133,25.6679032 85.2559244,25.1525806 C86.0542889,24.5129032 86.2296578,23.336129 86.2296578,21.738871 L86.2296578,14.7832258 L83.7992,14.3477419 L83.7992,21.7393548 C83.7992,22.5735484 83.6703378,22.9277419 83.4659022,23.1082258 C83.2730377,23.2396728 83.0308423,23.2765199 82.8075422,23.2083871 C82.1065511,23.1212903 81.8822533,22.7903226 81.8822533,21.3048387 L81.8822533,4.34806452 C81.8822533,2.77064516 82.1922978,2.83258065 82.7692711,2.83258065 C83.3869378,2.84612903 83.7992,3.15435484 83.7992,4.78306452 L83.7992,11.6196774 L86.2311111,11.5993548 L86.2311111,4.76274194 C86.2311111,3.54387097 86.328,2.73048387 85.9825911,2.11790323 C85.8297147,1.80628317 85.6223464,1.52443881 85.3702533,1.28564516 C84.6468493,0.667542765 83.7220914,0.335044692 82.77024,0.350806452 C81.8033777,0.350038988 80.8840307,0.769516666 80.2516133,1.5 L79.9648222,1.81790323 Z M65.39564,0.496451613 L65.39564,8.69612903 C65.39564,9.8066129 65.3815911,10.4312903 65.73136,11.0472581 C65.8748899,11.3007572 66.054378,11.5321858 66.2642489,11.7343548 C66.7204034,12.1296958 67.2527546,12.4275847 67.82852,12.6096774 L67.82852,23.7024194 L70.2507422,23.9927419 L70.2507422,12.6653226 C70.8529557,12.5253674 71.4166354,12.2538589 71.9012444,11.8703226 L72.1957867,11.546129 C72.6937956,10.9103226 72.6521333,10.0620968 72.6521333,8.69564516 L72.6521333,0.496451613 L70.2299111,0.496451613 L70.2299111,8.69612903 C70.2635377,9.25928249 70.0914001,9.81548846 69.7454667,10.2614516 C69.5527087,10.4055029 69.3066717,10.4585034 69.0716044,10.4066129 C68.3507511,10.3906452 67.8222222,10.1070968 67.8222222,8.69612903 L67.8222222,0.476129032 L65.39564,0.496451613 Z M52.1005467,18.701129 C51.4911156,17.1256452 50.8700578,15.5908065 50.8700578,13.9137097 L50.8700578,0.971129032 L48.4478356,0.971129032 L48.4478356,13.9137097 C48.4675772,15.5696079 48.1767445,17.21456 47.5903689,18.7635484 C46.9132393,17.2337342 46.543869,15.5858661 46.5032756,13.9137097 L46.5032756,0.971129032 L44.0718489,0.971129032 L44.0718489,14.3482258 C43.9986379,15.9213013 44.225679,17.493929 44.7408667,18.9822581 C44.8377556,19.2725806 44.9641956,19.5832258 45.1177644,19.9301613 C45.7233434,21.243148 46.4742285,22.4842692 47.3563822,23.6303226 L47.60684,23.9690323 L47.8408267,23.6196774 C48.649237,22.4498664 49.3190195,21.1903148 49.8367378,19.8662903 C50.3865201,21.1483562 51.0606936,22.3735591 51.8496044,23.5243548 L52.0806844,23.8630645 L52.3301733,23.5359677 C53.278072,22.2907362 54.0514343,20.9221461 54.6288622,19.4680645 L54.8483156,18.8903226 C55.4073644,17.3322581 55.2203689,15.6624194 55.2203689,13.9132258 L55.2203689,0.951290323 L52.7981467,0.951290323 L52.7981467,13.9137097 C52.8707442,15.539173 52.6344948,17.1638667 52.1005467,18.701129 Z M21.9453333,0.318387097 C21.0659269,0.343481633 20.2292374,0.702750877 19.6059511,1.32290323 C19.4122259,1.49390378 19.236878,1.68461211 19.0827511,1.89193548 C18.5857111,2.64241935 18.4045289,3.44032258 18.4045289,4.8483871 L18.4045289,22.2135484 C18.4045289,23.4745161 18.5537378,24.2753226 18.9030222,24.8917742 C18.999352,25.1971675 19.16327,25.4769865 19.3826222,25.7104839 C20.1488792,26.236344 21.1005504,26.4177845 22.0068578,26.2108065 C22.9384444,26.0322581 23.2828844,25.5817742 23.9446356,24.9696774 C24.1648746,24.7688874 24.3590366,24.5413056 24.5225778,24.2922581 C24.99588,23.5412903 25.1799689,22.7177419 25.1799689,21.3512903 L25.1799689,4.65483871 C25.1799689,3.45048387 25.0297911,2.68596774 24.6776,2.09903226 C24.4833384,1.75983041 24.2332572,1.4557371 23.9378533,1.19951613 C23.2533333,0.60483871 22.9098622,0.290322581 21.9453333,0.318387097 Z M20.8422533,22.0616129 L20.8422533,4.68725806 C20.8422533,3.02080645 21.1847556,2.87322581 21.7491333,2.85435484 L21.7709333,2.85435484 C22.3575956,2.87080645 22.7989244,3.21677419 22.7771244,4.78306452 C22.75048,4.67516129 22.7708267,21.7185484 22.7708267,21.7185484 C22.7708267,23.2509677 22.6540756,23.5543548 21.9545378,23.6695161 L21.9322533,23.6695161 L21.9123911,23.6724194 C21.6292002,23.7233418 21.337174,23.6856566 21.07624,23.5645161 C20.8592089,23.3733871 20.8422533,22.8812903 20.8422533,22.0616129 Z M8.72,0 L8.72,28.0645161 L11.4430622,27.3479032 C11.4430622,27.3479032 11.1601467,21.7195161 11.1601467,20.771129 C11.4183556,20.9559677 11.9546356,21.2104839 12.1963733,21.4330645 C12.8983408,22.0983909 13.4424143,22.9121297 13.7887422,23.8146774 C14.1169062,24.6866215 14.2939995,25.60802 14.3124267,26.5393548 L14.3226,26.8814516 L17.0839333,26.4154839 L17.0742444,26.1532258 C17.0571255,24.5690202 16.6674922,23.011006 15.9367689,21.6048387 C15.503625,20.8100031 14.9371673,20.0952815 14.2620444,19.4917742 C13.908164,19.1779727 13.5324205,18.889667 13.1376489,18.6290323 C13.5622299,18.1158605 13.9555025,17.5776293 14.3153333,17.0172581 C15.4745033,15.1553967 16.0596232,12.9940424 15.9978089,10.8024194 C16.0680848,8.63455986 15.4804117,6.49614046 14.3119422,4.66790323 C13.8193204,3.9295713 13.2450267,3.24899325 12.5999156,2.63903226 C11.8714492,1.95815255 11.0686951,1.36118201 10.20676,0.859354839 C9.82356444,0.634354839 9.43794667,0.429193548 9.05911111,0.25016129 L8.63667556,0.0483870968 L8.72,0 Z M12.1440533,6.47564516 C12.9440127,7.84349373 13.3641011,9.39975582 13.3609778,10.983871 C13.351623,12.5957882 12.9309561,14.1787076 12.1387244,15.5830645 C11.9284756,15.9556452 11.3888044,16.1951613 11.1402844,16.5212903 L11.1402844,5.21806452 C11.4982072,5.61894309 11.832621,6.0388882 12.1440533,6.47564516 Z M0,0.520645161 L0,30 L0.426795556,29.7914516 C0.829929261,29.5933077 1.2225309,29.3744669 1.60302667,29.1358065 C2.31238342,28.6933064 2.97966755,28.1868355 3.59651556,27.6227419 C4.47267993,26.8204408 5.23308779,25.9005311 5.85596444,24.8893548 C6.9509093,23.1312661 7.53772446,21.1049638 7.55152,19.0345161 C7.55831183,17.1180039 6.9627163,15.2476953 5.84869778,13.6872581 L5.42577778,13.0969355 C5.58806667,12.8104839 5.73969778,12.5264516 5.87049778,12.2506452 C6.46025435,11.0497108 6.7613247,9.72789492 6.74976444,8.39032258 C6.7551255,7.09454569 6.45262261,5.81598564 5.86710667,4.65967742 C5.31669069,3.57452468 4.53644659,2.62200354 3.58052889,1.86822581 C2.96519008,1.37738315 2.28714345,0.970581149 1.56427111,0.658548387 C1.17854354,0.490454449 0.782036622,0.348204229 0.377382222,0.232741935 L0,0.126290323 L0,0.520645161 Z M3.14549778,5.5683871 C3.72252923,6.49990269 4.02476994,7.57510906 4.01749778,8.67048387 C4.01619304,9.81811815 3.71387412,10.9453837 3.14065333,11.94 C3.02729333,12.1253226 2.54333333,12.4456452 2.41398667,12.6096774 L2.41398667,5.21806452 C2.54817778,5.38790323 3.03310667,5.38935484 3.14549778,5.5683871 Z M3.16632889,14.8993548 C4.26195103,16.1323376 4.86542499,17.7246562 4.86188444,19.3732258 C4.80403131,21.1336954 4.20755792,22.834199 3.15276444,24.2458065 C3.03552889,24.4103226 2.54720889,24.6208065 2.41253333,24.7833871 L2.41253333,14.3482258 C2.64334801,14.5602 2.89547439,14.7451336 3.16632889,14.8993548 Z M88.4619778,2.34774194 C87.8843442,3.18909249 87.6054902,4.1994443 87.6699111,5.21758065 L87.6699111,22.6093548 C87.6282409,23.493347 87.8310441,24.3717344 88.2560889,25.1482258 C88.4713583,25.5859431 88.7686886,25.9783552 89.1319644,26.3041935 C89.7968895,26.8936549 90.6194491,27.2767029 91.49896,27.4064516 L91.5759867,27.4108065 C92.5213281,27.5963409 93.500973,27.3689787 94.26756,26.786129 C94.4058735,26.6450107 94.5264229,26.4875559 94.6265333,26.3172581 C95.2232228,25.4961909 95.508252,24.4899941 95.4307111,23.4783871 L95.4307111,5.21806452 C95.4666816,4.32412401 95.2501196,3.43810943 94.8057778,2.66129032 C94.6778428,2.35893346 94.5038029,2.07818768 94.2898444,1.82903226 C93.5627408,1.1292173 92.5864834,0.747534616 91.5769556,0.768387097 C90.691914,0.768926053 89.8337174,1.07201287 89.1450444,1.62725806 C88.8859502,1.8356424 88.6561889,2.07798964 88.4619778,2.34774194 Z M90.5945022,5.21806452 C90.5945022,4.34709677 90.5208667,3.79693548 90.7611511,3.56274194 C91.0054029,3.42209527 91.286768,3.35913734 91.5677511,3.38225806 L91.6084444,3.38225806 C92.1733067,3.38225806 92.5254978,3.48725806 92.5254978,5.21806452 L92.5254978,23.478871 C92.5254978,24.0595161 92.5618311,24.3895161 92.3496444,24.6029032 C92.0653846,24.7604906 91.7413767,24.8321083 91.4170889,24.8090323 C90.7495244,24.6962903 90.5945022,24.5951613 90.5945022,23.0443548 L90.5945022,5.21806452 Z M60.2450267,0.344032258 C59.3315067,1.5930711 58.5688764,2.94550295 57.9729822,4.37322581 L57.7205867,5.01435484 C57.1823689,6.57387097 57.15088,8.21951613 57.15088,9.99822581 L57.15088,23.2156452 L59.5731022,23.2156452 L59.5731022,16.4414516 C59.8695822,16.4501613 61.1678933,16.4346774 61.5258978,16.4414516 L61.5258978,23.2108065 L63.94812,23.4793548 L63.94812,10.0006452 C64.0238811,8.33520719 63.8039427,6.66951955 63.29848,5.08064516 C63.3953689,5.38064516 62.0563644,2.14983871 60.7454578,0.344516129 L60.5071111,0.0140322581 L60.2450267,0.344032258 Z M60.4935467,5.27951613 C61.1473261,6.76934065 61.4977633,8.37421251 61.5244444,10.0006452 L61.5244444,14.2258065 C61.1959911,14.2141935 60.5071111,14.1943548 60.5071111,14.1943548 C60.5071111,14.1943548 59.8981644,14.1687097 59.5760089,14.1537097 C59.5764933,13.6543548 59.5929644,10.0006452 59.5929644,10.0006452 C59.5828439,8.38307962 59.8887548,6.77956531 60.4935467,5.27951613 Z M30.2608222,0.347419355 C29.387918,1.68852531 28.703315,3.14288697 28.2261556,4.66983871 L27.9776356,5.37096774 C27.4066622,7.14817632 27.1219752,9.00469929 27.1342178,10.871129 L27.1342178,25.1453226 L29.5511111,25.1453226 L29.5511111,17.3917742 C29.8722978,17.3685484 30.5258133,17.3651613 30.5258133,17.3651613 C30.8429163,17.3908251 31.1611569,17.3997085 31.4792,17.3917742 L31.4792,24.3483871 L33.9212844,24.1495161 L33.9212844,10.3064516 C33.9605055,8.44252959 33.7154777,6.58350145 33.1946178,4.79322581 C32.5650565,3.21637234 31.7425149,1.72341043 30.7457511,0.348387097 L30.5040133,0 L30.2608222,0.347419355 Z M30.5064356,5.53064516 C31.0877689,7.03935484 31.2621689,8.71548387 31.4787156,10.4351613 C31.6400356,10.4032258 31.5092356,14.5577419 31.4787156,15.0522581 C31.1589822,15.078871 30.4788222,15.2085484 30.4788222,15.2085484 C30.4788222,15.2085484 29.8863467,15.1930645 29.5501324,15.2182258 L29.5501422,10.4351613 C29.5480748,8.75390984 29.8725439,7.08812638 30.5064356,5.53064516 Z M35.8401689,23.9133871 L36.1041911,23.8412903 C36.4738222,23.5969355 36.44088,23.3351613 36.8129333,23.0414516 C37.7104588,22.3298712 38.5335304,21.5293356 39.2695511,20.6520968 C39.8549656,19.95111 40.3892284,19.2090405 40.8682178,18.4316129 C41.0968756,18.0498387 41.3090622,17.6574194 41.5004178,17.2654839 C42.3511922,15.5681105 42.8080377,13.7010487 42.837,11.8030645 C42.8165669,9.91751268 42.3583782,8.06241361 41.49848,6.38370968 C41.3047022,6 41.0934844,5.62209677 40.8687022,5.26016129 C40.4035581,4.49701068 39.8666249,3.77989492 39.2651911,3.11854839 C38.5316941,2.30334917 37.7045283,1.57737036 36.8008222,0.955645161 C36.4302222,0.702580645 36.2147445,0.46443828 35.8485045,0.255889893 L35.8401689,23.9133871 Z M37.7866667,5.69370968 C38.05408,6.07741935 38.5743733,6.45919355 38.7846222,6.84387097 C39.6900189,8.31853215 40.1800751,10.0099661 40.2030756,11.7396774 C40.1670451,13.5731502 39.6791979,15.3695002 38.7826844,16.9698387 C38.5830933,17.3569355 38.0870222,17.8408065 37.8031378,18.2612903 C37.8016844,16.7419355 37.7866667,7.17919355 37.7866667,5.69370968 Z\"/>\\n    <g transform=\"translate(71.698 20.806)\">\\n      <ellipse cx=\"3.149\" cy=\"3.145\" fill=\"#B62825\" rx=\"3.149\" ry=\"3.145\"/>\\n      <path fill=\"#FFF\" d=\"M6.27817299,3.49809825 L4.5624831,3.49809825 L4.36938039,0.967741935 L3.19475078,3.49953053 L0.968888889,3.49953053 L2.47085113,4.58042236 L1.74559557,5.96151068 C1.91061051,6.0436964 2.0838641,6.11183961 2.26378762,6.16437348 L3.40433786,5.42833045 L4.17310964,6.12020429 C4.39200134,6.0450404 4.59998719,5.94645479 4.79406698,5.82744402 L4.67740276,4.59617741 L6.2326075,3.7848309 C6.25207398,3.6907223 6.26733093,3.59507639 6.27817299,3.49809825 Z\"/>\\n    </g>\\n  </g>\\n</svg>\\n\\n                        </a>\\n                    \\n                    <ul class=\"nav-bar__bottom__body\">\\n                        <li>\\n                            <a class=\"nav-bar__bottom-link\" href=\"/shows/tickets/\" data-qa=\"shows-header\">\\n                                Shows\\n                            </a>\\n                        </li>\\n                        <li>\\n                            <a class=\"nav-bar__bottom-link\" href=\"/shows/find-by-date/\" data-qa=\"tbd-header\">\\n                                Tickets\\n                            </a>\\n                        </li>\\n                        <li>\\n                            <a class=\"nav-bar__bottom-link\" href=\"/buzz/\" data-qa=\"buzz-header\">\\n                                News & Features\\n                            </a>\\n                        </li>\\n                    </ul>\\n                </div>\\n                <div id=\"navsearch--app\"></div>\\n            </div>\\n        </div>\\n        <div class=\"nav-bar-flyout-menu-container\" role=\"menu\">\\n            <ul class=\"nav-flyout-menu-top\">\\n                <li>\\n                    <a class=\"nav-flyout-menu-link\" data-qa=\"header_home\" role=\"menuitem\" href=\"/\">\\n                        Home\\n                    </a>\\n                </li>\\n                <li>\\n                    <a class=\"nav-flyout-menu-link\" data-qa=\"header_shows\" role=\"menuitem\" href=\"/shows/tickets/\">\\n                        Shows\\n                    </a>\\n                </li>\\n                <li>\\n                    <a class=\"nav-flyout-menu-link\" href=\"/shows/find-by-date/\" data-qa=\"tbd-header\">\\n                        Tickets\\n                    </a>\\n                </li>\\n                <li>\\n                    <a class=\"nav-flyout-menu-link\" data-qa=\"header_buzz\" role=\"menuitem\" href=\"/buzz/\">\\n                        News & Features\\n                    </a>\\n                </li>\\n            </ul>\\n            <div class=\"container\">\\n                <div class=\"nav-flyout-menu-divider\"></div>\\n            </div>\\n            <ul class=\"nav-flyout-menu-bottom\">\\n                <li>\\n                    <a class=\"nav-flyout-menu-link\" href=\"/the-show/\" rel=\"nofollow\">\\n                        The Broadway Show\\n                    </a>\\n                </li>\\n                <li>\\n                    <a class=\"nav-flyout-menu-link\" href=\"/gift-certificates/\">\\n                        Gift Cards\\n                    </a>\\n                </li>\\n                <li>\\n                    <a class=\"nav-flyout-menu-link\" href=\"https://announcements.broadway.com/preference-center\" data-qa=\"Newsletters_button\">\\n                        Newsletters\\n                    </a>\\n                </li>\\n                <li>\\n                    <a class=\"nav-flyout-menu-link\" href=\"https://groups.broadway.com\">\\n                        Group Sales\\n                    </a>\\n                </li>\\n                <li>\\n                    <a class=\"nav-flyout-menu-link\" href=\"/contact-us/\" data-qa=\"Contact_link\">\\n                        Info & Support\\n                    </a>\\n                </li>\\n            </ul>\\n            <div class=\"container\">\\n                <div class=\"nav-flyout-menu-divider\"></div>\\n            </div>\\n            <div class=\"nav-flyout-mastercard-promotion\">\\n                \\n<script type=\"text/javascript\">\\n    googletag.cmd.push(function() { googletag.display(\\'dfp-nav-mastercard-mobile\\'); });\\n</script>\\n<div id=\"dfp-nav-mastercard-mobile\" >\\n</div>\\n\\n\\n            </div>\\n        </div>\\n    </nav>\\n</header>\\n\\n            \\n\\n            \\n    <div class=\"marquee sk-marquee hidden-sm-down\">\\n        <div class=\"sk-marquee__inner\">\\n            <div class=\"container\">\\n                <div class=\"flex evenly\">\\n                    <div id=\"marquee-ad-left\" class=\"marquee__item dfp-responsive-ad dfp-responsive-ad__marquee dfp-ad_border\">\\n                        <div id=\"dfp-marquee-left\" class=\"pvl\" style=\"display:none\">\\n                            <script>        \\n                            googletag.cmd.push(function() { googletag.display(\\'dfp-marquee-left\\'); });      \\n                            </script>\\n                        </div>\\n                    </div>\\n                    <div id=\"marquee-ad-center\" class=\"marquee__item dfp-responsive-ad dfp-responsive-ad__marquee dfp-ad_border\">\\n                        <div id=\"dfp-marquee-center\" class=\"pvl\" style=\"display:none\">\\n                            <script>\\n                                googletag.cmd.push(function() { googletag.display(\\'dfp-marquee-center\\'); });    \\n                            </script>\\n                        </div>\\n                    </div>\\n                    <div id=\"marquee-ad-right\" class=\"marquee__item dfp-responsive-ad dfp-responsive-ad__marquee dfp-ad_border\">\\n                        <div id=\"dfp-marquee-right\" class=\"pvl\" style=\"display:none\">\\n                            <script>\\n                                googletag.cmd.push(function() { googletag.display(\\'dfp-marquee-right\\'); });     \\n                            </script>\\n                        </div>\\n\\n                    </div>\\n                </div>\\n            </div>\\n        </div>\\n    </div>\\n\\n\\n            <div id=\"skiplink-target\" class=\"visually-hidden\" tabindex=-1></div>\\n\\n            \\n<div class=\"rsp__wrapper\">\\n\\t\\n\\t\\t\\n\\t\\n\\n    \\n    \\n\\n\\n\\n<div class=\"rspHeroHeader\">\\n    \\n        <div class=\"rspHeroHeader__bannerWrapper\">\\n            <div class=\"rspHeroHeader__bannerContainer\">\\n                <picture>\\n                   <source media=\"(max-width: 543px)\"\\n                        data-srcset=\"https://imaging.broadway.com/images/regular-43/w544/h408/000000/120362-27.jpg 1x,\\n                            https://imaging.broadway.com/images/regular-43/w1088/h816/000000/120362-27.jpg 2x\"\\n                        />\\n                   <source media=\"(min-width: 544px)\"\\n                        data-srcset=\"https://imaging.broadway.com/images/hero-72/w1400/h400/000000/120362-27.jpg 1x,\\n                            https://imaging.broadway.com/images/hero-72/w2800/h800/000000/120362-27.jpg 2x\"\\n                        />\\n                   <img class=\"rspHeroHeader__banner lazyload\"\\n                        alt=\"\"\\n                        translate=\"no\"\\n                        src=\"data:image/gif;base64,R0lGODlhAQABAAAAACH5BAEKAAEALAAAAAABAAEAAAICTAEAOw==\"\\n                        data-srcset=\"https://imaging.broadway.com/images/hero-72/w1400/h400/000000/120362-27.jpg 1x,\\n                            https://imaging.broadway.com/images/hero-72/w2800/h800/000000/120362-27.jpg 2x\"\\n                    />\\n                </picture>\\n            </div>\\n        </div>\\n    \\n\\n    <div class=\"rspTemplate__contentWrapper\">\\n        <div class=\"rspHeroHeader__content \">\\n            <div class=\"rspHeroHeader__infoCell\">\\n                \\n                    \\n                        <div class=\"rspHeroHeader__posterContainer\">\\n                            <img\\n                                class=\"rspHeroHeader__poster lazyload\"\\n                                src=\"data:image/gif;base64,R0lGODlhAQABAAAAACH5BAEKAAEALAAAAAABAAEAAAICTAEAOw==\"\\n                                data-src=\"https://imaging.broadway.com/images/poster-178275/w230/222222/96902-11.jpg\"\\n                                alt=\"Hamilton Show Poster\"\\n                                translate=\"no\"\\n                            />\\n                        </div>\\n                    \\n                \\n\\n                <div class=\"\">\\n                    <h1 class=\"rspHeroHeader__title\" translate=\"no\" data-qa=\"hero-header-title\">\\n                        Hamilton <span class=\"rspHeroHeader__title--unbold\">Tickets</span>\\n                    </h1>\\n\\n                    \\n                        <a class=\"rspHeroHeader__venue\" data-qa=\"hero-header-theater-link\" href=\"/venues/theaters/richard-rodgers-theatre/\">\\n                            <svg height=\"16\" viewBox=\"0 0 11 16\" width=\"11\" xmlns=\"http://www.w3.org/2000/svg\"><g fill=\"none\" fill-rule=\"evenodd\" transform=\"translate(1 1)\"><path d=\"m4.5 0c-2.48785714 0-4.5 2.191-4.5 4.9 0 3.675 4.5 9.1 4.5 9.1s4.5-5.425 4.5-9.1c0-2.709-2.01214286-4.9-4.5-4.9z\" stroke=\"currentColor\"/><path d=\"m4.5 6c-.828 0-1.5-.672-1.5-1.5s.672-1.5 1.5-1.5 1.5.672 1.5 1.5-.672 1.5-1.5 1.5z\" fill=\"currentColor\"/></g></svg>\\n                            Richard Rodgers Theatre\\n                        </a>\\n                    \\n\\n                    \\n                        <div class=\"rspHeroHeader__shortDesc\" data-qa=\"hero-header-desc\">\\n                            <p>A fresh look at the era of the Founding Fathers.</p>\\n                        </div>\\n                    \\n                </div>\\n            </div>\\n            \\n                <div class=\"rspHeroHeader__ctaCell\">\\n                    <div class=\"rspButtonBox__container\">\\n                        <div class=\"rspButtonBox__copyBox\">\\n                            \\n                                <span class=\"rspButtonBox__smallText\" data-qa=\"hero-header-tickets-starting-at\">\\n                                    Tickets starting at\\n                                </span>\\n                                <span class=\"rspButtonBox__ticketValue\">\\n                                    \\n                                    <sup>$</sup><span>199</span><sup>.00</sup>\\n                                </span>\\n                            \\n                        </div>\\n                        <div>\\n                            <a\\n                               id=\"buy-tickets-js\"\\n                               class=\"btn btn--blue rsp__fullWidthButton\"\\n                               href=\"https://checkout.broadway.com/hamilton-broadway/12333/calendar/\"\\n                               data-qa=\"hero-header-buy-tickets\"\\n                            >\\n                                Buy Tickets\\n                            </a>\\n                        </div>\\n                    </div>\\n                </div>\\n            \\n        </div>\\n    </div>\\n</div>\\n\\n\\n\\n    \\n    \\n\\n\\n\\n\\n\\n\\n\\n\\n    <div class=\"rspTemplate__contentWrapper\">\\n        \\n\\n    \\n\\n\\n    <div class=\"rspCalendar__container\" data-qa=\"rsp-calendar\">\\n        <div\\n            class=\"rspCalendar__grid\"\\n            data-qa=\"show-calendar\"\\n        >\\n            \\n                <div class=\"rspCalendar__cell\">\\n                    <div class=\"rspCalendar__dateCopy\">\\n                        Tue\\n                        <br />\\n                        <strong>Feb 1</strong>\\n                    </div>\\n                    <div class=\"rspCalendar__cellGrid\">\\n                        \\n\\n                            <script type=\"application/ld+json\">{\"@context\": \"http://schema.org\", \"@type\": \"TheaterEvent\", \"name\": \"Hamilton - Broadway Tickets\", \"description\": \"A fresh look at the era of the Founding Fathers.\", \"image\": \"https://imaging.broadway.com/images/widescreen-169/w1920/120362-27.jpg\", \"location\": {\"@type\": \"Place\", \"name\": \"Richard Rodgers Theatre\", \"address\": {\"@type\": \"PostalAddress\", \"streetAddress\": \"226 West 46th Street\", \"AddressCountry\": \"US\", \"addressLocality\": \"New York\", \"addressRegion\": \"NY\", \"postalCode\": \"10036\"}, \"url\": \"https://www.broadway.com/venues/theaters/richard-rodgers-theatre/\"}, \"offers\": {\"@type\": \"Offer\", \"url\": \"https://www.broadway.com/shows/hamilton-broadway/\", \"price\": \"199.00\", \"priceCurrency\": \"USD\", \"availability\": \"http://schema.org/InStock\", \"validFrom\": \"2015-08-06\"}, \"startDate\": \"2022-02-01T19:00:00-05:00\", \"endDate\": \"2022-02-01\", \"performers\": {\"@type\": \"TheaterGroup\", \"name\": \"Hamilton - New York\", \"url\": \"https://www.broadway.com/shows/hamilton-broadway/\"}, \"eventAttendanceMode\": \"OfflineEventAttendanceMode\", \"eventStatus\": \"https://schema.org/EventScheduled\"}</script>\\n\\n                            \\n                                <div class=\"rspCalendar__unavailableButton\">\\n                                    7:00pm\\n                                    <br />\\n                                    \\n                                        Unavailable\\n                                    \\n                                </div>\\n                            \\n                        \\n                    </div>\\n                </div>\\n            \\n                <div class=\"rspCalendar__cell\">\\n                    <div class=\"rspCalendar__dateCopy\">\\n                        Wed\\n                        <br />\\n                        <strong>Feb 2</strong>\\n                    </div>\\n                    <div class=\"rspCalendar__cellGrid\">\\n                        \\n\\n                            <script type=\"application/ld+json\">{\"@context\": \"http://schema.org\", \"@type\": \"TheaterEvent\", \"name\": \"Hamilton - Broadway Tickets\", \"description\": \"A fresh look at the era of the Founding Fathers.\", \"image\": \"https://imaging.broadway.com/images/widescreen-169/w1920/120362-27.jpg\", \"location\": {\"@type\": \"Place\", \"name\": \"Richard Rodgers Theatre\", \"address\": {\"@type\": \"PostalAddress\", \"streetAddress\": \"226 West 46th Street\", \"AddressCountry\": \"US\", \"addressLocality\": \"New York\", \"addressRegion\": \"NY\", \"postalCode\": \"10036\"}, \"url\": \"https://www.broadway.com/venues/theaters/richard-rodgers-theatre/\"}, \"offers\": {\"@type\": \"Offer\", \"url\": \"https://www.broadway.com/shows/hamilton-broadway/\", \"price\": \"199.00\", \"priceCurrency\": \"USD\", \"availability\": \"http://schema.org/InStock\", \"validFrom\": \"2015-08-06\"}, \"startDate\": \"2022-02-02T14:00:00-05:00\", \"endDate\": \"2022-02-02\", \"performers\": {\"@type\": \"TheaterGroup\", \"name\": \"Hamilton - New York\", \"url\": \"https://www.broadway.com/shows/hamilton-broadway/\"}, \"eventAttendanceMode\": \"OfflineEventAttendanceMode\", \"eventStatus\": \"https://schema.org/EventScheduled\"}</script>\\n\\n                            \\n                                <div class=\"rspCalendar__unavailableButton\">\\n                                    2:00pm\\n                                    <br />\\n                                    \\n                                        Unavailable\\n                                    \\n                                </div>\\n                            \\n                        \\n\\n                            <script type=\"application/ld+json\">{\"@context\": \"http://schema.org\", \"@type\": \"TheaterEvent\", \"name\": \"Hamilton - Broadway Tickets\", \"description\": \"A fresh look at the era of the Founding Fathers.\", \"image\": \"https://imaging.broadway.com/images/widescreen-169/w1920/120362-27.jpg\", \"location\": {\"@type\": \"Place\", \"name\": \"Richard Rodgers Theatre\", \"address\": {\"@type\": \"PostalAddress\", \"streetAddress\": \"226 West 46th Street\", \"AddressCountry\": \"US\", \"addressLocality\": \"New York\", \"addressRegion\": \"NY\", \"postalCode\": \"10036\"}, \"url\": \"https://www.broadway.com/venues/theaters/richard-rodgers-theatre/\"}, \"offers\": {\"@type\": \"Offer\", \"url\": \"https://www.broadway.com/shows/hamilton-broadway/\", \"price\": \"199.00\", \"priceCurrency\": \"USD\", \"availability\": \"http://schema.org/InStock\", \"validFrom\": \"2015-08-06\"}, \"startDate\": \"2022-02-02T20:00:00-05:00\", \"endDate\": \"2022-02-02\", \"performers\": {\"@type\": \"TheaterGroup\", \"name\": \"Hamilton - New York\", \"url\": \"https://www.broadway.com/shows/hamilton-broadway/\"}, \"eventAttendanceMode\": \"OfflineEventAttendanceMode\", \"eventStatus\": \"https://schema.org/EventScheduled\"}</script>\\n\\n                            \\n                                <div class=\"rspCalendar__unavailableButton\">\\n                                    8:00pm\\n                                    <br />\\n                                    \\n                                        Unavailable\\n                                    \\n                                </div>\\n                            \\n                        \\n                    </div>\\n                </div>\\n            \\n                <div class=\"rspCalendar__cell\">\\n                    <div class=\"rspCalendar__dateCopy\">\\n                        Thu\\n                        <br />\\n                        <strong>Feb 3</strong>\\n                    </div>\\n                    <div class=\"rspCalendar__cellGrid\">\\n                        \\n\\n                            <script type=\"application/ld+json\">{\"@context\": \"http://schema.org\", \"@type\": \"TheaterEvent\", \"name\": \"Hamilton - Broadway Tickets\", \"description\": \"A fresh look at the era of the Founding Fathers.\", \"image\": \"https://imaging.broadway.com/images/widescreen-169/w1920/120362-27.jpg\", \"location\": {\"@type\": \"Place\", \"name\": \"Richard Rodgers Theatre\", \"address\": {\"@type\": \"PostalAddress\", \"streetAddress\": \"226 West 46th Street\", \"AddressCountry\": \"US\", \"addressLocality\": \"New York\", \"addressRegion\": \"NY\", \"postalCode\": \"10036\"}, \"url\": \"https://www.broadway.com/venues/theaters/richard-rodgers-theatre/\"}, \"offers\": {\"@type\": \"Offer\", \"url\": \"https://www.broadway.com/shows/hamilton-broadway/\", \"price\": \"199.00\", \"priceCurrency\": \"USD\", \"availability\": \"http://schema.org/InStock\", \"validFrom\": \"2015-08-06\"}, \"startDate\": \"2022-02-03T19:00:00-05:00\", \"endDate\": \"2022-02-03\", \"performers\": {\"@type\": \"TheaterGroup\", \"name\": \"Hamilton - New York\", \"url\": \"https://www.broadway.com/shows/hamilton-broadway/\"}, \"eventAttendanceMode\": \"OfflineEventAttendanceMode\", \"eventStatus\": \"https://schema.org/EventScheduled\"}</script>\\n\\n                            \\n                                <div class=\"rspCalendar__unavailableButton\">\\n                                    7:00pm\\n                                    <br />\\n                                    \\n                                        Unavailable\\n                                    \\n                                </div>\\n                            \\n                        \\n                    </div>\\n                </div>\\n            \\n                <div class=\"rspCalendar__cell\">\\n                    <div class=\"rspCalendar__dateCopy\">\\n                        Fri\\n                        <br />\\n                        <strong>Feb 4</strong>\\n                    </div>\\n                    <div class=\"rspCalendar__cellGrid\">\\n                        \\n\\n                            <script type=\"application/ld+json\">{\"@context\": \"http://schema.org\", \"@type\": \"TheaterEvent\", \"name\": \"Hamilton - Broadway Tickets\", \"description\": \"A fresh look at the era of the Founding Fathers.\", \"image\": \"https://imaging.broadway.com/images/widescreen-169/w1920/120362-27.jpg\", \"location\": {\"@type\": \"Place\", \"name\": \"Richard Rodgers Theatre\", \"address\": {\"@type\": \"PostalAddress\", \"streetAddress\": \"226 West 46th Street\", \"AddressCountry\": \"US\", \"addressLocality\": \"New York\", \"addressRegion\": \"NY\", \"postalCode\": \"10036\"}, \"url\": \"https://www.broadway.com/venues/theaters/richard-rodgers-theatre/\"}, \"offers\": {\"@type\": \"Offer\", \"url\": \"https://www.broadway.com/shows/hamilton-broadway/\", \"price\": \"199.00\", \"priceCurrency\": \"USD\", \"availability\": \"http://schema.org/InStock\", \"validFrom\": \"2015-08-06\"}, \"startDate\": \"2022-02-04T20:00:00-05:00\", \"endDate\": \"2022-02-04\", \"performers\": {\"@type\": \"TheaterGroup\", \"name\": \"Hamilton - New York\", \"url\": \"https://www.broadway.com/shows/hamilton-broadway/\"}, \"eventAttendanceMode\": \"OfflineEventAttendanceMode\", \"eventStatus\": \"https://schema.org/EventScheduled\"}</script>\\n\\n                            \\n                                <div class=\"rspCalendar__unavailableButton\">\\n                                    8:00pm\\n                                    <br />\\n                                    \\n                                        Unavailable\\n                                    \\n                                </div>\\n                            \\n                        \\n                    </div>\\n                </div>\\n            \\n                <div class=\"rspCalendar__cell\">\\n                    <div class=\"rspCalendar__dateCopy\">\\n                        Sat\\n                        <br />\\n                        <strong>Feb 5</strong>\\n                    </div>\\n                    <div class=\"rspCalendar__cellGrid\">\\n                        \\n\\n                            <script type=\"application/ld+json\">{\"@context\": \"http://schema.org\", \"@type\": \"TheaterEvent\", \"name\": \"Hamilton - Broadway Tickets\", \"description\": \"A fresh look at the era of the Founding Fathers.\", \"image\": \"https://imaging.broadway.com/images/widescreen-169/w1920/120362-27.jpg\", \"location\": {\"@type\": \"Place\", \"name\": \"Richard Rodgers Theatre\", \"address\": {\"@type\": \"PostalAddress\", \"streetAddress\": \"226 West 46th Street\", \"AddressCountry\": \"US\", \"addressLocality\": \"New York\", \"addressRegion\": \"NY\", \"postalCode\": \"10036\"}, \"url\": \"https://www.broadway.com/venues/theaters/richard-rodgers-theatre/\"}, \"offers\": {\"@type\": \"Offer\", \"url\": \"https://www.broadway.com/shows/hamilton-broadway/\", \"price\": \"199.00\", \"priceCurrency\": \"USD\", \"availability\": \"http://schema.org/InStock\", \"validFrom\": \"2015-08-06\"}, \"startDate\": \"2022-02-05T14:00:00-05:00\", \"endDate\": \"2022-02-05\", \"performers\": {\"@type\": \"TheaterGroup\", \"name\": \"Hamilton - New York\", \"url\": \"https://www.broadway.com/shows/hamilton-broadway/\"}, \"eventAttendanceMode\": \"OfflineEventAttendanceMode\", \"eventStatus\": \"https://schema.org/EventScheduled\"}</script>\\n\\n                            \\n                                <div class=\"rspCalendar__unavailableButton\">\\n                                    2:00pm\\n                                    <br />\\n                                    \\n                                        Unavailable\\n                                    \\n                                </div>\\n                            \\n                        \\n\\n                            <script type=\"application/ld+json\">{\"@context\": \"http://schema.org\", \"@type\": \"TheaterEvent\", \"name\": \"Hamilton - Broadway Tickets\", \"description\": \"A fresh look at the era of the Founding Fathers.\", \"image\": \"https://imaging.broadway.com/images/widescreen-169/w1920/120362-27.jpg\", \"location\": {\"@type\": \"Place\", \"name\": \"Richard Rodgers Theatre\", \"address\": {\"@type\": \"PostalAddress\", \"streetAddress\": \"226 West 46th Street\", \"AddressCountry\": \"US\", \"addressLocality\": \"New York\", \"addressRegion\": \"NY\", \"postalCode\": \"10036\"}, \"url\": \"https://www.broadway.com/venues/theaters/richard-rodgers-theatre/\"}, \"offers\": {\"@type\": \"Offer\", \"url\": \"https://www.broadway.com/shows/hamilton-broadway/\", \"price\": \"199.00\", \"priceCurrency\": \"USD\", \"availability\": \"http://schema.org/InStock\", \"validFrom\": \"2015-08-06\"}, \"startDate\": \"2022-02-05T20:00:00-05:00\", \"endDate\": \"2022-02-05\", \"performers\": {\"@type\": \"TheaterGroup\", \"name\": \"Hamilton - New York\", \"url\": \"https://www.broadway.com/shows/hamilton-broadway/\"}, \"eventAttendanceMode\": \"OfflineEventAttendanceMode\", \"eventStatus\": \"https://schema.org/EventScheduled\"}</script>\\n\\n                            \\n                                <div class=\"rspCalendar__unavailableButton\">\\n                                    8:00pm\\n                                    <br />\\n                                    \\n                                        Unavailable\\n                                    \\n                                </div>\\n                            \\n                        \\n                    </div>\\n                </div>\\n            \\n                <div class=\"rspCalendar__cell\">\\n                    <div class=\"rspCalendar__dateCopy\">\\n                        Sun\\n                        <br />\\n                        <strong>Feb 6</strong>\\n                    </div>\\n                    <div class=\"rspCalendar__cellGrid\">\\n                        \\n\\n                            <script type=\"application/ld+json\">{\"@context\": \"http://schema.org\", \"@type\": \"TheaterEvent\", \"name\": \"Hamilton - Broadway Tickets\", \"description\": \"A fresh look at the era of the Founding Fathers.\", \"image\": \"https://imaging.broadway.com/images/widescreen-169/w1920/120362-27.jpg\", \"location\": {\"@type\": \"Place\", \"name\": \"Richard Rodgers Theatre\", \"address\": {\"@type\": \"PostalAddress\", \"streetAddress\": \"226 West 46th Street\", \"AddressCountry\": \"US\", \"addressLocality\": \"New York\", \"addressRegion\": \"NY\", \"postalCode\": \"10036\"}, \"url\": \"https://www.broadway.com/venues/theaters/richard-rodgers-theatre/\"}, \"offers\": {\"@type\": \"Offer\", \"url\": \"https://www.broadway.com/shows/hamilton-broadway/\", \"price\": \"199.00\", \"priceCurrency\": \"USD\", \"availability\": \"http://schema.org/InStock\", \"validFrom\": \"2015-08-06\"}, \"startDate\": \"2022-02-06T15:00:00-05:00\", \"endDate\": \"2022-02-06\", \"performers\": {\"@type\": \"TheaterGroup\", \"name\": \"Hamilton - New York\", \"url\": \"https://www.broadway.com/shows/hamilton-broadway/\"}, \"eventAttendanceMode\": \"OfflineEventAttendanceMode\", \"eventStatus\": \"https://schema.org/EventScheduled\"}</script>\\n\\n                            \\n                                <a\\n                                    href=\"/tickets/performance/21646117\"\\n                                    class=\"btn btn--snow rspCalendar__button toCheckout-js\"\\n                                >\\n                                    3:00pm\\n                                </a>\\n                            \\n                        \\n                    </div>\\n                </div>\\n            \\n                <div class=\"rspCalendar__cell\">\\n                    <div class=\"rspCalendar__dateCopy\">\\n                        Mon\\n                        <br />\\n                        <strong>Feb 7</strong>\\n                    </div>\\n                    <div class=\"rspCalendar__cellGrid\">\\n                        \\n                            <p class=\"rspCalendar__noPerformances\">\\n                                No Performances\\n                            </p>\\n                        \\n                    </div>\\n                </div>\\n            \\n        </div>\\n\\n        <a href=\"/tickets/show/7991\" data-qa=\"rsp-btn-view-calendar\" class=\"btn btn--snow block full-width rspCalendar__button font-16 lh-1-2\">\\n            View Calendar\\n        </a>\\n\\n    </div>\\n\\n\\n\\n    \\n        \\n    \\n\\n    <div class=\"rspOverview__grid\">\\n        \\n         \\n            <div class=\"rspOverview__sidebar\">\\n                \\n                    \\n                        <div class=\"rspOverview__venue\">\\n                            <div class=\"rspOverview__venueInfo\">\\n                                <div>\\n                                    <a\\n                                        class=\"block lh-norm rspOverview__venueName\"\\n                                        data-qa=\"show-theater-link\"\\n                                        href=\"/venues/theaters/richard-rodgers-theatre/\"\\n                                        translate=\"no\"\\n                                    >\\n                                        Richard Rodgers Theatre\\n                                    </a>\\n                                    <p class=\"lh-norm font-weight-normal mts\">\\n                                    226 West 46th Street<br />\\n                                    \\n                                    New York, NY 10036\\n                                    </p>\\n                                </div>\\n                                \\n                                    <div\\n                                        class=\"inline-block rspOverview__venueSeatmap mrn ptn\"\\n                                    >\\n                                        <a\\n                                            id=\"view-seatmap-js\"\\n                                            class=\"btn btn--snow rspCalendar__button\"\\n                                            data-show-title=\"Hamilton\"\\n                                            href=\"https://media.broadway.com/series/seatmap/theater-richardrodgers_DUnizTH.pdf\"\\n                                            target=\"_blank\"\\n                                        >\\n                                            View Seat Map\\n                                        </a>\\n                                    </div>\\n                                \\n                            </div>\\n                        </div>\\n                    \\n                \\n\\n                \\n                    \\n                        <div>\\n                            <a\\n                                data-trigger=\"modal\"\\n                                data-target=\"trailer-modal\"\\n                                data-qa=\"show-overview-video-modal\"\\n                                class=\"rsp__mediaTile--shadowed\"\\n                                href=\"#\"\\n                            >\\n                                <img\\n                                    alt=\"Learn About Lin-Manuel Miranda&#39;s Revolutionary Hit Hamilton\"\\n                                    class=\"rsp__mediaTileImg lazyload\"\\n                                    src=\"data:image/gif;base64,R0lGODlhAQABAAAAACH5BAEKAAEALAAAAAABAAEAAAICTAEAOw==\"\\n                                    data-srcset=\"\\n                                    \\n                                        https://imaging.broadway.com/images/regular-43/w262/h197/93674-11.png 1x,\\n                                        https://imaging.broadway.com/images/regular-43/w524/h394/93674-11.png 2x\\n                                    \"\\n                                >\\n                                <img\\n                                    class=\"rsp__mediaTileOverlay\"\\n                                    src=\"https://static.broadway.com/img/responsive/icons/video.c01a5d30b134.svg\"\\n                                    alt=\"\"\\n                                >\\n                            </a>\\n                            <a\\n                                data-qa=\"show-overview-all-videos-link\"\\n                                href=\"/shows/hamilton-broadway/videos/\"\\n                                class=\"rspOverview__sidebarLink\"\\n                            >\\n                                <h2>View All Videos</h2>\\n                                <svg xmlns=\"http://www.w3.org/2000/svg\" aria-hidden=\"true\" class=\"mls\" width=\"5\" height=\"9\" viewBox=\"0 0 12 21\">\\n                                    <use xlink:href=\"#svg-icon-chevron\"/>\\n                                </svg>\\n                            </a>\\n                            <div id=\"trailer-modal\" tabindex=\"-1\" role=\"dialog\" aria-hidden=\"true\">\\n                                <div class=\"rspOverview__modal modal__container\">\\n                                    <div class=\"dismiss__header dismiss__header--transparent\">\\n                                        <button data-close=\"modal\" class=\"dismiss__icon\" aria-label=\"Close\">\\n                                            <img src=\"https://static.broadway.com/img/responsive/icons/close.43ce688c7eba.svg\" />\\n                                        </button>\\n                                    </div>\\n                                    \\n\\n\\n\\n\\n\\n<!-- Start of Brightcove Player -->\\n<div class=\"media-modal__canvas-video\">\\n    <video\\n        id=\"bcpsVideo\"\\n        data-account=\"1372165866\"\\n        data-player=\"Y5OdNCkJa\"\\n        data-embed=\"default\"\\n        data-video-id=\"5584557267001\"\\n        data-application-id\\n        class=\"video-js media-modal__video\"\\n        controls\\n        playsinline\\n        style=\"width: 100%;\">\\n    </video>\\n    <script src=\"https://players.brightcove.net/1372165866/Y5OdNCkJa_default/index.min.js\"></script>\\n</div>\\n<!-- end of Brightcove Player -->\\n\\n                                </div>\\n                            </div>\\n                        </div>\\n                    \\n                \\n\\n                \\n                    \\n                        <div>\\n                            \\n                            <a\\n                                id=\"lightGallery\"\\n                                class=\"rsp__mediaTile--shadowed\"\\n                                href=\"/photos/gallery/133/show-photos-hamilton/120361/\"\\n                                data-qa=\"photos_lightgallery_link\"\\n                            >\\n                                <img\\n                                    alt=\"Jin Ha as Aaron Burr in Hamilton.\"\\n                                    class=\"rsp__mediaTileImg lazyload\"\\n                                    src=\"data:image/gif;base64,R0lGODlhAQABAAAAACH5BAEKAAEALAAAAAABAAEAAAICTAEAOw==\"\\n                                    data-srcset=\"https://imaging.broadway.com/images/regular-43/w262/h197/120361-15.jpg 1x,\\n                                                 https://imaging.broadway.com/images/regular-43/w524/h394/120361-15.jpg 2x\"\\n                                >\\n                                <img\\n                                    class=\"rsp__mediaTileOverlay\"\\n                                    alt=\"\"\\n                                    src=\"https://static.broadway.com/img/responsive/icons/photo.80406200cd88.svg\"\\n                                >\\n                            </a>\\n                            \\n                            <a\\n                                class=\"rspOverview__sidebarLink\"\\n                                href=\"/shows/hamilton-broadway/photos/\"\\n                                data-qa=\"show-overview-photos-link\"\\n                            >\\n                                <h2>View All Photos</h2>\\n                                <svg xmlns=\"http://www.w3.org/2000/svg\" aria-hidden=\"true\" class=\"mls\" width=\"5\" height=\"9\" viewBox=\"0 0 12 21\">\\n                                    <use xlink:href=\"#svg-icon-chevron\"/>\\n                                </svg>\\n                            </a>\\n                        </div>\\n                    \\n                \\n\\n            \\n                <div class=\"rspOverview__mediaDivider divider mtl mbn\"></div>\\n            \\n\\n            \\n                \\n                    <div class=\"rspOverview__showDates\">\\n                        \\n    <div>\\n        <div class=\"rspShowDates__container\">\\n            \\n                <div class=\"rspShowDates__cell\">\\n                    <span class=\"rspShowDates__cellDescription pull-left\">Previews</span>\\n                    <span class=\"rspShowDates__cellDate pull-right\">Jul 13, 2015</span>\\n                </div>\\n            \\n            \\n                \\n                    <div class=\"divider divider--dotted mvl\"></div>\\n                \\n                <div class=\"rspShowDates__cell\">\\n                    <span class=\"rspShowDates__cellDescription pull-left\">Opening</span>\\n                    <span class=\"rspShowDates__cellDate pull-right\">Aug 6, 2015</span>\\n                </div>\\n            \\n            \\n        </div>\\n    </div>\\n\\n\\n                    </div>\\n                \\n            \\n\\n            </div>\\n        \\n\\n        <div class=\"rspOverview__gridMain\">\\n            \\n    \\n        <div>\\n            <h2 class=\"rsp__sectionHeaderLink rspOverview__showInformation gray-444 bold\">Show Information</h2>\\n            <div class=\"rspShowInfo__container font-16-sm font-14-xs gray-444\">\\n                \\n                    <div>\\n                        <div class=\"rspShowInfo__icon\"><svg height=\"30\" viewBox=\"0 0 30 30\" width=\"30\" xmlns=\"http://www.w3.org/2000/svg\"><g fill=\"none\" fill-rule=\"evenodd\"><circle cx=\"15\" cy=\"15\" fill=\"#444\" r=\"15\"/><path d=\"m19.9338602 10.0541892c-1.3705916-1.36556894-3.1629036-2.0541892-4.9669301-2.0541892v7.0029179l-4.9669301 4.9487286c2.7411831 2.731138 7.1926771 2.731138 9.9455746 0 2.7411831-2.731138 2.7411831-7.1663193-.0117144-9.8974573zm-4.9338602-6.0541892c-6.072 0-11 4.928-11 11s4.928 11 11 11 11-4.928 11-11-4.928-11-11-11zm0 20c-4.9725 0-9-4.0275-9-9s4.0275-9 9-9 9 4.0275 9 9-4.0275 9-9 9z\" fill=\"#fff\" fill-rule=\"nonzero\"/></g></svg></div>\\n                        <div>\\n                            <div class=\"rspShowInfo__header\" data-qa=\"duration-text\">Duration</div>\\n                            <div class=\"rspShowInfo__desc font-14-sm\">2 hours and 55 minutes, including one intermission.</div>\\n                        </div>\\n                    </div>\\n                \\n                    <div>\\n                        <div class=\"rspShowInfo__icon\"><svg height=\"30\" viewBox=\"0 0 30 30\" width=\"30\" xmlns=\"http://www.w3.org/2000/svg\"><g fill=\"none\" fill-rule=\"evenodd\"><circle cx=\"15\" cy=\"15\" fill=\"#444\" r=\"15\"/><path d=\"m15 5c5.52 0 10 4.48 10 10s-4.48 10-10 10-10-4.48-10-10 4.48-10 10-10zm-2.74 3.77c-.98 2.39-2.85 4.32-5.21 5.37-.03.28-.05.57-.05.86 0 4.41 3.59 8 8 8s8-3.59 8-8c0-.79-.12-1.55-.33-2.26-.72.17-1.47.26-2.25.26-3.37 0-6.35-1.67-8.16-4.23zm-.26 5.98c.69 0 1.25.56 1.25 1.25s-.56 1.25-1.25 1.25-1.25-.56-1.25-1.25.56-1.25 1.25-1.25zm6 0c.69 0 1.25.56 1.25 1.25s-.56 1.25-1.25 1.25-1.25-.56-1.25-1.25.56-1.25 1.25-1.25zm-4.4436035-7.02246094s4.9759521 4.69519044 8.0616455 3.75244144c3.0856934-.9427491-6.618042-5.4799805-8.0616455-3.75244144z\" fill=\"#fff\" fill-rule=\"nonzero\"/></g></svg></div>\\n                        <div>\\n                            <div class=\"rspShowInfo__header\" data-qa=\"duration-text\">Audience</div>\\n                            <div class=\"rspShowInfo__desc font-14-sm\">Recommended for ages 10 and up. Children under the age of 4 are not permitted.</div>\\n                        </div>\\n                    </div>\\n                \\n                    <div>\\n                        <div class=\"rspShowInfo__icon\"><svg height=\"30\" viewBox=\"0 0 30 30\" width=\"30\" xmlns=\"http://www.w3.org/2000/svg\"><g fill=\"none\" fill-rule=\"evenodd\"><circle cx=\"15\" cy=\"15\" fill=\"#444\" r=\"15\"/><path d=\"m15 6 9 16h-18zm0 12c-.5522847 0-1 .4477153-1 1s.4477153 1 1 1 1-.4477153 1-1-.4477153-1-1-1zm0-8c-.6666667 0-1 .3333333-1 1v4c0 .6666667.3333333 1 1 1s1-.3333333 1-1v-4c0-.6666667-.3333333-1-1-1z\" fill=\"#fff\" fill-rule=\"nonzero\"/></g></svg></div>\\n                        <div>\\n                            <div class=\"rspShowInfo__header\" data-qa=\"duration-text\">Content Advisory</div>\\n                            <div class=\"rspShowInfo__desc font-14-sm\">Some adult language and themes.</div>\\n                        </div>\\n                    </div>\\n                \\n                    <div>\\n                        <div class=\"rspShowInfo__icon\"><svg height=\"30\" viewBox=\"0 0 30 30\" width=\"30\" xmlns=\"http://www.w3.org/2000/svg\"><g fill=\"none\" fill-rule=\"evenodd\"><circle cx=\"15\" cy=\"15\" fill=\"#444\" r=\"15\"/><g fill=\"#fff\" transform=\"translate(5 5)\"><g transform=\"translate(3)\"><path d=\"m10.9869338 0c.3449219.30951786.8385319.40067322 1.2763459.22642227l.5417991.88921918c-.2210979.18897147-.2791623.51852523-.124223.77281687.1549393.25429163.4692127.34523676.7317495.22427624l.5068105.83179478c-.1997643.18731111-.2484308.49741602-.1015775.73843655.1468532.24102053.4399619.33210256.6916916.23007868l.4904701.80497631c-.2667099.3429352-.3587732 1.26580968-.2417328 1.68645331l-1.0275129.59552581h-1.868l1.549851-.98693848-2.7011084-4.433151-8.50674258 5.42008948h-2.141z\"/><path d=\"m9.85321045 1.972229 2.83758545 4.55126954-.6907959.47650146h-10.21984863z\"/></g><path d=\"m18.4785919-.00024494c.1361573.70178215.754676 1.24521872 1.520618 1.31530729l.0005896.978821-.0293254-.00052895c-.4144863 0-.7504938.31600825-.7504938.70582417 0 .38981593.3360075.70582418.7504938.70582418l.0285259-.00200275.0008521 1.43192238-.029378-.0005515c-.3990229 0-.7224948.30421883-.7224948.67949176 0 .37527294.3234719.67949176.7224948.67949176l.0285259-.0023544.0002772 1.03625877c-.8040608.0875042-1.4360343.7061242-1.4890334 1.47319093l-16.8012438-.0004497-.00156473-.05074218c-.07468372-.8218692-.80768492-1.46702842-1.70090755-1.46702842l-.00652772-.0002294v-.938l.06756033-.00384804c.35722815-.04557769.63256286-.33356323.63256286-.68202902 0-.37012368-.31062358-.67201553-.70007293-.68767441l-.00005026-1.46644853.08870688-.00544059c.36631656-.04673725.64865619-.34204957.64865619-.69938084 0-.38563473-.32883807-.69903662-.73718372-.7057154l-.00023064-.97081171.01627786.00007107c.84229651 0 1.54292533-.57044941 1.68892618-1.32296747zm-15.4785919 1.00024494v7h1v-7zm13 7h1v-7h-1z\" transform=\"translate(0 8)\"/></g></g></svg></div>\\n                        <div>\\n                            <div class=\"rspShowInfo__header\" data-qa=\"duration-text\">Ticket Limits</div>\\n                            <div class=\"rspShowInfo__desc font-14-sm\">For performances from 09/14/21 through 06/05/22, customers may purchase up to a total of 8 tickets.</div>\\n                        </div>\\n                    </div>\\n                \\n            </div>\\n        </div>\\n    \\n\\n\\n\\n            \\n                <div class=\"rspOverview__storySection\">\\n                    <a\\n                        data-qa=\"show-overview-all-story-link\"\\n                        href=\"/shows/hamilton-broadway/story/\"\\n                        class=\"rsp__sectionHeaderLink\"\\n                    >\\n                        <h2>Story</h2>\\n                    </a>\\n                    \\n    <div class=\"rspOverview__copy\">\\n        \\n            <p><em>Hamilton</em>&nbsp;is the story of the unlikely Founding Father determined to make his mark on the new nation as hungry and ambitious as he is. From bastard orphan to Washington&#39;s right-hand man, rebel to war hero, a loving husband caught in the country&#39;s first sex scandal, to the Treasury head who made an untrusting world believe in the American economy. George Washington, Eliza Hamilton, Thomas Jefferson and Hamilton&#39;s lifelong friend/foil Aaron Burr all make their mark in this astonishing new musical exploration of a political mastermind.</p>\\n        \\n    </div>\\n\\n\\n                </div>\\n            \\n\\n            \\n    \\n        <div class=\"rspOverview__categoryButtons\">\\n            <ul class=\"mbn\" style=\"margin-bottom: -10px !important\">\\n                \\n                    <li class=\"mrm inline-block mbl\" data-qa=\"category-list\">\\n                        <a class=\"font-14 btn btn--snow rspCalendar__button\" href=\"/shows/tickets/category/broadway/\">Broadway</a>\\n                    </li>\\n                \\n                    <li class=\"mrm inline-block mbl\" data-qa=\"category-list\">\\n                        <a class=\"font-14 btn btn--snow rspCalendar__button\" href=\"/shows/tickets/category/musical/\">Musicals</a>\\n                    </li>\\n                \\n                    <li class=\"mrm inline-block mbl\" data-qa=\"category-list\">\\n                        <a class=\"font-14 btn btn--snow rspCalendar__button\" href=\"/shows/tickets/category/award-winning/\">Award Winning</a>\\n                    </li>\\n                \\n                    <li class=\"mrm inline-block mbl\" data-qa=\"category-list\">\\n                        <a class=\"font-14 btn btn--snow rspCalendar__button\" href=\"/shows/tickets/category/2016-tony-nominees/\">2016 Tony Nominees</a>\\n                    </li>\\n                \\n                    <li class=\"mrm inline-block mbl\" data-qa=\"category-list\">\\n                        <a class=\"font-14 btn btn--snow rspCalendar__button\" href=\"/shows/tickets/category/2016-tony-winners/\">2016 Tony Winners</a>\\n                    </li>\\n                \\n            </ul>\\n        </div>\\n    \\n\\n\\n\\n            \\n    \\n        <div>\\n            <a\\n                data-qa=\"show-overview-all-reviews-link\"\\n                href=\"/shows/hamilton-broadway/reviews/\"\\n                class=\"rsp__sectionHeaderLink\"\\n            >\\n                <h2>Critics\\' Reviews</h2>\\n            </a>\\n            \\n            <blockquote class=\"mbl\">\\n                <p class=\"gray-dk italic rspReviews__quote\" data-qa=\"review-quote\">\\n                    \"&#39;Hamilton&#39; is the most exciting and significant musical of the decade. Sensationally potent and theatrically vital, it is plugged straight into the wall socket of contemporary music. This show makes me feel hopeful for the future of musical theater.\"\\n                </p>\\n                <p class=\"rspReviews__authorCopy mts\" translate=\"no\" data-qa=\"review-author\">\\n                    Review by Terry Teachout\\n                    from\\n                    <span class=\"italic\">\\n                        The Wall Street Journal\\n                    </span>\\n                </p>\\n            </blockquote>\\n            \\n            <blockquote class=\"mbn\">\\n                <p class=\"gray-dk italic rspReviews__quote\" data-qa=\"review-quote\">\\n                    \"Historic. &#39;Hamilton&#39; is brewing up a revolution. This is a show that aims impossibly high and hits its target. It&#39;s probably not possible to top the adrenaline rush.\"\\n                </p>\\n                <p class=\"rspReviews__authorCopy mts\" translate=\"no\" data-qa=\"review-author\">\\n                    Review by Ben Brantley\\n                    from\\n                    <span class=\"italic\">\\n                        The New York Times\\n                    </span>\\n                </p>\\n            </blockquote>\\n            \\n        </div>\\n    \\n\\n\\n\\n            \\n\\n        </div>\\n\\n    </div>\\n\\n    <div id=\"rspAccordion\"></div>\\n\\n    \\n        \\n            \\n\\n\\n\\n    \\n        <div class=\"rspOverview__buzzSection\">\\n            <a\\n                data-qa=\"show-overview-all-pinned-buzz-link\"\\n                href=\"/shows/hamilton-broadway/buzz/\"\\n                class=\"rsp__sectionHeaderLink\"\\n            >\\n                <h2>Buzz</h2>\\n                <svg xmlns=\"http://www.w3.org/2000/svg\" aria-hidden=\"true\" class=\"mls\" width=\"5\" height=\"9\" viewBox=\"0 0 12 21\">\\n                    <use xlink:href=\"#svg-icon-chevron\"/>\\n                </svg>\\n            </a>\\n            <div class=\"rspMedia__mediaGrid\">\\n                \\n                    <a\\n                        class=\"card rsp__cardHover card--shadow bg-white man\"\\n                        href=\"/buzz/201755/nik-walker-to-play-aaron-burr-in-hamilton-on-broadway/\"\\n                        data-qa=\"pinned-buzz-card\"\\n                    >\\n                        <div class=\"rsp__mediaTile\">\\n                            <img\\n                                class=\"rsp__mediaTileImg lazyload\"\\n                                alt=\"\"\\n                                data-srcset=\"\\n                                \\n                                    https://imaging.broadway.com/images/regular-43/w262/h197/117366-11.jpg 1x,\\n                                    https://imaging.broadway.com/images/regular-43/w524/h394/117366-11.jpg 2x\\n                                \"\\n                                src=\"data:image/gif;base64,R0lGODlhAQABAAAAACH5BAEKAAEALAAAAAABAAEAAAICTAEAOw==\"\\n                            >\\n                            \\n                        </div>\\n                        <div class=\"lh-norm rspMedia__mediaCopy font-14 man mvl text-center phl\">\\n                            <strong>Nik Walker to Play Aaron Burr in <i>Hamilton</i> on Broadway</strong>\\n                        </div>\\n                    </a>\\n                \\n                    <a\\n                        class=\"card rsp__cardHover card--shadow bg-white man\"\\n                        href=\"/buzz/201569/kyle-scatliffe-replaces-james-monroe-iglehart-in-hamilton/\"\\n                        data-qa=\"pinned-buzz-card\"\\n                    >\\n                        <div class=\"rsp__mediaTile\">\\n                            <img\\n                                class=\"rsp__mediaTileImg lazyload\"\\n                                alt=\"\"\\n                                data-srcset=\"\\n                                \\n                                    https://imaging.broadway.com/images/regular-43/w262/h197/116123-11.jpg 1x,\\n                                    https://imaging.broadway.com/images/regular-43/w524/h394/116123-11.jpg 2x\\n                                \"\\n                                src=\"data:image/gif;base64,R0lGODlhAQABAAAAACH5BAEKAAEALAAAAAABAAEAAAICTAEAOw==\"\\n                            >\\n                            \\n                        </div>\\n                        <div class=\"lh-norm rspMedia__mediaCopy font-14 man mvl text-center phl\">\\n                            <strong>Kyle Scatliffe Replaces James Monroe Iglehart in <I>Hamilton</I></strong>\\n                        </div>\\n                    </a>\\n                \\n                    <a\\n                        class=\"card rsp__cardHover card--shadow bg-white man\"\\n                        href=\"/buzz/201253/go-inside-the-return-of-lin-manuel-mirandas-hamilton-to-broadway/\"\\n                        data-qa=\"pinned-buzz-card\"\\n                    >\\n                        <div class=\"rsp__mediaTile\">\\n                            <img\\n                                class=\"rsp__mediaTileImg lazyload\"\\n                                alt=\"\"\\n                                data-srcset=\"\\n                                \\n                                    https://imaging.broadway.com/images/regular-43/w262/h197/120375-10.png 1x,\\n                                    https://imaging.broadway.com/images/regular-43/w524/h394/120375-10.png 2x\\n                                \"\\n                                src=\"data:image/gif;base64,R0lGODlhAQABAAAAACH5BAEKAAEALAAAAAABAAEAAAICTAEAOw==\"\\n                            >\\n                            \\n                        </div>\\n                        <div class=\"lh-norm rspMedia__mediaCopy font-14 man mvl text-center phl\">\\n                            <strong>Go Inside the Return of Lin-Manuel Miranda\\'s <i>Hamilton</i> to Broadway</strong>\\n                        </div>\\n                    </a>\\n                \\n                    <a\\n                        class=\"card rsp__cardHover card--shadow bg-white man\"\\n                        href=\"/buzz/201250/get-a-first-look-at-miguel-cervantes-jin-ha-the-cast-ushering-hamilton-back-to-broadway/\"\\n                        data-qa=\"pinned-buzz-card\"\\n                    >\\n                        <div class=\"rsp__mediaTile\">\\n                            <img\\n                                class=\"rsp__mediaTileImg lazyload\"\\n                                alt=\"Daniel Yearwood as John Laurens, Miguel Cervantes as Alexander Hamilton, James Monroe Igelhart as Marquis de Lafayette and Fergie L. Philippe as Hercules Mulligan in Hamilton.\"\\n                                data-srcset=\"\\n                                \\n                                    https://imaging.broadway.com/images/regular-43/w262/h197/120362-27.jpg 1x,\\n                                    https://imaging.broadway.com/images/regular-43/w524/h394/120362-27.jpg 2x\\n                                \"\\n                                src=\"data:image/gif;base64,R0lGODlhAQABAAAAACH5BAEKAAEALAAAAAABAAEAAAICTAEAOw==\"\\n                            >\\n                            \\n                        </div>\\n                        <div class=\"lh-norm rspMedia__mediaCopy font-14 man mvl text-center phl\">\\n                            <strong>Get a First Look at Miguel Cervantes, Jin Ha & the Cast Ushering <i>Hamilton</i> Back to Broadway</strong>\\n                        </div>\\n                    </a>\\n                \\n            </div>\\n        </div>\\n     \\n\\n\\n        \\n    \\n\\n    </div>\\n    <div class=\"rspTemplate__breadcrumbs\">\\n        \\n\\t<script type=\"application/ld+json\">\\n        {\\n            \"@context\":\"http://schema.org\",\\n            \"@type\":\"ItemList\",\\n            \"itemListElement\":[\\n                {\\n                    \"@type\": \"ListItem\",\\n                    \"position\": 1,\\n                    \"url\":\"https://www.broadway.com\",\\n                    \"name\": \"Home\"\\n                },\\n                {\\n                    \"@type\": \"ListItem\",\\n                    \"position\": 2,\\n                    \"url\": \"https://www.broadway.com/shows/tickets/\",\\n                    \"name\": \"Broadway Shows\"\\n                },\\n                {\\n                    \"@type\": \"ListItem\",\\n                    \"position\": 3,\\n                    \"url\": \"https://www.broadway.com/shows/hamilton-broadway/\",\\n                    \"name\": \"Hamilton on Broadway\"\\n                }\\n            ]\\n        }\\n\\t</script>\\n\\n        <div class=\"rspTemplate__contentWrapper full-width\">\\n            \\n    <ul class=\"rsp__breadcrumbList\">\\n        <li>\\n            <a data-qa=\"breadcrumb-homepage\" href=\"/\">Home</a>\\n        </li>\\n        <li>\\n            <a data-qa=\"breadcrumb-show-list\" href=\"/shows/tickets/\">\\n\\t\\t\\t\\t<svg xmlns=\"http://www.w3.org/2000/svg\" aria-hidden=\"true\" width=\"7\" height=\"12\" viewBox=\"0 0 12 21\">\\n\\t\\t\\t\\t\\t<use xlink:href=\"#svg-icon-chevron\"/>\\n\\t\\t\\t\\t</svg>\\n                Broadway Shows\\n\\t\\t\\t</a>\\n        </li>\\n        <li>\\n            Hamilton on Broadway\\n        </li>\\n    </ul>\\n\\n        </div>\\n    </div>\\n</div>\\n\\n        </div>\\n\\n        \\n            \\n\\n\\n<a href=\"#skiplink-target\" class=\"back-to-top-js\">\\n    <div class=\"back-to-top-container\">\\n        <svg height=\"16\" viewBox=\"0 0 12 16\" width=\"12\" xmlns=\"http://www.w3.org/2000/svg\">\\n    <path d=\"m8 0 6 8h-5v8h-2v-8h-5z\" fill=\"currentColor\" fill-rule=\"evenodd\" transform=\"translate(-2)\"/>\\n</svg>\\n\\n        <span class=\"back-to-top-text\">Back to Top</span>\\n    </div>\\n</a>\\n<footer class=\"footer__background\">\\n    <div class=\"container\">\\n        <div class=\"footer__container\">\\n            <div class=\"footer__column-container\">\\n                <div class=\"footer__column\">\\n                    <section>\\n                        <h1 class=\"footer__heading\">Broadway Tickets</h1>\\n                        <ul class=\"footer__list\">\\n                            <li class=\"footer__link\"><a href=\"/shows/find-by-date/\" class=\"link-grey-100\">Find Tickets by Date</a></li>\\n                            <li class=\"footer__link\"><a href=\"/shows/tickets/?category=musical\" class=\"link-grey-100\">Broadway Musicals</a></li>\\n                            <li class=\"footer__link\"><a href=\"/shows/tickets/?category=play\" class=\"link-grey-100\">Broadway Plays</a></li>\\n                            <li class=\"footer__link\"><a href=\"/shows/tickets/?category=celebs-stage\" class=\"link-grey-100\">Stars on Stage</a></li>\\n                            <li class=\"footer__link\"><a href=\"/shows/tickets/?category=kid-friendly\" class=\"link-grey-100\">Kid-Friendly</a></li>\\n                            <li class=\"footer__link\"><a href=\"/shows/tickets/?category=classics\" class=\"link-grey-100\">Classics</a></li>\\n                            <li class=\"footer__link\"><a href=\"/shows/tickets/?category=award-winning\" class=\"link-grey-100\">Award-Winning</a></li>\\n                            <li class=\"footer__link\"><a href=\"/shows/tickets/?category=off-broadway\" class=\"link-grey-100\">Off-Broadway</a></li>\\n                        </ul>\\n                    </section>\\n                </div>\\n                <div class=\"footer__column\">\\n                    <section>\\n                        <h1 class=\"footer__heading\">News & Features</h1>\\n                        <ul class=\"footer__list\">\\n                            <li class=\"footer__link\"><a href=\"/buzz/\"  class=\"link-grey-100\">Latest News</a></li>\\n                            <li class=\"footer__link\"><a href=\"/the-show/\" class=\"link-grey-100\" rel=\"nofollow\">The Broadway Show</a></li>\\n                            <li class=\"footer__link\"><a href=\"/videos/\" class=\"link-grey-100\">Videos</a></li>\\n                            <li class=\"footer__link\"><a href=\"/buzz/photos/\" class=\"link-grey-100\">Photos</a></li>\\n                        </ul>\\n                    </section>\\n                    <section>\\n                        <h1 class=\"footer__heading\">More</h1>\\n                        <ul class=\"footer__list\">\\n                            <li class=\"footer__link\"><a href=\"/gift-certificates/\" class=\"link-grey-100\">Gift Cards</a></li>\\n                            <li class=\"footer__link\"><a href=\"https://groups.broadway.com\" class=\"link-grey-100\">Group Sales</a></li>\\n                            <li class=\"footer__link\"><a href=\"/apps/\" class=\"link-grey-100\">Apps</a></li>\\n                        </ul>\\n                    </section>\\n                </div>\\n            </div>\\n            <div class=\"footer__column-container\">\\n                <div class=\"footer__column\">\\n                    <section>\\n                        <h1 class=\"footer__heading\">Info & Support</h1>\\n                        <ul class=\"footer__list\">\\n                            <li class=\"footer__link\"><a href=\"/about-us/\" class=\"link-grey-100\">About Us</a></li>\\n                            <li class=\"footer__link\"><a href=\"/contact-us/\" class=\"link-grey-100\">Contact Us</a></li>\\n                            <li class=\"footer__link\"><a href=\"/faq/\" class=\"link-grey-100\">FAQ</a></li>\\n                            <li class=\"footer__link\"><a href=\"https://www.johngore.com/employment/\" rel=\"noopener noreferrer\" target=\"_blank\" class=\"link-grey-100\">Careers</a></li>\\n                            <li class=\"footer__link\"><a href=\"/accessibility/\" class=\"link-grey-100\">Accessibility</a></li>\\n                        </ul>\\n                    </section>\\n                </div>\\n                <div class=\"footer__column\">\\n                    <section>\\n                        <h1 class=\"footer__heading\">Follow Us</h1>\\n                        <ul class=\"footer__list\">\\n                            <li class=\"footer__link\"><a href=\"https://announcements.broadway.com/preference-center\" class=\"link-grey-100\">Newsletters</a></li>\\n                            <li class=\"footer__link\"><a href=\"https://www.facebook.com/Broadway\" class=\"link-grey-100\">Facebook</a></li>\\n                            <li class=\"footer__link\"><a href=\"https://twitter.com/Broadwaycom\" class=\"link-grey-100\">Twitter</a></li>\\n                            <li class=\"footer__link\"><a href=\"https://www.youtube.com/user/Broadwaycom\" class=\"link-grey-100\">YouTube</a></li>\\n                            <li class=\"footer__link\"><a href=\"https://www.instagram.com/broadwaycom/\" class=\"link-grey-100\">Instagram</a></li>\\n                        </ul>\\n                    </section>\\n                </div>\\n            </div>\\n        </div>\\n        <div class=\"footer__divider\"></div>\\n        <div>\\n            <ul class=\"footer__terms-container\">\\n                <li class=\"footer__term\"><a href=\"/privacy-policy/\" class=\"link-grey-300\">Privacy Policy</a></li>\\n                <li class=\"footer__term\"><a href=\"/terms/\" class=\"link-grey-300\">Website Terms & Conditions</a></li>\\n                <li class=\"footer__term\"><a href=\"/purchase-terms/\" class=\"link-grey-300\">Purchase Terms & Conditions</a></li>\\n                <li class=\"footer__term\"><a href=\"/groups-purchase-terms/\" class=\"link-grey-300\">Groups Purchase Terms</a></li>\\n                <li class=\"footer__term\"><a href=\"/about-us/ticket-resell-license/\" class=\"link-grey-300\">Ticketing License</a></li>\\n            </ul>\\n            <div class=\"footer__copyright\">&copy; 2022 Broadway.com</div>\\n        </div>\\n    </div>\\n</footer>\\n\\n        \\n\\n        \\n    \\n            <script>\\n                window.BWY = window.BWY || {};\\n            </script>\\n            \\n                <script src=\"//ajax.googleapis.com/ajax/libs/jquery/3.0.0/jquery.min.js\"></script>\\n                <script>window.jQuery || document.write(\"<script src=\\'https://static.broadway.com/js/libs/jquery-3.0.0.min.d0212568ce69.js\\'>\\\\x3C/script>\")</script>\\n            \\n            <script src=\"https://static.broadway.com/js/compiled/app_responsive.96cac1843e04.js\"></script>\\n        \\n    \\n    <script src=\"https://static.broadway.com/js/compiled/shows.41c0eb26dc3e.js\"></script>\\n    <script src=\"https://static.broadway.com/js/compiled/optimizely_api.2cbf92ab78c7.js\"></script>\\n\\n\\n        \\n            <!-- Facebook Pixel Code -->\\n            <noscript>\\n                <img height=\"1\" width=\"1\" style=\"display:none\"\\n                     src=\"https://www.facebook.com/tr?id=682878898465597&ev=PageView&noscript=1\"/>\\n            </noscript>\\n            <!-- End Facebook Pixel Code -->\\n\\n        <script type=\"application/javascript\">\\n            var campaignID = \"\";\\n            if (campaignID) {\\n                BWY.cookies.setCampaignCookie(campaignID);\\n            }\\n        </script>\\n            <script>\\n                jQuery(document).ready(function($){\\n\\n                    BWY.responsive = {};\\n\\n                    \\n                        BWY.siteAnnouncement(\\'Sat, 18 Dec 2021 14:04:12 -0500\\');\\n                    \\n\\n                    \\n                    (function pollForTypekit(){\\n                        if( $(\\'html\\').hasClass(\\'wf-active\\') ){\\n                            $(\\'body\\').trigger(\\'wf-active\\');\\n                        } else {\\n                            setTimeout(pollForTypekit,100);\\n                        }\\n                    })();\\n                });\\n            </script>\\n\\n            <!--googleoff: all-->\\n            \\n                \\n                    <div class=\"announcement-js card card--announcement no-border mvn visually-hidden announcement-container\">\\n                        <div class=\"card__body media pal font-12-xs font-14-sm text-left\">\\n                            <div class=\"media-body media-middle text-center\">Broadway Is Open. View the <a href=\"/broadway-is-open/\">latest information</a>.</div>\\n                            \\n                        </div>\\n                    </div>\\n                \\n            \\n            <!--googleon: all-->\\n\\n            <script>\\n                window.BWY = window.BWY || {};\\n                try {\\n                    window.BWY.shared_nav_menu();\\n                } catch (e){}\\n            </script>\\n\\n            <script>\\n                (function($) {\\n                    $(\\'#navbar-search-js\\').submit(function(){\\n                        if ($(\\'#website-search-js\\').val().length != 0) {\\n                            return false;\\n                        } else {\\n                            $(\\'#website-search-js\\').remove();\\n                        }\\n                    });\\n                })(jQuery);\\n            </script>\\n        \\n        \\n    \\n    \\n    \\n    \\n        <script>\\n            if (window.BWY.OptimizelyAPI) {\\n                window.BWY.OptimizelyAPI.isOffice = false;\\n                function handleVariationRemovePrice(variation) {\\n                    if (variation === \\'1\\') {\\n                        $(\\'.rspButtonBox__container\\').addClass(\\'rsp-var-B__overview\\');\\n                        $(\\'.rspButtonBox__container--subpage\\').addClass(\\'rsp-var-B__sub\\');\\n                        $(\\'.rspSubpageHeader__grid\\').addClass(\\'rsp-var-B__sub\\');\\n                    }\\n                }\\n                window.BWY.OptimizelyAPI.datafileUrl = \"https://cdn.optimizely.com/datafiles/S17qKEy2JxC6mikgnTTmaC.json\";\\n                window.BWY.OptimizelyAPI.activateOrGetVariation(\\'bwy__show_pages_remove_price\\', {}, handleVariationRemovePrice);\\n                $(\\'#buy-tickets-js, .buy-tickets-js, #view-calendar-js\\').click(function(e){\\n                    window.BWY.OptimizelyAPI.track(\\'toCheckout\\');\\n                })\\n            }\\n        </script>\\n    \\n\\n\\n    \\n    <script src=\"https://static.broadway.com/js/compiled/gallery_responsive.84cbb93b2ead.js\"></script>\\n\\n    <script>\\n\\t\\t(function($) {\\n\\t\\t\\t$(\\'#lightGallery\\').click(\\'on\\', function(e) {\\n\\t\\t\\t\\te.preventDefault();\\n\\n\\t\\t\\t\\tvar $lg = $(this).lightGallery({\\n\\t\\t\\t\\t\\tthumbnail: false,\\n\\t\\t\\t\\t\\tanimateThumb: false,\\n\\t\\t\\t\\t\\tshowThumbByDefault: false,\\n\\t\\t\\t\\t\\tdownload: false,\\n\\t\\t\\t\\t\\tfullScreen: false,\\n\\t\\t\\t\\t\\tdynamic: true,\\n\\t\\t\\t\\t\\tdynamicEl: [\\n\\t\\t\\t\\t\\t\\t\\n\\t\\t\\t\\t\\t\\t{\\n\\t\\t\\t\\t\\t\\t\\t\\'src\\': \\'https://imaging.broadway.com/images/custom/w1200/120361-15.jpg\\',\\n                            \\'subHtml\\': \\'<h4 class=\"font-16 white\">Jin Ha as Aaron Burr in \\\\u003Ci\\\\u003EHamilton\\\\u003C/i\\\\u003E.</h4><p class=\"font-14 gray-ccc bold system\">&copy; Joan Marcus</p>\\'\\n\\t\\t\\t\\t\\t\\t},\\n\\t\\t\\t\\t\\t\\t\\n\\t\\t\\t\\t\\t\\t{\\n\\t\\t\\t\\t\\t\\t\\t\\'src\\': \\'https://imaging.broadway.com/images/custom/w1200/120362-27.jpg\\',\\n                            \\'subHtml\\': \\'<h4 class=\"font-16 white\">Daniel Yearwood as John Laurens, Miguel Cervantes as Alexander Hamilton, James Monroe Igelhart as Marquis de Lafayette and Fergie L. Philippe as Hercules Mulligan in \\\\u003Ci\\\\u003EHamilton\\\\u003C/i\\\\u003E.</h4><p class=\"font-14 gray-ccc bold system\">&copy; Joan Marcus</p>\\'\\n\\t\\t\\t\\t\\t\\t},\\n\\t\\t\\t\\t\\t\\t\\n\\t\\t\\t\\t\\t\\t{\\n\\t\\t\\t\\t\\t\\t\\t\\'src\\': \\'https://imaging.broadway.com/images/custom/w1200/120360-17.jpg\\',\\n                            \\'subHtml\\': \\'<h4 class=\"font-16 white\">Krystal Joy Brown as Eliza Hamilton in \\\\u003Ci\\\\u003EHamilton\\\\u003C/i\\\\u003E.</h4><p class=\"font-14 gray-ccc bold system\">&copy; Joan Marcus</p>\\'\\n\\t\\t\\t\\t\\t\\t},\\n\\t\\t\\t\\t\\t\\t\\n\\t\\t\\t\\t\\t\\t{\\n\\t\\t\\t\\t\\t\\t\\t\\'src\\': \\'https://imaging.broadway.com/images/custom/w1200/120358-21.jpg\\',\\n                            \\'subHtml\\': \\'<h4 class=\"font-16 white\">Mandy Gonzalez as Angelica, Aubin Wise as Peggy and Krystal Joy Brown as Eliza in \\\\u003Ci\\\\u003EHamilton\\\\u003C/i\\\\u003E.</h4><p class=\"font-14 gray-ccc bold system\">&copy; Joan Marcus.</p>\\'\\n\\t\\t\\t\\t\\t\\t},\\n\\t\\t\\t\\t\\t\\t\\n\\t\\t\\t\\t\\t\\t{\\n\\t\\t\\t\\t\\t\\t\\t\\'src\\': \\'https://imaging.broadway.com/images/custom/w1200/97337-13.jpg\\',\\n                            \\'subHtml\\': \\'<h4 class=\"font-16 white\">Euan Morton as King George in \\\\u003Ci\\\\u003EHamilton\\\\u003C/i\\\\u003E. </h4><p class=\"font-14 gray-ccc bold system\"></p>\\'\\n\\t\\t\\t\\t\\t\\t},\\n\\t\\t\\t\\t\\t\\t\\n\\t\\t\\t\\t\\t\\t{\\n\\t\\t\\t\\t\\t\\t\\t\\'src\\': \\'https://imaging.broadway.com/images/custom/w1200/120359-15.jpg\\',\\n                            \\'subHtml\\': \\'<h4 class=\"font-16 white\">Tamar Greene as George Washington in \\\\u003Ci\\\\u003EHamilton\\\\u003C/i\\\\u003E.</h4><p class=\"font-14 gray-ccc bold system\">&copy; Joan Marcus</p>\\'\\n\\t\\t\\t\\t\\t\\t},\\n\\t\\t\\t\\t\\t\\t\\n\\t\\t\\t\\t\\t\\t{\\n\\t\\t\\t\\t\\t\\t\\t\\'src\\': \\'https://imaging.broadway.com/images/custom/w1200/120363-15.jpg\\',\\n                            \\'subHtml\\': \\'<h4 class=\"font-16 white\">Miguel Cervantes as Alexander Hamilton and Daniel Yearwood as John Laurens in \\\\u003Ci\\\\u003EHamilton\\\\u003C/i\\\\u003E.</h4><p class=\"font-14 gray-ccc bold system\">&copy; Joan Marcus</p>\\'\\n\\t\\t\\t\\t\\t\\t},\\n\\t\\t\\t\\t\\t\\t\\n\\t\\t\\t\\t\\t\\t{\\n\\t\\t\\t\\t\\t\\t\\t\\'src\\': \\'https://imaging.broadway.com/images/custom/w1200/120357-16.jpg\\',\\n                            \\'subHtml\\': \\'<h4 class=\"font-16 white\">Miguel Cervantes as Alexander Hamilton and the cast of \\\\u003Ci\\\\u003EHamilton\\\\u003C/i\\\\u003E.</h4><p class=\"font-14 gray-ccc bold system\">&copy; Joan Marcus</p>\\'\\n\\t\\t\\t\\t\\t\\t},\\n\\t\\t\\t\\t\\t\\t\\n\\t\\t\\t\\t\\t\\t{\\n\\t\\t\\t\\t\\t\\t\\t\\'src\\': \\'https://imaging.broadway.com/images/custom/w1200/97333-13.jpg\\',\\n                            \\'subHtml\\': \\'<h4 class=\"font-16 white\">Michael Luwoye as Alexander Hamilton in \\\\u003Ci\\\\u003EHamilton\\\\u003C/i\\\\u003E.</h4><p class=\"font-14 gray-ccc bold system\"></p>\\'\\n\\t\\t\\t\\t\\t\\t},\\n\\t\\t\\t\\t\\t\\t\\n\\t\\t\\t\\t\\t\\t{\\n\\t\\t\\t\\t\\t\\t\\t\\'src\\': \\'https://imaging.broadway.com/images/custom/w1200/97338-15.jpg\\',\\n                            \\'subHtml\\': \\'<h4 class=\"font-16 white\">Mandy Gonzalez as Angelica, Lexi Lawson as Eliza and Joanna A. Jones as Peggy in \\\\u003Ci\\\\u003EHamilton\\\\u003C/i\\\\u003E. </h4><p class=\"font-14 gray-ccc bold system\"></p>\\'\\n\\t\\t\\t\\t\\t\\t},\\n\\t\\t\\t\\t\\t\\t\\n\\t\\t\\t\\t\\t\\t{\\n\\t\\t\\t\\t\\t\\t\\t\\'src\\': \\'https://imaging.broadway.com/images/custom/w1200/97334-26.jpg\\',\\n                            \\'subHtml\\': \\'<h4 class=\"font-16 white\">Daniel Breaker as Aaron Burr in \\\\u003Ci\\\\u003EHamilton\\\\u003C/i\\\\u003E.</h4><p class=\"font-14 gray-ccc bold system\"></p>\\'\\n\\t\\t\\t\\t\\t\\t},\\n\\t\\t\\t\\t\\t\\t\\n\\t\\t\\t\\t\\t\\t{\\n\\t\\t\\t\\t\\t\\t\\t\\'src\\': \\'https://imaging.broadway.com/images/custom/w1200/97335-15.jpg\\',\\n                            \\'subHtml\\': \\'<h4 class=\"font-16 white\">James Monroe Iglehart as Thomas Jefferson and the cast of \\\\u003Ci\\\\u003EHamilton\\\\u003C/i\\\\u003E. </h4><p class=\"font-14 gray-ccc bold system\"></p>\\'\\n\\t\\t\\t\\t\\t\\t},\\n\\t\\t\\t\\t\\t\\t\\n\\t\\t\\t\\t\\t\\t{\\n\\t\\t\\t\\t\\t\\t\\t\\'src\\': \\'https://imaging.broadway.com/images/custom/w1200/97336-34.jpg\\',\\n                            \\'subHtml\\': \\'<h4 class=\"font-16 white\">Bryan Terrell Clark as George Washington in \\\\u003Ci\\\\u003EHamilton\\\\u003C/i\\\\u003E..</h4><p class=\"font-14 gray-ccc bold system\">&copy; Joan Marcus</p>\\'\\n\\t\\t\\t\\t\\t\\t},\\n\\t\\t\\t\\t\\t\\t\\n\\t\\t\\t\\t\\t\\t{\\n\\t\\t\\t\\t\\t\\t\\t\\'src\\': \\'https://imaging.broadway.com/images/custom/w1200/86681-17.jpg\\',\\n                            \\'subHtml\\': \\'<h4 class=\"font-16 white\">Jordan Fisher as John Laurens, Javier Muñoz as Alexander Hamilton, Seth Stewart as Marquis de Lafayette, Okieriete Onaodowan as Hercules Mulligan, Mandy Gonzalez as Angelica Schuyler, Brandon Victor Dixon as Aaron Burr and Lexi Lawson as Eliza Hamilton in \\\\u003CI\\\\u003EHamilton\\\\u003C/I\\\\u003E.</h4><p class=\"font-14 gray-ccc bold system\">&copy; JOAN MARCUS</p>\\'\\n\\t\\t\\t\\t\\t\\t},\\n\\t\\t\\t\\t\\t\\t\\n\\t\\t\\t\\t\\t\\t{\\n\\t\\t\\t\\t\\t\\t\\t\\'src\\': \\'https://imaging.broadway.com/images/custom/w1200/86693-20.jpg\\',\\n                            \\'subHtml\\': \\'<h4 class=\"font-16 white\">Brandon Victor Dixon as Aaron Burr in \\\\u003CI\\\\u003EHamilton\\\\u003C/I\\\\u003E.</h4><p class=\"font-14 gray-ccc bold system\">&copy; JOAN MARCUS</p>\\'\\n\\t\\t\\t\\t\\t\\t},\\n\\t\\t\\t\\t\\t\\t\\n\\t\\t\\t\\t\\t\\t{\\n\\t\\t\\t\\t\\t\\t\\t\\'src\\': \\'https://imaging.broadway.com/images/custom/w1200/86690-19.jpg\\',\\n                            \\'subHtml\\': \\'<h4 class=\"font-16 white\">Okieriete Onaodowan as Hercules Mulligan, Seth Stewart as Marquis de Lafayette, Jordon Fisher as John Laurens and Javier Muñoz as Alexander Hamilton in \\\\u003CI\\\\u003EHamilton\\\\u003C/I\\\\u003E.</h4><p class=\"font-14 gray-ccc bold system\">&copy; JOAN MARCUS</p>\\'\\n\\t\\t\\t\\t\\t\\t},\\n\\t\\t\\t\\t\\t\\t\\n\\t\\t\\t\\t\\t\\t{\\n\\t\\t\\t\\t\\t\\t\\t\\'src\\': \\'https://imaging.broadway.com/images/custom/w1200/86682-15.jpg\\',\\n                            \\'subHtml\\': \\'<h4 class=\"font-16 white\">Javier Muñoz as Alexander Hamilton and the cast of \\\\u003CI\\\\u003EHamilton\\\\u003C/I\\\\u003E.</h4><p class=\"font-14 gray-ccc bold system\">&copy; JOAN MARCUS</p>\\'\\n\\t\\t\\t\\t\\t\\t},\\n\\t\\t\\t\\t\\t\\t\\n\\t\\t\\t\\t\\t\\t{\\n\\t\\t\\t\\t\\t\\t\\t\\'src\\': \\'https://imaging.broadway.com/images/custom/w1200/86683-26.jpg\\',\\n                            \\'subHtml\\': \\'<h4 class=\"font-16 white\">Brandon Victor Dixon as Aaron Burr and the cast of \\\\u003CI\\\\u003EHamilton\\\\u003C/I\\\\u003E.</h4><p class=\"font-14 gray-ccc bold system\">&copy; JOAN MARCUS</p>\\'\\n\\t\\t\\t\\t\\t\\t},\\n\\t\\t\\t\\t\\t\\t\\n\\t\\t\\t\\t\\t\\t{\\n\\t\\t\\t\\t\\t\\t\\t\\'src\\': \\'https://imaging.broadway.com/images/custom/w1200/86691-18.jpg\\',\\n                            \\'subHtml\\': \\'<h4 class=\"font-16 white\"></h4><p class=\"font-14 gray-ccc bold system\">&copy; JOAN MARCUS</p>\\'\\n\\t\\t\\t\\t\\t\\t},\\n\\t\\t\\t\\t\\t\\t\\n\\t\\t\\t\\t\\t\\t{\\n\\t\\t\\t\\t\\t\\t\\t\\'src\\': \\'https://imaging.broadway.com/images/custom/w1200/86692-19.jpg\\',\\n                            \\'subHtml\\': \\'<h4 class=\"font-16 white\">Rory O\\\\u0027Malley as King George in \\\\u003CI\\\\u003EHamilton\\\\u003C/I\\\\u003E.</h4><p class=\"font-14 gray-ccc bold system\">&copy; JOAN MARCUS</p>\\'\\n\\t\\t\\t\\t\\t\\t},\\n\\t\\t\\t\\t\\t\\t\\n\\t\\t\\t\\t\\t\\t{\\n\\t\\t\\t\\t\\t\\t\\t\\'src\\': \\'https://imaging.broadway.com/images/custom/w1200/86684-15.jpg\\',\\n                            \\'subHtml\\': \\'<h4 class=\"font-16 white\">The cast of \\\\u003CI\\\\u003EHamilton\\\\u003C/I\\\\u003E.</h4><p class=\"font-14 gray-ccc bold system\">&copy; JOAN MARCUS</p>\\'\\n\\t\\t\\t\\t\\t\\t},\\n\\t\\t\\t\\t\\t\\t\\n\\t\\t\\t\\t\\t\\t{\\n\\t\\t\\t\\t\\t\\t\\t\\'src\\': \\'https://imaging.broadway.com/images/custom/w1200/86695-22.jpg\\',\\n                            \\'subHtml\\': \\'<h4 class=\"font-16 white\">Jordan Fisher as John Laurens and Seth Stewart as Marquis de Lafayette in \\\\u003CI\\\\u003EHamilton\\\\u003C/I\\\\u003E.</h4><p class=\"font-14 gray-ccc bold system\">&copy; JOAN MARCUS</p>\\'\\n\\t\\t\\t\\t\\t\\t},\\n\\t\\t\\t\\t\\t\\t\\n\\t\\t\\t\\t\\t\\t{\\n\\t\\t\\t\\t\\t\\t\\t\\'src\\': \\'https://imaging.broadway.com/images/custom/w1200/86685-15.jpg\\',\\n                            \\'subHtml\\': \\'<h4 class=\"font-16 white\">Javier Muñoz as Alexander Hamilton and the cast of \\\\u003CI\\\\u003EHamilton\\\\u003C/I\\\\u003E.</h4><p class=\"font-14 gray-ccc bold system\">&copy; JOAN MARCUS</p>\\'\\n\\t\\t\\t\\t\\t\\t},\\n\\t\\t\\t\\t\\t\\t\\n\\t\\t\\t\\t\\t\\t{\\n\\t\\t\\t\\t\\t\\t\\t\\'src\\': \\'https://imaging.broadway.com/images/custom/w1200/86689-19.jpg\\',\\n                            \\'subHtml\\': \\'<h4 class=\"font-16 white\">Lexi Lawson as Eliza Hamilton and Javier Muñoz as Alexander Hamilton in \\\\u003CI\\\\u003EHamilton\\\\u003C/I\\\\u003E.</h4><p class=\"font-14 gray-ccc bold system\">&copy; JOAN MARCUS</p>\\'\\n\\t\\t\\t\\t\\t\\t},\\n\\t\\t\\t\\t\\t\\t\\n\\t\\t\\t\\t\\t\\t{\\n\\t\\t\\t\\t\\t\\t\\t\\'src\\': \\'https://imaging.broadway.com/images/custom/w1200/86686-18.jpg\\',\\n                            \\'subHtml\\': \\'<h4 class=\"font-16 white\"></h4><p class=\"font-14 gray-ccc bold system\">&copy; JOAN MARCUS</p>\\'\\n\\t\\t\\t\\t\\t\\t},\\n\\t\\t\\t\\t\\t\\t\\n\\t\\t\\t\\t\\t\\t{\\n\\t\\t\\t\\t\\t\\t\\t\\'src\\': \\'https://imaging.broadway.com/images/custom/w1200/86687-19.jpg\\',\\n                            \\'subHtml\\': \\'<h4 class=\"font-16 white\">Lexi Lawson as Eliza Schuyler, Mandy Gonzalez as Angelica Schuyler and Jasmine Cephas Jones as Peggy Schuyler in \\\\u003CI\\\\u003EHamilton\\\\u003C/I\\\\u003E.</h4><p class=\"font-14 gray-ccc bold system\">&copy; JOAN MARCUS</p>\\'\\n\\t\\t\\t\\t\\t\\t},\\n\\t\\t\\t\\t\\t\\t\\n\\t\\t\\t\\t\\t\\t{\\n\\t\\t\\t\\t\\t\\t\\t\\'src\\': \\'https://imaging.broadway.com/images/custom/w1200/86688-15.jpg\\',\\n                            \\'subHtml\\': \\'<h4 class=\"font-16 white\">Lexi Lawson as Eliza Hamilton and Javier Muñoz as Alexander Hamilton in \\\\u003CI\\\\u003EHamilton\\\\u003C/I\\\\u003E.</h4><p class=\"font-14 gray-ccc bold system\">&copy; JOAN MARCUS</p>\\'\\n\\t\\t\\t\\t\\t\\t},\\n\\t\\t\\t\\t\\t\\t\\n\\t\\t\\t\\t\\t\\t{\\n\\t\\t\\t\\t\\t\\t\\t\\'src\\': \\'https://imaging.broadway.com/images/custom/w1200/86694-19.jpg\\',\\n                            \\'subHtml\\': \\'<h4 class=\"font-16 white\">Javier Muñoz as Alexander Hamilton and the cast of \\\\u003CI\\\\u003EHamilton\\\\u003C/I\\\\u003E.</h4><p class=\"font-14 gray-ccc bold system\">&copy; JOAN MARCUS</p>\\'\\n\\t\\t\\t\\t\\t\\t},\\n\\t\\t\\t\\t\\t\\t\\n\\t\\t\\t\\t\\t\\t{\\n\\t\\t\\t\\t\\t\\t\\t\\'src\\': \\'https://imaging.broadway.com/images/custom/w1200/86703-12.jpg\\',\\n                            \\'subHtml\\': \\'<h4 class=\"font-16 white\">Phillipa Soo as Eliza and Lin\\\\u002DManuel Miranda as Hamilton in \\\\u003Ci\\\\u003EHamilton\\\\u003C/i\\\\u003E. </h4><p class=\"font-14 gray-ccc bold system\">&copy; Joan Marcus</p>\\'\\n\\t\\t\\t\\t\\t\\t},\\n\\t\\t\\t\\t\\t\\t\\n\\t\\t\\t\\t\\t\\t{\\n\\t\\t\\t\\t\\t\\t\\t\\'src\\': \\'https://imaging.broadway.com/images/custom/w1200/86700-12.jpg\\',\\n                            \\'subHtml\\': \\'<h4 class=\"font-16 white\">Leslie Odom Jr. as Aaron Burr in \\\\u003Ci\\\\u003EHamilton\\\\u003C/i\\\\u003E. </h4><p class=\"font-14 gray-ccc bold system\">&copy; Joan Marcus</p>\\'\\n\\t\\t\\t\\t\\t\\t},\\n\\t\\t\\t\\t\\t\\t\\n\\t\\t\\t\\t\\t\\t{\\n\\t\\t\\t\\t\\t\\t\\t\\'src\\': \\'https://imaging.broadway.com/images/custom/w1200/86698-15.jpg\\',\\n                            \\'subHtml\\': \\'<h4 class=\"font-16 white\">Phillipa Soo as Eliza, Renee Elise Goldsberry as Angelica and Jasphine Cephas Jones as Peggy in \\\\u003Ci\\\\u003EHamilton\\\\u003C/i\\\\u003E. </h4><p class=\"font-14 gray-ccc bold system\">&copy; Joan Marcus</p>\\'\\n\\t\\t\\t\\t\\t\\t},\\n\\t\\t\\t\\t\\t\\t\\n\\t\\t\\t\\t\\t\\t{\\n\\t\\t\\t\\t\\t\\t\\t\\'src\\': \\'https://imaging.broadway.com/images/custom/w1200/86701-10.jpg\\',\\n                            \\'subHtml\\': \\'<h4 class=\"font-16 white\">Christopher Jackson as Washington and the cast of \\\\u003Ci\\\\u003EHamilton\\\\u003C/i\\\\u003E. </h4><p class=\"font-14 gray-ccc bold system\">&copy; Joan Marcus</p>\\'\\n\\t\\t\\t\\t\\t\\t},\\n\\t\\t\\t\\t\\t\\t\\n\\t\\t\\t\\t\\t\\t{\\n\\t\\t\\t\\t\\t\\t\\t\\'src\\': \\'https://imaging.broadway.com/images/custom/w1200/86699-12.jpg\\',\\n                            \\'subHtml\\': \\'<h4 class=\"font-16 white\">Daveed Diggs as Jefferson and the cast of \\\\u003Ci\\\\u003EHamilton\\\\u003C/i\\\\u003E.</h4><p class=\"font-14 gray-ccc bold system\">&copy; Joan Marcus</p>\\'\\n\\t\\t\\t\\t\\t\\t},\\n\\t\\t\\t\\t\\t\\t\\n\\t\\t\\t\\t\\t\\t{\\n\\t\\t\\t\\t\\t\\t\\t\\'src\\': \\'https://imaging.broadway.com/images/custom/w1200/86702-12.jpg\\',\\n                            \\'subHtml\\': \\'<h4 class=\"font-16 white\">Jonathan Groff as King George in \\\\u003Ci\\\\u003EHamilton\\\\u003C/i\\\\u003E. </h4><p class=\"font-14 gray-ccc bold system\">&copy; Joan Marcus</p>\\'\\n\\t\\t\\t\\t\\t\\t},\\n\\t\\t\\t\\t\\t\\t\\n\\t\\t\\t\\t\\t\\t{\\n\\t\\t\\t\\t\\t\\t\\t\\'src\\': \\'https://imaging.broadway.com/images/custom/w1200/120356-21.jpg\\',\\n                            \\'subHtml\\': \\'<h4 class=\"font-16 white\">Jin Ha as Aaron Burr and Miguel Cervantes as Alexander Hamilton in \\\\u003Ci\\\\u003EHamilton\\\\u003C/i\\\\u003E.</h4><p class=\"font-14 gray-ccc bold system\">&copy; Joan Marcus</p>\\'\\n\\t\\t\\t\\t\\t\\t},\\n\\t\\t\\t\\t\\t\\t\\n\\t\\t\\t\\t\\t]\\n\\t\\t\\t\\t});\\n\\t\\t\\t});\\n\\t\\t})(jQuery);\\n\\n    </script>\\n    \\n    \\n        <script src=\"https://static.broadway.com/js/compiled/accordion.d62ee1dcf439.js\"></script>\\n    \\n\\n    \\n        <script type=\"text/javascript\">\\n             jQuery(document).ready(function($){\\n                 var $modal_triggers = $(\\'[data-trigger=\"modal\"]\\');\\n                 try {\\n                     window.BWY.modals($modal_triggers)\\n                 } catch (e){}\\n\\n                 $(\\'.ga-show-overview-trailer\\').on(\\'click\\', function() {\\n                     var category = \\'Show Page Video\\';\\n                     var action = category + \\' - Click Trailer\\';\\n\\n                     ga(\\'send\\',\\'event\\',{\\n                         \\'eventCategory\\' : category,\\n                         \\'eventAction\\'   : action\\n                     });\\n                 });\\n             });\\n         </script>\\n    \\n    <script>\\n        jQuery(document).ready(function($){\\n            $(\\'#view-seatmap-js\\').click(function(e){\\n                var show_title = this.getAttribute(\\'data-show-title\\');\\n                window.BWY.mixpanel.trackMixpanelEventWithShowTitle(window.BWY.mixpanel.MIXPANEL_EVENT_TYPES.VIEW_SHOW_SEATMAP, show_title);\\n            })\\n        })\\n    </script>\\n\\n    <script type=\"text/javascript\">\\n        jQuery(document).ready(function($){\\n            var showOverviewEvent = BWY.mixpanel.MIXPANEL_PROPERTY_NAMES.SHOW_OVERVIEW;\\n            var showTitle = \\'Hamilton\\';\\n            BWY.mixpanel.trackMixpanelEventWithShowTitle(showOverviewEvent, showTitle);\\n        });\\n    </script>\\n\\n    \\n\\n\\n\\n        \\n    \\n    \\n        <script type=\"text/javascript\">\\n        \\n        var google_tag_params = {\\n            dynx_itemid: \\'1870\\',\\n            dynx_pagetype: \\'show-overview\\'\\n        };\\n        </script>\\n\\n        <script type=\"text/javascript\">\\n        /* <![CDATA[ */\\n        var google_conversion_id = 1067883675;  \\n        var google_custom_params = window.google_tag_params;\\n        var google_remarketing_only = true;\\n        /* ]]> */\\n        </script>\\n        <div class=\"visually-hidden\">\\n            <script type=\"text/javascript\" src=\"//www.googleadservices.com/pagead/conversion.js\"></script>\\n        </div>\\n        <noscript>\\n        <div style=\"display:inline;\">\\n        <img height=\"1\" width=\"1\" style=\"border\\xadstyle:none;\" alt=\"\" src=\"//googleads.g.doubleclick.net/pagead/viewthroughconversion/1067883675/?value=0&amp;guid=ON&amp;script=0\"/>\\n        </div>\\n        </noscript>\\n    \\n    \\n\\n\\n    </body>\\n</html>\\n'"
            ]
          },
          "metadata": {},
          "execution_count": 19
        }
      ]
    },
    {
      "cell_type": "code",
      "source": [
        "soup1 = BeautifulSoup(hamilton.text, 'html.parser')"
      ],
      "metadata": {
        "id": "DPLI0vcBVjFa"
      },
      "execution_count": null,
      "outputs": []
    },
    {
      "cell_type": "code",
      "source": [
        "display(soup1)"
      ],
      "metadata": {
        "id": "aA9sATSSVn7N"
      },
      "execution_count": null,
      "outputs": []
    },
    {
      "cell_type": "code",
      "source": [
        "print(soup1.prettify())"
      ],
      "metadata": {
        "id": "jE4A_c9pVwvr"
      },
      "execution_count": null,
      "outputs": []
    },
    {
      "cell_type": "code",
      "source": [
        "soup1.find_all('span')"
      ],
      "metadata": {
        "id": "J7q9qmTnI3Mv"
      },
      "execution_count": null,
      "outputs": []
    },
    {
      "cell_type": "code",
      "source": [
        "for s in soup1.find_all('span',attrs={'class':'rspButtonBox__ticketValue'}):\n",
        "  print(s.text)"
      ],
      "metadata": {
        "colab": {
          "base_uri": "https://localhost:8080/"
        },
        "id": "efEWNCMgI_I6",
        "outputId": "506baf38-62d7-4150-a832-697775257a18"
      },
      "execution_count": null,
      "outputs": [
        {
          "output_type": "stream",
          "name": "stdout",
          "text": [
            "\n",
            "$199.00\n",
            "\n"
          ]
        }
      ]
    },
    {
      "cell_type": "code",
      "source": [
        "with open(\"../content/ham_price.txt\", \"a\") as file:\n",
        "    for y in soup1.find_all('span',attrs={'class':'rspButtonBox__ticketValue'}):\n",
        "      file.write(s.text)"
      ],
      "metadata": {
        "id": "_fI28zAhKT_r"
      },
      "execution_count": null,
      "outputs": []
    },
    {
      "cell_type": "code",
      "source": [
        "hamilton2=rq.get('https://www.show-score.com/broadway-shows/hamilton')\n",
        "hamilton2"
      ],
      "metadata": {
        "colab": {
          "base_uri": "https://localhost:8080/"
        },
        "id": "qJj-6Nm7SU9i",
        "outputId": "b1acfab7-deab-4b3f-9345-4fb79e7dc511"
      },
      "execution_count": null,
      "outputs": [
        {
          "output_type": "execute_result",
          "data": {
            "text/plain": [
              "<Response [200]>"
            ]
          },
          "metadata": {},
          "execution_count": 8
        }
      ]
    },
    {
      "cell_type": "code",
      "source": [
        "hamilton2.text"
      ],
      "metadata": {
        "id": "bSRKwuDRa5TR"
      },
      "execution_count": null,
      "outputs": []
    },
    {
      "cell_type": "code",
      "source": [
        "soup2 = BeautifulSoup(hamilton2.text, 'html.parser')"
      ],
      "metadata": {
        "id": "wFsbovRBazN1"
      },
      "execution_count": null,
      "outputs": []
    },
    {
      "cell_type": "code",
      "source": [
        "display(soup2)"
      ],
      "metadata": {
        "id": "ruLcl8-5a_px"
      },
      "execution_count": null,
      "outputs": []
    },
    {
      "cell_type": "code",
      "source": [
        "print(soup2.prettify())"
      ],
      "metadata": {
        "id": "2MSDF3p8bGpq"
      },
      "execution_count": null,
      "outputs": []
    },
    {
      "cell_type": "code",
      "source": [
        "soup2.find_all('div')"
      ],
      "metadata": {
        "id": "N2h_rR0kskzY"
      },
      "execution_count": null,
      "outputs": []
    },
    {
      "cell_type": "code",
      "source": [
        "for y in soup2.find_all('div',attrs={'class':'show-page-v2__title'}):\n",
        "  print(y.text)"
      ],
      "metadata": {
        "colab": {
          "base_uri": "https://localhost:8080/"
        },
        "id": "E7fwcjWps7ic",
        "outputId": "d5868358-406a-4a9f-ffaf-bcad774e411d"
      },
      "execution_count": null,
      "outputs": [
        {
          "output_type": "stream",
          "name": "stdout",
          "text": [
            "\n",
            "Hamilton (Broadway)\n",
            "\n"
          ]
        }
      ]
    },
    {
      "cell_type": "code",
      "source": [
        "with open(\"../content/ham_name.txt\", \"a\") as file:\n",
        "    for y in soup2.find_all('div',attrs={'class':'show-page-v2__title'}):\n",
        "        file.write(y.text)"
      ],
      "metadata": {
        "id": "BehHfZ_Xs7UW"
      },
      "execution_count": null,
      "outputs": []
    },
    {
      "cell_type": "code",
      "source": [
        "for z in soup2.find_all('div',attrs={'class':'show-page-v2__rating-bars-title'}):\n",
        "  print(z.text)"
      ],
      "metadata": {
        "colab": {
          "base_uri": "https://localhost:8080/"
        },
        "id": "vxaGlt5cASb5",
        "outputId": "0be02f79-5307-4424-d149-0cb8bae8a829"
      },
      "execution_count": null,
      "outputs": [
        {
          "output_type": "stream",
          "name": "stdout",
          "text": [
            "\n",
            "97%\n"
          ]
        }
      ]
    },
    {
      "cell_type": "code",
      "source": [
        "with open(\"../content/ham_rate.txt\", \"a\") as file:\n",
        "    for z in soup2.find_all('div',attrs={'class':'show-page-v2__rating-bars-title'}):\n",
        "        file.write(z.text)"
      ],
      "metadata": {
        "id": "gFxWDP7UA-AR"
      },
      "execution_count": null,
      "outputs": []
    },
    {
      "cell_type": "code",
      "source": [
        "hamilton3=rq.get('https://www.broadway.com/shows/hamilton-broadway/story/')\n",
        "hamilton3"
      ],
      "metadata": {
        "colab": {
          "base_uri": "https://localhost:8080/"
        },
        "id": "-LVAo2EjRNfK",
        "outputId": "64fb66ad-39bd-4b9e-8ffb-b074ec384a10"
      },
      "execution_count": null,
      "outputs": [
        {
          "output_type": "execute_result",
          "data": {
            "text/plain": [
              "<Response [200]>"
            ]
          },
          "metadata": {},
          "execution_count": 12
        }
      ]
    },
    {
      "cell_type": "code",
      "source": [
        "soup23=BeautifulSoup(hamilton3.text, 'html.parser')"
      ],
      "metadata": {
        "id": "ttwvk2AZTAcO"
      },
      "execution_count": null,
      "outputs": []
    },
    {
      "cell_type": "code",
      "source": [
        "print(soup23.prettify())"
      ],
      "metadata": {
        "id": "UaEA0TaUTwaX"
      },
      "execution_count": null,
      "outputs": []
    },
    {
      "cell_type": "code",
      "source": [
        "soup23.find_all('p')"
      ],
      "metadata": {
        "colab": {
          "base_uri": "https://localhost:8080/"
        },
        "id": "dcROqaYRT8U-",
        "outputId": "49ab9e71-197b-485e-d3a1-fd3c0718ec29"
      },
      "execution_count": null,
      "outputs": [
        {
          "output_type": "execute_result",
          "data": {
            "text/plain": [
              "[<p><em>Hamilton</em> is the story of the unlikely Founding Father determined to make his mark on the new nation as hungry and ambitious as he is. From bastard orphan to Washington's right-hand man, rebel to war hero, a loving husband caught in the country's first sex scandal, to the Treasury head who made an untrusting world believe in the American economy. George Washington, Eliza Hamilton, Thomas Jefferson and Hamilton's lifelong friend/foil Aaron Burr all make their mark in this astonishing new musical exploration of a political mastermind.</p>]"
            ]
          },
          "metadata": {},
          "execution_count": 23
        }
      ]
    },
    {
      "cell_type": "code",
      "source": [
        "for x in soup23.find_all('p'):\n",
        "  print(x.text)"
      ],
      "metadata": {
        "colab": {
          "base_uri": "https://localhost:8080/"
        },
        "id": "7Rw5jBLnVQwQ",
        "outputId": "e3ca1f19-dc24-49d7-b12a-51dbe0a4704c"
      },
      "execution_count": null,
      "outputs": [
        {
          "output_type": "stream",
          "name": "stdout",
          "text": [
            "Hamilton is the story of the unlikely Founding Father determined to make his mark on the new nation as hungry and ambitious as he is. From bastard orphan to Washington's right-hand man, rebel to war hero, a loving husband caught in the country's first sex scandal, to the Treasury head who made an untrusting world believe in the American economy. George Washington, Eliza Hamilton, Thomas Jefferson and Hamilton's lifelong friend/foil Aaron Burr all make their mark in this astonishing new musical exploration of a political mastermind.\n"
          ]
        }
      ]
    },
    {
      "cell_type": "code",
      "source": [
        "with open(\"../content/ham_descript.txt\", \"a\") as file:\n",
        "    for x in soup23.find_all('p'):\n",
        "        file.write(x.text)"
      ],
      "metadata": {
        "id": "JHl4MBmfZRl8"
      },
      "execution_count": null,
      "outputs": []
    },
    {
      "cell_type": "code",
      "source": [
        "# import pandas as pd\n",
        "\n",
        "# data = {}\n",
        "# for idx, x in enumerate(soup23.find_all('p')):\n",
        "#     data.update({idx:[x.text,hamilton3]})\n",
        "\n",
        "    \n",
        "# df = pd.DataFrame.from_dict(data,columns=[\"content\",\"source\"], orient=\"index\")\n",
        "\n",
        "\n",
        "# df"
      ],
      "metadata": {
        "id": "eMiliQoFWC75"
      },
      "execution_count": null,
      "outputs": []
    },
    {
      "cell_type": "code",
      "source": [
        "# df.to_csv(\"../content/ham_descript.csv\")"
      ],
      "metadata": {
        "id": "V6ZWDODGWlgy"
      },
      "execution_count": null,
      "outputs": []
    },
    {
      "cell_type": "code",
      "source": [
        "wicked=rq.get('https://www.broadway.com/shows/wicked/')\n",
        "wicked"
      ],
      "metadata": {
        "colab": {
          "base_uri": "https://localhost:8080/"
        },
        "id": "bzrXzO-nSVIe",
        "outputId": "4443d4b9-fc50-453c-c24b-26df776176e2"
      },
      "execution_count": null,
      "outputs": [
        {
          "output_type": "execute_result",
          "data": {
            "text/plain": [
              "<Response [200]>"
            ]
          },
          "metadata": {},
          "execution_count": 148
        }
      ]
    },
    {
      "cell_type": "code",
      "source": [
        "wicked.text"
      ],
      "metadata": {
        "id": "VuuEAODhbKlc"
      },
      "execution_count": null,
      "outputs": []
    },
    {
      "cell_type": "code",
      "source": [
        "soup3 = BeautifulSoup(wicked.text, 'html.parser')"
      ],
      "metadata": {
        "id": "wehNraEVbUvv"
      },
      "execution_count": null,
      "outputs": []
    },
    {
      "cell_type": "code",
      "source": [
        "display(soup3)"
      ],
      "metadata": {
        "id": "Rca6dV1YbjUq"
      },
      "execution_count": null,
      "outputs": []
    },
    {
      "cell_type": "code",
      "source": [
        "print(soup3.prettify())"
      ],
      "metadata": {
        "id": "ONcTFkhBbouu"
      },
      "execution_count": null,
      "outputs": []
    },
    {
      "cell_type": "code",
      "source": [
        "soup3.find_all('span')"
      ],
      "metadata": {
        "id": "qVqZesyGKsZ6"
      },
      "execution_count": null,
      "outputs": []
    },
    {
      "cell_type": "code",
      "source": [
        "for s in soup3.find_all('span',attrs={'class':'rspButtonBox__ticketValue'}):\n",
        "  print(s.text)"
      ],
      "metadata": {
        "colab": {
          "base_uri": "https://localhost:8080/"
        },
        "id": "T2FGllFIKr3d",
        "outputId": "33ab83ef-e04d-4633-b6ad-9e69a3c2fe33"
      },
      "execution_count": null,
      "outputs": [
        {
          "output_type": "stream",
          "name": "stdout",
          "text": [
            "\n",
            "$75.00\n",
            "\n"
          ]
        }
      ]
    },
    {
      "cell_type": "code",
      "source": [
        "with open(\"../content/wckd_price.txt\", \"a\") as file:\n",
        "    for y in soup3.find_all('span',attrs={'class':'rspButtonBox__ticketValue'}):\n",
        "      file.write(s.text)"
      ],
      "metadata": {
        "id": "I-wRTbFFKqXw"
      },
      "execution_count": null,
      "outputs": []
    },
    {
      "cell_type": "code",
      "source": [
        "wicked2=rq.get('https://www.show-score.com/broadway-shows/wicked')\n",
        "wicked2"
      ],
      "metadata": {
        "colab": {
          "base_uri": "https://localhost:8080/"
        },
        "id": "Ytzt17R_SVSC",
        "outputId": "522c190f-c8ed-4a7e-b803-b5c814ab2e14"
      },
      "execution_count": null,
      "outputs": [
        {
          "output_type": "execute_result",
          "data": {
            "text/plain": [
              "<Response [200]>"
            ]
          },
          "metadata": {},
          "execution_count": 153
        }
      ]
    },
    {
      "cell_type": "code",
      "source": [
        "wicked2.text"
      ],
      "metadata": {
        "id": "r4gWA06HbQqm"
      },
      "execution_count": null,
      "outputs": []
    },
    {
      "cell_type": "code",
      "source": [
        "soup4 = BeautifulSoup(wicked2.text, 'html.parser')"
      ],
      "metadata": {
        "id": "3GsUI1cWbYKd"
      },
      "execution_count": null,
      "outputs": []
    },
    {
      "cell_type": "code",
      "source": [
        "display(soup4)"
      ],
      "metadata": {
        "id": "5DgGyh8JbcS4"
      },
      "execution_count": null,
      "outputs": []
    },
    {
      "cell_type": "code",
      "source": [
        "print(soup4.prettify())"
      ],
      "metadata": {
        "id": "Juw3kZGfbuid"
      },
      "execution_count": null,
      "outputs": []
    },
    {
      "cell_type": "code",
      "source": [
        "soup4.find_all('div')"
      ],
      "metadata": {
        "id": "S6RYIy5MuIVr"
      },
      "execution_count": null,
      "outputs": []
    },
    {
      "cell_type": "code",
      "source": [
        "for y in soup4.find_all('div',attrs={'class':'show-page-v2__title'}):\n",
        "  print(y.text)"
      ],
      "metadata": {
        "colab": {
          "base_uri": "https://localhost:8080/"
        },
        "id": "j1cDJ1XYuMNd",
        "outputId": "6613843c-a3be-443f-c109-504eaf7738e5"
      },
      "execution_count": null,
      "outputs": [
        {
          "output_type": "stream",
          "name": "stdout",
          "text": [
            "\n",
            "Wicked (Broadway)\n",
            "\n"
          ]
        }
      ]
    },
    {
      "cell_type": "code",
      "source": [
        "with open(\"../content/wckd_name.txt\", \"a\") as file:\n",
        "    for y in soup4.find_all('div',attrs={'class':'show-page-v2__title'}):\n",
        "        file.write(y.text)"
      ],
      "metadata": {
        "id": "Y7eT6wvywfPH"
      },
      "execution_count": null,
      "outputs": []
    },
    {
      "cell_type": "code",
      "source": [
        "for z in soup4.find_all('div',attrs={'class':'show-page-v2__rating-bars-title'}):\n",
        "  print(z.text)"
      ],
      "metadata": {
        "colab": {
          "base_uri": "https://localhost:8080/"
        },
        "id": "_-8QDx5_BXSt",
        "outputId": "1f35120d-2ce7-47b9-e04a-452c1a0d15d0"
      },
      "execution_count": null,
      "outputs": [
        {
          "output_type": "stream",
          "name": "stdout",
          "text": [
            "\n",
            "93%\n"
          ]
        }
      ]
    },
    {
      "cell_type": "code",
      "source": [
        "with open(\"../content/wckd_rate.txt\", \"a\") as file:\n",
        "    for z in soup4.find_all('div',attrs={'class':'show-page-v2__rating-bars-title'}):\n",
        "        file.write(z.text)"
      ],
      "metadata": {
        "id": "D1mWsJ_zBXDy"
      },
      "execution_count": null,
      "outputs": []
    },
    {
      "cell_type": "code",
      "source": [
        "wicked3=rq.get('https://www.broadway.com/shows/wicked/story/')\n",
        "wicked3"
      ],
      "metadata": {
        "colab": {
          "base_uri": "https://localhost:8080/"
        },
        "id": "WNR4R0EiaAE8",
        "outputId": "2fc44322-9ca3-4516-a644-f3e1f3e0bdd6"
      },
      "execution_count": null,
      "outputs": [
        {
          "output_type": "execute_result",
          "data": {
            "text/plain": [
              "<Response [200]>"
            ]
          },
          "metadata": {},
          "execution_count": 45
        }
      ]
    },
    {
      "cell_type": "code",
      "source": [
        "wicked3.text"
      ],
      "metadata": {
        "id": "PGK-XIqD03Sr"
      },
      "execution_count": null,
      "outputs": []
    },
    {
      "cell_type": "code",
      "source": [
        "soup24=BeautifulSoup(wicked3.text, 'html.parser')"
      ],
      "metadata": {
        "id": "hHOfORxbaLPC"
      },
      "execution_count": null,
      "outputs": []
    },
    {
      "cell_type": "code",
      "source": [
        "print(soup24.prettify())"
      ],
      "metadata": {
        "id": "hBsCJNnBaXka"
      },
      "execution_count": null,
      "outputs": []
    },
    {
      "cell_type": "code",
      "source": [
        "soup24.find_all('p')"
      ],
      "metadata": {
        "colab": {
          "base_uri": "https://localhost:8080/"
        },
        "id": "vaBceTk5acS0",
        "outputId": "c6e617b9-e298-4b6d-f50b-37ac24c9a993"
      },
      "execution_count": null,
      "outputs": [
        {
          "output_type": "execute_result",
          "data": {
            "text/plain": [
              "[<p><em>Wicked</em>, the Broadway sensation, looks at what happened in the Land of Oz…but from a different angle. Long before Dorothy arrives, there is another girl, born with emerald-green skin—smart, fiery, misunderstood, and possessing an extraordinary talent. When she meets a bubbly blonde who is exceptionally popular, their initial rivalry turns into the unlikeliest of friendships…until the world decides to call one “good,” and the other one “wicked.”</p>]"
            ]
          },
          "metadata": {},
          "execution_count": 48
        }
      ]
    },
    {
      "cell_type": "code",
      "source": [
        "for x in soup24.find_all('p'):\n",
        "  print(x.text)"
      ],
      "metadata": {
        "colab": {
          "base_uri": "https://localhost:8080/"
        },
        "id": "eugjx-_JaeRp",
        "outputId": "9f6643e2-ddcf-4e76-fdd5-81a1ff9f9ede"
      },
      "execution_count": null,
      "outputs": [
        {
          "output_type": "stream",
          "name": "stdout",
          "text": [
            "Wicked, the Broadway sensation, looks at what happened in the Land of Oz…but from a different angle. Long before Dorothy arrives, there is another girl, born with emerald-green skin—smart, fiery, misunderstood, and possessing an extraordinary talent. When she meets a bubbly blonde who is exceptionally popular, their initial rivalry turns into the unlikeliest of friendships…until the world decides to call one “good,” and the other one “wicked.”\n"
          ]
        }
      ]
    },
    {
      "cell_type": "code",
      "source": [
        "with open(\"../content/wckd_descript.txt\", \"a\") as file:\n",
        "    for x in soup24.find_all('p'):\n",
        "        file.write(x.text)"
      ],
      "metadata": {
        "id": "wQcm0QFjamTn"
      },
      "execution_count": null,
      "outputs": []
    },
    {
      "cell_type": "code",
      "source": [
        "hadestown=rq.get('https://www.broadway.com/shows/hadestown/')\n",
        "hadestown"
      ],
      "metadata": {
        "colab": {
          "base_uri": "https://localhost:8080/"
        },
        "id": "c2uqL4dRSVaS",
        "outputId": "1f7b0d27-5d8f-4a09-90a7-991c608eee39"
      },
      "execution_count": null,
      "outputs": [
        {
          "output_type": "execute_result",
          "data": {
            "text/plain": [
              "<Response [200]>"
            ]
          },
          "metadata": {},
          "execution_count": 298
        }
      ]
    },
    {
      "cell_type": "code",
      "source": [
        "hadestown.text"
      ],
      "metadata": {
        "id": "cEsxb7xpt7U2"
      },
      "execution_count": null,
      "outputs": []
    },
    {
      "cell_type": "code",
      "source": [
        "soup5 = BeautifulSoup(hadestown.text, 'html.parser')"
      ],
      "metadata": {
        "id": "Oa8CbjjHuAye"
      },
      "execution_count": null,
      "outputs": []
    },
    {
      "cell_type": "code",
      "source": [
        "display(soup5)"
      ],
      "metadata": {
        "id": "5Wq18CoVuLua"
      },
      "execution_count": null,
      "outputs": []
    },
    {
      "cell_type": "code",
      "source": [
        "print(soup5.prettify())"
      ],
      "metadata": {
        "id": "2zw-iTQMuVur"
      },
      "execution_count": null,
      "outputs": []
    },
    {
      "cell_type": "code",
      "source": [
        "soup5.find_all('span')"
      ],
      "metadata": {
        "id": "DDDZWVSZK03n"
      },
      "execution_count": null,
      "outputs": []
    },
    {
      "cell_type": "code",
      "source": [
        "for s in soup5.find_all('span',attrs={'class':'rspButtonBox__ticketValue'}):\n",
        "  print(s.text)"
      ],
      "metadata": {
        "colab": {
          "base_uri": "https://localhost:8080/"
        },
        "id": "ToCOHXZfK0uu",
        "outputId": "8d9cca7e-cd96-4614-c1e1-dff11565c156"
      },
      "execution_count": null,
      "outputs": [
        {
          "output_type": "stream",
          "name": "stdout",
          "text": [
            "\n",
            "$49.00\n",
            "\n"
          ]
        }
      ]
    },
    {
      "cell_type": "code",
      "source": [
        "with open(\"../content/hstw_price.txt\", \"a\") as file:\n",
        "    for y in soup5.find_all('span',attrs={'class':'rspButtonBox__ticketValue'}):\n",
        "      file.write(s.text)"
      ],
      "metadata": {
        "id": "vUfsu9jtK0kc"
      },
      "execution_count": null,
      "outputs": []
    },
    {
      "cell_type": "code",
      "source": [
        "hadestown2=rq.get('https://www.show-score.com/broadway-shows/hadestown-broadway')\n",
        "hadestown2"
      ],
      "metadata": {
        "colab": {
          "base_uri": "https://localhost:8080/"
        },
        "id": "YVlanhuPSVen",
        "outputId": "eef355c7-14ee-4ae1-b323-9db534c0f0a3"
      },
      "execution_count": null,
      "outputs": [
        {
          "output_type": "execute_result",
          "data": {
            "text/plain": [
              "<Response [200]>"
            ]
          },
          "metadata": {},
          "execution_count": 172
        }
      ]
    },
    {
      "cell_type": "code",
      "source": [
        "hadestown2.text"
      ],
      "metadata": {
        "id": "yz6R-9iLt31D"
      },
      "execution_count": null,
      "outputs": []
    },
    {
      "cell_type": "code",
      "source": [
        "soup6 = BeautifulSoup(hadestown2.text, 'html.parser')"
      ],
      "metadata": {
        "id": "qICXcOsMuFHW"
      },
      "execution_count": null,
      "outputs": []
    },
    {
      "cell_type": "code",
      "source": [
        "display(soup6)"
      ],
      "metadata": {
        "id": "-NhP-I1LuP0j"
      },
      "execution_count": null,
      "outputs": []
    },
    {
      "cell_type": "code",
      "source": [
        "print(soup6.prettify())"
      ],
      "metadata": {
        "id": "gwHDeeDJuYL7"
      },
      "execution_count": null,
      "outputs": []
    },
    {
      "cell_type": "code",
      "source": [
        "soup6.find_all('div')"
      ],
      "metadata": {
        "id": "M8INkHXJ1HXH"
      },
      "execution_count": null,
      "outputs": []
    },
    {
      "cell_type": "code",
      "source": [
        "for y in soup6.find_all('div',attrs={'class':'show-page-v2__title'}):\n",
        "  print(y.text)"
      ],
      "metadata": {
        "colab": {
          "base_uri": "https://localhost:8080/"
        },
        "id": "miyJxcLg2Ahu",
        "outputId": "2bb88b92-6702-4871-9197-258a511ee325"
      },
      "execution_count": null,
      "outputs": [
        {
          "output_type": "stream",
          "name": "stdout",
          "text": [
            "\n",
            "Hadestown (Broadway)\n",
            "\n"
          ]
        }
      ]
    },
    {
      "cell_type": "code",
      "source": [
        "with open(\"../content/hstw_name.txt\", \"a\") as file:\n",
        "    for y in soup6.find_all('div',attrs={'class':'show-page-v2__title'}):\n",
        "        file.write(y.text)"
      ],
      "metadata": {
        "id": "avyFFyrC2_Gc"
      },
      "execution_count": null,
      "outputs": []
    },
    {
      "cell_type": "code",
      "source": [
        "for z in soup6.find_all('div',attrs={'class':'show-page-v2__rating-bars-title'}):\n",
        "  print(z.text)"
      ],
      "metadata": {
        "colab": {
          "base_uri": "https://localhost:8080/"
        },
        "id": "oIp2WHfLBiMj",
        "outputId": "4d6045d0-0f4f-43e8-998f-64b5037b3e22"
      },
      "execution_count": null,
      "outputs": [
        {
          "output_type": "stream",
          "name": "stdout",
          "text": [
            "\n",
            "91%\n"
          ]
        }
      ]
    },
    {
      "cell_type": "code",
      "source": [
        "with open(\"../content/hstw_rate.txt\", \"a\") as file:\n",
        "    for z in soup6.find_all('div',attrs={'class':'show-page-v2__rating-bars-title'}):\n",
        "        file.write(z.text)"
      ],
      "metadata": {
        "id": "neWlBVyVBiBG"
      },
      "execution_count": null,
      "outputs": []
    },
    {
      "cell_type": "code",
      "source": [
        "hadestown3=rq.get('https://www.broadway.com/shows/hadestown/story/')\n",
        "hadestown3"
      ],
      "metadata": {
        "colab": {
          "base_uri": "https://localhost:8080/"
        },
        "id": "b1WM62ECdHTB",
        "outputId": "d038fb89-be47-4ce4-d920-e635ab42d7bf"
      },
      "execution_count": null,
      "outputs": [
        {
          "output_type": "execute_result",
          "data": {
            "text/plain": [
              "<Response [200]>"
            ]
          },
          "metadata": {},
          "execution_count": 52
        }
      ]
    },
    {
      "cell_type": "code",
      "source": [
        "hadestown3.text"
      ],
      "metadata": {
        "id": "eXW6modndOQT"
      },
      "execution_count": null,
      "outputs": []
    },
    {
      "cell_type": "code",
      "source": [
        "soup25=BeautifulSoup(hadestown3.text, 'html.parser')"
      ],
      "metadata": {
        "id": "0oX-Fh16dZ1D"
      },
      "execution_count": null,
      "outputs": []
    },
    {
      "cell_type": "code",
      "source": [
        "print(soup25.prettify())"
      ],
      "metadata": {
        "id": "jY-CXmK5dafO"
      },
      "execution_count": null,
      "outputs": []
    },
    {
      "cell_type": "code",
      "source": [
        "soup25.find_all('p')"
      ],
      "metadata": {
        "colab": {
          "base_uri": "https://localhost:8080/"
        },
        "id": "GUyEvB2OddQT",
        "outputId": "58c58eac-ef67-4552-b5c0-fa31f7fa285b"
      },
      "execution_count": null,
      "outputs": [
        {
          "output_type": "execute_result",
          "data": {
            "text/plain": [
              "[<p>Welcome to <em>Hadestown</em>, where a song can change your fate. This acclaimed new musical by celebrated singer-songwriter Anaïs Mitchell and innovative director Rachel Chavkin (Natasha, Pierre &amp; The Great Comet of 1812) is a love story for today… and always.<br/>\n",
              " <br/>\n",
              " <em>Hadestown</em> intertwines two mythic tales—that of young dreamers Orpheus and Eurydice, and that of King Hades and his wife Persephone—as it invites you on a hell-raising journey to the underworld and back. Mitchell’s beguiling melodies and Chavkin’s poetic imagination pit industry against nature, doubt against faith, and fear against love. Performed by a vibrant ensemble of actors, dancers and singers, Hadestown is a haunting and hopeful theatrical experience that grabs you and never lets go.</p>]"
            ]
          },
          "metadata": {},
          "execution_count": 56
        }
      ]
    },
    {
      "cell_type": "code",
      "source": [
        "for x in soup25.find_all('p'):\n",
        "  print(x.text)"
      ],
      "metadata": {
        "colab": {
          "base_uri": "https://localhost:8080/"
        },
        "id": "wBD-ByDJdrbd",
        "outputId": "8a8f2e22-ee21-431b-9087-1b4ea5563a65"
      },
      "execution_count": null,
      "outputs": [
        {
          "output_type": "stream",
          "name": "stdout",
          "text": [
            "Welcome to Hadestown, where a song can change your fate. This acclaimed new musical by celebrated singer-songwriter Anaïs Mitchell and innovative director Rachel Chavkin (Natasha, Pierre & The Great Comet of 1812) is a love story for today… and always.\n",
            "\n",
            "Hadestown intertwines two mythic tales—that of young dreamers Orpheus and Eurydice, and that of King Hades and his wife Persephone—as it invites you on a hell-raising journey to the underworld and back. Mitchell’s beguiling melodies and Chavkin’s poetic imagination pit industry against nature, doubt against faith, and fear against love. Performed by a vibrant ensemble of actors, dancers and singers, Hadestown is a haunting and hopeful theatrical experience that grabs you and never lets go.\n"
          ]
        }
      ]
    },
    {
      "cell_type": "code",
      "source": [
        "with open(\"../content/hstw_descript.txt\", \"a\") as file:\n",
        "    for x in soup25.find_all('p'):\n",
        "        file.write(x.text)"
      ],
      "metadata": {
        "id": "HXbLI_hxducI"
      },
      "execution_count": null,
      "outputs": []
    },
    {
      "cell_type": "code",
      "source": [
        "hp=rq.get('https://www.broadway.com/shows/harry-potter-and-cursed-child-broadway/')\n",
        "hp"
      ],
      "metadata": {
        "colab": {
          "base_uri": "https://localhost:8080/"
        },
        "id": "zbq5_wuHSVhl",
        "outputId": "4751f952-4fa8-4ff5-d824-1313ae42582f"
      },
      "execution_count": null,
      "outputs": [
        {
          "output_type": "execute_result",
          "data": {
            "text/plain": [
              "<Response [200]>"
            ]
          },
          "metadata": {},
          "execution_count": 302
        }
      ]
    },
    {
      "cell_type": "code",
      "source": [
        "hp.text"
      ],
      "metadata": {
        "id": "WYu1tgeKuotI"
      },
      "execution_count": null,
      "outputs": []
    },
    {
      "cell_type": "code",
      "source": [
        "soup7 = BeautifulSoup(hp.text, 'html.parser')"
      ],
      "metadata": {
        "id": "zpCIE9QpuzZx"
      },
      "execution_count": null,
      "outputs": []
    },
    {
      "cell_type": "code",
      "source": [
        "display(soup7)"
      ],
      "metadata": {
        "id": "289xXTQ3u2Sk"
      },
      "execution_count": null,
      "outputs": []
    },
    {
      "cell_type": "code",
      "source": [
        "print(soup7.prettify())"
      ],
      "metadata": {
        "id": "uGW-8EbgvEiU"
      },
      "execution_count": null,
      "outputs": []
    },
    {
      "cell_type": "code",
      "source": [
        "soup7.find_all('span')"
      ],
      "metadata": {
        "id": "7a8cw6HfK9W5"
      },
      "execution_count": null,
      "outputs": []
    },
    {
      "cell_type": "code",
      "source": [
        "for s in soup7.find_all('span',attrs={'class':'rspButtonBox__ticketValue'}):\n",
        "  print(s.text)"
      ],
      "metadata": {
        "colab": {
          "base_uri": "https://localhost:8080/"
        },
        "id": "gzIc74t7K9O_",
        "outputId": "50b000b1-97e7-4ea3-ca50-3ed8d3fd9023"
      },
      "execution_count": null,
      "outputs": [
        {
          "output_type": "stream",
          "name": "stdout",
          "text": [
            "\n",
            "$59.00\n",
            "\n"
          ]
        }
      ]
    },
    {
      "cell_type": "code",
      "source": [
        "with open(\"../content/hp_price.txt\", \"a\") as file:\n",
        "    for y in soup7.find_all('span',attrs={'class':'rspButtonBox__ticketValue'}):\n",
        "      file.write(s.text)"
      ],
      "metadata": {
        "id": "87hFXH_LK9Ci"
      },
      "execution_count": null,
      "outputs": []
    },
    {
      "cell_type": "code",
      "source": [
        "hp2=rq.get('https://www.show-score.com/broadway-shows/harry-potter-and-the-cursed-child')\n",
        "hp2"
      ],
      "metadata": {
        "colab": {
          "base_uri": "https://localhost:8080/"
        },
        "id": "NuGhEFyNSVkT",
        "outputId": "f7368ec3-fef9-44b5-97c2-0a0629ab89f2"
      },
      "execution_count": null,
      "outputs": [
        {
          "output_type": "execute_result",
          "data": {
            "text/plain": [
              "<Response [200]>"
            ]
          },
          "metadata": {},
          "execution_count": 180
        }
      ]
    },
    {
      "cell_type": "code",
      "source": [
        "hp2.text"
      ],
      "metadata": {
        "id": "2DxF1DuhuuLZ"
      },
      "execution_count": null,
      "outputs": []
    },
    {
      "cell_type": "code",
      "source": [
        "soup8 = BeautifulSoup(hp2.text, 'html.parser')"
      ],
      "metadata": {
        "id": "yxxlFforu59M"
      },
      "execution_count": null,
      "outputs": []
    },
    {
      "cell_type": "code",
      "source": [
        "display(soup8)"
      ],
      "metadata": {
        "id": "aUxuwwWXu8hr"
      },
      "execution_count": null,
      "outputs": []
    },
    {
      "cell_type": "code",
      "source": [
        "print(soup8.prettify())"
      ],
      "metadata": {
        "id": "LvEBJ6BevBcj"
      },
      "execution_count": null,
      "outputs": []
    },
    {
      "cell_type": "code",
      "source": [
        "soup8.find_all('div')"
      ],
      "metadata": {
        "id": "bQcP5Aai3Q7k"
      },
      "execution_count": null,
      "outputs": []
    },
    {
      "cell_type": "code",
      "source": [
        "for y in soup8.find_all('div',attrs={'class':'show-page-v2__title'}):\n",
        "  print(y.text)"
      ],
      "metadata": {
        "colab": {
          "base_uri": "https://localhost:8080/"
        },
        "id": "XUForQDR3Qz9",
        "outputId": "cf3df35b-c336-4e13-95ce-03c902dfe356"
      },
      "execution_count": null,
      "outputs": [
        {
          "output_type": "stream",
          "name": "stdout",
          "text": [
            "\n",
            "Harry Potter and the Cursed Child (NYC)\n",
            "\n"
          ]
        }
      ]
    },
    {
      "cell_type": "code",
      "source": [
        "with open(\"../content/hp_name.txt\", \"a\") as file:\n",
        "    for y in soup8.find_all('div',attrs={'class':'show-page-v2__title'}):\n",
        "        file.write(y.text)"
      ],
      "metadata": {
        "id": "h1jAPLnm3Qsw"
      },
      "execution_count": null,
      "outputs": []
    },
    {
      "cell_type": "code",
      "source": [
        "for z in soup8.find_all('div',attrs={'class':'show-page-v2__rating-bars-title'}):\n",
        "  print(z.text)"
      ],
      "metadata": {
        "colab": {
          "base_uri": "https://localhost:8080/"
        },
        "id": "bWhs7_NhBqnM",
        "outputId": "4f2f0de9-32a1-44ae-957a-78d808e21fd4"
      },
      "execution_count": null,
      "outputs": [
        {
          "output_type": "stream",
          "name": "stdout",
          "text": [
            "\n",
            "90%\n"
          ]
        }
      ]
    },
    {
      "cell_type": "code",
      "source": [
        "with open(\"../content/hp_rate.txt\", \"a\") as file:\n",
        "    for z in soup8.find_all('div',attrs={'class':'show-page-v2__rating-bars-title'}):\n",
        "        file.write(z.text)"
      ],
      "metadata": {
        "id": "SLTJemd6Bqbs"
      },
      "execution_count": null,
      "outputs": []
    },
    {
      "cell_type": "code",
      "source": [
        "hp3=rq.get('https://www.broadway.com/shows/harry-potter-and-cursed-child-broadway/story/')\n",
        "hp3"
      ],
      "metadata": {
        "colab": {
          "base_uri": "https://localhost:8080/"
        },
        "id": "nDxuzMmtd_uk",
        "outputId": "f94aea10-090c-4297-e408-fe231818ee2a"
      },
      "execution_count": null,
      "outputs": [
        {
          "output_type": "execute_result",
          "data": {
            "text/plain": [
              "<Response [200]>"
            ]
          },
          "metadata": {},
          "execution_count": 59
        }
      ]
    },
    {
      "cell_type": "code",
      "source": [
        "hp3.text"
      ],
      "metadata": {
        "id": "vn57IvUgd_q4"
      },
      "execution_count": null,
      "outputs": []
    },
    {
      "cell_type": "code",
      "source": [
        "soup26=BeautifulSoup(hp3.text, 'html.parser')"
      ],
      "metadata": {
        "id": "K9xF1iSwd_oI"
      },
      "execution_count": null,
      "outputs": []
    },
    {
      "cell_type": "code",
      "source": [
        "print(soup25.prettify())"
      ],
      "metadata": {
        "id": "ckdbYgoId_gk"
      },
      "execution_count": null,
      "outputs": []
    },
    {
      "cell_type": "code",
      "source": [
        "soup26.find_all('p')"
      ],
      "metadata": {
        "colab": {
          "base_uri": "https://localhost:8080/"
        },
        "id": "Ctuu_kJrd_TK",
        "outputId": "0cecab34-eb82-4238-8711-428d5cb76c65"
      },
      "execution_count": null,
      "outputs": [
        {
          "output_type": "execute_result",
          "data": {
            "text/plain": [
              "[<p>19 years after Harry, Ron, and Hermione saved the wizarding world, they’re back on a most extraordinary new adventure – this time, joined by a brave new generation that has only just arrived at the legendary Hogwarts School of Witchcraft and Wizardry. Prepare for spectacular spells, a mind-blowing race through time, and an epic battle to stop mysterious forces, all while the future hangs in the balance.</p>]"
            ]
          },
          "metadata": {},
          "execution_count": 63
        }
      ]
    },
    {
      "cell_type": "code",
      "source": [
        "for x in soup26.find_all('p'):\n",
        "  print(x.text)"
      ],
      "metadata": {
        "colab": {
          "base_uri": "https://localhost:8080/"
        },
        "id": "RU4LhuTnd_E3",
        "outputId": "a20d9e23-1be9-4b0a-bcd1-9acee3f0ed30"
      },
      "execution_count": null,
      "outputs": [
        {
          "output_type": "stream",
          "name": "stdout",
          "text": [
            "19 years after Harry, Ron, and Hermione saved the wizarding world, they’re back on a most extraordinary new adventure – this time, joined by a brave new generation that has only just arrived at the legendary Hogwarts School of Witchcraft and Wizardry. Prepare for spectacular spells, a mind-blowing race through time, and an epic battle to stop mysterious forces, all while the future hangs in the balance.\n"
          ]
        }
      ]
    },
    {
      "cell_type": "code",
      "source": [
        "with open(\"../content/hp_descript.txt\", \"a\") as file:\n",
        "    for x in soup26.find_all('p'):\n",
        "        file.write(x.text)"
      ],
      "metadata": {
        "id": "tiRD-coyd-tZ"
      },
      "execution_count": null,
      "outputs": []
    },
    {
      "cell_type": "code",
      "source": [
        "poto=rq.get('https://www.broadway.com/shows/the-phantom-of-the-opera/')\n",
        "poto"
      ],
      "metadata": {
        "colab": {
          "base_uri": "https://localhost:8080/"
        },
        "id": "nx-3ZN8YSVmh",
        "outputId": "3042538c-7969-4327-c7f1-3ccf8eea3651"
      },
      "execution_count": null,
      "outputs": [
        {
          "output_type": "execute_result",
          "data": {
            "text/plain": [
              "<Response [200]>"
            ]
          },
          "metadata": {},
          "execution_count": 306
        }
      ]
    },
    {
      "cell_type": "code",
      "source": [
        "poto.text"
      ],
      "metadata": {
        "id": "ToKvTCIUvQqJ"
      },
      "execution_count": null,
      "outputs": []
    },
    {
      "cell_type": "code",
      "source": [
        "soup9 = BeautifulSoup(poto.text, 'html.parser')"
      ],
      "metadata": {
        "id": "2MOk6-8pvfMP"
      },
      "execution_count": null,
      "outputs": []
    },
    {
      "cell_type": "code",
      "source": [
        "display(soup9)"
      ],
      "metadata": {
        "id": "D2NWPgMAviaI"
      },
      "execution_count": null,
      "outputs": []
    },
    {
      "cell_type": "code",
      "source": [
        "print(soup9.prettify())"
      ],
      "metadata": {
        "id": "maL47JUBvmrX"
      },
      "execution_count": null,
      "outputs": []
    },
    {
      "cell_type": "code",
      "source": [
        "soup9.find_all('span')"
      ],
      "metadata": {
        "id": "v5KSNlu0LDtS"
      },
      "execution_count": null,
      "outputs": []
    },
    {
      "cell_type": "code",
      "source": [
        "for s in soup9.find_all('span',attrs={'class':'rspButtonBox__ticketValue'}):\n",
        "  print(s.text)"
      ],
      "metadata": {
        "colab": {
          "base_uri": "https://localhost:8080/"
        },
        "id": "0g7eShzvLDlB",
        "outputId": "c3422cfd-00f9-4a42-edd4-b0fe3d71f5bc"
      },
      "execution_count": null,
      "outputs": [
        {
          "output_type": "stream",
          "name": "stdout",
          "text": [
            "\n",
            "$29.00\n",
            "\n"
          ]
        }
      ]
    },
    {
      "cell_type": "code",
      "source": [
        "with open(\"../content/poto_price.txt\", \"a\") as file:\n",
        "    for y in soup9.find_all('span',attrs={'class':'rspButtonBox__ticketValue'}):\n",
        "      file.write(s.text)"
      ],
      "metadata": {
        "id": "xfhw9eSgLDbk"
      },
      "execution_count": null,
      "outputs": []
    },
    {
      "cell_type": "code",
      "source": [
        "poto2=rq.get('https://www.show-score.com/broadway-shows/the-phantom-of-the-opera')\n",
        "poto2"
      ],
      "metadata": {
        "colab": {
          "base_uri": "https://localhost:8080/"
        },
        "id": "SUQAWS7dSVon",
        "outputId": "bb922c7a-7196-4c99-b26d-209522344adf"
      },
      "execution_count": null,
      "outputs": [
        {
          "output_type": "execute_result",
          "data": {
            "text/plain": [
              "<Response [200]>"
            ]
          },
          "metadata": {},
          "execution_count": 191
        }
      ]
    },
    {
      "cell_type": "code",
      "source": [
        "poto2.text"
      ],
      "metadata": {
        "id": "-koHvyjfvTsq"
      },
      "execution_count": null,
      "outputs": []
    },
    {
      "cell_type": "code",
      "source": [
        "soup10 = BeautifulSoup(poto2.text, 'html.parser')"
      ],
      "metadata": {
        "id": "AfUo6Do8vsva"
      },
      "execution_count": null,
      "outputs": []
    },
    {
      "cell_type": "code",
      "source": [
        "display(soup10)"
      ],
      "metadata": {
        "id": "VSB8Vif0vvw2"
      },
      "execution_count": null,
      "outputs": []
    },
    {
      "cell_type": "code",
      "source": [
        "print(soup10.prettify())"
      ],
      "metadata": {
        "id": "EA1zC9oivzmm"
      },
      "execution_count": null,
      "outputs": []
    },
    {
      "cell_type": "code",
      "source": [
        "soup10.find_all('div')"
      ],
      "metadata": {
        "id": "PcnXyvSE5IBw"
      },
      "execution_count": null,
      "outputs": []
    },
    {
      "cell_type": "code",
      "source": [
        "for y in soup10.find_all('div',attrs={'class':'show-page-v2__title'}):\n",
        "  print(y.text)"
      ],
      "metadata": {
        "colab": {
          "base_uri": "https://localhost:8080/"
        },
        "id": "tGaKRlUd5LTX",
        "outputId": "138b3404-055e-44eb-92cb-69dbdce3392c"
      },
      "execution_count": null,
      "outputs": [
        {
          "output_type": "stream",
          "name": "stdout",
          "text": [
            "\n",
            "The Phantom of the Opera (Broadway)\n",
            "\n"
          ]
        }
      ]
    },
    {
      "cell_type": "code",
      "source": [
        "with open(\"../content/poto_name.txt\", \"a\") as file:\n",
        "    for y in soup10.find_all('div',attrs={'class':'show-page-v2__title'}):\n",
        "        file.write(y.text)"
      ],
      "metadata": {
        "id": "lVWR3WLM5NMj"
      },
      "execution_count": null,
      "outputs": []
    },
    {
      "cell_type": "code",
      "source": [
        "for z in soup10.find_all('div',attrs={'class':'show-page-v2__rating-bars-title'}):\n",
        "  print(z.text)"
      ],
      "metadata": {
        "colab": {
          "base_uri": "https://localhost:8080/"
        },
        "id": "T8H_gIyFBwS_",
        "outputId": "01837044-099b-459c-f5c5-5bcdd05197cf"
      },
      "execution_count": null,
      "outputs": [
        {
          "output_type": "stream",
          "name": "stdout",
          "text": [
            "\n",
            "87%\n"
          ]
        }
      ]
    },
    {
      "cell_type": "code",
      "source": [
        "with open(\"../content/poto_rate.txt\", \"a\") as file:\n",
        "    for z in soup10.find_all('div',attrs={'class':'show-page-v2__rating-bars-title'}):\n",
        "        file.write(z.text)"
      ],
      "metadata": {
        "id": "psCXl041BwG9"
      },
      "execution_count": null,
      "outputs": []
    },
    {
      "cell_type": "code",
      "source": [
        "poto3=rq.get('https://www.broadway.com/shows/the-phantom-of-the-opera/story/')\n",
        "poto3"
      ],
      "metadata": {
        "colab": {
          "base_uri": "https://localhost:8080/"
        },
        "id": "CiwUvwIke6UW",
        "outputId": "57f6a47c-b810-4512-ea08-e2603eaccd88"
      },
      "execution_count": null,
      "outputs": [
        {
          "output_type": "execute_result",
          "data": {
            "text/plain": [
              "<Response [200]>"
            ]
          },
          "metadata": {},
          "execution_count": 67
        }
      ]
    },
    {
      "cell_type": "code",
      "source": [
        "poto3.text"
      ],
      "metadata": {
        "id": "ePTcibITe8Lh"
      },
      "execution_count": null,
      "outputs": []
    },
    {
      "cell_type": "code",
      "source": [
        "soup27=BeautifulSoup(poto3.text, 'html.parser')"
      ],
      "metadata": {
        "id": "mfH5eyMKe8JT"
      },
      "execution_count": null,
      "outputs": []
    },
    {
      "cell_type": "code",
      "source": [
        "soup27.find_all('p')"
      ],
      "metadata": {
        "colab": {
          "base_uri": "https://localhost:8080/"
        },
        "id": "f95CLiGre745",
        "outputId": "032af36d-7a2c-4caf-f15b-5a6f310f5e63"
      },
      "execution_count": null,
      "outputs": [
        {
          "output_type": "execute_result",
          "data": {
            "text/plain": [
              "[<p>The longest-running show in Broadway history, Andrew Lloyd Webber’s <i>The Phantom of the Opera</i> debuted in 1988, winning seven Tony Awards® including Best Musical. Based on Gaston Leroux’s horror novel, it tells the enticing story of the Phantom, who haunts the stage of the Paris Opera and subsequently falls in love with a beautiful young soprano. Audiences are in for a thrilling night at the theater to see this timeless tale, accompanied by an unforgettable musical score.</p>]"
            ]
          },
          "metadata": {},
          "execution_count": 73
        }
      ]
    },
    {
      "cell_type": "code",
      "source": [
        "print(soup27.prettify())"
      ],
      "metadata": {
        "id": "uQJTVfxMe8FO"
      },
      "execution_count": null,
      "outputs": []
    },
    {
      "cell_type": "code",
      "source": [
        "for x in soup27.find_all('p'):\n",
        "  print(x.text)"
      ],
      "metadata": {
        "colab": {
          "base_uri": "https://localhost:8080/"
        },
        "id": "QiejHlnbe71J",
        "outputId": "5d0e807d-cbde-4692-d0ee-fcc36754cac7"
      },
      "execution_count": null,
      "outputs": [
        {
          "output_type": "stream",
          "name": "stdout",
          "text": [
            "The longest-running show in Broadway history, Andrew Lloyd Webber’s The Phantom of the Opera debuted in 1988, winning seven Tony Awards® including Best Musical. Based on Gaston Leroux’s horror novel, it tells the enticing story of the Phantom, who haunts the stage of the Paris Opera and subsequently falls in love with a beautiful young soprano. Audiences are in for a thrilling night at the theater to see this timeless tale, accompanied by an unforgettable musical score.\n"
          ]
        }
      ]
    },
    {
      "cell_type": "code",
      "source": [
        "with open(\"../content/poto_descript.txt\", \"a\") as file:\n",
        "    for x in soup27.find_all('p'):\n",
        "        file.write(x.text)"
      ],
      "metadata": {
        "id": "_3xXR-aTe7vs"
      },
      "execution_count": null,
      "outputs": []
    },
    {
      "cell_type": "code",
      "source": [
        "mm=rq.get('https://www.broadway.com/shows/music-man/')\n",
        "mm"
      ],
      "metadata": {
        "colab": {
          "base_uri": "https://localhost:8080/"
        },
        "id": "yQRYZ9c8SVq1",
        "outputId": "da893a08-5fda-4ccf-e6c6-be963bbed1c7"
      },
      "execution_count": null,
      "outputs": [
        {
          "output_type": "execute_result",
          "data": {
            "text/plain": [
              "<Response [200]>"
            ]
          },
          "metadata": {},
          "execution_count": 310
        }
      ]
    },
    {
      "cell_type": "code",
      "source": [
        "mm.text"
      ],
      "metadata": {
        "id": "lKtmosmov_oO"
      },
      "execution_count": null,
      "outputs": []
    },
    {
      "cell_type": "code",
      "source": [
        "soup11=BeautifulSoup(mm.text, 'html.parser')"
      ],
      "metadata": {
        "id": "vTJRdx6qwCWT"
      },
      "execution_count": null,
      "outputs": []
    },
    {
      "cell_type": "code",
      "source": [
        "display(soup11)"
      ],
      "metadata": {
        "id": "wiedgLz7wHCr"
      },
      "execution_count": null,
      "outputs": []
    },
    {
      "cell_type": "code",
      "source": [
        "print(soup11.prettify())"
      ],
      "metadata": {
        "id": "wno-n5FkwUSL"
      },
      "execution_count": null,
      "outputs": []
    },
    {
      "cell_type": "code",
      "source": [
        "soup11.find_all('span')"
      ],
      "metadata": {
        "id": "UegUSGdrLJZ_"
      },
      "execution_count": null,
      "outputs": []
    },
    {
      "cell_type": "code",
      "source": [
        "for s in soup11.find_all('span',attrs={'class':'rspButtonBox__ticketValue'}):\n",
        "  print(s.text)"
      ],
      "metadata": {
        "colab": {
          "base_uri": "https://localhost:8080/"
        },
        "id": "rGRKt2xuLJRn",
        "outputId": "e44a9150-2315-48ea-8ad1-c20284e4f4c8"
      },
      "execution_count": null,
      "outputs": [
        {
          "output_type": "stream",
          "name": "stdout",
          "text": [
            "\n",
            "$99.00\n",
            "\n"
          ]
        }
      ]
    },
    {
      "cell_type": "code",
      "source": [
        "with open(\"../content/mm_price.txt\", \"a\") as file:\n",
        "    for y in soup11.find_all('span',attrs={'class':'rspButtonBox__ticketValue'}):\n",
        "      file.write(s.text)"
      ],
      "metadata": {
        "id": "bEmhRh5QLI3L"
      },
      "execution_count": null,
      "outputs": []
    },
    {
      "cell_type": "code",
      "source": [
        "mm2=rq.get('https://www.show-score.com/broadway-shows/the-music-man-broadway')\n",
        "mm2"
      ],
      "metadata": {
        "colab": {
          "base_uri": "https://localhost:8080/"
        },
        "id": "P4kUoGgvX4iD",
        "outputId": "56029711-4387-4a4f-d973-602127ab33a5"
      },
      "execution_count": null,
      "outputs": [
        {
          "output_type": "execute_result",
          "data": {
            "text/plain": [
              "<Response [200]>"
            ]
          },
          "metadata": {},
          "execution_count": 198
        }
      ]
    },
    {
      "cell_type": "code",
      "source": [
        "mm2.text"
      ],
      "metadata": {
        "id": "NHbKZ73kwLFE"
      },
      "execution_count": null,
      "outputs": []
    },
    {
      "cell_type": "code",
      "source": [
        "soup12=BeautifulSoup(mm2.text, 'html.parser')"
      ],
      "metadata": {
        "id": "BY4fFbMlwNkW"
      },
      "execution_count": null,
      "outputs": []
    },
    {
      "cell_type": "code",
      "source": [
        "display(soup12)"
      ],
      "metadata": {
        "id": "2tfYYpyIwQlj"
      },
      "execution_count": null,
      "outputs": []
    },
    {
      "cell_type": "code",
      "source": [
        "print(soup12.prettify())"
      ],
      "metadata": {
        "id": "pE99xqxpwW77"
      },
      "execution_count": null,
      "outputs": []
    },
    {
      "cell_type": "code",
      "source": [
        "soup12.find_all('div')"
      ],
      "metadata": {
        "id": "NxxBjpJl5bOk"
      },
      "execution_count": null,
      "outputs": []
    },
    {
      "cell_type": "code",
      "source": [
        "for y in soup12.find_all('div',attrs={'class':'show-page-v2__title'}):\n",
        "  print(y.text)"
      ],
      "metadata": {
        "colab": {
          "base_uri": "https://localhost:8080/"
        },
        "id": "y1N_yvsV5a44",
        "outputId": "3ff9b9cf-b725-482f-ff4a-566d842fb4a0"
      },
      "execution_count": null,
      "outputs": [
        {
          "output_type": "stream",
          "name": "stdout",
          "text": [
            "\n",
            "The Music Man (Broadway)\n",
            "\n"
          ]
        }
      ]
    },
    {
      "cell_type": "code",
      "source": [
        "with open(\"../content/mm_name.txt\", \"a\") as file:\n",
        "    for y in soup12.find_all('div',attrs={'class':'show-page-v2__title'}):\n",
        "        file.write(y.text)"
      ],
      "metadata": {
        "id": "tmLv-K6E5asV"
      },
      "execution_count": null,
      "outputs": []
    },
    {
      "cell_type": "code",
      "source": [
        "for z in soup12.find_all('div',attrs={'class':'show-page-v2__rating-bars-title'}):\n",
        "  print(z.text)"
      ],
      "metadata": {
        "colab": {
          "base_uri": "https://localhost:8080/"
        },
        "id": "fUyWcAnUB1Zg",
        "outputId": "f08f6587-095f-4fec-cc2f-3afe9b440852"
      },
      "execution_count": null,
      "outputs": [
        {
          "output_type": "stream",
          "name": "stdout",
          "text": [
            "\n",
            "89%\n"
          ]
        }
      ]
    },
    {
      "cell_type": "code",
      "source": [
        "with open(\"../content/mm_rate.txt\", \"a\") as file:\n",
        "    for z in soup12.find_all('div',attrs={'class':'show-page-v2__rating-bars-title'}):\n",
        "        file.write(z.text)"
      ],
      "metadata": {
        "id": "dgawWTATB1QC"
      },
      "execution_count": null,
      "outputs": []
    },
    {
      "cell_type": "code",
      "source": [
        "mm3=rq.get('https://www.broadway.com/shows/music-man/story/')\n",
        "mm3"
      ],
      "metadata": {
        "colab": {
          "base_uri": "https://localhost:8080/"
        },
        "id": "9uaJO3u-fsd-",
        "outputId": "eafc45eb-0077-43dc-90b0-aa224b9dca55"
      },
      "execution_count": null,
      "outputs": [
        {
          "output_type": "execute_result",
          "data": {
            "text/plain": [
              "<Response [200]>"
            ]
          },
          "metadata": {},
          "execution_count": 76
        }
      ]
    },
    {
      "cell_type": "code",
      "source": [
        "mm3.text"
      ],
      "metadata": {
        "id": "dGfDeovgfsa9"
      },
      "execution_count": null,
      "outputs": []
    },
    {
      "cell_type": "code",
      "source": [
        "soup28=BeautifulSoup(mm3.text, 'html.parser')"
      ],
      "metadata": {
        "id": "CSfoz06tfsXN"
      },
      "execution_count": null,
      "outputs": []
    },
    {
      "cell_type": "code",
      "source": [
        "print(soup28.prettify())"
      ],
      "metadata": {
        "id": "ApHhvbrzfsTL"
      },
      "execution_count": null,
      "outputs": []
    },
    {
      "cell_type": "code",
      "source": [
        "soup28.find_all('p')"
      ],
      "metadata": {
        "colab": {
          "base_uri": "https://localhost:8080/"
        },
        "id": "y6V5web7fvL1",
        "outputId": "1fafe068-dfb3-4b51-e59c-88f59e94c769"
      },
      "execution_count": null,
      "outputs": [
        {
          "output_type": "execute_result",
          "data": {
            "text/plain": [
              "[<p class=\"rspTemplate__contentWrapper\">Hugh Jackman will not appear as Harold Hill August 15–21, 2022; September 5–11, 2022 and October 10–16, 2022.</p>,\n",
              " <p>Two-time Tony Award®, Grammy Award®, and Emmy Award® winner Hugh Jackman will make his highly anticipated return to Broadway in what is widely agreed to be the greatest role ever created for an actor in the history of musical theater: Professor Harold Hill in Meredith Willson’s beloved classic, <em>The Music Man</em>. </p>]"
            ]
          },
          "metadata": {},
          "execution_count": 80
        }
      ]
    },
    {
      "cell_type": "code",
      "source": [
        "for x in soup28.find_all('p'):\n",
        "  print(x.text)"
      ],
      "metadata": {
        "id": "NL2mUAYhfvH0"
      },
      "execution_count": null,
      "outputs": []
    },
    {
      "cell_type": "code",
      "source": [
        "with open(\"../content/mm_descript.txt\", \"a\") as file:\n",
        "    for x in soup28.find_all('p'):\n",
        "        file.write(x.text)"
      ],
      "metadata": {
        "id": "gEXj4kgUfvDU"
      },
      "execution_count": null,
      "outputs": []
    },
    {
      "cell_type": "code",
      "source": [
        "company=rq.get('https://www.broadway.com/shows/company/')\n",
        "company"
      ],
      "metadata": {
        "colab": {
          "base_uri": "https://localhost:8080/"
        },
        "id": "ujyOMtrjX4oc",
        "outputId": "8400a69c-eb06-493a-8c97-a4f1cf5c50cc"
      },
      "execution_count": null,
      "outputs": [
        {
          "output_type": "execute_result",
          "data": {
            "text/plain": [
              "<Response [200]>"
            ]
          },
          "metadata": {},
          "execution_count": 314
        }
      ]
    },
    {
      "cell_type": "code",
      "source": [
        "company.text"
      ],
      "metadata": {
        "id": "xSpwduyoxkoV"
      },
      "execution_count": null,
      "outputs": []
    },
    {
      "cell_type": "code",
      "source": [
        "soup13=BeautifulSoup(company.text, 'html.parser')"
      ],
      "metadata": {
        "id": "79L-TPgVxr8u"
      },
      "execution_count": null,
      "outputs": []
    },
    {
      "cell_type": "code",
      "source": [
        "display(soup13)"
      ],
      "metadata": {
        "id": "-zwpLIEKxt-I"
      },
      "execution_count": null,
      "outputs": []
    },
    {
      "cell_type": "code",
      "source": [
        "print(soup13.prettify())"
      ],
      "metadata": {
        "id": "U-bAveRqyIhb"
      },
      "execution_count": null,
      "outputs": []
    },
    {
      "cell_type": "code",
      "source": [
        "soup13.find_all('span')"
      ],
      "metadata": {
        "id": "oo_kNBlMLQix"
      },
      "execution_count": null,
      "outputs": []
    },
    {
      "cell_type": "code",
      "source": [
        "for s in soup13.find_all('span',attrs={'class':'rspButtonBox__ticketValue'}):\n",
        "  print(s.text)"
      ],
      "metadata": {
        "colab": {
          "base_uri": "https://localhost:8080/"
        },
        "id": "RB8i5BpjLQW5",
        "outputId": "c93381a9-3215-45d6-e50e-54cd7a4d0a8c"
      },
      "execution_count": null,
      "outputs": [
        {
          "output_type": "stream",
          "name": "stdout",
          "text": [
            "\n",
            "$39.00\n",
            "\n"
          ]
        }
      ]
    },
    {
      "cell_type": "code",
      "source": [
        "with open(\"../content/comp_price.txt\", \"a\") as file:\n",
        "    for y in soup13.find_all('span',attrs={'class':'rspButtonBox__ticketValue'}):\n",
        "      file.write(s.text)"
      ],
      "metadata": {
        "id": "-37uUptgLP8_"
      },
      "execution_count": null,
      "outputs": []
    },
    {
      "cell_type": "code",
      "source": [
        "company2=rq.get('https://www.show-score.com/broadway-shows/company-broadway')\n",
        "company2"
      ],
      "metadata": {
        "colab": {
          "base_uri": "https://localhost:8080/"
        },
        "id": "RATT5U8uX4rB",
        "outputId": "fd7b540e-c865-4308-bdfb-23447442aa9d"
      },
      "execution_count": null,
      "outputs": [
        {
          "output_type": "execute_result",
          "data": {
            "text/plain": [
              "<Response [200]>"
            ]
          },
          "metadata": {},
          "execution_count": 205
        }
      ]
    },
    {
      "cell_type": "code",
      "source": [
        "company2.text"
      ],
      "metadata": {
        "id": "gh3kWEiSxnyy"
      },
      "execution_count": null,
      "outputs": []
    },
    {
      "cell_type": "code",
      "source": [
        "soup14=BeautifulSoup(company2.text, 'html.parser')"
      ],
      "metadata": {
        "id": "O78qhQG-x0sU"
      },
      "execution_count": null,
      "outputs": []
    },
    {
      "cell_type": "code",
      "source": [
        "display(soup14)"
      ],
      "metadata": {
        "id": "0EWgijKXx_xv"
      },
      "execution_count": null,
      "outputs": []
    },
    {
      "cell_type": "code",
      "source": [
        "print(soup14.prettify())"
      ],
      "metadata": {
        "id": "qe5FvqZryLar"
      },
      "execution_count": null,
      "outputs": []
    },
    {
      "cell_type": "code",
      "source": [
        "soup14.find_all('div')"
      ],
      "metadata": {
        "id": "Kcg58GZo6n1x"
      },
      "execution_count": null,
      "outputs": []
    },
    {
      "cell_type": "code",
      "source": [
        "for y in soup14.find_all('div',attrs={'class':'show-page-v2__title'}):\n",
        "  print(y.text)"
      ],
      "metadata": {
        "colab": {
          "base_uri": "https://localhost:8080/"
        },
        "id": "ryv0TF_c6ncF",
        "outputId": "2fb230a2-be44-416c-baea-abd4e73b2b17"
      },
      "execution_count": null,
      "outputs": [
        {
          "output_type": "stream",
          "name": "stdout",
          "text": [
            "\n",
            "Company (Broadway)\n",
            "\n"
          ]
        }
      ]
    },
    {
      "cell_type": "code",
      "source": [
        "with open(\"../content/comp_name.txt\", \"a\") as file:\n",
        "    for y in soup14.find_all('div',attrs={'class':'show-page-v2__title'}):\n",
        "        file.write(y.text)"
      ],
      "metadata": {
        "id": "YT7srk2H6m49"
      },
      "execution_count": null,
      "outputs": []
    },
    {
      "cell_type": "code",
      "source": [
        "for z in soup14.find_all('div',attrs={'class':'show-page-v2__rating-bars-title'}):\n",
        "  print(z.text)"
      ],
      "metadata": {
        "colab": {
          "base_uri": "https://localhost:8080/"
        },
        "id": "N22TgxTqB40i",
        "outputId": "b03cf4a2-0b13-4424-824c-f451710a7f37"
      },
      "execution_count": null,
      "outputs": [
        {
          "output_type": "stream",
          "name": "stdout",
          "text": [
            "\n",
            "86%\n"
          ]
        }
      ]
    },
    {
      "cell_type": "code",
      "source": [
        "with open(\"../content/comp_rate.txt\", \"a\") as file:\n",
        "    for z in soup14.find_all('div',attrs={'class':'show-page-v2__rating-bars-title'}):\n",
        "        file.write(z.text)"
      ],
      "metadata": {
        "id": "7A2o-BhFB4q0"
      },
      "execution_count": null,
      "outputs": []
    },
    {
      "cell_type": "code",
      "source": [
        "company3=rq.get('https://www.broadway.com/shows/company/story/')\n",
        "company3"
      ],
      "metadata": {
        "colab": {
          "base_uri": "https://localhost:8080/"
        },
        "id": "rrCLcayBjdo8",
        "outputId": "eaae8357-3c60-40eb-9982-4447cd9d8516"
      },
      "execution_count": null,
      "outputs": [
        {
          "output_type": "execute_result",
          "data": {
            "text/plain": [
              "<Response [200]>"
            ]
          },
          "metadata": {},
          "execution_count": 82
        }
      ]
    },
    {
      "cell_type": "code",
      "source": [
        "company3.text"
      ],
      "metadata": {
        "id": "GdCKsx7BjjZb"
      },
      "execution_count": null,
      "outputs": []
    },
    {
      "cell_type": "code",
      "source": [
        "soup29=BeautifulSoup(company3.text, 'html.parser')"
      ],
      "metadata": {
        "id": "p1R5fBKPjjUI"
      },
      "execution_count": null,
      "outputs": []
    },
    {
      "cell_type": "code",
      "source": [
        "print(soup29.prettify())"
      ],
      "metadata": {
        "id": "tS5Q3ZSjjjKX"
      },
      "execution_count": null,
      "outputs": []
    },
    {
      "cell_type": "code",
      "source": [
        "soup29.find_all('p')"
      ],
      "metadata": {
        "colab": {
          "base_uri": "https://localhost:8080/"
        },
        "id": "1cxXVBb2jjDb",
        "outputId": "2c08d7f8-ebc4-4a3b-f26e-1916d7f15d35"
      },
      "execution_count": null,
      "outputs": [
        {
          "output_type": "execute_result",
          "data": {
            "text/plain": [
              "[<p>The quintessential musical comedy about the search for love and cocktails in the Big Apple is turned on its head in Marianne Elliott’s revelatory staging, in which musical theater’s most iconic bachelor becomes a bachelorette. At Bobbie’s 35th birthday party, all her friends are wondering why isn’t she married? Why can’t she find the right man? And, why can’t she settle down and have a family? This whip smart musical, given a game-changing makeover for a modern-day Manhattan, features some of Sondheim’s best loved songs, including “Company,” “You Could Drive a Person Crazy,” “The Ladies Who Lunch,” “Side by Side,” and the iconic “Being Alive.”</p>]"
            ]
          },
          "metadata": {},
          "execution_count": 86
        }
      ]
    },
    {
      "cell_type": "code",
      "source": [
        "for x in soup29.find_all('p'):\n",
        "  print(x.text)"
      ],
      "metadata": {
        "colab": {
          "base_uri": "https://localhost:8080/"
        },
        "id": "CdipxOegjx9b",
        "outputId": "6f19b152-6cc7-4a12-dfc5-b4a4a1509c5d"
      },
      "execution_count": null,
      "outputs": [
        {
          "output_type": "stream",
          "name": "stdout",
          "text": [
            "The quintessential musical comedy about the search for love and cocktails in the Big Apple is turned on its head in Marianne Elliott’s revelatory staging, in which musical theater’s most iconic bachelor becomes a bachelorette. At Bobbie’s 35th birthday party, all her friends are wondering why isn’t she married? Why can’t she find the right man? And, why can’t she settle down and have a family? This whip smart musical, given a game-changing makeover for a modern-day Manhattan, features some of Sondheim’s best loved songs, including “Company,” “You Could Drive a Person Crazy,” “The Ladies Who Lunch,” “Side by Side,” and the iconic “Being Alive.”\n"
          ]
        }
      ]
    },
    {
      "cell_type": "code",
      "source": [
        "with open(\"../content/comp_descript.txt\", \"a\") as file:\n",
        "    for x in soup29.find_all('p'):\n",
        "        file.write(x.text)"
      ],
      "metadata": {
        "id": "o9bQ-bH8ji0G"
      },
      "execution_count": null,
      "outputs": []
    },
    {
      "cell_type": "code",
      "source": [
        "six=rq.get('https://www.broadway.com/shows/six/')\n",
        "six"
      ],
      "metadata": {
        "colab": {
          "base_uri": "https://localhost:8080/"
        },
        "id": "MCO7RgZ7X4tF",
        "outputId": "ccdad590-2868-4433-aa2b-fe42d11e1c47"
      },
      "execution_count": null,
      "outputs": [
        {
          "output_type": "execute_result",
          "data": {
            "text/plain": [
              "<Response [200]>"
            ]
          },
          "metadata": {},
          "execution_count": 318
        }
      ]
    },
    {
      "cell_type": "code",
      "source": [
        "six.text"
      ],
      "metadata": {
        "id": "EJnIDrDHyVld"
      },
      "execution_count": null,
      "outputs": []
    },
    {
      "cell_type": "code",
      "source": [
        "soup15=BeautifulSoup(six.text, 'html.parser')"
      ],
      "metadata": {
        "id": "yArHEmAwyU3l"
      },
      "execution_count": null,
      "outputs": []
    },
    {
      "cell_type": "code",
      "source": [
        "display(soup15)"
      ],
      "metadata": {
        "id": "0iZFGwhtyUnT"
      },
      "execution_count": null,
      "outputs": []
    },
    {
      "cell_type": "code",
      "source": [
        "print(soup15.prettify())"
      ],
      "metadata": {
        "id": "-dwwnvgsyUPH"
      },
      "execution_count": null,
      "outputs": []
    },
    {
      "cell_type": "code",
      "source": [
        "soup15.find_all('span')"
      ],
      "metadata": {
        "id": "lHZr8bOPLaQY"
      },
      "execution_count": null,
      "outputs": []
    },
    {
      "cell_type": "code",
      "source": [
        "for s in soup15.find_all('span',attrs={'class':'rspButtonBox__ticketValue'}):\n",
        "  print(s.text)"
      ],
      "metadata": {
        "colab": {
          "base_uri": "https://localhost:8080/"
        },
        "id": "h4O7q2R2LZ_L",
        "outputId": "4d1f0c47-db40-40fd-c5d0-ff1304b23cbb"
      },
      "execution_count": null,
      "outputs": [
        {
          "output_type": "stream",
          "name": "stdout",
          "text": [
            "\n",
            "$69.00\n",
            "\n"
          ]
        }
      ]
    },
    {
      "cell_type": "code",
      "source": [
        "with open(\"../content/six_price.txt\", \"a\") as file:\n",
        "    for y in soup15.find_all('span',attrs={'class':'rspButtonBox__ticketValue'}):\n",
        "      file.write(s.text)"
      ],
      "metadata": {
        "id": "cOxNXwiBLZVt"
      },
      "execution_count": null,
      "outputs": []
    },
    {
      "cell_type": "code",
      "source": [
        "six2=rq.get('https://www.show-score.com/broadway-shows/six')\n",
        "six2"
      ],
      "metadata": {
        "colab": {
          "base_uri": "https://localhost:8080/"
        },
        "id": "BA8s_ykUX4vJ",
        "outputId": "e1a151ed-6d55-4103-cd15-c0afc270a0f2"
      },
      "execution_count": null,
      "outputs": [
        {
          "output_type": "execute_result",
          "data": {
            "text/plain": [
              "<Response [200]>"
            ]
          },
          "metadata": {},
          "execution_count": 212
        }
      ]
    },
    {
      "cell_type": "code",
      "source": [
        "six2.text"
      ],
      "metadata": {
        "id": "jfdaN6FPyZ8I"
      },
      "execution_count": null,
      "outputs": []
    },
    {
      "cell_type": "code",
      "source": [
        "soup16=BeautifulSoup(six2.text, 'html.parser')"
      ],
      "metadata": {
        "id": "KOsWqKz8yZwr"
      },
      "execution_count": null,
      "outputs": []
    },
    {
      "cell_type": "code",
      "source": [
        "display(soup16)"
      ],
      "metadata": {
        "id": "ualpCyO4yZk0"
      },
      "execution_count": null,
      "outputs": []
    },
    {
      "cell_type": "code",
      "source": [
        "print(soup16.prettify())"
      ],
      "metadata": {
        "id": "4DUD17LlyZWy"
      },
      "execution_count": null,
      "outputs": []
    },
    {
      "cell_type": "code",
      "source": [
        "soup16.find_all('div')"
      ],
      "metadata": {
        "id": "S7BH9MzG699D"
      },
      "execution_count": null,
      "outputs": []
    },
    {
      "cell_type": "code",
      "source": [
        "for y in soup16.find_all('div',attrs={'class':'show-page-v2__title'}):\n",
        "  print(y.text)"
      ],
      "metadata": {
        "colab": {
          "base_uri": "https://localhost:8080/"
        },
        "id": "23RsqzHy69z4",
        "outputId": "31478317-fffa-42dc-d4dd-7c82ce81a002"
      },
      "execution_count": null,
      "outputs": [
        {
          "output_type": "stream",
          "name": "stdout",
          "text": [
            "\n",
            "Six (Broadway)\n",
            "\n"
          ]
        }
      ]
    },
    {
      "cell_type": "code",
      "source": [
        "with open(\"../content/six_name.txt\", \"a\") as file:\n",
        "    for y in soup16.find_all('div',attrs={'class':'show-page-v2__title'}):\n",
        "        file.write(y.text)"
      ],
      "metadata": {
        "id": "0PzSKYaE69pN"
      },
      "execution_count": null,
      "outputs": []
    },
    {
      "cell_type": "code",
      "source": [
        "for z in soup16.find_all('div',attrs={'class':'show-page-v2__rating-bars-title'}):\n",
        "  print(z.text)"
      ],
      "metadata": {
        "colab": {
          "base_uri": "https://localhost:8080/"
        },
        "id": "OI9lzX84B9pP",
        "outputId": "4c092114-6ea5-4d74-af19-576e194d5707"
      },
      "execution_count": null,
      "outputs": [
        {
          "output_type": "stream",
          "name": "stdout",
          "text": [
            "\n",
            "85%\n"
          ]
        }
      ]
    },
    {
      "cell_type": "code",
      "source": [
        "with open(\"../content/six_rate.txt\", \"a\") as file:\n",
        "    for z in soup16.find_all('div',attrs={'class':'show-page-v2__rating-bars-title'}):\n",
        "        file.write(z.text)"
      ],
      "metadata": {
        "id": "b38o6m55B9BN"
      },
      "execution_count": null,
      "outputs": []
    },
    {
      "cell_type": "code",
      "source": [
        "six3=rq.get('https://www.broadway.com/shows/six/story/')\n",
        "six3"
      ],
      "metadata": {
        "colab": {
          "base_uri": "https://localhost:8080/"
        },
        "id": "BGny8Xm8kMyf",
        "outputId": "7864b85b-d867-4b07-b594-84195574ba1d"
      },
      "execution_count": null,
      "outputs": [
        {
          "output_type": "execute_result",
          "data": {
            "text/plain": [
              "<Response [200]>"
            ]
          },
          "metadata": {},
          "execution_count": 89
        }
      ]
    },
    {
      "cell_type": "code",
      "source": [
        "six3.text"
      ],
      "metadata": {
        "id": "MqUMddNEkMvF"
      },
      "execution_count": null,
      "outputs": []
    },
    {
      "cell_type": "code",
      "source": [
        "soup30=BeautifulSoup(six3.text, 'html.parser')"
      ],
      "metadata": {
        "id": "5letXCRRkMrv"
      },
      "execution_count": null,
      "outputs": []
    },
    {
      "cell_type": "code",
      "source": [
        "print(soup30.prettify())"
      ],
      "metadata": {
        "id": "0-OgNPuIkMnm"
      },
      "execution_count": null,
      "outputs": []
    },
    {
      "cell_type": "code",
      "source": [
        "soup30.find_all('p')"
      ],
      "metadata": {
        "colab": {
          "base_uri": "https://localhost:8080/"
        },
        "id": "wtZKS4u2kMjE",
        "outputId": "1dd2f304-1799-438f-da5d-6e599cc02d62"
      },
      "execution_count": null,
      "outputs": [
        {
          "output_type": "execute_result",
          "data": {
            "text/plain": [
              "[<p>From Tudor Queens to Pop Princesses, the <em>Six</em> wives of Henry VIII take the mic to remix five hundred years of historical heartbreak into an exuberant celebration of 21st century girl power! This new original musical is the global sensation that everyone is losing their head over. <em>The New York Times</em> says <em>Six</em> is “pure entertainment!” and <em>Evening Standard </em>hails <em>Six</em> as “the most uplifting new British musical I have ever had the privilege to watch.”</p>]"
            ]
          },
          "metadata": {},
          "execution_count": 94
        }
      ]
    },
    {
      "cell_type": "code",
      "source": [
        "for x in soup30.find_all('p'):\n",
        "  print(x.text)"
      ],
      "metadata": {
        "colab": {
          "base_uri": "https://localhost:8080/"
        },
        "id": "rgqId_n7kpvt",
        "outputId": "12e0f26b-ebc0-4d73-bd08-3abe79281548"
      },
      "execution_count": null,
      "outputs": [
        {
          "output_type": "stream",
          "name": "stdout",
          "text": [
            "From Tudor Queens to Pop Princesses, the Six wives of Henry VIII take the mic to remix five hundred years of historical heartbreak into an exuberant celebration of 21st century girl power! This new original musical is the global sensation that everyone is losing their head over. The New York Times says Six is “pure entertainment!” and Evening Standard hails Six as “the most uplifting new British musical I have ever had the privilege to watch.”\n"
          ]
        }
      ]
    },
    {
      "cell_type": "code",
      "source": [
        "with open(\"../content/six_descript.txt\", \"a\") as file:\n",
        "    for x in soup30.find_all('p'):\n",
        "        file.write(x.text)"
      ],
      "metadata": {
        "id": "5zjjEXNjkMX-"
      },
      "execution_count": null,
      "outputs": []
    },
    {
      "cell_type": "code",
      "source": [
        "chicago=rq.get('https://www.broadway.com/shows/chicago/')\n",
        "chicago"
      ],
      "metadata": {
        "colab": {
          "base_uri": "https://localhost:8080/"
        },
        "id": "H_NjBEG2X4w6",
        "outputId": "91a9f3c3-231d-4ca4-e4e2-dcbf194ef9d7"
      },
      "execution_count": null,
      "outputs": [
        {
          "output_type": "execute_result",
          "data": {
            "text/plain": [
              "<Response [200]>"
            ]
          },
          "metadata": {},
          "execution_count": 322
        }
      ]
    },
    {
      "cell_type": "code",
      "source": [
        "chicago.text"
      ],
      "metadata": {
        "id": "Jr_XWx8yybFO"
      },
      "execution_count": null,
      "outputs": []
    },
    {
      "cell_type": "code",
      "source": [
        "soup17=BeautifulSoup(chicago.text, 'html.parser')"
      ],
      "metadata": {
        "id": "EPbsYSyjya7U"
      },
      "execution_count": null,
      "outputs": []
    },
    {
      "cell_type": "code",
      "source": [
        "display(soup17)"
      ],
      "metadata": {
        "id": "l02e5h9AyavH"
      },
      "execution_count": null,
      "outputs": []
    },
    {
      "cell_type": "code",
      "source": [
        "print(soup17.prettify())"
      ],
      "metadata": {
        "id": "QjBbdTXtyah9"
      },
      "execution_count": null,
      "outputs": []
    },
    {
      "cell_type": "code",
      "source": [
        "soup17.find_all('span')"
      ],
      "metadata": {
        "id": "QbrscDNGLmgU"
      },
      "execution_count": null,
      "outputs": []
    },
    {
      "cell_type": "code",
      "source": [
        "for s in soup17.find_all('span',attrs={'class':'rspButtonBox__ticketValue'}):\n",
        "  print(s.text)"
      ],
      "metadata": {
        "colab": {
          "base_uri": "https://localhost:8080/"
        },
        "id": "FqAek9IZLmbY",
        "outputId": "c7de09a9-cd70-4edf-8b3f-4f3438698d32"
      },
      "execution_count": null,
      "outputs": [
        {
          "output_type": "stream",
          "name": "stdout",
          "text": [
            "\n",
            "$49.50\n",
            "\n"
          ]
        }
      ]
    },
    {
      "cell_type": "code",
      "source": [
        "with open(\"../content/chg_price.txt\", \"a\") as file:\n",
        "    for y in soup17.find_all('span',attrs={'class':'rspButtonBox__ticketValue'}):\n",
        "      file.write(s.text)"
      ],
      "metadata": {
        "id": "nHvpXa4vLmUy"
      },
      "execution_count": null,
      "outputs": []
    },
    {
      "cell_type": "code",
      "source": [
        "chicago2=rq.get('https://www.show-score.com/broadway-shows/chicago')\n",
        "chicago2"
      ],
      "metadata": {
        "colab": {
          "base_uri": "https://localhost:8080/"
        },
        "id": "DCIe7ATrX4y7",
        "outputId": "9c6653a4-398c-493f-99e7-2fd0159faac2"
      },
      "execution_count": null,
      "outputs": [
        {
          "output_type": "execute_result",
          "data": {
            "text/plain": [
              "<Response [200]>"
            ]
          },
          "metadata": {},
          "execution_count": 219
        }
      ]
    },
    {
      "cell_type": "code",
      "source": [
        "chicago2.text"
      ],
      "metadata": {
        "id": "2TnDaRjpycWe"
      },
      "execution_count": null,
      "outputs": []
    },
    {
      "cell_type": "code",
      "source": [
        "soup18=BeautifulSoup(chicago2.text, 'html.parser')"
      ],
      "metadata": {
        "id": "7bLNNLh8ycJz"
      },
      "execution_count": null,
      "outputs": []
    },
    {
      "cell_type": "code",
      "source": [
        "display(soup18)"
      ],
      "metadata": {
        "id": "QwqHbLh5yb_v"
      },
      "execution_count": null,
      "outputs": []
    },
    {
      "cell_type": "code",
      "source": [
        "print(soup18.prettify())"
      ],
      "metadata": {
        "id": "hJ9hWIF-yb18"
      },
      "execution_count": null,
      "outputs": []
    },
    {
      "cell_type": "code",
      "source": [
        "soup18.find_all('div')"
      ],
      "metadata": {
        "id": "qSbTVdj4-eEZ"
      },
      "execution_count": null,
      "outputs": []
    },
    {
      "cell_type": "code",
      "source": [
        "for y in soup18.find_all('div',attrs={'class':'show-page-v2__title'}):\n",
        "  print(y.text)"
      ],
      "metadata": {
        "colab": {
          "base_uri": "https://localhost:8080/"
        },
        "id": "80NG8PpM-d61",
        "outputId": "b535bdc2-7358-4f56-f4ea-7c67faeccfa2"
      },
      "execution_count": null,
      "outputs": [
        {
          "output_type": "stream",
          "name": "stdout",
          "text": [
            "\n",
            "Chicago (Broadway)\n",
            "\n"
          ]
        }
      ]
    },
    {
      "cell_type": "code",
      "source": [
        "with open(\"../content/chg_name.txt\", \"a\") as file:\n",
        "    for y in soup18.find_all('div',attrs={'class':'show-page-v2__title'}):\n",
        "        file.write(y.text)"
      ],
      "metadata": {
        "id": "5UIBtT1s-duz"
      },
      "execution_count": null,
      "outputs": []
    },
    {
      "cell_type": "code",
      "source": [
        "for z in soup18.find_all('div',attrs={'class':'show-page-v2__rating-bars-title'}):\n",
        "  print(z.text)"
      ],
      "metadata": {
        "colab": {
          "base_uri": "https://localhost:8080/"
        },
        "id": "q6TYgOluCB6x",
        "outputId": "266bc50d-a214-4b4f-8eb2-0c6deff4ffab"
      },
      "execution_count": null,
      "outputs": [
        {
          "output_type": "stream",
          "name": "stdout",
          "text": [
            "\n",
            "83%\n"
          ]
        }
      ]
    },
    {
      "cell_type": "code",
      "source": [
        "with open(\"../content/chg_rate.txt\", \"a\") as file:\n",
        "    for z in soup18.find_all('div',attrs={'class':'show-page-v2__rating-bars-title'}):\n",
        "        file.write(z.text)"
      ],
      "metadata": {
        "id": "QsR9GrnMCBt_"
      },
      "execution_count": null,
      "outputs": []
    },
    {
      "cell_type": "code",
      "source": [
        "chicago3=rq.get('https://www.broadway.com/shows/chicago/story/')\n",
        "chicago3"
      ],
      "metadata": {
        "colab": {
          "base_uri": "https://localhost:8080/"
        },
        "id": "mBg11XLSlM2Q",
        "outputId": "a969ab89-4ec4-49e8-f1dd-285eabe340b1"
      },
      "execution_count": null,
      "outputs": [
        {
          "output_type": "execute_result",
          "data": {
            "text/plain": [
              "<Response [200]>"
            ]
          },
          "metadata": {},
          "execution_count": 97
        }
      ]
    },
    {
      "cell_type": "code",
      "source": [
        "chicago3.text"
      ],
      "metadata": {
        "id": "PTPxNBR7lMx5"
      },
      "execution_count": null,
      "outputs": []
    },
    {
      "cell_type": "code",
      "source": [
        "soup31=BeautifulSoup(chicago3.text, 'html.parser')"
      ],
      "metadata": {
        "id": "JIPpkpc8lMu5"
      },
      "execution_count": null,
      "outputs": []
    },
    {
      "cell_type": "code",
      "source": [
        "print(soup31.prettify())"
      ],
      "metadata": {
        "id": "Jzyse4etlMsK"
      },
      "execution_count": null,
      "outputs": []
    },
    {
      "cell_type": "code",
      "source": [
        "soup31.find_all('p')"
      ],
      "metadata": {
        "colab": {
          "base_uri": "https://localhost:8080/"
        },
        "id": "hNaMa053lMon",
        "outputId": "50a4e9e6-2b6e-43b3-ccce-a03548127402"
      },
      "execution_count": null,
      "outputs": [
        {
          "output_type": "execute_result",
          "data": {
            "text/plain": [
              "[<p>Set in the legendary city during the roaring “jazz hot” 20s, <em>Chicago</em> tells the story of two rival vaudevillian murderesses locked up in Cook County Jail. Nightclub star Velma’s serving time for killing her husband and sister after finding the two in bed together. Driven chorus girl Roxie’s been tossed in the joint for bumping off the lover she’s been cheating on her husband with. Not one to rest on her laurels, Velma enlists the help of prison matron Mama Morton and slickster lawyer Billy Flynn, who turn Velma’s incarceration into a murder-of-the-week media frenzy, thus preparing the world for a splashy showbiz comeback. But Roxie’s got some of her own tricks up her sleeve…</p>]"
            ]
          },
          "metadata": {},
          "execution_count": 101
        }
      ]
    },
    {
      "cell_type": "code",
      "source": [
        "for x in soup31.find_all('p'):\n",
        "  print(x.text)"
      ],
      "metadata": {
        "colab": {
          "base_uri": "https://localhost:8080/"
        },
        "id": "1HNa81hZlwN1",
        "outputId": "7a723b13-6cb3-428b-f6d6-eed3ab9d91cc"
      },
      "execution_count": null,
      "outputs": [
        {
          "output_type": "stream",
          "name": "stdout",
          "text": [
            "Set in the legendary city during the roaring “jazz hot” 20s, Chicago tells the story of two rival vaudevillian murderesses locked up in Cook County Jail. Nightclub star Velma’s serving time for killing her husband and sister after finding the two in bed together. Driven chorus girl Roxie’s been tossed in the joint for bumping off the lover she’s been cheating on her husband with. Not one to rest on her laurels, Velma enlists the help of prison matron Mama Morton and slickster lawyer Billy Flynn, who turn Velma’s incarceration into a murder-of-the-week media frenzy, thus preparing the world for a splashy showbiz comeback. But Roxie’s got some of her own tricks up her sleeve…\n"
          ]
        }
      ]
    },
    {
      "cell_type": "code",
      "source": [
        "with open(\"../content/chg_descript.txt\", \"a\") as file:\n",
        "    for x in soup31.find_all('p'):\n",
        "        file.write(x.text)"
      ],
      "metadata": {
        "id": "AQUMqvo6lMXw"
      },
      "execution_count": null,
      "outputs": []
    },
    {
      "cell_type": "code",
      "source": [
        "rouge=rq.get('https://www.broadway.com/shows/moulin-rouge-musical/')\n",
        "rouge"
      ],
      "metadata": {
        "colab": {
          "base_uri": "https://localhost:8080/"
        },
        "id": "H0eAiG9fX5Hn",
        "outputId": "3d47faff-da23-45d4-dfd2-4bde0e7d180b"
      },
      "execution_count": null,
      "outputs": [
        {
          "output_type": "execute_result",
          "data": {
            "text/plain": [
              "<Response [200]>"
            ]
          },
          "metadata": {},
          "execution_count": 327
        }
      ]
    },
    {
      "cell_type": "code",
      "source": [
        "rouge.text"
      ],
      "metadata": {
        "id": "eoHYK7enyda7"
      },
      "execution_count": null,
      "outputs": []
    },
    {
      "cell_type": "code",
      "source": [
        "soup19=BeautifulSoup(rouge.text, 'html.parser')"
      ],
      "metadata": {
        "id": "p8cDmKzmydO4"
      },
      "execution_count": null,
      "outputs": []
    },
    {
      "cell_type": "code",
      "source": [
        "display(soup19)"
      ],
      "metadata": {
        "id": "M8pYi4G0ydFM"
      },
      "execution_count": null,
      "outputs": []
    },
    {
      "cell_type": "code",
      "source": [
        "print(soup19.prettify())"
      ],
      "metadata": {
        "id": "gZ1pjrbPyc6u"
      },
      "execution_count": null,
      "outputs": []
    },
    {
      "cell_type": "code",
      "source": [
        "soup19.find_all('span')"
      ],
      "metadata": {
        "id": "4MsphCzULsGb"
      },
      "execution_count": null,
      "outputs": []
    },
    {
      "cell_type": "code",
      "source": [
        "for s in soup19.find_all('span',attrs={'class':'rspButtonBox__ticketValue'}):\n",
        "  print(s.text)"
      ],
      "metadata": {
        "colab": {
          "base_uri": "https://localhost:8080/"
        },
        "id": "rEzuud6jLr-0",
        "outputId": "b72cb230-872d-431f-fd3c-18a349f78e25"
      },
      "execution_count": null,
      "outputs": [
        {
          "output_type": "stream",
          "name": "stdout",
          "text": [
            "\n",
            "$69.00\n",
            "\n"
          ]
        }
      ]
    },
    {
      "cell_type": "code",
      "source": [
        "with open(\"../content/mr_price.txt\", \"a\") as file:\n",
        "    for y in soup19.find_all('span',attrs={'class':'rspButtonBox__ticketValue'}):\n",
        "      file.write(s.text)"
      ],
      "metadata": {
        "id": "WX1kgqlKLr0w"
      },
      "execution_count": null,
      "outputs": []
    },
    {
      "cell_type": "code",
      "source": [
        "rouge2=rq.get('https://www.show-score.com/broadway-shows/moulin-rouge-broadway')\n",
        "rouge2"
      ],
      "metadata": {
        "colab": {
          "base_uri": "https://localhost:8080/"
        },
        "id": "JPtxbA7NX5KT",
        "outputId": "45c0a1d5-d531-4d7a-ec6c-3edbbb8671fc"
      },
      "execution_count": null,
      "outputs": [
        {
          "output_type": "execute_result",
          "data": {
            "text/plain": [
              "<Response [200]>"
            ]
          },
          "metadata": {},
          "execution_count": 227
        }
      ]
    },
    {
      "cell_type": "code",
      "source": [
        "rouge2.text"
      ],
      "metadata": {
        "id": "cqUk0u0jyekT"
      },
      "execution_count": null,
      "outputs": []
    },
    {
      "cell_type": "code",
      "source": [
        "soup20=BeautifulSoup(rouge2.text, 'html.parser')"
      ],
      "metadata": {
        "id": "6F2JaV15yeSU"
      },
      "execution_count": null,
      "outputs": []
    },
    {
      "cell_type": "code",
      "source": [
        "display(soup20)"
      ],
      "metadata": {
        "id": "YWEMAVYLyeH7"
      },
      "execution_count": null,
      "outputs": []
    },
    {
      "cell_type": "code",
      "source": [
        "print(soup20.prettify())"
      ],
      "metadata": {
        "id": "GuRmrsmcyd-M"
      },
      "execution_count": null,
      "outputs": []
    },
    {
      "cell_type": "code",
      "source": [
        "soup20.find_all('div')"
      ],
      "metadata": {
        "id": "zKvL4adf-zzH"
      },
      "execution_count": null,
      "outputs": []
    },
    {
      "cell_type": "code",
      "source": [
        "for y in soup20.find_all('div',attrs={'class':'show-page-v2__title'}):\n",
        "  print(y.text)"
      ],
      "metadata": {
        "colab": {
          "base_uri": "https://localhost:8080/"
        },
        "id": "XGEx3mQF-zqS",
        "outputId": "69f74ac0-ba2e-4df4-8d68-0b28756c8de2"
      },
      "execution_count": null,
      "outputs": [
        {
          "output_type": "stream",
          "name": "stdout",
          "text": [
            "\n",
            "Moulin Rouge! (Broadway)\n",
            "\n"
          ]
        }
      ]
    },
    {
      "cell_type": "code",
      "source": [
        "with open(\"../content/mr_name.txt\", \"a\") as file:\n",
        "    for y in soup20.find_all('div',attrs={'class':'show-page-v2__title'}):\n",
        "        file.write(y.text)"
      ],
      "metadata": {
        "id": "eS8Y4ij0-zf9"
      },
      "execution_count": null,
      "outputs": []
    },
    {
      "cell_type": "code",
      "source": [
        "for z in soup20.find_all('div',attrs={'class':'show-page-v2__rating-bars-title'}):\n",
        "  print(z.text)"
      ],
      "metadata": {
        "colab": {
          "base_uri": "https://localhost:8080/"
        },
        "id": "S20iFS9gCGNO",
        "outputId": "5696d4da-6acf-46ef-d025-e81184456241"
      },
      "execution_count": null,
      "outputs": [
        {
          "output_type": "stream",
          "name": "stdout",
          "text": [
            "\n",
            "84%\n"
          ]
        }
      ]
    },
    {
      "cell_type": "code",
      "source": [
        "with open(\"../content/mr_rate.txt\", \"a\") as file:\n",
        "    for z in soup20.find_all('div',attrs={'class':'show-page-v2__rating-bars-title'}):\n",
        "        file.write(z.text)"
      ],
      "metadata": {
        "id": "qgWOgCSGCGC-"
      },
      "execution_count": null,
      "outputs": []
    },
    {
      "cell_type": "code",
      "source": [
        "rouge3=rq.get('https://www.broadway.com/shows/moulin-rouge-musical/story/')"
      ],
      "metadata": {
        "id": "AeUMWLyGmNcm"
      },
      "execution_count": null,
      "outputs": []
    },
    {
      "cell_type": "code",
      "source": [
        "rouge3.text"
      ],
      "metadata": {
        "colab": {
          "base_uri": "https://localhost:8080/",
          "height": 174
        },
        "id": "eAyby7oxmNTY",
        "outputId": "33d24795-6819-458d-f82d-d81a48d03171"
      },
      "execution_count": null,
      "outputs": [
        {
          "output_type": "execute_result",
          "data": {
            "application/vnd.google.colaboratory.intrinsic+json": {
              "type": "string"
            },
            "text/plain": [
              "'\\n\\n<!DOCTYPE html>\\n\\n\\n<html xmlns=\"http://www.w3.org/1999/xhtml\" xml:lang=\"en\" lang=\"en\"\\n    xmlns:fb=\"http://www.facebook.com/2008/fbml\"\\n    xmlns:og=\"http://ogp.me/ns#\"\\n    class=\"no-js\">\\n\\n    <head>\\n        \\n            <meta charset=\"utf-8\">\\n            <title>Moulin Rouge! The Musical - Broadway | Story | Broadway.com</title>\\n            <meta name=\"viewport\" content=\"width=device-width, minimum-scale=0.1, initial-scale=1\">\\n            <meta name=\"description\" content=\"The story of Moulin Rouge! The Musical: Enter a world of splendor and romance, of eye-popping excess, …...\"/>\\n\\n            \\n            \\n            <meta name=\"msvalidate.01\" content=\"10C3133083513657F42058B6E919699D\"/> \\n            <meta name=\"y_key\" content=\"b4c96cd61f1e98c1\"/> \\n            \\n\\n             \\n             <!-- start Mixpanel --><script type=\"text/javascript\">(function(c,a){if(!a.__SV){var b=window;try{var d,m,j,k=b.location,f=k.hash;d=function(a,b){return(m=a.match(RegExp(b+\"=([^&]*)\")))?m[1]:null};f&&d(f,\"state\")&&(j=JSON.parse(decodeURIComponent(d(f,\"state\"))),\"mpeditor\"===j.action&&(b.sessionStorage.setItem(\"_mpcehash\",f),history.replaceState(j.desiredHash||\"\",c.title,k.pathname+k.search)))}catch(n){}var l,h;window.mixpanel=a;a._i=[];a.init=function(b,d,g){function c(b,i){var a=i.split(\".\");2==a.length&&(b=b[a[0]],i=a[1]);b[i]=function(){b.push([i].concat(Array.prototype.slice.call(arguments,\\n                0)))}}var e=a;\"undefined\"!==typeof g?e=a[g]=[]:g=\"mixpanel\";e.people=e.people||[];e.toString=function(b){var a=\"mixpanel\";\"mixpanel\"!==g&&(a+=\".\"+g);b||(a+=\" (stub)\");return a};e.people.toString=function(){return e.toString(1)+\".people (stub)\"};l=\"disable time_event track track_pageview track_links track_forms track_with_groups add_group set_group remove_group register register_once alias unregister identify name_tag set_config reset opt_in_tracking opt_out_tracking has_opted_in_tracking has_opted_out_tracking clear_opt_in_out_tracking people.set people.set_once people.unset people.increment people.append people.union people.track_charge people.clear_charges people.delete_user people.remove\".split(\" \");\\n                for(h=0;h<l.length;h++)c(e,l[h]);var f=\"set set_once union unset remove delete\".split(\" \");e.get_group=function(){function a(c){b[c]=function(){call2_args=arguments;call2=[c].concat(Array.prototype.slice.call(call2_args,0));e.push([d,call2])}}for(var b={},d=[\"get_group\"].concat(Array.prototype.slice.call(arguments,0)),c=0;c<f.length;c++)a(f[c]);return b};a._i.push([b,d,g])};a.__SV=1.2;b=c.createElement(\"script\");b.type=\"text/javascript\";b.async=!0;b.src=\"undefined\"!==typeof MIXPANEL_CUSTOM_LIB_URL?\\n                MIXPANEL_CUSTOM_LIB_URL:\"file:\"===c.location.protocol&&\"//cdn.mxpnl.com/libs/mixpanel-2-latest.min.js\".match(/^\\\\/\\\\//)?\"https://cdn.mxpnl.com/libs/mixpanel-2-latest.min.js\":\"//cdn.mxpnl.com/libs/mixpanel-2-latest.min.js\";d=c.getElementsByTagName(\"script\")[0];d.parentNode.insertBefore(b,d)}})(document,window.mixpanel||[]);\\n                mixpanel.init(\"f4468a5f0cdec7b851e99c76f72ca3dc\", { track_links_timeout: 250 });\\n\\n             </script>\\n            <!-- end Mixpanel -->\\n            \\n\\n            \\n    <script>\\n        window.dataLayer = window.dataLayer || [];\\n        window.dataLayer.push({\\n          \\'page-type\\': \\'Show Detail - Story\\',\\n          \\'show-name\\': \\'Moulin Rouge! The Musical\\',\\n          \\'show-categories\\':\\'Broadway|Musicals|Comedy|2020 Tony Nominees|Tony Winners|\\'\\n        });\\n\\n    </script>\\n\\n\\n            <!-- Google Tag Manager -->\\n            <script>(function(w,d,s,l,i){w[l]=w[l]||[];w[l].push({\\'gtm.start\\':\\n            new Date().getTime(),event:\\'gtm.js\\'});var f=d.getElementsByTagName(s)[0],\\n            j=d.createElement(s),dl=l!=\\'dataLayer\\'?\\'&l=\\'+l:\\'\\';j.async=true;j.src=\\n            \\'//www.googletagmanager.com/gtm.js?id=\\'+i+dl;f.parentNode.insertBefore(j,f);\\n            })(window,document,\\'script\\',\\'dataLayer\\',\\'GTM-HRPQ\\');</script>\\n            <!-- End Google Tag Manager -->\\n\\n            \\n\\n            \\n            <script>(function(H){H.className=H.className.replace(/\\\\bno-js\\\\b/,\\'js\\')})(document.documentElement);</script>\\n\\n             <script>\\n                (function() {                                                                                   \\n                    var d = document.documentElement;\\n                    d.setAttribute(\\'data-useragent\\', navigator.userAgent);\\n                })();\\n            </script>\\n\\n            <link rel=\"shortcut icon\" type=\"image/x-icon\" href=\"https://static.broadway.com/img/responsive/favicons/favicon.8992145d808c.ico\" />\\n            <link rel=\"apple-touch-icon\" sizes=\"180x180\" href=\"https://static.broadway.com/img/responsive/favicons/apple-touch-icon.f003c455893a.png\">\\n            <link rel=\"icon\" type=\"image/png\" href=\"https://static.broadway.com/img/responsive/favicons/favicon-32x32.6dbfeff78479.png\" sizes=\"32x32\">\\n            <link rel=\"icon\" type=\"image/png\" href=\"https://static.broadway.com/img/responsive/favicons/favicon-16x16.4b373edbfbd4.png\" sizes=\"16x16\">\\n            <link rel=\"manifest\" href=\"https://static.broadway.com/img/responsive/favicons/manifest.799459f8be68.json\">\\n            <link rel=\"mask-icon\" href=\"https://static.broadway.com/img/responsive/favicons/safari-pinned-tab.123c12a54604.svg\" color=\"#a91f16\">\\n            <meta name=\"msapplication-TileColor\" content=\"#25262b\">\\n            <meta name=\"theme-color\" content=\"#1f2023\">\\n\\n            <link rel=\"canonical\" href=\"https://www.broadway.com/shows/moulin-rouge-musical/story/\"/>\\n\\n            \\n            <link rel=\"alternate\" type=\"application/rss+xml\" title=\"RSS\" href=\"/feeds/buzz/latest\" />\\n            \\n\\n            \\n\\n            \\n\\n            \\n            <script>\\n                (function(d) {\\n                    var config = {\\n                        kitId: \\'nuf8rzv\\',\\n                        scriptTimeout: 3000,\\n                        async: true\\n                },\\n                h=d.documentElement,t=setTimeout(function(){h.className=h.className.replace(/\\\\bwf-loading\\\\b/g,\"\")+\" wf-inactive\";},config.scriptTimeout),tk=d.createElement(\"script\"),f=false,s=d.getElementsByTagName(\"script\")[0],a;h.className+=\" wf-loading\";tk.src=\\'https://use.typekit.net/\\'+config.kitId+\\'.js\\';tk.async=true;tk.onload=tk.onreadystatechange=function(){a=this.readyState;if(f||a&&a!=\"complete\"&&a!=\"loaded\")return;f=true;clearTimeout(t);try{Typekit.load(config)}catch(e){}};s.parentNode.insertBefore(tk,s)\\n                })(document);\\n            </script>\\n\\n            <script>\\n                (function() {\\n                    document.addEventListener(\"touchstart\", function(){}, true);        \\n                })();\\n\\n                !function(f,b,e,v,n,t,s){if(f.fbq)return;n=f.fbq=function(){n.callMethod?\\n                n.callMethod.apply(n,arguments):n.queue.push(arguments)};if(!f._fbq)f._fbq=n;\\n                n.push=n;n.loaded=!0;n.version=\\'2.0\\';n.queue=[];t=b.createElement(e);t.async=!0;\\n                t.src=v;s=b.getElementsByTagName(e)[0];s.parentNode.insertBefore(t,s)}(window,\\n                document,\\'script\\',\\'https://connect.facebook.net/en_US/fbevents.js\\');\\n                fbq(\\'init\\', \\'682878898465597\\'); // Insert your pixel ID here.\\n                fbq(\\'track\\', \\'PageView\\');\\n            </script>\\n            <!-- DO NOT MODIFY -->\\n            <!-- End Facebook Pixel Code -->\\n\\n\\n            \\n                <script type=\"text/javascript\">\\n                    var googletag = googletag || {};\\n                    googletag.cmd = googletag.cmd || [];\\n                    (function() {\\n                        var gads = document.createElement(\"script\");\\n                        gads.async = true;\\n                        gads.type = \"text/javascript\";\\n                        var useSSL = \"https:\" == document.location.protocol;\\n                        gads.src = (useSSL ? \"https:\" : \"http:\") + \"//www.googletagservices.com/tag/js/gpt.js\";\\n                        var node =document.getElementsByTagName(\"script\")[0];\\n                        node.parentNode.insertBefore(gads, node);\\n                    })();\\n                </script>\\n\\n                <script>\\n                    \\n                    (function() {\\n\\n                        \\n                            var networkCode = 73255505;\\n                            var subdomain = \\'broadway\\';\\n\\n                            var topLevelAdUnit = subdomain;\\n\\n                            var s_values = [];\\n\\n                            \\n    \\n    var s1 = \\'shows\\';\\n    s_values.push(s1);\\n\\n\\n                            var s_values_str = s_values.join(\\'/\\');\\n\\n                            var adUnit = topLevelAdUnit;\\n                            if ( s_values_str.length ) {\\n                                adUnit += \\'/\\' + s_values_str;\\n                            }\\n\\n                            var slotName = \\'/\\' + networkCode;\\n                            if ( adUnit.length ) {\\n                                slotName += \\'/\\' + adUnit;\\n                            }\\n\\n                            function getQueryVariables(variable){\\n                                var temp, i;\\n                                var queryString = window.location.search.substring(1);\\n                                var queries = queryString.split(\"&\");\\n                                var len = queries.length;\\n\\n                                for ( i = 0;  i < len; i++ ){\\n                                    temp = queries[i].split(\"=\");\\n                                    if (temp[0] === variable){\\n                                        return temp[1]\\n                                    }\\n                                }\\n                            }\\n\\n                            var type= \\'\\';\\n                            var breakpoint= \\'\\';\\n                            var dfp_test = getQueryVariables(\"dfp_test\") || \\'\\';\\n\\n                        \\n\\n                            googletag.cmd.push(function() {\\n\\n                                \\n\\n                                    \\n\\n                                    \\n\\n                                    googletag.defineSlot(slotName, [111, 12], \\'dfp-nav-mastercard-desktop\\')\\n                                        .addService(googletag.pubads())\\n                                        .setTargeting(\\'pos\\', \\'nav-mastercard-desktop\\')\\n                                        .setCollapseEmptyDiv(true,true);\\n                                    googletag.defineSlot(slotName, [111, 12], \\'dfp-nav-mastercard-mobile\\')\\n                                        .addService(googletag.pubads())\\n                                        .setTargeting(\\'pos\\', \\'nav-mastercard-mobile\\')\\n                                        .setCollapseEmptyDiv(true,true);\\n\\n                                \\n\\n                                \\n    \\n    googletag.defineSlot(slotName, [370,60], \\'dfp-marquee-left\\')\\n        .addService(googletag.pubads())\\n        .setTargeting(\\'pos\\', \\'marquee-left\\');\\n\\n\\n    \\n    googletag.defineSlot(slotName, [370,60], \\'dfp-marquee-center\\')\\n        .addService(googletag.pubads())\\n        .setTargeting(\\'pos\\', \\'marquee-center\\');\\n\\n\\n    \\n    googletag.defineSlot(slotName, [370,60], \\'dfp-marquee-right\\')\\n        .addService(googletag.pubads())\\n        .setTargeting(\\'pos\\', \\'marquee-right\\');\\n\\n\\n\\n\\n                                \\n                                s_values.forEach(function(s_value, index){\\n                                    s_key = \\'s\\' + (index + 1);\\n                                    googletag.pubads().setTargeting(s_key,s_value);\\n                                });\\n\\n                                \\n\\n                                googletag.pubads().setTargeting(\\'type\\',type);\\n                                googletag.pubads().setTargeting(\\'breakpoint\\',breakpoint);\\n                                googletag.pubads().setTargeting(\\'dfp_test\\',dfp_test);\\n                                googletag.pubads().collapseEmptyDivs();\\n                                googletag.pubads().enableSingleRequest();\\n                                googletag.enableServices();\\n                            });\\n                    })();\\n                </script>\\n            \\n\\n            <script>\\n                (function() {\\n                    document.addEventListener(\"touchstart\", function(){}, true);        \\n                })();\\n            </script>\\n\\n            \\n    \\n                <link rel=\"stylesheet\" href=\"https://static.broadway.com/css/responsive-global.b65c398fcc2d.css\">\\n            \\n    <link rel=\"stylesheet\" href=\"https://static.broadway.com/css/responsive-shows-v2.378a38f1efcb.css\">\\n\\n\\n            \\n    \\n    \\n    \\n    <meta property=\"og:title\" content=\"Moulin&nbsp;Rouge!&nbsp;The&nbsp;Musical\"/>\\n        \\n    \\n    <meta property=\"og:type\" content=\"article\"/>\\n    <meta property=\"og:image\" content=\"https://imaging.broadway.com/images/poster-178275/w178/120038-1.jpg\"/>\\n    <meta property=\"og:url\" content=\"https://www.broadway.com/shows/moulin-rouge-musical/\"/>\\n    <meta property=\"og:site_name\" content=\"Broadway.com\"/>\\n    \\n    \\n    \\n    <meta property=\"og:description\" content=\"A&nbsp;theatrical&nbsp;celebration&nbsp;of&nbsp;truth,&nbsp;beauty,&nbsp;freedom&nbsp;and&nbsp;love.\"/>    \\n    \\n    \\n    <meta property=\"fb:app_id\" content=\"189953424367267\"/>\\n\\n\\n    \\n\\n    \\n        <meta name=\"twitter:card\" content=\"summary\" />\\n    \\n\\t<meta name=\"twitter:site\" content=\"@broadwaycom\"/>\\n\\t\\n\\t\\t<meta name=\"twitter:title\" content=\"Moulin Rouge! The Musical - Broadway | Story | Broadway.com\"/>\\n\\t\\n\\n    \\n        \\n            <meta name=\"twitter:description\" content=\"The BEST Broadway source for Moulin Rouge! The Musical tickets and Moulin Rouge! The Musical information, photos and videos. Click Here to buy Moulin …\"/>\\n        \\n    \\n\\n    \\n\\n    \\n\\n\\n\\n\\n            \\n\\n            \\n            \\n\\n        \\n\\n    </head>\\n\\n\\n    \\n    \\n    <body id=\"shows-story\"  class=\"system shows-story system \">\\n        \\n\\n        \\n            \\n\\n            <svg aria-hidden=\"true\" class=\"hide\" xmlns=\"http://www.w3.org/2000/svg\" width=\"21\" height=\"21\" viewBox=\"0 0 21 21\">\\n    <defs>\\n        <path id=\"svg-search-icon\" fill=\"currentColor\" d=\"M19.113155,17.9037012 L25,23.7929106 L23.7907228,25 L17.9054697,19.1128509 C15.6658066,20.917957 12.5961156,21.3813043 9.89728381,20.2636249 C6.93295211,19.0359928 5.00000117,16.1428035 5.0000004,12.9335019 C4.99861985,8.55352667 8.54696109,5.00165848 12.9256226,5.00000192 L12.9256226,5.00000192 C16.1339608,4.99777703 19.0276222,6.92930099 20.2569415,9.89366997 C21.3759319,12.5919925 20.9152633,15.6622323 19.113155,17.9037012 Z M18.7909337,10.5014905 C17.8074157,8.12992377 15.4923831,6.58468155 12.9256226,6.58700192 C11.2434612,6.58753227 9.63040741,7.25647742 8.44131466,8.44667707 C7.25222191,9.63687671 6.58449451,11.2508359 6.58502486,12.9335019 C6.58502551,15.5010332 8.13144581,17.8156638 10.5029982,18.7977946 C12.8745505,19.7799254 15.6040422,19.2360777 17.4183727,17.4199152 C19.2327031,15.6037528 19.7744517,12.8730572 18.7909337,10.5014905 Z\"/>\\n        <filter id=\"svg-search-icon-filter\" width=\"200%\" height=\"200%\" x=\"-50%\" y=\"-50%\" filterUnits=\"objectBoundingBox\">\\n            <feOffset dy=\"1\" in=\"SourceAlpha\" result=\"shadowOffsetOuter1\"/>\\n            <feColorMatrix values=\"0 0 0 0 0 0 0 0 0 0 0 0 0 0 0 0 0 0 0.5 0\" in=\"shadowOffsetOuter1\"/>\\n        </filter>\\n    </defs>\\n</svg>\\n            <svg aria-hidden=\"true\" class=\"hide\" xmlns=\"http://www.w3.org/2000/svg\" width=\"16\" height=\"16\" viewBox=\"0 0 16 16\">\\n  <g fill=\"none\" fill-rule=\"evenodd\" id=\"svg-icon-gift\">\\n    <path stroke=\"currentColor\" d=\"M15.5,7.5 L15.5,4.5 L0.5,4.5 L0.5,7.5 L1.5,7.5 L1.5,15.5 L14.5,15.5 L14.5,7.5 L15.5,7.5 Z\"/>\\n    <rect width=\"12\" height=\"1\" x=\"2\" y=\"7\" fill=\"currentColor\"/>\\n    <path fill=\"currentColor\" d=\"M5.15117994,2.86117118 L7.03099228,2.86117118 L5.8163443,1.42367118 C5.64924904,1.23914645 5.4275298,1.14688546 5.15117994,1.14688546 C4.8941103,1.14688546 4.67560438,1.23021796 4.49565563,1.39688546 C4.31570688,1.56355296 4.22573386,1.76593189 4.22573386,2.00402832 C4.22573386,2.24212475 4.31570688,2.44450368 4.49565563,2.61117118 C4.67560438,2.77783868 4.8941103,2.86117118 5.15117994,2.86117118 Z M11.5136217,2.61117118 C11.6935705,2.44450368 11.7835435,2.24212475 11.7835435,2.00402832 C11.7835435,1.76593189 11.6935705,1.56355296 11.5136217,1.39688546 C11.333673,1.23021796 11.115167,1.14688546 10.8580974,1.14688546 C10.5817475,1.14688546 10.3600283,1.23914645 10.192933,1.42367118 L8.98792513,2.86117118 L10.8580974,2.86117118 C11.115167,2.86117118 11.333673,2.77783868 11.5136217,2.61117118 Z M13.2488331,12.0040283 L2.76044424,12.0040283 L13.2488331,12.0040283 Z M0.60107006,7.14688546 L0.60107006,4.28974261 L0.60107006,7.14688546 Z M5.15117994,4.00402832 C4.55349302,4.00402832 4.04418144,3.80908979 3.6232299,3.41920689 C3.20227837,3.02932399 2.99180576,2.55760252 2.99180576,2.00402832 C2.99180576,1.45045412 3.20227837,0.978732651 3.6232299,0.588849749 C4.04418144,0.198966847 4.55349302,0.00402832031 5.15117994,0.00402832031 C5.83884122,0.00402832031 6.37867937,0.233192695 6.77071057,0.69152832 L8.00463867,2.16474261 L9.23856677,0.69152832 C9.63059797,0.233192695 10.1704361,0.00402832031 10.8580974,0.00402832031 C11.4557843,0.00402832031 11.9650959,0.198966847 12.3860474,0.588849749 C12.806999,0.978732651 13.0174716,1.45045412 13.0174716,2.00402832 C13.0174716,2.55760252 12.806999,3.02932399 12.3860474,3.41920689 C11.9650959,3.80908979 11.4557843,4.00402832 10.8580974,4.00402832 L5.15117994,4.00402832 Z\"/>\\n  </g>\\n</svg>\\n\\n            <svg aria-hidden=\"true\" class=\"hide\" xmlns=\"http://www.w3.org/2000/svg\" width=\"16\" height=\"16\" viewBox=\"0 0 16 16\">\\n  <g fill=\"none\" fill-rule=\"evenodd\" id=\"svg-icon-calendar\">\\n    <path stroke=\"currentColor\" d=\"M.5 3.5L.5 15.5 15.5 15.5 15.5 3.5.5 3.5zM2.5 3.5L5.5 3.5 5.5 2C5.5 1.16683021 4.83139152.5 4 .5 3.16683021.5 2.5 1.16860848 2.5 2L2.5 3.5zM10.5 3.5L13.5 3.5 13.5 2C13.5 1.16683021 12.8313915.5 12 .5 11.1668302.5 10.5 1.16860848 10.5 2L10.5 3.5z\"/>\\n    <rect width=\"14\" height=\"1\" x=\"1\" y=\"6\" fill=\"currentColor\"/>\\n  </g>\\n</svg>\\n\\n            <svg xmlns=\"http://www.w3.org/2000/svg\" aria-hidden=\"true\" class=\"hide\" width=\"12\" height=\"21\" viewBox=\"0 0 12 21\">\\n  <path id=\"svg-icon-chevron\" fill=\"currentColor\" fill-rule=\"evenodd\" d=\"M0.684144,9.78697111 L5.55111512e-16,10.4711151 L0.684144,11.1566261 L10.4724821,20.9435972 L11.1566261,20.2594532 L1.36897148,10.4717986 L11.1566261,0.684144 L10.4724821,-3.55271368e-15 L0.684827478,9.78765459 Z\" transform=\"matrix(-1 0 0 1 11.157 0)\"/>\\n</svg>\\n\\n            <svg xmlns=\"http://www.w3.org/2000/svg\" aria-hidden=\"true\" class=\"hide\" width=\"17\" height=\"14\" viewBox=\"0 0 17 14\">\\n  <path id=\"svg-icon-envelope\" fill=\"currentColor\" fill-rule=\"evenodd\" d=\"M24 12.307v7.5323c0 .4174-.1486.7747-.4459 1.072-.2972.2972-.6545.4458-1.072.4458H8.518c-.4175 0-.7748-.1486-1.072-.4458C7.1486 20.614 7 20.2567 7 19.8393v-7.5324c.2783.31.5977.585.9581.8254 2.2895 1.5558 3.861 2.6467 4.7149 3.2728.3605.2657.653.4728.8775.6214.2245.1486.5233.3004.8965.4554.3731.155.721.2324 1.0435.2324h.019c.3225 0 .6704-.0775 1.0435-.2324.3732-.155.672-.3068.8965-.4554.2245-.1486.517-.3557.8775-.6214 1.0752-.7779 2.65-1.8688 4.7243-3.2728.3605-.2467.6767-.5218.9487-.8254zm0-2.7891c0 .4996-.155.977-.4648 1.4324-.31.4554-.6957.8443-1.1574 1.1669a7660.883 7660.883 0 0 0-4.4397 3.0831 42.051 42.051 0 0 0-.4032.2894 19.8514 19.8514 0 0 1-.5123.3605c-.136.0917-.3004.1944-.4933.3083-.1929.1138-.3747.1992-.5455.2561-.1707.057-.3289.0854-.4743.0854h-.019c-.1454 0-.3036-.0285-.4743-.0854-.1708-.0569-.3526-.1423-.5455-.2561-.1929-.1139-.3573-.2166-.4933-.3083a19.8514 19.8514 0 0 1-.5123-.3605 42.051 42.051 0 0 0-.4032-.2894c-.5755-.4047-1.404-.9818-2.4854-1.7313-1.0815-.7494-1.7298-1.2-1.9448-1.3518-.3921-.2656-.762-.6309-1.11-1.0957C7.174 10.5566 7 10.125 7 9.7265c0-.4932.1312-.9043.3937-1.2332C7.6562 8.1644 8.0309 8 8.5179 8H22.482c.4111 0 .7669.1486 1.0673.4459.3004.2972.4506.6545.4506 1.072z\" transform=\"translate(-7 -8)\"/>\\n</svg>\\n            <svg xmlns=\"http://www.w3.org/2000/svg\" aria-hidden=\"true\" class=\"hide\" width=\"16\" height=\"16\" viewBox=\"0 0 16 16\">\\n  <polygon id=\"svg-icon-close\" fill=\"currentColor\" fill-rule=\"evenodd\" points=\"8 7.238 15.238 0 16 .762 8.762 8 16 15.238 15.238 16 8 8.762 .762 16 0 15.238 7.238 8 0 .762 .762 0\"/>\\n</svg>\\n\\n            <svg xmlns=\"http://www.w3.org/2000/svg\" aria-hidden=\"true\" class=\"hide\" width=\"12\" height=\"12\" viewBox=\"0 0 12 12\">\\n  <path id=\"svg-icon-phone\" fill=\"currentColor\" fill-rule=\"evenodd\" d=\"M19,17.3203125 C19,17.2630205 18.9947917,17.2213543 18.984375,17.1953125 C18.9687499,17.1536456 18.8684905,17.0768235 18.6835938,16.9648438 C18.498697,16.852864 18.2682305,16.7239591 17.9921875,16.578125 L17.578125,16.3515625 C17.5520832,16.3359374 17.5026045,16.3020836 17.4296875,16.25 C17.3567705,16.1979164 17.291667,16.1588543 17.234375,16.1328125 C17.177083,16.1067707 17.1223961,16.09375 17.0703125,16.09375 C16.976562,16.09375 16.8541674,16.1783846 16.703125,16.3476562 C16.5520826,16.5169279 16.4036466,16.6874991 16.2578125,16.859375 C16.1119784,17.0312509 15.9973962,17.1171875 15.9140625,17.1171875 C15.877604,17.1171875 15.8346357,17.108073 15.7851562,17.0898438 C15.7356768,17.0716145 15.6953127,17.0546876 15.6640625,17.0390625 C15.6328123,17.0234374 15.588542,16.9986981 15.53125,16.9648438 C15.473958,16.9309894 15.4375001,16.9088542 15.421875,16.8984375 C14.9062474,16.6119777 14.4622414,16.2825539 14.0898438,15.9101562 C13.7174461,15.5377586 13.3880223,15.0937526 13.1015625,14.578125 C13.0911458,14.5624999 13.0690106,14.526042 13.0351562,14.46875 C13.0013019,14.411458 12.9765626,14.3671877 12.9609375,14.3359375 C12.9453124,14.3046873 12.9283855,14.2643232 12.9101562,14.2148438 C12.891927,14.1653643 12.8828125,14.122396 12.8828125,14.0859375 C12.8828125,14.0182288 12.9361974,13.9309901 13.0429688,13.8242188 C13.1497401,13.7174474 13.2669264,13.617188 13.3945312,13.5234375 C13.5221361,13.429687 13.6393224,13.3268235 13.7460938,13.2148438 C13.8528651,13.102864 13.90625,13.0078129 13.90625,12.9296875 C13.90625,12.8776039 13.8932293,12.822917 13.8671875,12.765625 C13.8411457,12.708333 13.8020836,12.6432295 13.75,12.5703125 C13.6979164,12.4973955 13.6640626,12.4479168 13.6484375,12.421875 C13.6328124,12.3906248 13.5937503,12.3164068 13.53125,12.1992188 C13.4687497,12.0820307 13.4036462,11.9635423 13.3359375,11.84375 C13.2682288,11.7239577 13.1992191,11.6002611 13.1289062,11.4726562 C13.0585934,11.3450514 12.9934899,11.2395838 12.9335938,11.15625 C12.8736976,11.0729162 12.8307293,11.0260417 12.8046875,11.015625 C12.7786457,11.0052083 12.7369795,11 12.6796875,11 C12.4296863,11 12.166668,11.0572911 11.890625,11.171875 C11.6510405,11.2812505 11.4427092,11.5273418 11.265625,11.9101562 C11.0885408,12.2929707 11,12.632811 11,12.9296875 C11,13.0130213 11.0065104,13.101562 11.0195312,13.1953125 C11.0325521,13.289063 11.0455729,13.3684893 11.0585938,13.4335938 C11.0716146,13.4986982 11.0950519,13.5846349 11.1289062,13.6914062 C11.1627606,13.7981776 11.188802,13.8749998 11.2070312,13.921875 C11.2252605,13.9687502 11.2578123,14.0546869 11.3046875,14.1796875 C11.3515627,14.3046881 11.3802083,14.3828123 11.390625,14.4140625 C11.7031266,15.2682334 12.266923,16.1028605 13.0820312,16.9179688 C13.8971395,17.733077 14.7317666,18.2968734 15.5859375,18.609375 C15.6171877,18.6197917 15.6953119,18.6484373 15.8203125,18.6953125 C15.9453131,18.7421877 16.0312498,18.7747395 16.078125,18.7929688 C16.1250002,18.811198 16.2018224,18.8372394 16.3085938,18.8710938 C16.4153651,18.9049481 16.5013018,18.9283854 16.5664062,18.9414062 C16.6315107,18.9544271 16.710937,18.9674479 16.8046875,18.9804688 C16.898438,18.9934896 16.9869788,19 17.0703125,19 C17.367189,19 17.7070293,18.9114592 18.0898438,18.734375 C18.4726582,18.5572908 18.7187495,18.3489595 18.828125,18.109375 C18.9427089,17.833332 19,17.5703138 19,17.3203125 Z M21,11.25 L21,18.75 C21,19.3697948 20.7799501,19.8997374 20.3398438,20.3398438 C19.8997374,20.7799501 19.3697948,21 18.75,21 L11.25,21 C10.6302052,21 10.1002626,20.7799501 9.66015625,20.3398438 C9.22004988,19.8997374 9,19.3697948 9,18.75 L9,11.25 C9,10.6302052 9.22004988,10.1002626 9.66015625,9.66015625 C10.1002626,9.22004988 10.6302052,9 11.25,9 L18.75,9 C19.3697948,9 19.8997374,9.22004988 20.3398438,9.66015625 C20.7799501,10.1002626 21,10.6302052 21,11.25 Z\" transform=\"translate(-9 -9)\"/>\\n</svg>\\n\\n            <svg xmlns=\"http://www.w3.org/2000/svg\" aria-hidden=\"true\" class=\"hide\" width=\"16\" height=\"16\" viewBox=\"0 0 30 30\">\\n  <circle id=\"svg-icon-loading\" class=\"loading-spinner\" fill=\"transparent\" stroke=\"#aaa\" cx=\"15\" cy=\"15\" r=\"10\" />\\n</svg>\\n\\n\\n            <svg aria-hidden=\"true\" class=\"hide\" xmlns=\"http://www.w3.org/2000/svg\" width=\"11\" height=\"20\" viewBox=\"0 0 11 20\">\\n    <defs>\\n        <path id=\"svg-fb-icon\" fill=\"currentColor\" fill-rule=\"evenodd\" d=\"M20.3846154,5.14423077 L20.3846154,8.31730769 L18.4975962,8.31730769 C17.8084901,8.31730769 17.3437512,8.46153702 17.1033654,8.75 C16.8629796,9.03846298 16.7427885,9.47115096 16.7427885,10.0480769 L16.7427885,12.3197115 L20.2644231,12.3197115 L19.7956731,15.8774038 L16.7427885,15.8774038 L16.7427885,25 L13.0649038,25 L13.0649038,15.8774038 L10,15.8774038 L10,12.3197115 L13.0649038,12.3197115 L13.0649038,9.69951923 C13.0649038,8.20912716 13.4815663,7.05328936 14.3149038,6.23197115 C15.1482413,5.41065294 16.2580059,5 17.6442308,5 C18.8221213,5 19.7355737,5.04807644 20.3846154,5.14423077 Z\" transform=\"translate(-10 -5)\"/>\\n    </defs>\\n</svg>\\n\\n            <svg aria-hidden=\"true\" class=\"hide\" xmlns=\"http://www.w3.org/2000/svg\">\\n  <defs>\\n    <path id=\"svg-twitter-icon\" fill=\"currentColor\" fill-rule=\"evenodd\" d=\"M24.7 8.9a8.46 8.46 0 0 1-2.025 2.088 11.47 11.47 0 0 1-.463 3.769 11.722 11.722 0 0 1-1.443 3.105 12.21 12.21 0 0 1-2.306 2.632c-.892.762-1.967 1.37-3.226 1.825-1.258.454-2.604.681-4.037.681-2.258 0-4.325-.604-6.2-1.813.292.034.617.05.975.05 1.875 0 3.546-.574 5.013-1.724a3.936 3.936 0 0 1-2.35-.807 3.95 3.95 0 0 1-1.425-1.994c.275.042.529.063.762.063.358 0 .712-.046 1.063-.137a3.972 3.972 0 0 1-2.32-1.394 3.9 3.9 0 0 1-.918-2.569v-.05a4.005 4.005 0 0 0 1.825.512A4.033 4.033 0 0 1 6.312 11.7a3.934 3.934 0 0 1-.487-1.925c0-.733.183-1.412.55-2.038a11.445 11.445 0 0 0 3.681 2.982 11.25 11.25 0 0 0 4.644 1.244 4.485 4.485 0 0 1-.1-.925c0-1.117.394-2.07 1.181-2.857C16.57 7.394 17.521 7 18.637 7c1.167 0 2.15.425 2.95 1.275A7.917 7.917 0 0 0 24.15 7.3a3.92 3.92 0 0 1-1.775 2.225A8.045 8.045 0 0 0 24.7 8.9z\" transform=\"translate(-5 -7)\"/>\\n  </defs>\\n</svg>\\n            <svg aria-hidden=\"true\" class=\"hide\" xmlns=\"http://www.w3.org/2000/svg\" width=\"25px\" height=\"18px\" viewBox=\"0 0 25 18\">\\n    <defs>\\n        <g id=\"svg-youtube-icon\" fill=\"currentColor\" stroke=\"none\" stroke-width=\"1\" fill-rule=\"evenodd\">\\n            <g id=\"320-P1\" transform=\"translate(-124.000000, -594.000000)\">\\n                <g id=\"bwy/header/nav/320\" transform=\"translate(0.000000, 110.000000)\">\\n                    <g id=\"box\" transform=\"translate(0.000000, 59.000000)\">\\n                        <path d=\"M148.477557,427.737818 C149,429.691039 149,433.766447 149,433.766447 C149,433.766447 149,437.841714 148.477557,439.795218 C148.190057,440.872784 147.34304,441.721433 146.26733,442.009594 C144.317756,442.532895 136.5,442.532895 136.5,442.532895 C136.5,442.532895 128.682244,442.532895 126.73267,442.009594 C125.657102,441.721433 124.809943,440.872784 124.522443,439.795218 C124,437.841714 124,433.766447 124,433.766447 C124,433.766447 124,429.691039 124.522443,427.737818 C124.809943,426.660111 125.657102,425.811462 126.73267,425.523442 C128.682244,425 136.5,425 136.5,425 C136.5,425 144.317756,425 146.26733,425.523442 C147.34304,425.811462 148.190057,426.660111 148.477557,427.737818 Z M133.440789,437.8125 L140.184211,433.766602 L133.440789,429.720395 L133.440789,437.8125 Z\" id=\"youtube\"></path>\\n                    </g>\\n                </g>\\n            </g>\\n        </g>\\n    </defs>\\n</svg>\\n\\n            <svg aria-hidden=\"true\" class=\"hide\" xmlns=\"http://www.w3.org/2000/svg\" width=\"20\" height=\"20\" viewBox=\"0 0 20 20\">\\n  <defs>\\n    <path id=\"svg-pinterest-icon\" fill=\"currentColor\" fill-rule=\"evenodd\" d=\"M25 15c0 1.814-.447 3.487-1.341 5.02a9.955 9.955 0 0 1-3.64 3.639C18.488 24.553 16.815 25 15 25c-.964 0-1.91-.139-2.839-.417.513-.807.851-1.519 1.016-2.135.078-.295.313-1.211.703-2.747.174.338.49.631.95.878.46.248.956.372 1.485.372 1.05 0 1.988-.298 2.813-.892.824-.595 1.462-1.413 1.914-2.455.451-1.042.677-2.213.677-3.515 0-.99-.258-1.919-.775-2.787-.516-.868-1.265-1.575-2.246-2.122-.981-.547-2.088-.82-3.32-.82a8.36 8.36 0 0 0-2.552.377c-.79.252-1.461.586-2.012 1.003a6.857 6.857 0 0 0-1.42 1.438 5.954 5.954 0 0 0-.872 1.687 5.682 5.682 0 0 0-.28 1.744c0 .903.174 1.697.521 2.383.347.686.855 1.168 1.523 1.445.26.105.426.018.495-.26.018-.06.052-.195.104-.404.053-.208.087-.338.105-.39.052-.2.004-.386-.144-.56-.442-.53-.664-1.185-.664-1.966 0-1.311.454-2.437 1.361-3.38.907-.941 2.094-1.412 3.561-1.412 1.31 0 2.333.356 3.067 1.068.733.712 1.1 1.636 1.1 2.773 0 1.476-.297 2.73-.892 3.763s-1.356 1.55-2.285 1.55c-.53 0-.955-.19-1.276-.567-.321-.377-.421-.83-.3-1.36.07-.304.185-.71.345-1.218.16-.508.291-.955.39-1.34.1-.387.15-.715.15-.984 0-.434-.117-.794-.35-1.08-.235-.287-.57-.43-1.004-.43-.538 0-.993.247-1.367.742-.373.495-.56 1.11-.56 1.849 0 .633.109 1.163.326 1.588l-1.29 5.443c-.147.608-.203 1.376-.168 2.305-1.789-.79-3.234-2.01-4.336-3.66C5.55 18.859 5 17.024 5 15c0-1.814.447-3.487 1.341-5.02a9.955 9.955 0 0 1 3.64-3.639C11.512 5.447 13.185 5 15 5s3.487.447 5.02 1.341a9.955 9.955 0 0 1 3.639 3.64C24.553 11.512 25 13.185 25 15z\" transform=\"translate(-5 -5)\"/>\\n  </defs>\\n</svg>\\n            <svg aria-hidden=\"true\" class=\"hide\" xmlns=\"http://www.w3.org/2000/svg\" width=\"12\" height=\"20\" viewBox=\"0 0 12 20\">\\n  <defs>\\n    <path id=\"svg-tumblr-icon\" fill=\"currentColor\" fill-rule=\"evenodd\" d=\"M19.528 20.972l.961 2.849c-.184.28-.628.544-1.334.793a6.59 6.59 0 0 1-2.127.384c-.833.016-1.596-.088-2.29-.312-.692-.224-1.263-.52-1.712-.89a5.566 5.566 0 0 1-1.142-1.273 5.168 5.168 0 0 1-.865-2.86v-6.539H9V10.54a5.761 5.761 0 0 0 1.55-.835c.457-.348.822-.709 1.094-1.081.272-.373.505-.782.697-1.226a7.02 7.02 0 0 0 .409-1.19c.08-.349.14-.703.18-1.064a.195.195 0 0 1 .054-.102.126.126 0 0 1 .09-.042h2.933v5.096h4.002v3.028h-4.014v6.226c0 .24.026.465.078.673.052.208.142.418.27.63.128.213.327.38.595.5.268.12.595.176.98.168.625-.016 1.161-.132 1.61-.349z\" transform=\"translate(-9 -5)\"/>\\n  </defs>\\n</svg>\\n            <svg aria-hidden=\"true\" class=\"hide\" xmlns=\"http://www.w3.org/2000/svg\" width=\"20\" height=\"20\" viewBox=\"0 0 20 20\">\\n  <defs>\\n    <path id=\"svg-instagram-icon\" fill=\"currentColor\" fill-rule=\"evenodd\" d=\"M18.333 15c0-.92-.325-1.706-.976-2.357A3.212 3.212 0 0 0 15 11.667c-.92 0-1.706.325-2.357.976A3.212 3.212 0 0 0 11.667 15c0 .92.325 1.706.976 2.357a3.212 3.212 0 0 0 2.357.976c.92 0 1.706-.325 2.357-.976A3.212 3.212 0 0 0 18.333 15zm1.797 0c0 1.424-.499 2.635-1.497 3.633-.998.998-2.21 1.497-3.633 1.497-1.424 0-2.635-.499-3.633-1.497-.998-.998-1.497-2.21-1.497-3.633 0-1.424.499-2.635 1.497-3.633.998-.998 2.21-1.497 3.633-1.497 1.424 0 2.635.499 3.633 1.497.998.998 1.497 2.21 1.497 3.633zm1.406-5.339c0 .33-.117.612-.351.847a1.154 1.154 0 0 1-.846.351c-.33 0-.612-.117-.847-.351a1.154 1.154 0 0 1-.351-.847c0-.33.117-.612.351-.846.235-.234.517-.351.847-.351.33 0 .612.117.846.351.234.234.351.517.351.846zM15 6.797l-.996-.007a70.637 70.637 0 0 0-1.374 0c-.312.005-.731.018-1.256.04-.525.021-.973.065-1.341.13a5.22 5.22 0 0 0-.931.24 3.378 3.378 0 0 0-1.146.756c-.33.33-.582.712-.755 1.146a5.22 5.22 0 0 0-.241.93c-.065.37-.109.817-.13 1.342-.022.525-.035.944-.04 1.256-.004.313-.004.77 0 1.374l.007.996-.007.996a70.637 70.637 0 0 0 0 1.374c.005.312.018.731.04 1.256.021.525.065.973.13 1.341.065.37.145.68.24.931.174.434.426.816.756 1.146.33.33.712.582 1.146.755.251.096.562.176.93.241.37.065.817.109 1.342.13.525.022.944.035 1.256.04.313.004.77.004 1.374 0l.996-.007.996.007c.603.004 1.061.004 1.374 0 .312-.005.731-.018 1.256-.04.525-.021.973-.065 1.341-.13a5.22 5.22 0 0 0 .931-.24 3.378 3.378 0 0 0 1.146-.756c.33-.33.582-.712.755-1.146a5.22 5.22 0 0 0 .241-.93c.065-.37.109-.817.13-1.342.022-.525.035-.944.04-1.256.004-.313.004-.77 0-1.374L23.203 15l.007-.996c.004-.603.004-1.061 0-1.374a48.238 48.238 0 0 0-.04-1.256 10.319 10.319 0 0 0-.13-1.341 5.22 5.22 0 0 0-.24-.931 3.378 3.378 0 0 0-.756-1.146 3.378 3.378 0 0 0-1.146-.755 5.22 5.22 0 0 0-.93-.241 10.319 10.319 0 0 0-1.342-.13 48.238 48.238 0 0 0-1.256-.04c-.313-.004-.77-.004-1.374 0L15 6.797zM25 15c0 1.988-.022 3.364-.065 4.128-.087 1.805-.625 3.203-1.615 4.192-.99.99-2.387 1.528-4.192 1.615-.764.043-2.14.065-4.128.065s-3.364-.022-4.128-.065c-1.805-.087-3.203-.625-4.192-1.615-.99-.99-1.528-2.387-1.615-4.192C5.022 18.364 5 16.988 5 15s.022-3.364.065-4.128C5.152 9.067 5.69 7.67 6.68 6.68c.99-.99 2.387-1.528 4.192-1.615C11.636 5.022 13.012 5 15 5s3.364.022 4.128.065c1.805.087 3.203.625 4.192 1.615.99.99 1.528 2.387 1.615 4.192.043.764.065 2.14.065 4.128z\" transform=\"translate(-5 -5)\"/>\\n  </defs>\\n</svg>\\n\\n        \\n\\n        <!-- Google Tag Manager -->\\n        <noscript><iframe src=\"//www.googletagmanager.com/ns.html?id=GTM-HRPQ\"\\n        height=\"0\" width=\"0\" style=\"display:none;visibility:hidden\"></iframe></noscript>\\n        <!-- End Google Tag Manager -->\\n\\n        <a class=\"sr-only nav-bar__skiplink\" href=\"#skiplink-target\">Skip to main content</a>\\n\\n        <div class=\"global-nav-placeholder\"></div> \\n        <div class=\"global-mask global-mask-js\"></div>\\n        \\n        \\n        <div class=\"announcement-hook-js\">\\n\\n            \\n                \\n\\n\\n<header class=\"global-navigation-wrapper\">\\n    <nav id=\"nav-menu\" class=\"global-navigation-container global-nav-js mbn white\" role=\"navigation\" aria-expanded=\"false\">\\n        <h2 class=\"sr-only\">Navigation</h2>\\n        <div class=\"nav-bar__top-wrapper\">\\n            <ul class=\"nav-bar__top container\">\\n                <li>\\n                    \\n<script type=\"text/javascript\">\\n    googletag.cmd.push(function() { googletag.display(\\'dfp-nav-mastercard-desktop\\'); });\\n</script>\\n<div id=\"dfp-nav-mastercard-desktop\" >\\n</div>\\n\\n\\n                </li>\\n                <li>\\n                    <a class=\"nav-bar__top-link\" href=\"/the-show/\" rel=\"nofollow\" data-qa=\"bwy-show-header\">\\n                        <svg width=\"12\" height=\"12\" viewBox=\"0 0 12 12\" fill=\"none\" xmlns=\"http://www.w3.org/2000/svg\">\\n<path d=\"M10.9091 1H1.09091C0.490909 1 0 1.5 0 2.11111V8.77778C0 9.38889 0.490909 10 1.09091 10H4V11.5H8V10H10.9091C11.5091 10 11.9945 9.38889 11.9945 8.77778L12 2.11111C12 1.5 11.5091 1 10.9091 1ZM10.5 8.5H1.5V2.5H10.5V8.5Z\" fill=\"currentColor\"/>\\n<rect x=\"3\" y=\"4\" width=\"6\" height=\"3\" fill=\"#C5C6CD\"/>\\n</svg>\\n\\n                        The Broadway Show\\n                    </a>\\n                </li>\\n                <li>\\n                    <a class=\"nav-bar__top-link\" href=\"/gift-certificates/\" data-qa=\"giftcard-header\">\\n                        <svg width=\"12\" height=\"12\" viewBox=\"0 0 12 12\" fill=\"none\" xmlns=\"http://www.w3.org/2000/svg\">\\n<path fill-rule=\"evenodd\" clip-rule=\"evenodd\" d=\"M9.93317 0.54827C9.55529 0.182755 9.09808 0 8.56154 0C7.94423 0 7.45962 0.214842 7.10769 0.644531L6 2.02567L4.89231 0.644531C4.54038 0.214842 4.05577 0 3.43846 0C2.90192 0 2.44471 0.182755 2.06683 0.54827C1.68894 0.913785 1.5 1.35602 1.5 1.875C1.5 2.3019 1.62784 2.67688 1.88354 2.99994L0 3H3.74227C3.53608 3 3.36083 2.92708 3.21649 2.78125C3.07216 2.63542 3 2.45833 3 2.25C3 2.04167 3.07216 1.86458 3.21649 1.71875C3.36083 1.57292 3.53608 1.5 3.74227 1.5C3.96392 1.5 4.14175 1.58073 4.27577 1.74219L5.25 3H6.75L7.71983 1.74219C7.85431 1.58073 8.03276 1.5 8.25517 1.5C8.46207 1.5 8.63793 1.57292 8.78276 1.71875C8.92759 1.86458 9 2.04167 9 2.25C9 2.45833 8.92759 2.63542 8.78276 2.78125C8.63793 2.92708 8.46207 3 8.25517 3H12L10.1165 2.99994C10.3722 2.67688 10.5 2.3019 10.5 1.875C10.5 1.35602 10.3111 0.913785 9.93317 0.54827ZM12 4H0V6H1H11H12V4ZM11 12V7.5H1V12H11Z\" fill=\"currentColor\"/>\\n</svg>\\n\\n                        Gift Cards\\n                    </a>\\n                </li>\\n                <li>\\n                    <a class=\"nav-bar__top-link\" href=\"https://groups.broadway.com\" data-qa=\"groups-header\">\\n                        <svg width=\"12\" height=\"12\" viewBox=\"0 0 12 12\" fill=\"none\" xmlns=\"http://www.w3.org/2000/svg\">\\n<path fill-rule=\"evenodd\" clip-rule=\"evenodd\" d=\"M3.5 2C4.32843 2 5 1.10457 5 0H7V12H5C5 10.8954 4.32843 10 3.5 10C2.67157 10 2 10.8954 2 12H0V0H2C2 1.10457 2.67157 2 3.5 2ZM12 3L8.5 1V11L12 3Z\" fill=\"currentColor\"/>\\n</svg>\\n\\n                        Group Sales\\n                    </a>\\n                </li>\\n            </ul>\\n        </div>\\n        <div class=\"nav-bar__bottom-wrapper\">\\n            <div class=\"nav-bar__bottom container\">\\n                <div class=\"nav-bar__bottom__mobile\">\\n                    <a href=\"/\" style=\"fill: #fff;\" aria-label=\"Broadway.com Home\" data-qa=\"header_logo\" class=\"nav-bar__logo-link\">\\n                        <svg xmlns=\"http://www.w3.org/2000/svg\" width=\"116\" height=\"32\" class=\"\" viewBox=\"0 0 109 30\"  fill=\"currentColor\" aria-label=\"Home\" data-qa=\"broadway-logo\">\\n  <g fill-rule=\"evenodd\">\\n    <path d=\"M107.972009,1.02532258 L107.128591,1.48451613 C105.326942,2.69129032 103.740871,3.89032258 102.627618,6.00919355 C101.544884,3.97693548 100.083316,2.74064516 98.1009689,1.46080645 L96.8888889,0.870967742 L96.8888889,27.3919355 L99.2999689,28.2629032 L99.2999689,6.08709677 C100.613667,7.84116851 101.301333,9.98417528 101.253249,12.1741935 L101.253249,28.2614516 L104.155556,29.1290323 L104.155556,11.7396774 C104.162139,9.82694913 104.846961,7.97840314 106.088489,6.52209677 L106.088489,29.1290323 L108.526698,30 L108.526698,0.810967742 M79.9648222,1.81790323 C79.46972,2.49096774 79.4392,3.01596774 79.4392,4.34758065 L79.4392,20.8698387 C79.4392,22.2556452 79.5980978,23.4667742 80.2273911,24.2627419 C80.8010011,25.0727685 81.7073572,25.5839873 82.6980578,25.6562903 C83.8200311,25.7966129 84.6116133,25.6679032 85.2559244,25.1525806 C86.0542889,24.5129032 86.2296578,23.336129 86.2296578,21.738871 L86.2296578,14.7832258 L83.7992,14.3477419 L83.7992,21.7393548 C83.7992,22.5735484 83.6703378,22.9277419 83.4659022,23.1082258 C83.2730377,23.2396728 83.0308423,23.2765199 82.8075422,23.2083871 C82.1065511,23.1212903 81.8822533,22.7903226 81.8822533,21.3048387 L81.8822533,4.34806452 C81.8822533,2.77064516 82.1922978,2.83258065 82.7692711,2.83258065 C83.3869378,2.84612903 83.7992,3.15435484 83.7992,4.78306452 L83.7992,11.6196774 L86.2311111,11.5993548 L86.2311111,4.76274194 C86.2311111,3.54387097 86.328,2.73048387 85.9825911,2.11790323 C85.8297147,1.80628317 85.6223464,1.52443881 85.3702533,1.28564516 C84.6468493,0.667542765 83.7220914,0.335044692 82.77024,0.350806452 C81.8033777,0.350038988 80.8840307,0.769516666 80.2516133,1.5 L79.9648222,1.81790323 Z M65.39564,0.496451613 L65.39564,8.69612903 C65.39564,9.8066129 65.3815911,10.4312903 65.73136,11.0472581 C65.8748899,11.3007572 66.054378,11.5321858 66.2642489,11.7343548 C66.7204034,12.1296958 67.2527546,12.4275847 67.82852,12.6096774 L67.82852,23.7024194 L70.2507422,23.9927419 L70.2507422,12.6653226 C70.8529557,12.5253674 71.4166354,12.2538589 71.9012444,11.8703226 L72.1957867,11.546129 C72.6937956,10.9103226 72.6521333,10.0620968 72.6521333,8.69564516 L72.6521333,0.496451613 L70.2299111,0.496451613 L70.2299111,8.69612903 C70.2635377,9.25928249 70.0914001,9.81548846 69.7454667,10.2614516 C69.5527087,10.4055029 69.3066717,10.4585034 69.0716044,10.4066129 C68.3507511,10.3906452 67.8222222,10.1070968 67.8222222,8.69612903 L67.8222222,0.476129032 L65.39564,0.496451613 Z M52.1005467,18.701129 C51.4911156,17.1256452 50.8700578,15.5908065 50.8700578,13.9137097 L50.8700578,0.971129032 L48.4478356,0.971129032 L48.4478356,13.9137097 C48.4675772,15.5696079 48.1767445,17.21456 47.5903689,18.7635484 C46.9132393,17.2337342 46.543869,15.5858661 46.5032756,13.9137097 L46.5032756,0.971129032 L44.0718489,0.971129032 L44.0718489,14.3482258 C43.9986379,15.9213013 44.225679,17.493929 44.7408667,18.9822581 C44.8377556,19.2725806 44.9641956,19.5832258 45.1177644,19.9301613 C45.7233434,21.243148 46.4742285,22.4842692 47.3563822,23.6303226 L47.60684,23.9690323 L47.8408267,23.6196774 C48.649237,22.4498664 49.3190195,21.1903148 49.8367378,19.8662903 C50.3865201,21.1483562 51.0606936,22.3735591 51.8496044,23.5243548 L52.0806844,23.8630645 L52.3301733,23.5359677 C53.278072,22.2907362 54.0514343,20.9221461 54.6288622,19.4680645 L54.8483156,18.8903226 C55.4073644,17.3322581 55.2203689,15.6624194 55.2203689,13.9132258 L55.2203689,0.951290323 L52.7981467,0.951290323 L52.7981467,13.9137097 C52.8707442,15.539173 52.6344948,17.1638667 52.1005467,18.701129 Z M21.9453333,0.318387097 C21.0659269,0.343481633 20.2292374,0.702750877 19.6059511,1.32290323 C19.4122259,1.49390378 19.236878,1.68461211 19.0827511,1.89193548 C18.5857111,2.64241935 18.4045289,3.44032258 18.4045289,4.8483871 L18.4045289,22.2135484 C18.4045289,23.4745161 18.5537378,24.2753226 18.9030222,24.8917742 C18.999352,25.1971675 19.16327,25.4769865 19.3826222,25.7104839 C20.1488792,26.236344 21.1005504,26.4177845 22.0068578,26.2108065 C22.9384444,26.0322581 23.2828844,25.5817742 23.9446356,24.9696774 C24.1648746,24.7688874 24.3590366,24.5413056 24.5225778,24.2922581 C24.99588,23.5412903 25.1799689,22.7177419 25.1799689,21.3512903 L25.1799689,4.65483871 C25.1799689,3.45048387 25.0297911,2.68596774 24.6776,2.09903226 C24.4833384,1.75983041 24.2332572,1.4557371 23.9378533,1.19951613 C23.2533333,0.60483871 22.9098622,0.290322581 21.9453333,0.318387097 Z M20.8422533,22.0616129 L20.8422533,4.68725806 C20.8422533,3.02080645 21.1847556,2.87322581 21.7491333,2.85435484 L21.7709333,2.85435484 C22.3575956,2.87080645 22.7989244,3.21677419 22.7771244,4.78306452 C22.75048,4.67516129 22.7708267,21.7185484 22.7708267,21.7185484 C22.7708267,23.2509677 22.6540756,23.5543548 21.9545378,23.6695161 L21.9322533,23.6695161 L21.9123911,23.6724194 C21.6292002,23.7233418 21.337174,23.6856566 21.07624,23.5645161 C20.8592089,23.3733871 20.8422533,22.8812903 20.8422533,22.0616129 Z M8.72,0 L8.72,28.0645161 L11.4430622,27.3479032 C11.4430622,27.3479032 11.1601467,21.7195161 11.1601467,20.771129 C11.4183556,20.9559677 11.9546356,21.2104839 12.1963733,21.4330645 C12.8983408,22.0983909 13.4424143,22.9121297 13.7887422,23.8146774 C14.1169062,24.6866215 14.2939995,25.60802 14.3124267,26.5393548 L14.3226,26.8814516 L17.0839333,26.4154839 L17.0742444,26.1532258 C17.0571255,24.5690202 16.6674922,23.011006 15.9367689,21.6048387 C15.503625,20.8100031 14.9371673,20.0952815 14.2620444,19.4917742 C13.908164,19.1779727 13.5324205,18.889667 13.1376489,18.6290323 C13.5622299,18.1158605 13.9555025,17.5776293 14.3153333,17.0172581 C15.4745033,15.1553967 16.0596232,12.9940424 15.9978089,10.8024194 C16.0680848,8.63455986 15.4804117,6.49614046 14.3119422,4.66790323 C13.8193204,3.9295713 13.2450267,3.24899325 12.5999156,2.63903226 C11.8714492,1.95815255 11.0686951,1.36118201 10.20676,0.859354839 C9.82356444,0.634354839 9.43794667,0.429193548 9.05911111,0.25016129 L8.63667556,0.0483870968 L8.72,0 Z M12.1440533,6.47564516 C12.9440127,7.84349373 13.3641011,9.39975582 13.3609778,10.983871 C13.351623,12.5957882 12.9309561,14.1787076 12.1387244,15.5830645 C11.9284756,15.9556452 11.3888044,16.1951613 11.1402844,16.5212903 L11.1402844,5.21806452 C11.4982072,5.61894309 11.832621,6.0388882 12.1440533,6.47564516 Z M0,0.520645161 L0,30 L0.426795556,29.7914516 C0.829929261,29.5933077 1.2225309,29.3744669 1.60302667,29.1358065 C2.31238342,28.6933064 2.97966755,28.1868355 3.59651556,27.6227419 C4.47267993,26.8204408 5.23308779,25.9005311 5.85596444,24.8893548 C6.9509093,23.1312661 7.53772446,21.1049638 7.55152,19.0345161 C7.55831183,17.1180039 6.9627163,15.2476953 5.84869778,13.6872581 L5.42577778,13.0969355 C5.58806667,12.8104839 5.73969778,12.5264516 5.87049778,12.2506452 C6.46025435,11.0497108 6.7613247,9.72789492 6.74976444,8.39032258 C6.7551255,7.09454569 6.45262261,5.81598564 5.86710667,4.65967742 C5.31669069,3.57452468 4.53644659,2.62200354 3.58052889,1.86822581 C2.96519008,1.37738315 2.28714345,0.970581149 1.56427111,0.658548387 C1.17854354,0.490454449 0.782036622,0.348204229 0.377382222,0.232741935 L0,0.126290323 L0,0.520645161 Z M3.14549778,5.5683871 C3.72252923,6.49990269 4.02476994,7.57510906 4.01749778,8.67048387 C4.01619304,9.81811815 3.71387412,10.9453837 3.14065333,11.94 C3.02729333,12.1253226 2.54333333,12.4456452 2.41398667,12.6096774 L2.41398667,5.21806452 C2.54817778,5.38790323 3.03310667,5.38935484 3.14549778,5.5683871 Z M3.16632889,14.8993548 C4.26195103,16.1323376 4.86542499,17.7246562 4.86188444,19.3732258 C4.80403131,21.1336954 4.20755792,22.834199 3.15276444,24.2458065 C3.03552889,24.4103226 2.54720889,24.6208065 2.41253333,24.7833871 L2.41253333,14.3482258 C2.64334801,14.5602 2.89547439,14.7451336 3.16632889,14.8993548 Z M88.4619778,2.34774194 C87.8843442,3.18909249 87.6054902,4.1994443 87.6699111,5.21758065 L87.6699111,22.6093548 C87.6282409,23.493347 87.8310441,24.3717344 88.2560889,25.1482258 C88.4713583,25.5859431 88.7686886,25.9783552 89.1319644,26.3041935 C89.7968895,26.8936549 90.6194491,27.2767029 91.49896,27.4064516 L91.5759867,27.4108065 C92.5213281,27.5963409 93.500973,27.3689787 94.26756,26.786129 C94.4058735,26.6450107 94.5264229,26.4875559 94.6265333,26.3172581 C95.2232228,25.4961909 95.508252,24.4899941 95.4307111,23.4783871 L95.4307111,5.21806452 C95.4666816,4.32412401 95.2501196,3.43810943 94.8057778,2.66129032 C94.6778428,2.35893346 94.5038029,2.07818768 94.2898444,1.82903226 C93.5627408,1.1292173 92.5864834,0.747534616 91.5769556,0.768387097 C90.691914,0.768926053 89.8337174,1.07201287 89.1450444,1.62725806 C88.8859502,1.8356424 88.6561889,2.07798964 88.4619778,2.34774194 Z M90.5945022,5.21806452 C90.5945022,4.34709677 90.5208667,3.79693548 90.7611511,3.56274194 C91.0054029,3.42209527 91.286768,3.35913734 91.5677511,3.38225806 L91.6084444,3.38225806 C92.1733067,3.38225806 92.5254978,3.48725806 92.5254978,5.21806452 L92.5254978,23.478871 C92.5254978,24.0595161 92.5618311,24.3895161 92.3496444,24.6029032 C92.0653846,24.7604906 91.7413767,24.8321083 91.4170889,24.8090323 C90.7495244,24.6962903 90.5945022,24.5951613 90.5945022,23.0443548 L90.5945022,5.21806452 Z M60.2450267,0.344032258 C59.3315067,1.5930711 58.5688764,2.94550295 57.9729822,4.37322581 L57.7205867,5.01435484 C57.1823689,6.57387097 57.15088,8.21951613 57.15088,9.99822581 L57.15088,23.2156452 L59.5731022,23.2156452 L59.5731022,16.4414516 C59.8695822,16.4501613 61.1678933,16.4346774 61.5258978,16.4414516 L61.5258978,23.2108065 L63.94812,23.4793548 L63.94812,10.0006452 C64.0238811,8.33520719 63.8039427,6.66951955 63.29848,5.08064516 C63.3953689,5.38064516 62.0563644,2.14983871 60.7454578,0.344516129 L60.5071111,0.0140322581 L60.2450267,0.344032258 Z M60.4935467,5.27951613 C61.1473261,6.76934065 61.4977633,8.37421251 61.5244444,10.0006452 L61.5244444,14.2258065 C61.1959911,14.2141935 60.5071111,14.1943548 60.5071111,14.1943548 C60.5071111,14.1943548 59.8981644,14.1687097 59.5760089,14.1537097 C59.5764933,13.6543548 59.5929644,10.0006452 59.5929644,10.0006452 C59.5828439,8.38307962 59.8887548,6.77956531 60.4935467,5.27951613 Z M30.2608222,0.347419355 C29.387918,1.68852531 28.703315,3.14288697 28.2261556,4.66983871 L27.9776356,5.37096774 C27.4066622,7.14817632 27.1219752,9.00469929 27.1342178,10.871129 L27.1342178,25.1453226 L29.5511111,25.1453226 L29.5511111,17.3917742 C29.8722978,17.3685484 30.5258133,17.3651613 30.5258133,17.3651613 C30.8429163,17.3908251 31.1611569,17.3997085 31.4792,17.3917742 L31.4792,24.3483871 L33.9212844,24.1495161 L33.9212844,10.3064516 C33.9605055,8.44252959 33.7154777,6.58350145 33.1946178,4.79322581 C32.5650565,3.21637234 31.7425149,1.72341043 30.7457511,0.348387097 L30.5040133,0 L30.2608222,0.347419355 Z M30.5064356,5.53064516 C31.0877689,7.03935484 31.2621689,8.71548387 31.4787156,10.4351613 C31.6400356,10.4032258 31.5092356,14.5577419 31.4787156,15.0522581 C31.1589822,15.078871 30.4788222,15.2085484 30.4788222,15.2085484 C30.4788222,15.2085484 29.8863467,15.1930645 29.5501324,15.2182258 L29.5501422,10.4351613 C29.5480748,8.75390984 29.8725439,7.08812638 30.5064356,5.53064516 Z M35.8401689,23.9133871 L36.1041911,23.8412903 C36.4738222,23.5969355 36.44088,23.3351613 36.8129333,23.0414516 C37.7104588,22.3298712 38.5335304,21.5293356 39.2695511,20.6520968 C39.8549656,19.95111 40.3892284,19.2090405 40.8682178,18.4316129 C41.0968756,18.0498387 41.3090622,17.6574194 41.5004178,17.2654839 C42.3511922,15.5681105 42.8080377,13.7010487 42.837,11.8030645 C42.8165669,9.91751268 42.3583782,8.06241361 41.49848,6.38370968 C41.3047022,6 41.0934844,5.62209677 40.8687022,5.26016129 C40.4035581,4.49701068 39.8666249,3.77989492 39.2651911,3.11854839 C38.5316941,2.30334917 37.7045283,1.57737036 36.8008222,0.955645161 C36.4302222,0.702580645 36.2147445,0.46443828 35.8485045,0.255889893 L35.8401689,23.9133871 Z M37.7866667,5.69370968 C38.05408,6.07741935 38.5743733,6.45919355 38.7846222,6.84387097 C39.6900189,8.31853215 40.1800751,10.0099661 40.2030756,11.7396774 C40.1670451,13.5731502 39.6791979,15.3695002 38.7826844,16.9698387 C38.5830933,17.3569355 38.0870222,17.8408065 37.8031378,18.2612903 C37.8016844,16.7419355 37.7866667,7.17919355 37.7866667,5.69370968 Z\"/>\\n    <g transform=\"translate(71.698 20.806)\">\\n      <ellipse cx=\"3.149\" cy=\"3.145\" fill=\"#B62825\" rx=\"3.149\" ry=\"3.145\"/>\\n      <path fill=\"#FFF\" d=\"M6.27817299,3.49809825 L4.5624831,3.49809825 L4.36938039,0.967741935 L3.19475078,3.49953053 L0.968888889,3.49953053 L2.47085113,4.58042236 L1.74559557,5.96151068 C1.91061051,6.0436964 2.0838641,6.11183961 2.26378762,6.16437348 L3.40433786,5.42833045 L4.17310964,6.12020429 C4.39200134,6.0450404 4.59998719,5.94645479 4.79406698,5.82744402 L4.67740276,4.59617741 L6.2326075,3.7848309 C6.25207398,3.6907223 6.26733093,3.59507639 6.27817299,3.49809825 Z\"/>\\n    </g>\\n  </g>\\n</svg>\\n\\n                    </a>\\n                    <button\\n                        class=\"nav-bar__menu-button aria-nav-controls-js nav-bar__menu-button--open\"\\n                        data-qa=\"header_hamburger_menu\"\\n                        aria-label=\"Menu\"\\n                        aria-haspopup=\"menu/dialog\"\\n                        aria-pressed=\"false\"\\n                        aria-controls=\"nav-menu\"\\n                    >\\n                        <svg width=\"16px\" height=\"12px\" viewBox=\"0 0 16 12\" version=\"1.1\" xmlns=\"http://www.w3.org/2000/svg\" xmlns:xlink=\"http://www.w3.org/1999/xlink\">\\n    <title>Icon/Menu</title>\\n    <g stroke=\"none\" stroke-width=\"1\" fill=\"none\" fill-rule=\"evenodd\">\\n        <g transform=\"translate(-652.000000, -216.000000)\" fill=\"currentColor\">\\n            <g transform=\"translate(528.000000, 214.000000)\">\\n                <g id=\"Icon/Menu\" transform=\"translate(124.000000, 0.000000)\">\\n                    <path d=\"M16,12 L16,14 L0,14 L0,12 L16,12 Z M16,7 L16,9 L0,9 L0,7 L16,7 Z M16,2 L16,4 L0,4 L0,2 L16,2 Z\" id=\"Menu\"></path>\\n                </g>\\n            </g>\\n        </g>\\n    </g>\\n</svg>\\n\\n                        <span style=\"margin-top: 3px\">Menu</span>\\n                    </button>\\n                    <button\\n                        class=\"nav-bar__menu-button aria-nav-controls-js nav-bar__menu-button--close\"\\n                        data-qa=\"header_hamburger_menu_close\"\\n                        aria-label=\"Close Menu\"\\n                        aria-haspopup=\"menu/dialog\"\\n                        aria-pressed=\"false\"\\n                        aria-controls=\"nav-menu\"\\n                    >\\n                        <svg width=\"16\" height=\"16\" class=\"\" viewBox=\"0 0 16 16\" version=\"1.1\" xmlns=\"http://www.w3.org/2000/svg\" xmlns:xlink=\"http://www.w3.org/1999/xlink\">\\n    <title>Icon/Close</title>\\n    <g id=\"General\" stroke=\"none\" stroke-width=\"1\" fill=\"none\" fill-rule=\"evenodd\">\\n        <g id=\"Branding,-Symbols-&amp;-Icons\" transform=\"translate(-559.000000, -214.000000)\" fill=\"currentColor\">\\n            <g id=\"UI-Icons\" transform=\"translate(528.000000, 214.000000)\">\\n                <g id=\"Icon/Close\" transform=\"translate(31.000000, 0.000000)\">\\n                    <polygon id=\"Close\" points=\"16 1.61142857 14.3885714 0 8 6.38857143 1.61142857 0 0 1.61142857 6.38857143 8 0 14.3885714 1.61142857 16 8 9.61142857 14.3885714 16 16 14.3885714 9.61142857 8\"></polygon>\\n                </g>\\n            </g>\\n        </g>\\n    </g>\\n</svg>\\n\\n                    </button>\\n                </div>\\n                <div class=\"nav-bar__bottom-header\">\\n                    \\n                        <a href=\"/\" aria-label=\"Broadway.com Home\" data-qa=\"header_logo\" class=\"nav-bar__logo-link\">\\n                            <svg xmlns=\"http://www.w3.org/2000/svg\" width=\"116\" height=\"32\" class=\"\" viewBox=\"0 0 109 30\"  fill=\"currentColor\" aria-label=\"Home\" data-qa=\"broadway-logo\">\\n  <g fill-rule=\"evenodd\">\\n    <path d=\"M107.972009,1.02532258 L107.128591,1.48451613 C105.326942,2.69129032 103.740871,3.89032258 102.627618,6.00919355 C101.544884,3.97693548 100.083316,2.74064516 98.1009689,1.46080645 L96.8888889,0.870967742 L96.8888889,27.3919355 L99.2999689,28.2629032 L99.2999689,6.08709677 C100.613667,7.84116851 101.301333,9.98417528 101.253249,12.1741935 L101.253249,28.2614516 L104.155556,29.1290323 L104.155556,11.7396774 C104.162139,9.82694913 104.846961,7.97840314 106.088489,6.52209677 L106.088489,29.1290323 L108.526698,30 L108.526698,0.810967742 M79.9648222,1.81790323 C79.46972,2.49096774 79.4392,3.01596774 79.4392,4.34758065 L79.4392,20.8698387 C79.4392,22.2556452 79.5980978,23.4667742 80.2273911,24.2627419 C80.8010011,25.0727685 81.7073572,25.5839873 82.6980578,25.6562903 C83.8200311,25.7966129 84.6116133,25.6679032 85.2559244,25.1525806 C86.0542889,24.5129032 86.2296578,23.336129 86.2296578,21.738871 L86.2296578,14.7832258 L83.7992,14.3477419 L83.7992,21.7393548 C83.7992,22.5735484 83.6703378,22.9277419 83.4659022,23.1082258 C83.2730377,23.2396728 83.0308423,23.2765199 82.8075422,23.2083871 C82.1065511,23.1212903 81.8822533,22.7903226 81.8822533,21.3048387 L81.8822533,4.34806452 C81.8822533,2.77064516 82.1922978,2.83258065 82.7692711,2.83258065 C83.3869378,2.84612903 83.7992,3.15435484 83.7992,4.78306452 L83.7992,11.6196774 L86.2311111,11.5993548 L86.2311111,4.76274194 C86.2311111,3.54387097 86.328,2.73048387 85.9825911,2.11790323 C85.8297147,1.80628317 85.6223464,1.52443881 85.3702533,1.28564516 C84.6468493,0.667542765 83.7220914,0.335044692 82.77024,0.350806452 C81.8033777,0.350038988 80.8840307,0.769516666 80.2516133,1.5 L79.9648222,1.81790323 Z M65.39564,0.496451613 L65.39564,8.69612903 C65.39564,9.8066129 65.3815911,10.4312903 65.73136,11.0472581 C65.8748899,11.3007572 66.054378,11.5321858 66.2642489,11.7343548 C66.7204034,12.1296958 67.2527546,12.4275847 67.82852,12.6096774 L67.82852,23.7024194 L70.2507422,23.9927419 L70.2507422,12.6653226 C70.8529557,12.5253674 71.4166354,12.2538589 71.9012444,11.8703226 L72.1957867,11.546129 C72.6937956,10.9103226 72.6521333,10.0620968 72.6521333,8.69564516 L72.6521333,0.496451613 L70.2299111,0.496451613 L70.2299111,8.69612903 C70.2635377,9.25928249 70.0914001,9.81548846 69.7454667,10.2614516 C69.5527087,10.4055029 69.3066717,10.4585034 69.0716044,10.4066129 C68.3507511,10.3906452 67.8222222,10.1070968 67.8222222,8.69612903 L67.8222222,0.476129032 L65.39564,0.496451613 Z M52.1005467,18.701129 C51.4911156,17.1256452 50.8700578,15.5908065 50.8700578,13.9137097 L50.8700578,0.971129032 L48.4478356,0.971129032 L48.4478356,13.9137097 C48.4675772,15.5696079 48.1767445,17.21456 47.5903689,18.7635484 C46.9132393,17.2337342 46.543869,15.5858661 46.5032756,13.9137097 L46.5032756,0.971129032 L44.0718489,0.971129032 L44.0718489,14.3482258 C43.9986379,15.9213013 44.225679,17.493929 44.7408667,18.9822581 C44.8377556,19.2725806 44.9641956,19.5832258 45.1177644,19.9301613 C45.7233434,21.243148 46.4742285,22.4842692 47.3563822,23.6303226 L47.60684,23.9690323 L47.8408267,23.6196774 C48.649237,22.4498664 49.3190195,21.1903148 49.8367378,19.8662903 C50.3865201,21.1483562 51.0606936,22.3735591 51.8496044,23.5243548 L52.0806844,23.8630645 L52.3301733,23.5359677 C53.278072,22.2907362 54.0514343,20.9221461 54.6288622,19.4680645 L54.8483156,18.8903226 C55.4073644,17.3322581 55.2203689,15.6624194 55.2203689,13.9132258 L55.2203689,0.951290323 L52.7981467,0.951290323 L52.7981467,13.9137097 C52.8707442,15.539173 52.6344948,17.1638667 52.1005467,18.701129 Z M21.9453333,0.318387097 C21.0659269,0.343481633 20.2292374,0.702750877 19.6059511,1.32290323 C19.4122259,1.49390378 19.236878,1.68461211 19.0827511,1.89193548 C18.5857111,2.64241935 18.4045289,3.44032258 18.4045289,4.8483871 L18.4045289,22.2135484 C18.4045289,23.4745161 18.5537378,24.2753226 18.9030222,24.8917742 C18.999352,25.1971675 19.16327,25.4769865 19.3826222,25.7104839 C20.1488792,26.236344 21.1005504,26.4177845 22.0068578,26.2108065 C22.9384444,26.0322581 23.2828844,25.5817742 23.9446356,24.9696774 C24.1648746,24.7688874 24.3590366,24.5413056 24.5225778,24.2922581 C24.99588,23.5412903 25.1799689,22.7177419 25.1799689,21.3512903 L25.1799689,4.65483871 C25.1799689,3.45048387 25.0297911,2.68596774 24.6776,2.09903226 C24.4833384,1.75983041 24.2332572,1.4557371 23.9378533,1.19951613 C23.2533333,0.60483871 22.9098622,0.290322581 21.9453333,0.318387097 Z M20.8422533,22.0616129 L20.8422533,4.68725806 C20.8422533,3.02080645 21.1847556,2.87322581 21.7491333,2.85435484 L21.7709333,2.85435484 C22.3575956,2.87080645 22.7989244,3.21677419 22.7771244,4.78306452 C22.75048,4.67516129 22.7708267,21.7185484 22.7708267,21.7185484 C22.7708267,23.2509677 22.6540756,23.5543548 21.9545378,23.6695161 L21.9322533,23.6695161 L21.9123911,23.6724194 C21.6292002,23.7233418 21.337174,23.6856566 21.07624,23.5645161 C20.8592089,23.3733871 20.8422533,22.8812903 20.8422533,22.0616129 Z M8.72,0 L8.72,28.0645161 L11.4430622,27.3479032 C11.4430622,27.3479032 11.1601467,21.7195161 11.1601467,20.771129 C11.4183556,20.9559677 11.9546356,21.2104839 12.1963733,21.4330645 C12.8983408,22.0983909 13.4424143,22.9121297 13.7887422,23.8146774 C14.1169062,24.6866215 14.2939995,25.60802 14.3124267,26.5393548 L14.3226,26.8814516 L17.0839333,26.4154839 L17.0742444,26.1532258 C17.0571255,24.5690202 16.6674922,23.011006 15.9367689,21.6048387 C15.503625,20.8100031 14.9371673,20.0952815 14.2620444,19.4917742 C13.908164,19.1779727 13.5324205,18.889667 13.1376489,18.6290323 C13.5622299,18.1158605 13.9555025,17.5776293 14.3153333,17.0172581 C15.4745033,15.1553967 16.0596232,12.9940424 15.9978089,10.8024194 C16.0680848,8.63455986 15.4804117,6.49614046 14.3119422,4.66790323 C13.8193204,3.9295713 13.2450267,3.24899325 12.5999156,2.63903226 C11.8714492,1.95815255 11.0686951,1.36118201 10.20676,0.859354839 C9.82356444,0.634354839 9.43794667,0.429193548 9.05911111,0.25016129 L8.63667556,0.0483870968 L8.72,0 Z M12.1440533,6.47564516 C12.9440127,7.84349373 13.3641011,9.39975582 13.3609778,10.983871 C13.351623,12.5957882 12.9309561,14.1787076 12.1387244,15.5830645 C11.9284756,15.9556452 11.3888044,16.1951613 11.1402844,16.5212903 L11.1402844,5.21806452 C11.4982072,5.61894309 11.832621,6.0388882 12.1440533,6.47564516 Z M0,0.520645161 L0,30 L0.426795556,29.7914516 C0.829929261,29.5933077 1.2225309,29.3744669 1.60302667,29.1358065 C2.31238342,28.6933064 2.97966755,28.1868355 3.59651556,27.6227419 C4.47267993,26.8204408 5.23308779,25.9005311 5.85596444,24.8893548 C6.9509093,23.1312661 7.53772446,21.1049638 7.55152,19.0345161 C7.55831183,17.1180039 6.9627163,15.2476953 5.84869778,13.6872581 L5.42577778,13.0969355 C5.58806667,12.8104839 5.73969778,12.5264516 5.87049778,12.2506452 C6.46025435,11.0497108 6.7613247,9.72789492 6.74976444,8.39032258 C6.7551255,7.09454569 6.45262261,5.81598564 5.86710667,4.65967742 C5.31669069,3.57452468 4.53644659,2.62200354 3.58052889,1.86822581 C2.96519008,1.37738315 2.28714345,0.970581149 1.56427111,0.658548387 C1.17854354,0.490454449 0.782036622,0.348204229 0.377382222,0.232741935 L0,0.126290323 L0,0.520645161 Z M3.14549778,5.5683871 C3.72252923,6.49990269 4.02476994,7.57510906 4.01749778,8.67048387 C4.01619304,9.81811815 3.71387412,10.9453837 3.14065333,11.94 C3.02729333,12.1253226 2.54333333,12.4456452 2.41398667,12.6096774 L2.41398667,5.21806452 C2.54817778,5.38790323 3.03310667,5.38935484 3.14549778,5.5683871 Z M3.16632889,14.8993548 C4.26195103,16.1323376 4.86542499,17.7246562 4.86188444,19.3732258 C4.80403131,21.1336954 4.20755792,22.834199 3.15276444,24.2458065 C3.03552889,24.4103226 2.54720889,24.6208065 2.41253333,24.7833871 L2.41253333,14.3482258 C2.64334801,14.5602 2.89547439,14.7451336 3.16632889,14.8993548 Z M88.4619778,2.34774194 C87.8843442,3.18909249 87.6054902,4.1994443 87.6699111,5.21758065 L87.6699111,22.6093548 C87.6282409,23.493347 87.8310441,24.3717344 88.2560889,25.1482258 C88.4713583,25.5859431 88.7686886,25.9783552 89.1319644,26.3041935 C89.7968895,26.8936549 90.6194491,27.2767029 91.49896,27.4064516 L91.5759867,27.4108065 C92.5213281,27.5963409 93.500973,27.3689787 94.26756,26.786129 C94.4058735,26.6450107 94.5264229,26.4875559 94.6265333,26.3172581 C95.2232228,25.4961909 95.508252,24.4899941 95.4307111,23.4783871 L95.4307111,5.21806452 C95.4666816,4.32412401 95.2501196,3.43810943 94.8057778,2.66129032 C94.6778428,2.35893346 94.5038029,2.07818768 94.2898444,1.82903226 C93.5627408,1.1292173 92.5864834,0.747534616 91.5769556,0.768387097 C90.691914,0.768926053 89.8337174,1.07201287 89.1450444,1.62725806 C88.8859502,1.8356424 88.6561889,2.07798964 88.4619778,2.34774194 Z M90.5945022,5.21806452 C90.5945022,4.34709677 90.5208667,3.79693548 90.7611511,3.56274194 C91.0054029,3.42209527 91.286768,3.35913734 91.5677511,3.38225806 L91.6084444,3.38225806 C92.1733067,3.38225806 92.5254978,3.48725806 92.5254978,5.21806452 L92.5254978,23.478871 C92.5254978,24.0595161 92.5618311,24.3895161 92.3496444,24.6029032 C92.0653846,24.7604906 91.7413767,24.8321083 91.4170889,24.8090323 C90.7495244,24.6962903 90.5945022,24.5951613 90.5945022,23.0443548 L90.5945022,5.21806452 Z M60.2450267,0.344032258 C59.3315067,1.5930711 58.5688764,2.94550295 57.9729822,4.37322581 L57.7205867,5.01435484 C57.1823689,6.57387097 57.15088,8.21951613 57.15088,9.99822581 L57.15088,23.2156452 L59.5731022,23.2156452 L59.5731022,16.4414516 C59.8695822,16.4501613 61.1678933,16.4346774 61.5258978,16.4414516 L61.5258978,23.2108065 L63.94812,23.4793548 L63.94812,10.0006452 C64.0238811,8.33520719 63.8039427,6.66951955 63.29848,5.08064516 C63.3953689,5.38064516 62.0563644,2.14983871 60.7454578,0.344516129 L60.5071111,0.0140322581 L60.2450267,0.344032258 Z M60.4935467,5.27951613 C61.1473261,6.76934065 61.4977633,8.37421251 61.5244444,10.0006452 L61.5244444,14.2258065 C61.1959911,14.2141935 60.5071111,14.1943548 60.5071111,14.1943548 C60.5071111,14.1943548 59.8981644,14.1687097 59.5760089,14.1537097 C59.5764933,13.6543548 59.5929644,10.0006452 59.5929644,10.0006452 C59.5828439,8.38307962 59.8887548,6.77956531 60.4935467,5.27951613 Z M30.2608222,0.347419355 C29.387918,1.68852531 28.703315,3.14288697 28.2261556,4.66983871 L27.9776356,5.37096774 C27.4066622,7.14817632 27.1219752,9.00469929 27.1342178,10.871129 L27.1342178,25.1453226 L29.5511111,25.1453226 L29.5511111,17.3917742 C29.8722978,17.3685484 30.5258133,17.3651613 30.5258133,17.3651613 C30.8429163,17.3908251 31.1611569,17.3997085 31.4792,17.3917742 L31.4792,24.3483871 L33.9212844,24.1495161 L33.9212844,10.3064516 C33.9605055,8.44252959 33.7154777,6.58350145 33.1946178,4.79322581 C32.5650565,3.21637234 31.7425149,1.72341043 30.7457511,0.348387097 L30.5040133,0 L30.2608222,0.347419355 Z M30.5064356,5.53064516 C31.0877689,7.03935484 31.2621689,8.71548387 31.4787156,10.4351613 C31.6400356,10.4032258 31.5092356,14.5577419 31.4787156,15.0522581 C31.1589822,15.078871 30.4788222,15.2085484 30.4788222,15.2085484 C30.4788222,15.2085484 29.8863467,15.1930645 29.5501324,15.2182258 L29.5501422,10.4351613 C29.5480748,8.75390984 29.8725439,7.08812638 30.5064356,5.53064516 Z M35.8401689,23.9133871 L36.1041911,23.8412903 C36.4738222,23.5969355 36.44088,23.3351613 36.8129333,23.0414516 C37.7104588,22.3298712 38.5335304,21.5293356 39.2695511,20.6520968 C39.8549656,19.95111 40.3892284,19.2090405 40.8682178,18.4316129 C41.0968756,18.0498387 41.3090622,17.6574194 41.5004178,17.2654839 C42.3511922,15.5681105 42.8080377,13.7010487 42.837,11.8030645 C42.8165669,9.91751268 42.3583782,8.06241361 41.49848,6.38370968 C41.3047022,6 41.0934844,5.62209677 40.8687022,5.26016129 C40.4035581,4.49701068 39.8666249,3.77989492 39.2651911,3.11854839 C38.5316941,2.30334917 37.7045283,1.57737036 36.8008222,0.955645161 C36.4302222,0.702580645 36.2147445,0.46443828 35.8485045,0.255889893 L35.8401689,23.9133871 Z M37.7866667,5.69370968 C38.05408,6.07741935 38.5743733,6.45919355 38.7846222,6.84387097 C39.6900189,8.31853215 40.1800751,10.0099661 40.2030756,11.7396774 C40.1670451,13.5731502 39.6791979,15.3695002 38.7826844,16.9698387 C38.5830933,17.3569355 38.0870222,17.8408065 37.8031378,18.2612903 C37.8016844,16.7419355 37.7866667,7.17919355 37.7866667,5.69370968 Z\"/>\\n    <g transform=\"translate(71.698 20.806)\">\\n      <ellipse cx=\"3.149\" cy=\"3.145\" fill=\"#B62825\" rx=\"3.149\" ry=\"3.145\"/>\\n      <path fill=\"#FFF\" d=\"M6.27817299,3.49809825 L4.5624831,3.49809825 L4.36938039,0.967741935 L3.19475078,3.49953053 L0.968888889,3.49953053 L2.47085113,4.58042236 L1.74559557,5.96151068 C1.91061051,6.0436964 2.0838641,6.11183961 2.26378762,6.16437348 L3.40433786,5.42833045 L4.17310964,6.12020429 C4.39200134,6.0450404 4.59998719,5.94645479 4.79406698,5.82744402 L4.67740276,4.59617741 L6.2326075,3.7848309 C6.25207398,3.6907223 6.26733093,3.59507639 6.27817299,3.49809825 Z\"/>\\n    </g>\\n  </g>\\n</svg>\\n\\n                        </a>\\n                    \\n                    <ul class=\"nav-bar__bottom__body\">\\n                        <li>\\n                            <a class=\"nav-bar__bottom-link\" href=\"/shows/tickets/\" data-qa=\"shows-header\">\\n                                Shows\\n                            </a>\\n                        </li>\\n                        <li>\\n                            <a class=\"nav-bar__bottom-link\" href=\"/shows/find-by-date/\" data-qa=\"tbd-header\">\\n                                Tickets\\n                            </a>\\n                        </li>\\n                        <li>\\n                            <a class=\"nav-bar__bottom-link\" href=\"/buzz/\" data-qa=\"buzz-header\">\\n                                News & Features\\n                            </a>\\n                        </li>\\n                    </ul>\\n                </div>\\n                <div id=\"navsearch--app\"></div>\\n            </div>\\n        </div>\\n        <div class=\"nav-bar-flyout-menu-container\" role=\"menu\">\\n            <ul class=\"nav-flyout-menu-top\">\\n                <li>\\n                    <a class=\"nav-flyout-menu-link\" data-qa=\"header_home\" role=\"menuitem\" href=\"/\">\\n                        Home\\n                    </a>\\n                </li>\\n                <li>\\n                    <a class=\"nav-flyout-menu-link\" data-qa=\"header_shows\" role=\"menuitem\" href=\"/shows/tickets/\">\\n                        Shows\\n                    </a>\\n                </li>\\n                <li>\\n                    <a class=\"nav-flyout-menu-link\" href=\"/shows/find-by-date/\" data-qa=\"tbd-header\">\\n                        Tickets\\n                    </a>\\n                </li>\\n                <li>\\n                    <a class=\"nav-flyout-menu-link\" data-qa=\"header_buzz\" role=\"menuitem\" href=\"/buzz/\">\\n                        News & Features\\n                    </a>\\n                </li>\\n            </ul>\\n            <div class=\"container\">\\n                <div class=\"nav-flyout-menu-divider\"></div>\\n            </div>\\n            <ul class=\"nav-flyout-menu-bottom\">\\n                <li>\\n                    <a class=\"nav-flyout-menu-link\" href=\"/the-show/\" rel=\"nofollow\">\\n                        The Broadway Show\\n                    </a>\\n                </li>\\n                <li>\\n                    <a class=\"nav-flyout-menu-link\" href=\"/gift-certificates/\">\\n                        Gift Cards\\n                    </a>\\n                </li>\\n                <li>\\n                    <a class=\"nav-flyout-menu-link\" href=\"https://announcements.broadway.com/preference-center\" data-qa=\"Newsletters_button\">\\n                        Newsletters\\n                    </a>\\n                </li>\\n                <li>\\n                    <a class=\"nav-flyout-menu-link\" href=\"https://groups.broadway.com\">\\n                        Group Sales\\n                    </a>\\n                </li>\\n                <li>\\n                    <a class=\"nav-flyout-menu-link\" href=\"/contact-us/\" data-qa=\"Contact_link\">\\n                        Info & Support\\n                    </a>\\n                </li>\\n            </ul>\\n            <div class=\"container\">\\n                <div class=\"nav-flyout-menu-divider\"></div>\\n            </div>\\n            <div class=\"nav-flyout-mastercard-promotion\">\\n                \\n<script type=\"text/javascript\">\\n    googletag.cmd.push(function() { googletag.display(\\'dfp-nav-mastercard-mobile\\'); });\\n</script>\\n<div id=\"dfp-nav-mastercard-mobile\" >\\n</div>\\n\\n\\n            </div>\\n        </div>\\n    </nav>\\n</header>\\n\\n            \\n\\n            \\n    <div class=\"marquee sk-marquee hidden-sm-down\">\\n        <div class=\"sk-marquee__inner\">\\n            <div class=\"container\">\\n                <div class=\"flex evenly\">\\n                    <div id=\"marquee-ad-left\" class=\"marquee__item dfp-responsive-ad dfp-responsive-ad__marquee dfp-ad_border\">\\n                        <div id=\"dfp-marquee-left\" class=\"pvl\" style=\"display:none\">\\n                            <script>        \\n                            googletag.cmd.push(function() { googletag.display(\\'dfp-marquee-left\\'); });      \\n                            </script>\\n                        </div>\\n                    </div>\\n                    <div id=\"marquee-ad-center\" class=\"marquee__item dfp-responsive-ad dfp-responsive-ad__marquee dfp-ad_border\">\\n                        <div id=\"dfp-marquee-center\" class=\"pvl\" style=\"display:none\">\\n                            <script>\\n                                googletag.cmd.push(function() { googletag.display(\\'dfp-marquee-center\\'); });    \\n                            </script>\\n                        </div>\\n                    </div>\\n                    <div id=\"marquee-ad-right\" class=\"marquee__item dfp-responsive-ad dfp-responsive-ad__marquee dfp-ad_border\">\\n                        <div id=\"dfp-marquee-right\" class=\"pvl\" style=\"display:none\">\\n                            <script>\\n                                googletag.cmd.push(function() { googletag.display(\\'dfp-marquee-right\\'); });     \\n                            </script>\\n                        </div>\\n\\n                    </div>\\n                </div>\\n            </div>\\n        </div>\\n    </div>\\n\\n\\n            <div id=\"skiplink-target\" class=\"visually-hidden\" tabindex=-1></div>\\n\\n            \\n<div class=\"rsp__wrapper\">\\n\\t\\n\\t\\t\\n\\t\\n\\n    \\n        <div class=\"rspSubpageHeader__container\">\\n            <div class=\"rspTemplate__contentWrapper\">\\n                <div class=\"rspSubpageHeader__grid\">\\n                    <div class=\"rspSubpageHeader__textBox\">\\n                        <a\\n                            class=\"rspSubpageHeader__overviewLink\" data-qa=\"subpage-header-overviewlink\"\\n                            href=\"/shows/moulin-rouge-musical/\"\\n                        >\\n                            <svg\\n                                xmlns=\"http://www.w3.org/2000/svg\"\\n                                aria-hidden=\"true\"\\n                                width=\"7\"\\n                                height=\"12\"\\n                                viewBox=\"0 0 12 21\"\\n                            >\\n                                <use xlink:href=\"#svg-icon-chevron\"/>\\n                            </svg>Show Overview\\n                        </a>\\n                        <h1 class=\"rspSubpageHeader__header\" data-qa=\"subpage-header-copy\">\\n                            Moulin Rouge! The Musical\\n                            <span>\\n                                Story\\n                            </span>\\n                        </h1>\\n                    </div>\\n                    \\n                        <div>\\n                            <div class=\"rspButtonBox__container--subpage\">\\n                                <div class=\"rspButtonBox__border--grid\">\\n                                    \\n                                        <div class=\"rspButtonBox__copyBox\">\\n                                            \\n                                                <span class=\"rspButtonBox__smallText\">\\n                                                    Tickets starting at\\n                                                </span>\\n                                                <span class=\"rspButtonBox__ticketValue\">\\n                                                    \\n                                                    <sup>$</sup><span>69</span><sup>.00</sup>\\n                                                </span>\\n                                            \\n                                        </div>\\n                                        <div>\\n                                            <a\\n                                               class=\"btn btn--blue rsp__fullWidthButton\"\\n                                               href=\"https://checkout.broadway.com/moulin-rouge-musical/12766/calendar/\"\\n                                               data-qa=\"buy-tickets-show-overview\"\\n                                            >\\n                                                Buy Tickets\\n                                            </a>\\n                                        </div>\\n                                    \\n                                </div>\\n                            </div>\\n                        </div>\\n                    \\n                </div>\\n            </div>\\n        </div>\\n    \\n\\n    \\n\\n    <div class=\"rspTemplate__contentWrapper\">\\n        \\n    <div class=\"rspStory__container\">\\n        \\n    <div class=\"rspOverview__copy\">\\n        \\n            <p>Enter a world of splendor and romance, of eye-popping excess, of glitz, grandeur and glory! A world where Bohemians and aristocrats rub elbows and revel in electrifying enchantment. Pop the champagne and prepare for the spectacular spectacular... Welcome to <em>Moulin Rouge! The Musical.</em><br />\\r\\n<br />\\r\\nBaz Luhrmann&rsquo;s revolutionary film comes to life onstage, remixed in a new musical mash-up extravaganza. A theatrical celebration of truth, beauty, freedom and&mdash;above all&mdash;LOVE, <em>Moulin Rouge! </em>is more than a musical; it is a state of mind.<br />\\r\\n<br />\\r\\nHow wonderful life is...at the Moulin Rouge.</p>\\n        \\n    </div>\\n\\n\\n    </div>\\n\\n    </div>\\n    <div class=\"rspTemplate__breadcrumbs\">\\n        \\n            <script type=\"application/ld+json\">\\n            {\\n                \"@context\": \"http://schema.org\",\\n                \"@type\": \"ItemList\",\\n                \"itemListElement\":[\\n                    {\\n                        \"@type\": \"ListItem\",\\n                        \"position\": 1,\\n                        \"url\":\"https://www.broadway.com\",\\n                        \"name\": \"Home\"\\n                    },\\n                    {\\n                        \"@type\": \"ListItem\",\\n                        \"position\": 2,\\n                        \"url\": \"https://www.broadway.com/shows/tickets/\",\\n                        \"name\": \"Broadway Shows\"\\n                    },\\n                    {\\n                        \"@type\": \"ListItem\",\\n                        \"position\": 3,\\n                        \"url\": \"https://www.broadway.com/shows/moulin-rouge-musical/\",\\n                        \"name\": \"Moulin Rouge! The Musical on Broadway\"\\n                    },\\n                    {\\n                        \"@type\":\"ListItem\",\\n                        \"position\": 4,\\n                        \"url\": \"https://www.broadway.com/shows/moulin-rouge-musical/story/\",\\n                        \"name\": \"Story\"\\n                    }\\n                ]\\n            }\\n            </script>\\n        \\n        <div class=\"rspTemplate__contentWrapper full-width\">\\n            \\n    <ul class=\"rsp__breadcrumbList\">\\n        \\n                <li>\\n                    <a href=\"/\">Home</a>\\n                </li>\\n                <li>\\n                    <a href=\"/shows/tickets/\">Broadway Shows</a>\\n                </li>\\n                <li>\\n                    <a href=\"/shows/moulin-rouge-musical/\">\\n\\t\\t\\t\\t\\t\\t<svg xmlns=\"http://www.w3.org/2000/svg\" aria-hidden=\"true\" width=\"7\" height=\"12\" viewBox=\"0 0 12 21\">\\n\\t\\t\\t\\t\\t\\t\\t<use xlink:href=\"#svg-icon-chevron\"/>\\n\\t\\t\\t\\t\\t\\t</svg>\\n\\t\\t\\t\\t\\t\\tMoulin Rouge! The Musical on Broadway\\n\\t\\t\\t\\t\\t</a>\\n                </li>\\n            \\n        <li>\\n            Moulin Rouge! The Musical Story\\n        </li>\\n    </ul>\\n\\n        </div>\\n    </div>\\n</div>\\n\\n        </div>\\n\\n        \\n            \\n\\n\\n<a href=\"#skiplink-target\" class=\"back-to-top-js\">\\n    <div class=\"back-to-top-container\">\\n        <svg height=\"16\" viewBox=\"0 0 12 16\" width=\"12\" xmlns=\"http://www.w3.org/2000/svg\">\\n    <path d=\"m8 0 6 8h-5v8h-2v-8h-5z\" fill=\"currentColor\" fill-rule=\"evenodd\" transform=\"translate(-2)\"/>\\n</svg>\\n\\n        <span class=\"back-to-top-text\">Back to Top</span>\\n    </div>\\n</a>\\n<footer class=\"footer__background\">\\n    <div class=\"container\">\\n        <div class=\"footer__container\">\\n            <div class=\"footer__column-container\">\\n                <div class=\"footer__column\">\\n                    <section>\\n                        <h1 class=\"footer__heading\">Broadway Tickets</h1>\\n                        <ul class=\"footer__list\">\\n                            <li class=\"footer__link\"><a href=\"/shows/find-by-date/\" class=\"link-grey-100\">Find Tickets by Date</a></li>\\n                            <li class=\"footer__link\"><a href=\"/shows/tickets/?category=musical\" class=\"link-grey-100\">Broadway Musicals</a></li>\\n                            <li class=\"footer__link\"><a href=\"/shows/tickets/?category=play\" class=\"link-grey-100\">Broadway Plays</a></li>\\n                            <li class=\"footer__link\"><a href=\"/shows/tickets/?category=celebs-stage\" class=\"link-grey-100\">Stars on Stage</a></li>\\n                            <li class=\"footer__link\"><a href=\"/shows/tickets/?category=kid-friendly\" class=\"link-grey-100\">Kid-Friendly</a></li>\\n                            <li class=\"footer__link\"><a href=\"/shows/tickets/?category=classics\" class=\"link-grey-100\">Classics</a></li>\\n                            <li class=\"footer__link\"><a href=\"/shows/tickets/?category=award-winning\" class=\"link-grey-100\">Award-Winning</a></li>\\n                            <li class=\"footer__link\"><a href=\"/shows/tickets/?category=off-broadway\" class=\"link-grey-100\">Off-Broadway</a></li>\\n                        </ul>\\n                    </section>\\n                </div>\\n                <div class=\"footer__column\">\\n                    <section>\\n                        <h1 class=\"footer__heading\">News & Features</h1>\\n                        <ul class=\"footer__list\">\\n                            <li class=\"footer__link\"><a href=\"/buzz/\"  class=\"link-grey-100\">Latest News</a></li>\\n                            <li class=\"footer__link\"><a href=\"/the-show/\" class=\"link-grey-100\" rel=\"nofollow\">The Broadway Show</a></li>\\n                            <li class=\"footer__link\"><a href=\"/videos/\" class=\"link-grey-100\">Videos</a></li>\\n                            <li class=\"footer__link\"><a href=\"/buzz/photos/\" class=\"link-grey-100\">Photos</a></li>\\n                        </ul>\\n                    </section>\\n                    <section>\\n                        <h1 class=\"footer__heading\">More</h1>\\n                        <ul class=\"footer__list\">\\n                            <li class=\"footer__link\"><a href=\"/gift-certificates/\" class=\"link-grey-100\">Gift Cards</a></li>\\n                            <li class=\"footer__link\"><a href=\"https://groups.broadway.com\" class=\"link-grey-100\">Group Sales</a></li>\\n                            <li class=\"footer__link\"><a href=\"/apps/\" class=\"link-grey-100\">Apps</a></li>\\n                        </ul>\\n                    </section>\\n                </div>\\n            </div>\\n            <div class=\"footer__column-container\">\\n                <div class=\"footer__column\">\\n                    <section>\\n                        <h1 class=\"footer__heading\">Info & Support</h1>\\n                        <ul class=\"footer__list\">\\n                            <li class=\"footer__link\"><a href=\"/about-us/\" class=\"link-grey-100\">About Us</a></li>\\n                            <li class=\"footer__link\"><a href=\"/contact-us/\" class=\"link-grey-100\">Contact Us</a></li>\\n                            <li class=\"footer__link\"><a href=\"/faq/\" class=\"link-grey-100\">FAQ</a></li>\\n                            <li class=\"footer__link\"><a href=\"https://www.johngore.com/employment/\" rel=\"noopener noreferrer\" target=\"_blank\" class=\"link-grey-100\">Careers</a></li>\\n                            <li class=\"footer__link\"><a href=\"/accessibility/\" class=\"link-grey-100\">Accessibility</a></li>\\n                        </ul>\\n                    </section>\\n                </div>\\n                <div class=\"footer__column\">\\n                    <section>\\n                        <h1 class=\"footer__heading\">Follow Us</h1>\\n                        <ul class=\"footer__list\">\\n                            <li class=\"footer__link\"><a href=\"https://announcements.broadway.com/preference-center\" class=\"link-grey-100\">Newsletters</a></li>\\n                            <li class=\"footer__link\"><a href=\"https://www.facebook.com/Broadway\" class=\"link-grey-100\">Facebook</a></li>\\n                            <li class=\"footer__link\"><a href=\"https://twitter.com/Broadwaycom\" class=\"link-grey-100\">Twitter</a></li>\\n                            <li class=\"footer__link\"><a href=\"https://www.youtube.com/user/Broadwaycom\" class=\"link-grey-100\">YouTube</a></li>\\n                            <li class=\"footer__link\"><a href=\"https://www.instagram.com/broadwaycom/\" class=\"link-grey-100\">Instagram</a></li>\\n                        </ul>\\n                    </section>\\n                </div>\\n            </div>\\n        </div>\\n        <div class=\"footer__divider\"></div>\\n        <div>\\n            <ul class=\"footer__terms-container\">\\n                <li class=\"footer__term\"><a href=\"/privacy-policy/\" class=\"link-grey-300\">Privacy Policy</a></li>\\n                <li class=\"footer__term\"><a href=\"/terms/\" class=\"link-grey-300\">Website Terms & Conditions</a></li>\\n                <li class=\"footer__term\"><a href=\"/purchase-terms/\" class=\"link-grey-300\">Purchase Terms & Conditions</a></li>\\n                <li class=\"footer__term\"><a href=\"/groups-purchase-terms/\" class=\"link-grey-300\">Groups Purchase Terms</a></li>\\n                <li class=\"footer__term\"><a href=\"/about-us/ticket-resell-license/\" class=\"link-grey-300\">Ticketing License</a></li>\\n            </ul>\\n            <div class=\"footer__copyright\">&copy; 2022 Broadway.com</div>\\n        </div>\\n    </div>\\n</footer>\\n\\n        \\n\\n        \\n    \\n            <script>\\n                window.BWY = window.BWY || {};\\n            </script>\\n            \\n                <script src=\"//ajax.googleapis.com/ajax/libs/jquery/3.0.0/jquery.min.js\"></script>\\n                <script>window.jQuery || document.write(\"<script src=\\'https://static.broadway.com/js/libs/jquery-3.0.0.min.d0212568ce69.js\\'>\\\\x3C/script>\")</script>\\n            \\n            <script src=\"https://static.broadway.com/js/compiled/app_responsive.96cac1843e04.js\"></script>\\n        \\n    \\n    <script src=\"https://static.broadway.com/js/compiled/shows.41c0eb26dc3e.js\"></script>\\n    <script src=\"https://static.broadway.com/js/compiled/optimizely_api.2cbf92ab78c7.js\"></script>\\n\\n\\n        \\n            <!-- Facebook Pixel Code -->\\n            <noscript>\\n                <img height=\"1\" width=\"1\" style=\"display:none\"\\n                     src=\"https://www.facebook.com/tr?id=682878898465597&ev=PageView&noscript=1\"/>\\n            </noscript>\\n            <!-- End Facebook Pixel Code -->\\n\\n        <script type=\"application/javascript\">\\n            var campaignID = \"\";\\n            if (campaignID) {\\n                BWY.cookies.setCampaignCookie(campaignID);\\n            }\\n        </script>\\n            <script>\\n                jQuery(document).ready(function($){\\n\\n                    BWY.responsive = {};\\n\\n                    \\n                        BWY.siteAnnouncement(\\'Sat, 18 Dec 2021 14:04:12 -0500\\');\\n                    \\n\\n                    \\n                    (function pollForTypekit(){\\n                        if( $(\\'html\\').hasClass(\\'wf-active\\') ){\\n                            $(\\'body\\').trigger(\\'wf-active\\');\\n                        } else {\\n                            setTimeout(pollForTypekit,100);\\n                        }\\n                    })();\\n                });\\n            </script>\\n\\n            <!--googleoff: all-->\\n            \\n                \\n                    <div class=\"announcement-js card card--announcement no-border mvn visually-hidden announcement-container\">\\n                        <div class=\"card__body media pal font-12-xs font-14-sm text-left\">\\n                            <div class=\"media-body media-middle text-center\">Broadway Is Open. View the <a href=\"/broadway-is-open/\">latest information</a>.</div>\\n                            \\n                        </div>\\n                    </div>\\n                \\n            \\n            <!--googleon: all-->\\n\\n            <script>\\n                window.BWY = window.BWY || {};\\n                try {\\n                    window.BWY.shared_nav_menu();\\n                } catch (e){}\\n            </script>\\n\\n            <script>\\n                (function($) {\\n                    $(\\'#navbar-search-js\\').submit(function(){\\n                        if ($(\\'#website-search-js\\').val().length != 0) {\\n                            return false;\\n                        } else {\\n                            $(\\'#website-search-js\\').remove();\\n                        }\\n                    });\\n                })(jQuery);\\n            </script>\\n        \\n        \\n    \\n    \\n    \\n        <script>\\n            if (window.BWY.OptimizelyAPI) {\\n                window.BWY.OptimizelyAPI.isOffice = false;\\n                function handleVariationRemovePrice(variation) {\\n                    if (variation === \\'1\\') {\\n                        $(\\'.rspButtonBox__container\\').addClass(\\'rsp-var-B__overview\\');\\n                        $(\\'.rspButtonBox__container--subpage\\').addClass(\\'rsp-var-B__sub\\');\\n                        $(\\'.rspSubpageHeader__grid\\').addClass(\\'rsp-var-B__sub\\');\\n                    }\\n                }\\n                window.BWY.OptimizelyAPI.datafileUrl = \"https://cdn.optimizely.com/datafiles/S17qKEy2JxC6mikgnTTmaC.json\";\\n                window.BWY.OptimizelyAPI.activateOrGetVariation(\\'bwy__show_pages_remove_price\\', {}, handleVariationRemovePrice);\\n                $(\\'#buy-tickets-js, .buy-tickets-js, #view-calendar-js\\').click(function(e){\\n                    window.BWY.OptimizelyAPI.track(\\'toCheckout\\');\\n                })\\n            }\\n        </script>\\n    \\n\\n\\n        \\n            \\n        \\n\\n    </body>\\n</html>\\n'"
            ]
          },
          "metadata": {},
          "execution_count": 106
        }
      ]
    },
    {
      "cell_type": "code",
      "source": [
        "soup32=BeautifulSoup(rouge3.text, 'html.parser')"
      ],
      "metadata": {
        "id": "gTuMY1k7mB9g"
      },
      "execution_count": null,
      "outputs": []
    },
    {
      "cell_type": "code",
      "source": [
        "print(soup32.prettify())"
      ],
      "metadata": {
        "id": "kkK-LSrBmB6N"
      },
      "execution_count": null,
      "outputs": []
    },
    {
      "cell_type": "code",
      "source": [
        "soup32.find_all('p')"
      ],
      "metadata": {
        "colab": {
          "base_uri": "https://localhost:8080/"
        },
        "id": "BtgZLt_wmBzZ",
        "outputId": "bf554566-4b5b-4897-a306-370bc8b8ff61"
      },
      "execution_count": null,
      "outputs": [
        {
          "output_type": "execute_result",
          "data": {
            "text/plain": [
              "[<p>Enter a world of splendor and romance, of eye-popping excess, of glitz, grandeur and glory! A world where Bohemians and aristocrats rub elbows and revel in electrifying enchantment. Pop the champagne and prepare for the spectacular spectacular... Welcome to <em>Moulin Rouge! The Musical.</em><br/>\n",
              " <br/>\n",
              " Baz Luhrmann’s revolutionary film comes to life onstage, remixed in a new musical mash-up extravaganza. A theatrical celebration of truth, beauty, freedom and—above all—LOVE, <em>Moulin Rouge! </em>is more than a musical; it is a state of mind.<br/>\n",
              " <br/>\n",
              " How wonderful life is...at the Moulin Rouge.</p>]"
            ]
          },
          "metadata": {},
          "execution_count": 109
        }
      ]
    },
    {
      "cell_type": "code",
      "source": [
        "for x in soup32.find_all('p'):\n",
        "  print(x.text)"
      ],
      "metadata": {
        "colab": {
          "base_uri": "https://localhost:8080/"
        },
        "id": "RpNhif6GmBwD",
        "outputId": "6bfef4dd-53a5-444a-b7a6-d9d2a7a6e3c7"
      },
      "execution_count": null,
      "outputs": [
        {
          "output_type": "stream",
          "name": "stdout",
          "text": [
            "Enter a world of splendor and romance, of eye-popping excess, of glitz, grandeur and glory! A world where Bohemians and aristocrats rub elbows and revel in electrifying enchantment. Pop the champagne and prepare for the spectacular spectacular... Welcome to Moulin Rouge! The Musical.\n",
            "\r\n",
            "Baz Luhrmann’s revolutionary film comes to life onstage, remixed in a new musical mash-up extravaganza. A theatrical celebration of truth, beauty, freedom and—above all—LOVE, Moulin Rouge! is more than a musical; it is a state of mind.\n",
            "\r\n",
            "How wonderful life is...at the Moulin Rouge.\n"
          ]
        }
      ]
    },
    {
      "cell_type": "code",
      "source": [
        "with open(\"../content/mr_descript.txt\", \"a\") as file:\n",
        "    for x in soup32.find_all('p'):\n",
        "        file.write(x.text)"
      ],
      "metadata": {
        "id": "7sp1dtz8mBdT"
      },
      "execution_count": null,
      "outputs": []
    },
    {
      "cell_type": "code",
      "source": [
        "bj=rq.get('https://www.broadway.com/shows/beetlejuice/')\n",
        "bj"
      ],
      "metadata": {
        "colab": {
          "base_uri": "https://localhost:8080/"
        },
        "id": "rC7DyiVqX5Lf",
        "outputId": "e49231ae-6a53-4c06-bb74-38b8004a20c5"
      },
      "execution_count": null,
      "outputs": [
        {
          "output_type": "execute_result",
          "data": {
            "text/plain": [
              "<Response [200]>"
            ]
          },
          "metadata": {},
          "execution_count": 6
        }
      ]
    },
    {
      "cell_type": "code",
      "source": [
        "bj.text"
      ],
      "metadata": {
        "id": "zp5TPPxJygmL"
      },
      "execution_count": null,
      "outputs": []
    },
    {
      "cell_type": "code",
      "source": [
        "soup21=BeautifulSoup(bj.text, 'html.parser')"
      ],
      "metadata": {
        "id": "A_gPPZ57ygav"
      },
      "execution_count": null,
      "outputs": []
    },
    {
      "cell_type": "code",
      "source": [
        "display(soup21)"
      ],
      "metadata": {
        "id": "w4d_UgWDygR6"
      },
      "execution_count": null,
      "outputs": []
    },
    {
      "cell_type": "code",
      "source": [
        "print(soup21.prettify())"
      ],
      "metadata": {
        "id": "ObbqySJvygEc"
      },
      "execution_count": null,
      "outputs": []
    },
    {
      "cell_type": "code",
      "source": [
        "soup21.find_all('span')"
      ],
      "metadata": {
        "id": "MrxBjjdrLyez"
      },
      "execution_count": null,
      "outputs": []
    },
    {
      "cell_type": "code",
      "source": [
        "for s in soup21.find_all('span',attrs={'class':'rspButtonBox__ticketValue'}):\n",
        "  print(s.text)"
      ],
      "metadata": {
        "colab": {
          "base_uri": "https://localhost:8080/"
        },
        "id": "5yNpBhVjLyUn",
        "outputId": "5b553013-ae84-4ad0-c857-7189e3706769"
      },
      "execution_count": null,
      "outputs": [
        {
          "output_type": "stream",
          "name": "stdout",
          "text": [
            "\n",
            "$69.00\n",
            "\n"
          ]
        }
      ]
    },
    {
      "cell_type": "code",
      "source": [
        "with open(\"../content/bj_price.txt\", \"a\") as file:\n",
        "    for y in soup21.find_all('span',attrs={'class':'rspButtonBox__ticketValue'}):\n",
        "      file.write(s.text)"
      ],
      "metadata": {
        "id": "EEUFQY1TLyJS"
      },
      "execution_count": null,
      "outputs": []
    },
    {
      "cell_type": "code",
      "source": [
        "bj2=rq.get('https://www.show-score.com/broadway-shows/beetlejuice-broadway')\n",
        "bj2"
      ],
      "metadata": {
        "colab": {
          "base_uri": "https://localhost:8080/"
        },
        "id": "I2sRPqx5YvDd",
        "outputId": "03a4a91c-1e38-4144-ff53-27f4f3af82f4"
      },
      "execution_count": null,
      "outputs": [
        {
          "output_type": "execute_result",
          "data": {
            "text/plain": [
              "<Response [200]>"
            ]
          },
          "metadata": {},
          "execution_count": 234
        }
      ]
    },
    {
      "cell_type": "code",
      "source": [
        "bj2.text"
      ],
      "metadata": {
        "id": "5evKs44Nyfu6"
      },
      "execution_count": null,
      "outputs": []
    },
    {
      "cell_type": "code",
      "source": [
        "soup22=BeautifulSoup(bj2.text, 'html.parser')"
      ],
      "metadata": {
        "id": "SC1VnmbPyfhT"
      },
      "execution_count": null,
      "outputs": []
    },
    {
      "cell_type": "code",
      "source": [
        "display(soup22)"
      ],
      "metadata": {
        "id": "En9hmY70yfWG"
      },
      "execution_count": null,
      "outputs": []
    },
    {
      "cell_type": "code",
      "source": [
        "print(soup22.prettify())"
      ],
      "metadata": {
        "id": "xd3XmSj6yfIy"
      },
      "execution_count": null,
      "outputs": []
    },
    {
      "cell_type": "code",
      "source": [
        "soup22.find_all('div')"
      ],
      "metadata": {
        "id": "oSnR_vgF_RWQ"
      },
      "execution_count": null,
      "outputs": []
    },
    {
      "cell_type": "code",
      "source": [
        "for y in soup22.find_all('div',attrs={'class':'show-page-v2__title'}):\n",
        "  print(y.text)"
      ],
      "metadata": {
        "colab": {
          "base_uri": "https://localhost:8080/"
        },
        "id": "oO-vJHSE_RKM",
        "outputId": "00d71fa2-5a01-400c-9471-a8d57f962b51"
      },
      "execution_count": null,
      "outputs": [
        {
          "output_type": "stream",
          "name": "stdout",
          "text": [
            "\n",
            "Beetlejuice (Broadway)\n",
            "\n"
          ]
        }
      ]
    },
    {
      "cell_type": "code",
      "source": [
        "with open(\"../content/bj_name.txt\", \"a\") as file:\n",
        "    for y in soup22.find_all('div',attrs={'class':'show-page-v2__title'}):\n",
        "        file.write(y.text)"
      ],
      "metadata": {
        "id": "GM5MBCBE_Q-Z"
      },
      "execution_count": null,
      "outputs": []
    },
    {
      "cell_type": "code",
      "source": [
        "for z in soup22.find_all('div',attrs={'class':'show-page-v2__rating-bars-title'}):\n",
        "  print(z.text)"
      ],
      "metadata": {
        "colab": {
          "base_uri": "https://localhost:8080/"
        },
        "id": "-ZCvWReVCJev",
        "outputId": "36f39bfb-1468-412f-acfa-138dcdeaecfd"
      },
      "execution_count": null,
      "outputs": [
        {
          "output_type": "stream",
          "name": "stdout",
          "text": [
            "\n",
            "83%\n"
          ]
        }
      ]
    },
    {
      "cell_type": "code",
      "source": [
        "with open(\"../content/bj_rate.txt\", \"a\") as file:\n",
        "    for z in soup22.find_all('div',attrs={'class':'show-page-v2__rating-bars-title'}):\n",
        "        file.write(z.text)"
      ],
      "metadata": {
        "id": "aF862tKYCJV3"
      },
      "execution_count": null,
      "outputs": []
    },
    {
      "cell_type": "code",
      "source": [
        "bj3=rq.get('https://www.broadway.com/shows/beetlejuice/story/')"
      ],
      "metadata": {
        "id": "oXxBDuYj5Vy3"
      },
      "execution_count": null,
      "outputs": []
    },
    {
      "cell_type": "code",
      "source": [
        "bj3.text"
      ],
      "metadata": {
        "id": "LOxeAL0cna6J"
      },
      "execution_count": null,
      "outputs": []
    },
    {
      "cell_type": "code",
      "source": [
        "soup33=BeautifulSoup(bj3.text, 'html.parser')"
      ],
      "metadata": {
        "id": "iWXGP440ncEP"
      },
      "execution_count": null,
      "outputs": []
    },
    {
      "cell_type": "code",
      "source": [
        "print(soup33.prettify())"
      ],
      "metadata": {
        "id": "VHkth9Ikniw1"
      },
      "execution_count": null,
      "outputs": []
    },
    {
      "cell_type": "code",
      "source": [
        "soup33.find_all('p')"
      ],
      "metadata": {
        "colab": {
          "base_uri": "https://localhost:8080/"
        },
        "id": "LtOoMT8ank8X",
        "outputId": "a4703c05-bc9c-4104-b8f2-bbb2d6c04fd4"
      },
      "execution_count": null,
      "outputs": [
        {
          "output_type": "execute_result",
          "data": {
            "text/plain": [
              "[<p>Directed by Alex Timbers (<em>Moulin Rouge!</em>), <em>Beetlejuice</em> tells the story of Lydia Deetz, a strange and unusual teenager whose whole life changes when she meets a recently deceased couple and a demon with a thing for stripes. And under its uproarious surface (six feet under, to be exact), it’s a remarkably touching show about family, love, and making the most of every Day-O!</p>]"
            ]
          },
          "metadata": {},
          "execution_count": 118
        }
      ]
    },
    {
      "cell_type": "code",
      "source": [
        "for x in soup33.find_all('p'):\n",
        "  print(x.text)"
      ],
      "metadata": {
        "colab": {
          "base_uri": "https://localhost:8080/"
        },
        "id": "mBoEjHrQnput",
        "outputId": "9b2b27b2-6e81-41e3-cd02-f66ed0a5ea7a"
      },
      "execution_count": null,
      "outputs": [
        {
          "output_type": "stream",
          "name": "stdout",
          "text": [
            "Directed by Alex Timbers (Moulin Rouge!), Beetlejuice tells the story of Lydia Deetz, a strange and unusual teenager whose whole life changes when she meets a recently deceased couple and a demon with a thing for stripes. And under its uproarious surface (six feet under, to be exact), it’s a remarkably touching show about family, love, and making the most of every Day-O!\n"
          ]
        }
      ]
    },
    {
      "cell_type": "code",
      "source": [
        "with open(\"../content/bj_descript.txt\", \"a\") as file:\n",
        "    for x in soup33.find_all('p'):\n",
        "        file.write(x.text)"
      ],
      "metadata": {
        "id": "nc9VLzJNntAX"
      },
      "execution_count": null,
      "outputs": []
    },
    {
      "cell_type": "code",
      "source": [
        "deh=rq.get('https://www.broadway.com/shows/dear-evan-hansen/')\n",
        "deh\n",
        "soup34=BeautifulSoup(deh.text, 'html.parser')\n",
        "soup34.prettify\n",
        "\n",
        "cfa=rq.get('https://www.broadway.com/shows/come-away/')\n",
        "cfa\n",
        "soup35=BeautifulSoup(cfa.text, 'html.parser')\n",
        "soup35.prettify\n",
        "\n",
        "lion=rq.get('https://www.broadway.com/shows/the-lion-king/')\n",
        "lion\n",
        "soup36=BeautifulSoup(lion.text, 'html.parser')\n",
        "soup36.prettify\n",
        "\n",
        "bookmor=rq.get('https://www.broadway.com/shows/book-mormon/')\n",
        "bookmor\n",
        "soup37=BeautifulSoup(bookmor.text, 'html.parser')\n",
        "soup37.prettify\n",
        "\n",
        "shophor=rq.get('https://www.broadway.com/shows/little-shop-horrors/')\n",
        "shophor\n",
        "soup38=BeautifulSoup(shophor.text, 'html.parser')\n",
        "soup38.prettify\n",
        "\n",
        "jb=rq.get('https://www.broadway.com/shows/jersey-boys/')\n",
        "jb\n",
        "soup39=BeautifulSoup(jb.text, 'html.parser')\n",
        "soup39.prettify\n",
        "\n",
        "utopia=rq.get('https://www.broadway.com/shows/david-byrnes-american-utopia/')\n",
        "utopia\n",
        "soup40=BeautifulSoup(utopia.text, 'html.parser')\n",
        "soup40.prettify\n",
        "\n",
        "aladdin=rq.get('https://www.broadway.com/shows/aladdin-broadway/')\n",
        "aladdin\n",
        "soup41=BeautifulSoup(aladdin.text, 'html.parser')\n",
        "soup41.prettify\n",
        "\n",
        "stomp=rq.get('https://www.broadway.com/shows/stomp/')\n",
        "stomp\n",
        "soup42=BeautifulSoup(stomp.text, 'html.parser')\n",
        "soup42.prettify\n",
        "\n",
        "mj=rq.get('https://www.broadway.com/shows/mj/')\n",
        "mj\n",
        "soup43=BeautifulSoup(mj.text, 'html.parser')\n",
        "soup43.prettify\n",
        "\n",
        "rig=rq.get('https://www.broadway.com/shows/metropolitan-opera-rigoletto/')\n",
        "rig\n",
        "soup44=BeautifulSoup(rig.text, 'html.parser')\n",
        "soup44.prettify\n",
        "\n",
        "mrs=rq.get('https://www.show-score.com/broadway-shows/mrs-doubtfire')\n",
        "mrs\n",
        "soup45=BeautifulSoup(mrs.text, 'html.parser')\n",
        "soup45.prettify\n",
        "\n",
        "act=rq.get('https://www.broadway.com/shows/a-class-act/')\n",
        "act\n",
        "soup46=BeautifulSoup(act.text, 'html.parser')\n",
        "soup46.prettify\n",
        "\n",
        "appar=rq.get('https://www.broadway.com/shows/intimate-apparel/')\n",
        "appar\n",
        "soup47=BeautifulSoup(appar.text, 'html.parser')\n",
        "soup47.prettify\n",
        "\n",
        "office=rq.get('https://www.broadway.com/shows/office-musical-parody/')\n",
        "office\n",
        "soup48=BeautifulSoup(office.text, 'html.parser')\n",
        "soup48.prettify\n",
        "\n",
        "tosca=rq.get('https://www.broadway.com/shows/metropolitan-opera-tosca/')\n",
        "tosca\n",
        "soup49=BeautifulSoup(tosca.text, 'html.parser')\n",
        "soup49.prettify\n",
        "\n",
        "tur=rq.get('https://www.broadway.com/shows/metropolitan-opera-turandot/')\n",
        "tur\n",
        "soup50=BeautifulSoup(tur.text, 'html.parser')\n",
        "soup50.prettify\n",
        "\n",
        "figaro=rq.get('https://www.broadway.com/shows/metropolitan-opera-le-nozze-di-figaro/')\n",
        "figaro\n",
        "soup51=BeautifulSoup(figaro.text, 'html.parser')\n",
        "soup51.prettify\n",
        "\n",
        "boh=rq.get('https://www.broadway.com/shows/metropolitan-opera-la-boheme/')\n",
        "boh\n",
        "soup52=BeautifulSoup(boh.text, 'html.parser')\n",
        "soup52.prettify\n",
        "\n",
        "mancha=rq.get('https://www.broadway.com/shows/man-of-la-mancha/')\n",
        "mancha\n",
        "soup53=BeautifulSoup(mancha.text, 'html.parser')\n",
        "soup53.prettify\n",
        "\n",
        "sq=rq.get('https://www.broadway.com/shows/paradise-square/')\n",
        "sq\n",
        "soup54=BeautifulSoup(sq.text, 'html.parser')\n",
        "soup54.prettify\n",
        "\n",
        "woods=rq.get('https://www.broadway.com/shows/woods/')\n",
        "woods\n",
        "soup55=BeautifulSoup(woods.text, 'html.parser')\n",
        "soup55.prettify\n",
        "\n",
        "ed=rq.get('https://www.broadway.com/shows/mystery-edwin-drood/')\n",
        "ed\n",
        "soup56=BeautifulSoup(ed.text, 'html.parser')\n",
        "soup56.prettify\n",
        "\n",
        "funny=rq.get('https://www.broadway.com/shows/funny-girl/')\n",
        "funny\n",
        "soup57=BeautifulSoup(funny.text, 'html.parser')\n",
        "soup57.prettify\n",
        "\n",
        "sat=rq.get('https://www.broadway.com/shows/mr-saturday-night/')\n",
        "sat\n",
        "soup58=BeautifulSoup(sat.text, 'html.parser')\n",
        "soup58.prettify\n",
        "\n",
        "prince=rq.get('https://www.broadway.com/shows/the-little-prince-broadway/')\n",
        "prince\n",
        "soup59=BeautifulSoup(prince.text, 'html.parser')\n",
        "soup59.prettify\n",
        "\n",
        "grbl=rq.get('https://www.broadway.com/shows/little-girl-blue/')\n",
        "grbl\n",
        "soup60=BeautifulSoup(grbl.text, 'html.parser')\n",
        "soup60.prettify\n",
        "\n",
        "don=rq.get('https://www.broadway.com/shows/metropolitan-opera-don-carlo/')\n",
        "don\n",
        "soup61=BeautifulSoup(don.text, 'html.parser')\n",
        "soup61.prettify\n",
        "\n",
        "elek=rq.get('https://www.broadway.com/shows/metropolitan-opera-elektra/')\n",
        "elek\n",
        "soup62=BeautifulSoup(elek.text, 'html.parser')\n",
        "soup62.prettify\n",
        "\n",
        "mad=rq.get('https://www.broadway.com/shows/madama-butterfly/')\n",
        "mad\n",
        "soup63=BeautifulSoup(mad.text, 'html.parser')\n",
        "soup63.prettify\n",
        "\n",
        "hamlet=rq.get('https://www.broadway.com/shows/hamlet-off-broadway/')\n",
        "hamlet\n",
        "soup64=BeautifulSoup(hamlet.text, 'html.parser')\n",
        "soup64.prettify\n",
        "\n",
        "loop=rq.get('https://www.broadway.com/shows/strange-loop/')\n",
        "loop\n",
        "soup65=BeautifulSoup(loop.text, 'html.parser')\n",
        "soup65.prettify\n",
        "\n",
        "bb=rq.get('https://www.broadway.com/shows/beauty-and-the-beast/')\n",
        "bb\n",
        "soup66=BeautifulSoup(bb.text, 'html.parser')\n",
        "soup66.prettify\n",
        "\n",
        "lines=rq.get('https://www.broadway.com/shows/between-lines/')\n",
        "lines\n",
        "soup67=BeautifulSoup(lines.text, 'html.parser')\n",
        "soup67.prettify\n",
        "\n",
        "once=rq.get('https://www.broadway.com/shows/once-upon-one-more-time/')\n",
        "once\n",
        "soup68=BeautifulSoup(once.text, 'html.parser')\n",
        "soup68.prettify\n",
        "\n",
        "rock=rq.get('https://www.broadway.com/shows/rock-of-ages/')\n",
        "rock\n",
        "soup69=BeautifulSoup(rock.text, 'html.parser')\n",
        "soup69.prettify\n",
        "\n",
        "sing=rq.get('https://www.broadway.com/shows/sing-street/')\n",
        "sing\n",
        "soup70=BeautifulSoup(sing.text, 'html.parser')\n",
        "soup70.prettify\n",
        "\n",
        "prada=rq.get('https://www.broadway.com/shows/devil-wears-prada/')\n",
        "prada\n",
        "soup71=BeautifulSoup(prada.text, 'html.parser')\n",
        "soup71.prettify\n",
        "\n",
        "garden=rq.get('https://www.broadway.com/shows/secret-garden/')\n",
        "garden\n",
        "soup72=BeautifulSoup(garden.text, 'html.parser')\n",
        "soup72.prettify\n",
        "\n",
        "tina=rq.get('https://www.broadway.com/shows/tina-tina-turner-musical/')\n",
        "tina\n",
        "soup73=BeautifulSoup(tina.text, 'html.parser')\n",
        "soup73.prettify\n",
        "\n",
        "heat=rq.get('https://www.broadway.com/shows/heathers/')\n",
        "heat\n",
        "soup74=BeautifulSoup(heat.text, 'html.parser')\n",
        "soup74.prettify"
      ],
      "metadata": {
        "id": "kk8qb6bhnxHV"
      },
      "execution_count": null,
      "outputs": []
    },
    {
      "cell_type": "code",
      "source": [
        "# soup34.find_all('span')\n",
        "# for s in soup34.find_all('span',attrs={'class':'rspButtonBox__ticketValue'}):\n",
        "#   print(s.text)\n",
        "# with open(\"deh_price.txt\", \"a\") as file:\n",
        "#     for y in soup34.find_all('span',attrs={'class':'rspButtonBox__ticketValue'}):\n",
        "#       file.write(s.text)\n",
        "\n",
        "# soup35.find_all('span')\n",
        "# for s in soup35.find_all('span',attrs={'class':'rspButtonBox__ticketValue'}):\n",
        "#   print(s.text)\n",
        "# with open(\"cfa_price.txt\", \"a\") as file:\n",
        "#     for y in soup35.find_all('span',attrs={'class':'rspButtonBox__ticketValue'}):\n",
        "#       file.write(s.text)\n",
        "\n",
        "# soup36.find_all('span')\n",
        "# for s in soup36.find_all('span',attrs={'class':'rspButtonBox__ticketValue'}):\n",
        "#   print(s.text)\n",
        "# with open(\"lion_price.txt\", \"a\") as file:\n",
        "#     for y in soup36.find_all('span',attrs={'class':'rspButtonBox__ticketValue'}):\n",
        "#       file.write(s.text)\n",
        "\n",
        "# soup37.find_all('span')\n",
        "# for s in soup37.find_all('span',attrs={'class':'rspButtonBox__ticketValue'}):\n",
        "#   print(s.text)\n",
        "# with open(\"boolmor_price.txt\", \"a\") as file:\n",
        "#     for y in soup37.find_all('span',attrs={'class':'rspButtonBox__ticketValue'}):\n",
        "#       file.write(s.text)\n",
        "\n",
        "# soup38.find_all('span')\n",
        "# for s in soup38.find_all('span',attrs={'class':'rspButtonBox__ticketValue'}):\n",
        "#   print(s.text)\n",
        "# with open(\"shophor_price.txt\", \"a\") as file:\n",
        "#     for y in soup38.find_all('span',attrs={'class':'rspButtonBox__ticketValue'}):\n",
        "#       file.write(s.text)\n",
        "\n",
        "# soup39.find_all('span')\n",
        "# for s in soup39.find_all('span',attrs={'class':'rspButtonBox__ticketValue'}):\n",
        "#   print(s.text)\n",
        "# with open(\"jb_price.txt\", \"a\") as file:\n",
        "#     for y in soup39.find_all('span',attrs={'class':'rspButtonBox__ticketValue'}):\n",
        "#       file.write(s.text)\n",
        "\n",
        "# soup40.find_all('span')\n",
        "# for s in soup40.find_all('span',attrs={'class':'rspButtonBox__ticketValue'}):\n",
        "#   print(s.text)\n",
        "# with open(\"utopia_price.txt\", \"a\") as file:\n",
        "#     for y in soup40.find_all('span',attrs={'class':'rspButtonBox__ticketValue'}):\n",
        "#       file.write(s.text)\n",
        "\n",
        "# soup41.find_all('span')\n",
        "# for s in soup41.find_all('span',attrs={'class':'rspButtonBox__ticketValue'}):\n",
        "#   print(s.text)\n",
        "# with open(\"aladdin_price.txt\", \"a\") as file:\n",
        "#     for y in soup41.find_all('span',attrs={'class':'rspButtonBox__ticketValue'}):\n",
        "#       file.write(s.text)\n",
        "\n",
        "# soup42.find_all('span')\n",
        "# for s in soup42.find_all('span',attrs={'class':'rspButtonBox__ticketValue'}):\n",
        "#   print(s.text)\n",
        "# with open(\"rq_price.txt\", \"a\") as file:\n",
        "#     for y in soup42.find_all('span',attrs={'class':'rspButtonBox__ticketValue'}):\n",
        "#       file.write(s.text)\n",
        "\n",
        "# soup43.find_all('span')\n",
        "# for s in soup43.find_all('span',attrs={'class':'rspButtonBox__ticketValue'}):\n",
        "#   print(s.text)\n",
        "# with open(\"mj_price.txt\", \"a\") as file:\n",
        "#     for y in soup43.find_all('span',attrs={'class':'rspButtonBox__ticketValue'}):\n",
        "#       file.write(s.text)\n",
        "\n",
        "# soup44.find_all('span')\n",
        "# for s in soup44.find_all('span',attrs={'class':'rspButtonBox__ticketValue'}):\n",
        "#   print(s.text)\n",
        "# with open(\"rig_price.txt\", \"a\") as file:\n",
        "#     for y in soup44.find_all('span',attrs={'class':'rspButtonBox__ticketValue'}):\n",
        "#       file.write(s.text)\n",
        "\n",
        "# soup45.find_all('span')\n",
        "# for s in soup45.find_all('span',attrs={'class':'rspButtonBox__ticketValue'}):\n",
        "#   print(s.text)\n",
        "# with open(\"mrs_price.txt\", \"a\") as file:\n",
        "#     for y in soup45.find_all('span',attrs={'class':'rspButtonBox__ticketValue'}):\n",
        "#       file.write(s.text)\n",
        "\n",
        "# soup46.find_all('span')\n",
        "# for s in soup46.find_all('span',attrs={'class':'rspButtonBox__ticketValue'}):\n",
        "#   print(s.text)\n",
        "# with open(\"act_price.txt\", \"a\") as file:\n",
        "#     for y in soup46.find_all('span',attrs={'class':'rspButtonBox__ticketValue'}):\n",
        "#       file.write(s.text)\n",
        "\n",
        "# soup47.find_all('span')\n",
        "# for s in soup47.find_all('span',attrs={'class':'rspButtonBox__ticketValue'}):\n",
        "#   print(s.text)\n",
        "# with open(\"appar_price.txt\", \"a\") as file:\n",
        "#     for y in soup47.find_all('span',attrs={'class':'rspButtonBox__ticketValue'}):\n",
        "#       file.write(s.text)\n",
        "\n",
        "# soup48.find_all('span')\n",
        "# for s in soup48.find_all('span',attrs={'class':'rspButtonBox__ticketValue'}):\n",
        "#   print(s.text)\n",
        "# with open(\"office_price.txt\", \"a\") as file:\n",
        "#     for y in soup48.find_all('span',attrs={'class':'rspButtonBox__ticketValue'}):\n",
        "#       file.write(s.text)\n",
        "\n",
        "# soup49.find_all('span')\n",
        "# for s in soup49.find_all('span',attrs={'class':'rspButtonBox__ticketValue'}):\n",
        "#   print(s.text)\n",
        "# with open(\"tosca_price.txt\", \"a\") as file:\n",
        "#     for y in soup49.find_all('span',attrs={'class':'rspButtonBox__ticketValue'}):\n",
        "#       file.write(s.text)\n",
        "\n",
        "# soup50.find_all('span')\n",
        "# for s in soup50.find_all('span',attrs={'class':'rspButtonBox__ticketValue'}):\n",
        "#   print(s.text)\n",
        "# with open(\"tur_price.txt\", \"a\") as file:\n",
        "#     for y in soup50.find_all('span',attrs={'class':'rspButtonBox__ticketValue'}):\n",
        "#       file.write(s.text)\n",
        "\n",
        "# soup51.find_all('span')\n",
        "# for s in soup51.find_all('span',attrs={'class':'rspButtonBox__ticketValue'}):\n",
        "#   print(s.text)\n",
        "# with open(\"figaro_price.txt\", \"a\") as file:\n",
        "#     for y in soup51.find_all('span',attrs={'class':'rspButtonBox__ticketValue'}):\n",
        "#       file.write(s.text)\n",
        "\n",
        "# soup52.find_all('span')\n",
        "# for s in soup52.find_all('span',attrs={'class':'rspButtonBox__ticketValue'}):\n",
        "#   print(s.text)\n",
        "# with open(\"boh_price.txt\", \"a\") as file:\n",
        "#     for y in soup52.find_all('span',attrs={'class':'rspButtonBox__ticketValue'}):\n",
        "#       file.write(s.text)\n",
        "\n",
        "# soup53.find_all('span')\n",
        "# for s in soup53.find_all('span',attrs={'class':'rspButtonBox__ticketValue'}):\n",
        "#   print(s.text)\n",
        "# with open(\"mancha_price.txt\", \"a\") as file:\n",
        "#     for y in soup53.find_all('span',attrs={'class':'rspButtonBox__ticketValue'}):\n",
        "#       file.write(s.text)\n",
        "\n",
        "# soup54.find_all('span')\n",
        "# for s in soup54.find_all('span',attrs={'class':'rspButtonBox__ticketValue'}):\n",
        "#   print(s.text)\n",
        "# with open(\"sq_price.txt\", \"a\") as file:\n",
        "#     for y in soup54.find_all('span',attrs={'class':'rspButtonBox__ticketValue'}):\n",
        "#       file.write(s.text)\n",
        "\n",
        "# soup55.find_all('span')\n",
        "# for s in soup55.find_all('span',attrs={'class':'rspButtonBox__ticketValue'}):\n",
        "#   print(s.text)\n",
        "# with open(\"woods_price.txt\", \"a\") as file:\n",
        "#     for y in soup55.find_all('span',attrs={'class':'rspButtonBox__ticketValue'}):\n",
        "#       file.write(s.text)\n",
        "\n",
        "# soup56.find_all('span')\n",
        "# for s in soup56.find_all('span',attrs={'class':'rspButtonBox__ticketValue'}):\n",
        "#   print(s.text)\n",
        "# with open(\"ed_price.txt\", \"a\") as file:\n",
        "#     for y in soup56.find_all('span',attrs={'class':'rspButtonBox__ticketValue'}):\n",
        "#       file.write(s.text)\n",
        "\n",
        "# soup57.find_all('span')\n",
        "# for s in soup57.find_all('span',attrs={'class':'rspButtonBox__ticketValue'}):\n",
        "#   print(s.text)\n",
        "# with open(\"funny_price.txt\", \"a\") as file:\n",
        "#     for y in soup57.find_all('span',attrs={'class':'rspButtonBox__ticketValue'}):\n",
        "#       file.write(s.text)\n",
        "\n",
        "# soup58.find_all('span')\n",
        "# for s in soup58.find_all('span',attrs={'class':'rspButtonBox__ticketValue'}):\n",
        "#   print(s.text)\n",
        "# with open(\"sat_price.txt\", \"a\") as file:\n",
        "#     for y in soup58.find_all('span',attrs={'class':'rspButtonBox__ticketValue'}):\n",
        "#       file.write(s.text)\n",
        "\n",
        "# soup59.find_all('span')\n",
        "# for s in soup59.find_all('span',attrs={'class':'rspButtonBox__ticketValue'}):\n",
        "#   print(s.text)\n",
        "# with open(\"prince_price.txt\", \"a\") as file:\n",
        "#     for y in soup59.find_all('span',attrs={'class':'rspButtonBox__ticketValue'}):\n",
        "#       file.write(s.text)\n",
        "\n",
        "# soup60.find_all('span')\n",
        "# for s in soup60.find_all('span',attrs={'class':'rspButtonBox__ticketValue'}):\n",
        "#   print(s.text)\n",
        "# with open(\"grbl_price.txt\", \"a\") as file:\n",
        "#     for y in soup60.find_all('span',attrs={'class':'rspButtonBox__ticketValue'}):\n",
        "#       file.write(s.text)\n",
        "\n",
        "# soup61.find_all('span')\n",
        "# for s in soup61.find_all('span',attrs={'class':'rspButtonBox__ticketValue'}):\n",
        "#   print(s.text)\n",
        "# with open(\"don_price.txt\", \"a\") as file:\n",
        "#     for y in soup61.find_all('span',attrs={'class':'rspButtonBox__ticketValue'}):\n",
        "#       file.write(s.text)\n",
        "\n",
        "# soup62.find_all('span')\n",
        "# for s in soup62.find_all('span',attrs={'class':'rspButtonBox__ticketValue'}):\n",
        "#   print(s.text)\n",
        "# with open(\"elek_price.txt\", \"a\") as file:\n",
        "#     for y in soup62.find_all('span',attrs={'class':'rspButtonBox__ticketValue'}):\n",
        "#       file.write(s.text)\n",
        "\n",
        "# soup63.find_all('span')\n",
        "# for s in soup63.find_all('span',attrs={'class':'rspButtonBox__ticketValue'}):\n",
        "#   print(s.text)\n",
        "# with open(\"mad_price.txt\", \"a\") as file:\n",
        "#     for y in soup63.find_all('span',attrs={'class':'rspButtonBox__ticketValue'}):\n",
        "#       file.write(s.text)\n",
        "\n",
        "# soup64.find_all('span')\n",
        "# for s in soup64.find_all('span',attrs={'class':'rspButtonBox__ticketValue'}):\n",
        "#   print(s.text)\n",
        "# with open(\"hamlet_price.txt\", \"a\") as file:\n",
        "#     for y in soup64.find_all('span',attrs={'class':'rspButtonBox__ticketValue'}):\n",
        "#       file.write(s.text)\n",
        "\n",
        "# soup65.find_all('span')\n",
        "# for s in soup65.find_all('span',attrs={'class':'rspButtonBox__ticketValue'}):\n",
        "#   print(s.text)\n",
        "# with open(\"loop_price.txt\", \"a\") as file:\n",
        "#     for y in soup65.find_all('span',attrs={'class':'rspButtonBox__ticketValue'}):\n",
        "#       file.write(s.text)\n",
        "\n",
        "# soup66.find_all('span')\n",
        "# for s in soup66.find_all('span',attrs={'class':'rspButtonBox__ticketValue'}):\n",
        "#   print(s.text)\n",
        "# with open(\"bb_price.txt\", \"a\") as file:\n",
        "#     for y in soup66.find_all('span',attrs={'class':'rspButtonBox__ticketValue'}):\n",
        "#       file.write(s.text)\n",
        "\n",
        "# soup67.find_all('span')\n",
        "# for s in soup67.find_all('span',attrs={'class':'rspButtonBox__ticketValue'}):\n",
        "#   print(s.text)\n",
        "# with open(\"lines_price.txt\", \"a\") as file:\n",
        "#     for y in soup67.find_all('span',attrs={'class':'rspButtonBox__ticketValue'}):\n",
        "#       file.write(s.text)\n",
        "\n",
        "# soup68.find_all('span')\n",
        "# for s in soup68.find_all('span',attrs={'class':'rspButtonBox__ticketValue'}):\n",
        "#   print(s.text)\n",
        "# with open(\"once_price.txt\", \"a\") as file:\n",
        "#     for y in soup68.find_all('span',attrs={'class':'rspButtonBox__ticketValue'}):\n",
        "#       file.write(s.text)\n",
        "\n",
        "# soup69.find_all('span')\n",
        "# for s in soup69.find_all('span',attrs={'class':'rspButtonBox__ticketValue'}):\n",
        "#   print(s.text)\n",
        "# with open(\"rock_price.txt\", \"a\") as file:\n",
        "#     for y in soup69.find_all('span',attrs={'class':'rspButtonBox__ticketValue'}):\n",
        "#       file.write(s.text)\n",
        "\n",
        "# soup70.find_all('span')\n",
        "# for s in soup70.find_all('span',attrs={'class':'rspButtonBox__ticketValue'}):\n",
        "#   print(s.text)\n",
        "# with open(\"sing_price.txt\", \"a\") as file:\n",
        "#     for y in soup70.find_all('span',attrs={'class':'rspButtonBox__ticketValue'}):\n",
        "#       file.write(s.text)\n",
        "\n",
        "# soup71.find_all('span')\n",
        "# for s in soup71.find_all('span',attrs={'class':'rspButtonBox__ticketValue'}):\n",
        "#   print(s.text)\n",
        "# with open(\"prada_price.txt\", \"a\") as file:\n",
        "#     for y in soup71.find_all('span',attrs={'class':'rspButtonBox__ticketValue'}):\n",
        "#       file.write(s.text)\n",
        "\n",
        "# soup72.find_all('span')\n",
        "# for s in soup72.find_all('span',attrs={'class':'rspButtonBox__ticketValue'}):\n",
        "#   print(s.text)\n",
        "# with open(\"garden_price.txt\", \"a\") as file:\n",
        "#     for y in soup72.find_all('span',attrs={'class':'rspButtonBox__ticketValue'}):\n",
        "#       file.write(s.text)\n",
        "\n",
        "# soup73.find_all('span')\n",
        "# for s in soup73.find_all('span',attrs={'class':'rspButtonBox__ticketValue'}):\n",
        "#   print(s.text)\n",
        "# with open(\"tina_price.txt\", \"a\") as file:\n",
        "#     for y in soup73.find_all('span',attrs={'class':'rspButtonBox__ticketValue'}):\n",
        "#       file.write(s.text)\n",
        "\n",
        "soup74.find_all('span')\n",
        "for s in soup74.find_all('span',attrs={'class':'rspButtonBox__ticketValue'}):\n",
        "  print(s.text)\n",
        "with open(\"heat_price.txt\", \"a\") as file:\n",
        "    for y in soup74.find_all('span',attrs={'class':'rspButtonBox__ticketValue'}):\n",
        "      file.write(s.text)"
      ],
      "metadata": {
        "id": "34WPFLdgLe6r"
      },
      "execution_count": null,
      "outputs": []
    },
    {
      "cell_type": "code",
      "source": [
        "deh2=rq.get('https://www.broadway.com/shows/dear-evan-hansen/story/')\n",
        "deh2\n",
        "soup75=BeautifulSoup(deh2.text, 'html.parser')\n",
        "soup75.prettify\n",
        "\n",
        "cfa2=rq.get('https://www.broadway.com/shows/come-away/story')\n",
        "cfa2\n",
        "soup76=BeautifulSoup(cfa2.text, 'html.parser')\n",
        "soup76.prettify\n",
        "\n",
        "lion2=rq.get('https://www.broadway.com/shows/the-lion-king/story')\n",
        "lion2\n",
        "soup77=BeautifulSoup(lion2.text, 'html.parser')\n",
        "soup77.prettify\n",
        "\n",
        "bookmor2=rq.get('https://www.broadway.com/shows/book-mormon/story')\n",
        "bookmor2\n",
        "soup78=BeautifulSoup(bookmor2.text, 'html.parser')\n",
        "soup78.prettify\n",
        "\n",
        "shophor2=rq.get('https://www.broadway.com/shows/little-shop-horrors/story')\n",
        "shophor2\n",
        "soup79=BeautifulSoup(shophor2.text, 'html.parser')\n",
        "soup79.prettify\n",
        "\n",
        "jb2=rq.get('https://www.broadway.com/shows/jersey-boys/story')\n",
        "jb2\n",
        "soup80=BeautifulSoup(jb2.text, 'html.parser')\n",
        "soup80.prettify\n",
        "\n",
        "utopia2=rq.get('https://www.broadway.com/shows/david-byrnes-american-utopia/story')\n",
        "utopia2\n",
        "soup81=BeautifulSoup(utopia2.text, 'html.parser')\n",
        "soup81.prettify\n",
        "\n",
        "aladdin2=rq.get('https://www.broadway.com/shows/aladdin-broadway/story')\n",
        "aladdin2\n",
        "soup82=BeautifulSoup(aladdin2.text, 'html.parser')\n",
        "soup82.prettify\n",
        "\n",
        "stomp2=rq.get('https://www.broadway.com/shows/stomp/story')\n",
        "stomp2\n",
        "soup83=BeautifulSoup(stomp2.text, 'html.parser')\n",
        "soup83.prettify\n",
        "\n",
        "mj2=rq.get('https://www.broadway.com/shows/mj/story')\n",
        "mj2\n",
        "soup84=BeautifulSoup(mj2.text, 'html.parser')\n",
        "soup84.prettify\n",
        "\n",
        "rig2=rq.get('https://www.broadway.com/shows/metropolitan-opera-rigoletto/story')\n",
        "rig2\n",
        "soup85=BeautifulSoup(rig2.text, 'html.parser')\n",
        "soup85.prettify\n",
        "\n",
        "mrs2=rq.get('https://www.show-score.com/broadway-shows/mrs-doubtfire/story')\n",
        "mrs2\n",
        "soup86=BeautifulSoup(mrs2.text, 'html.parser')\n",
        "soup86.prettify\n",
        "\n",
        "act2=rq.get('https://www.broadway.com/shows/a-class-act/story')\n",
        "act2\n",
        "soup87=BeautifulSoup(act2.text, 'html.parser')\n",
        "soup87.prettify\n",
        "\n",
        "appar2=rq.get('https://www.broadway.com/shows/intimate-apparel/story')\n",
        "appar2\n",
        "soup88=BeautifulSoup(appar2.text, 'html.parser')\n",
        "soup88.prettify\n",
        "\n",
        "office2=rq.get('https://www.broadway.com/shows/office-musical-parody/story')\n",
        "office2\n",
        "soup89=BeautifulSoup(office2.text, 'html.parser')\n",
        "soup89.prettify\n",
        "\n",
        "tosca2=rq.get('https://www.broadway.com/shows/metropolitan-opera-tosca/story')\n",
        "tosca2\n",
        "soup90=BeautifulSoup(tosca2.text, 'html.parser')\n",
        "soup90.prettify\n",
        "\n",
        "tur2=rq.get('https://www.broadway.com/shows/metropolitan-opera-turandot/story')\n",
        "tur2\n",
        "soup91=BeautifulSoup(tur2.text, 'html.parser')\n",
        "soup91.prettify\n",
        "\n",
        "figaro2=rq.get('https://www.broadway.com/shows/metropolitan-opera-le-nozze-di-figaro/story')\n",
        "figaro2\n",
        "soup92=BeautifulSoup(figaro2.text, 'html.parser')\n",
        "soup92.prettify\n",
        "\n",
        "boh2=rq.get('https://www.broadway.com/shows/metropolitan-opera-la-boheme/story')\n",
        "boh2\n",
        "soup93=BeautifulSoup(boh2.text, 'html.parser')\n",
        "soup93.prettify\n",
        "\n",
        "mancha2=rq.get('https://www.broadway.com/shows/man-of-la-mancha/story')\n",
        "mancha2\n",
        "soup94=BeautifulSoup(mancha2.text, 'html.parser')\n",
        "soup94.prettify\n",
        "\n",
        "sq2=rq.get('https://www.broadway.com/shows/paradise-square/story')\n",
        "sq2\n",
        "soup95=BeautifulSoup(sq2.text, 'html.parser')\n",
        "soup95.prettify\n",
        "\n",
        "woods2=rq.get('https://www.broadway.com/shows/woods/story')\n",
        "woods2\n",
        "soup96=BeautifulSoup(woods2.text, 'html.parser')\n",
        "soup96.prettify\n",
        "\n",
        "ed2=rq.get('https://www.broadway.com/shows/mystery-edwin-drood/story')\n",
        "ed2\n",
        "soup97=BeautifulSoup(ed2.text, 'html.parser')\n",
        "soup97.prettify\n",
        "\n",
        "funny2=rq.get('https://www.broadway.com/shows/funny-girl/story')\n",
        "funny2\n",
        "soup98=BeautifulSoup(funny2.text, 'html.parser')\n",
        "soup98.prettify\n",
        "\n",
        "sat2=rq.get('https://www.broadway.com/shows/mr-saturday-night/story')\n",
        "sat2\n",
        "soup99=BeautifulSoup(sat2.text, 'html.parser')\n",
        "soup99.prettify\n",
        "\n",
        "prince2=rq.get('https://www.broadway.com/shows/the-little-prince-broadway/story')\n",
        "prince2\n",
        "soup100=BeautifulSoup(prince2.text, 'html.parser')\n",
        "soup100.prettify\n",
        "\n",
        "grbl2=rq.get('https://www.broadway.com/shows/little-girl-blue/story')\n",
        "grbl2\n",
        "soup101=BeautifulSoup(grbl2.text, 'html.parser')\n",
        "soup101.prettify\n",
        "\n",
        "don2=rq.get('https://www.broadway.com/shows/metropolitan-opera-don-carlo/story')\n",
        "don2\n",
        "soup102=BeautifulSoup(don2.text, 'html.parser')\n",
        "soup102.prettify\n",
        "\n",
        "elek2=rq.get('https://www.broadway.com/shows/metropolitan-opera-elektra/story')\n",
        "elek2\n",
        "soup103=BeautifulSoup(elek2.text, 'html.parser')\n",
        "soup103.prettify\n",
        "\n",
        "mad2=rq.get('https://www.broadway.com/shows/madama-butterfly/story')\n",
        "mad2\n",
        "soup104=BeautifulSoup(mad2.text, 'html.parser')\n",
        "soup104.prettify\n",
        "\n",
        "hamlet2=rq.get('https://www.broadway.com/shows/hamlet-off-broadway/story')\n",
        "hamlet2\n",
        "soup105=BeautifulSoup(hamlet2.text, 'html.parser')\n",
        "soup105.prettify\n",
        "\n",
        "loop2=rq.get('https://www.broadway.com/shows/strange-loop/story')\n",
        "loop2\n",
        "soup106=BeautifulSoup(loop2.text, 'html.parser')\n",
        "soup106.prettify\n",
        "\n",
        "bb2=rq.get('https://www.broadway.com/shows/beauty-and-the-beast/story')\n",
        "bb2\n",
        "soup107=BeautifulSoup(bb2.text, 'html.parser')\n",
        "soup107.prettify\n",
        "\n",
        "lines2=rq.get('https://www.broadway.com/shows/between-lines/story')\n",
        "lines2\n",
        "soup108=BeautifulSoup(lines2.text, 'html.parser')\n",
        "soup108.prettify\n",
        "\n",
        "once2=rq.get('https://www.broadway.com/shows/once-upon-one-more-time/story')\n",
        "once2\n",
        "soup109=BeautifulSoup(once2.text, 'html.parser')\n",
        "soup109.prettify\n",
        "\n",
        "rock2=rq.get('https://www.broadway.com/shows/rock-of-ages/story')\n",
        "rock2\n",
        "soup110=BeautifulSoup(rock2.text, 'html.parser')\n",
        "soup110.prettify\n",
        "\n",
        "sing2=rq.get('https://www.broadway.com/shows/sing-street/story')\n",
        "sing2\n",
        "soup111=BeautifulSoup(sing2.text, 'html.parser')\n",
        "soup111.prettify\n",
        "\n",
        "prada2=rq.get('https://www.broadway.com/shows/devil-wears-prada/story')\n",
        "prada2\n",
        "soup112=BeautifulSoup(prada2.text, 'html.parser')\n",
        "soup112.prettify\n",
        "\n",
        "garden2=rq.get('https://www.broadway.com/shows/secret-garden/story')\n",
        "garden2\n",
        "soup113=BeautifulSoup(garden2.text, 'html.parser')\n",
        "soup113.prettify\n",
        "\n",
        "tina2=rq.get('https://www.broadway.com/shows/tina-tina-turner-musical/story')\n",
        "tina2\n",
        "soup114=BeautifulSoup(tina2.text, 'html.parser')\n",
        "soup114.prettify\n",
        "\n",
        "heat2=rq.get('https://www.broadway.com/shows/heathers/story')\n",
        "heat2\n",
        "soup115=BeautifulSoup(heat2.text, 'html.parser')\n",
        "soup115.prettify"
      ],
      "metadata": {
        "id": "pg7BDBdiMH9k"
      },
      "execution_count": null,
      "outputs": []
    },
    {
      "cell_type": "code",
      "source": [
        "soup75.find_all('p')\n",
        "for x in soup75.find_all('p'):\n",
        "  print(x.text)\n",
        "with open(\"deh_descript.txt\", \"a\") as file:\n",
        "    for x in soup75.find_all('p'):\n",
        "      file.write(x.text)\n",
        "\n",
        "# soup76.find_all('p')\n",
        "# for x in soup76.find_all('p'):\n",
        "#   print(x.text)\n",
        "# with open(\"cfa_descript.txt\", \"a\") as file:\n",
        "#     for x in soup76.find_all('p'):\n",
        "#       file.write(x.text)\n",
        "\n",
        "# soup77.find_all('p')\n",
        "# for x in soup77.find_all('p'):\n",
        "#   print(x.text)\n",
        "# with open(\"lion_descript.txt\", \"a\") as file:\n",
        "#     for x in soup77.find_all('p'):\n",
        "#       file.write(x.text)\n",
        "\n",
        "# soup78.find_all('p')\n",
        "# for x in soup78.find_all('p'):\n",
        "#   print(x.text)\n",
        "# with open(\"bookmor_descript.txt\", \"a\") as file:\n",
        "#     for x in soup78.find_all('p'):\n",
        "#       file.write(x.text)\n",
        "\n",
        "# soup79.find_all('p')\n",
        "# for x in soup79.find_all('p'):\n",
        "#   print(x.text)\n",
        "# with open(\"shophor_descript.txt\", \"a\") as file:\n",
        "#     for x in soup79.find_all('p'):\n",
        "#       file.write(x.text)\n",
        "\n",
        "# soup80.find_all('p')\n",
        "# for x in soup80.find_all('p'):\n",
        "#   print(x.text)\n",
        "# with open(\"jb_descript.txt\", \"a\") as file:\n",
        "#     for x in soup80.find_all('p'):\n",
        "#       file.write(x.text)\n",
        "\n",
        "# soup81.find_all('p')\n",
        "# for x in soup81.find_all('p'):\n",
        "#   print(x.text)\n",
        "# with open(\"utopia_descript.txt\", \"a\") as file:\n",
        "#     for x in soup81.find_all('p'):\n",
        "#       file.write(x.text)\n",
        "\n",
        "# soup82.find_all('p')\n",
        "# for x in soup82.find_all('p'):\n",
        "#   print(x.text)\n",
        "# with open(\"aladdin_descript.txt\", \"a\") as file:\n",
        "#     for x in soup82.find_all('p'):\n",
        "#       file.write(x.text)\n",
        "\n",
        "# soup83.find_all('p')\n",
        "# for x in soup83.find_all('p'):\n",
        "#   print(x.text)\n",
        "# with open(\"rq_descript.txt\", \"a\") as file:\n",
        "#     for x in soup83.find_all('p'):\n",
        "#       file.write(x.text)\n",
        "\n",
        "# soup84.find_all('p')\n",
        "# for x in soup84.find_all('p'):\n",
        "#   print(x.text)\n",
        "# with open(\"mj_descript.txt\", \"a\") as file:\n",
        "#     for x in soup84.find_all('p'):\n",
        "#       file.write(x.text)\n",
        "\n",
        "# soup85.find_all('p')\n",
        "# for x in soup85.find_all('p'):\n",
        "#   print(x.text)\n",
        "# with open(\"rig_descript.txt\", \"a\") as file:\n",
        "#     for x in soup85.find_all('p'):\n",
        "#       file.write(x.text)\n",
        "\n",
        "# soup86.find_all('p')\n",
        "# for x in soup86.find_all('p'):\n",
        "#   print(x.text)\n",
        "# with open(\"mrs_descript.txt\", \"a\") as file:\n",
        "#     for x in soup86.find_all('p'):\n",
        "#       file.write(x.text)\n",
        "\n",
        "# soup87.find_all('div',attrs={'class':'rspOverview__copy'})\n",
        "# for x in soup87.find_all('div',attrs={'class':'rspOverview__copy'}):\n",
        "#   print(x.text)\n",
        "# with open(\"act_descript.txt\", \"a\") as file:\n",
        "#     for x in soup87.find_all('div',attrs={'class':'rspOverview__copy'}):\n",
        "#       file.write(x.text)\n",
        "\n",
        "# soup88.find_all('p')\n",
        "# for x in soup88.find_all('p'):\n",
        "#   print(x.text)\n",
        "# with open(\"appar_descript.txt\", \"a\") as file:\n",
        "#     for x in soup88.find_all('p'):\n",
        "#       file.write(x.text)\n",
        "\n",
        "# soup89.find_all('p')\n",
        "# for x in soup89.find_all('p'):\n",
        "#   print(x.text)\n",
        "# with open(\"office_descript.txt\", \"a\") as file:\n",
        "#     for x in soup89.find_all('p'):\n",
        "#       file.write(x.text)\n",
        "\n",
        "# soup90.find_all('p')\n",
        "# for x in soup90.find_all('p'):\n",
        "#   print(x.text)\n",
        "# with open(\"tosca_descript.txt\", \"a\") as file:\n",
        "#     for x in soup90.find_all('p'):\n",
        "#       file.write(x.text)\n",
        "\n",
        "# soup91.find_all('p')\n",
        "# for x in soup91.find_all('p'):\n",
        "#   print(x.text)\n",
        "# with open(\"tur_descript.txt\", \"a\") as file:\n",
        "#     for x in soup91.find_all('p'):\n",
        "#       file.write(x.text)\n",
        "\n",
        "# soup92.find_all('p')\n",
        "# for x in soup92.find_all('p'):\n",
        "#   print(x.text)\n",
        "# with open(\"figaro_descript.txt\", \"a\") as file:\n",
        "#     for x in soup92.find_all('p'):\n",
        "#       file.write(x.text)\n",
        "\n",
        "# soup93.find_all('p')\n",
        "# for x in soup93.find_all('p'):\n",
        "#   print(x.text)\n",
        "# with open(\"boh_descript.txt\", \"a\") as file:\n",
        "#     for x in soup93.find_all('p'):\n",
        "#       file.write(x.text)\n",
        "\n",
        "# soup94.find_all('div',attrs={'class':'rspOverview__copy'})\n",
        "# for x in soup94.find_all('div',attrs={'class':'rspOverview__copy'}):\n",
        "#   print(x.text)\n",
        "# with open(\"mancha_descript.txt\", \"a\") as file:\n",
        "#     for x in soup94.find_all('div',attrs={'class':'rspOverview__copy'}):\n",
        "#       file.write(x.text)\n",
        "\n",
        "# soup95.find_all('p')\n",
        "# for x in soup95.find_all('p'):\n",
        "#   print(x.text)\n",
        "# with open(\"sq_descript.txt\", \"a\") as file:\n",
        "#     for x in soup95.find_all('p'):\n",
        "#       file.write(x.text)\n",
        "\n",
        "# soup96.find_all('p')\n",
        "# for x in soup96.find_all('p'):\n",
        "#   print(x.text)\n",
        "# with open(\"woods_descript.txt\", \"a\") as file:\n",
        "#     for x in soup96.find_all('p'):\n",
        "#       file.write(x.text)\n",
        "\n",
        "# soup97.find_all('p')\n",
        "# for x in soup97.find_all('p'):\n",
        "#   print(x.text)\n",
        "# with open(\"ed_descript.txt\", \"a\") as file:\n",
        "#     for x in soup97.find_all('p'):\n",
        "#       file.write(x.text)\n",
        "\n",
        "# soup98.find_all('p')\n",
        "# for x in soup98.find_all('p'):\n",
        "#   print(x.text)\n",
        "# with open(\"funny_descript.txt\", \"a\") as file:\n",
        "#     for x in soup98.find_all('p'):\n",
        "#       file.write(x.text)\n",
        "\n",
        "# soup99.find_all('p')\n",
        "# for x in soup99.find_all('p'):\n",
        "#   print(x.text)\n",
        "# with open(\"sat_descript.txt\", \"a\") as file:\n",
        "#     for x in soup99.find_all('p'):\n",
        "#       file.write(x.text)\n",
        "\n",
        "# soup100.find_all('p')\n",
        "# for x in soup100.find_all('p'):\n",
        "#   print(x.text)\n",
        "# with open(\"prince_descript.txt\", \"a\") as file:\n",
        "#     for x in soup100.find_all('p'):\n",
        "#       file.write(x.text)\n",
        "      \n",
        "# soup101.find_all('p')\n",
        "# for x in soup101.find_all('p'):\n",
        "#   print(x.text)\n",
        "# with open(\"grbl_descript.txt\", \"a\") as file:\n",
        "#     for x in soup101.find_all('p'):\n",
        "#       file.write(x.text)\n",
        "\n",
        "# soup102.find_all('p')\n",
        "# for x in soup102.find_all('p'):\n",
        "#   print(x.text)\n",
        "# with open(\"don_descript.txt\", \"a\") as file:\n",
        "#     for x in soup102.find_all('p'):\n",
        "#       file.write(x.text)\n",
        "\n",
        "# soup103.find_all('p')\n",
        "# for x in soup103.find_all('p'):\n",
        "#   print(x.text)\n",
        "# with open(\"elek_descript.txt\", \"a\") as file:\n",
        "#     for x in soup103.find_all('p'):\n",
        "#       file.write(x.text)\n",
        "\n",
        "# soup104.find_all('p')\n",
        "# for x in soup104.find_all('p'):\n",
        "#   print(x.text)\n",
        "# with open(\"mad_descript.txt\", \"a\") as file:\n",
        "#     for x in soup104.find_all('p'):\n",
        "#       file.write(x.text)\n",
        "\n",
        "# soup105.find_all('div',attrs={'class':'rspOverview__copy'})\n",
        "# for x in soup105.find_all('div',attrs={'class':'rspOverview__copy'}):\n",
        "#   print(x.text)\n",
        "# with open(\"hamlet_descript.txt\", \"a\") as file:\n",
        "#     for x in soup105.find_all('div',attrs={'class':'rspOverview__copy'}):\n",
        "#       file.write(x.text)\n",
        "\n",
        "# soup106.find_all('p')\n",
        "# for x in soup106.find_all('p'):\n",
        "#   print(x.text)\n",
        "# with open(\"loop_descript.txt\", \"a\") as file:\n",
        "#     for x in soup106.find_all('p'):\n",
        "#       file.write(x.text)\n",
        "\n",
        "# soup107.find_all('div',attrs={'class':'rspOverview__copy'})\n",
        "# for x in soup107.find_all('div',attrs={'class':'rspOverview__copy'}):\n",
        "#   print(x.text)\n",
        "# with open(\"bb_descript.txt\", \"a\") as file:\n",
        "#     for x in soup107.find_all('div',attrs={'class':'rspOverview__copy'}):\n",
        "#       file.write(x.text)\n",
        "\n",
        "# soup108.find_all('p')\n",
        "# for x in soup108.find_all('p'):\n",
        "#   print(x.text)\n",
        "# with open(\"lines_descript.txt\", \"a\") as file:\n",
        "#     for x in soup108.find_all('p'):\n",
        "#       file.write(x.text)\n",
        "\n",
        "# soup109.find_all('p')\n",
        "# for x in soup109.find_all('p'):\n",
        "#   print(x.text)\n",
        "# with open(\"once_descript.txt\", \"a\") as file:\n",
        "#     for x in soup109.find_all('p'):\n",
        "#       file.write(x.text)\n",
        "\n",
        "# soup110.find_all('p')\n",
        "# for x in soup110.find_all('p'):\n",
        "#   print(x.text)\n",
        "# with open(\"rock_descript.txt\", \"a\") as file:\n",
        "#     for x in soup110.find_all('p'):\n",
        "#       file.write(x.text)\n",
        "\n",
        "# soup111.find_all('p')\n",
        "# for x in soup111.find_all('p'):\n",
        "#   print(x.text)\n",
        "# with open(\"sing_descript.txt\", \"a\") as file:\n",
        "#     for x in soup111.find_all('p'):\n",
        "#       file.write(x.text)\n",
        "\n",
        "# soup112.find_all('p')\n",
        "# for x in soup112.find_all('p'):\n",
        "#   print(x.text)\n",
        "# with open(\"prada_descript.txt\", \"a\") as file:\n",
        "#     for x in soup112.find_all('p'):\n",
        "#       file.write(x.text)\n",
        "\n",
        "# soup113.find_all('p')\n",
        "# for x in soup113.find_all('p'):\n",
        "#   print(x.text)\n",
        "# with open(\"garden_descript.txt\", \"a\") as file:\n",
        "#     for x in soup113.find_all('p'):\n",
        "#       file.write(x.text)\n",
        "\n",
        "# soup114.find_all('p')\n",
        "# for x in soup114.find_all('p'):\n",
        "#   print(x.text)\n",
        "# with open(\"tina_descript.txt\", \"a\") as file:\n",
        "#     for x in soup114.find_all('p'):\n",
        "#       file.write(x.text)\n",
        "\n",
        "# soup115.find_all('p')\n",
        "# for x in soup115.find_all('p'):\n",
        "#   print(x.text)\n",
        "# with open(\"heat_descript.txt\", \"a\") as file:\n",
        "#     for x in soup115.find_all('p'):\n",
        "#       file.write(x.text)"
      ],
      "metadata": {
        "colab": {
          "base_uri": "https://localhost:8080/"
        },
        "id": "Ym0Gx0gJiek7",
        "outputId": "5edfb7fa-885b-458a-dd05-719151ccc7e5"
      },
      "execution_count": null,
      "outputs": [
        {
          "output_type": "stream",
          "name": "stdout",
          "text": [
            "A letter that was never meant to be seen, a lie that was never meant to be told, a life he never dreamed he could have. Evan Hansen is about to get the one thing he’s always wanted: A chance to finally fit in.\n",
            "\r\n",
            "Both deeply personal and profoundly contemporary, Dear Evan Hansen is the new American musical about life and the way we live it.\n"
          ]
        }
      ]
    },
    {
      "cell_type": "code",
      "source": [
        "deh3=rq.get('https://www.show-score.com/broadway-shows/dear-evan-hansen')\n",
        "deh3\n",
        "soup116=BeautifulSoup(deh3.text, 'html.parser')\n",
        "soup116.prettify\n",
        "\n",
        "cfa3=rq.get('https://www.show-score.com/broadway-shows/come-from-away')\n",
        "cfa3\n",
        "soup117=BeautifulSoup(cfa3.text, 'html.parser')\n",
        "soup117.prettify\n",
        "\n",
        "lion3=rq.get('https://www.show-score.com/broadway-shows/the-lion-king')\n",
        "lion3\n",
        "soup118=BeautifulSoup(lion3.text, 'html.parser')\n",
        "soup118.prettify\n",
        "\n",
        "bookmor3=rq.get('https://www.show-score.com/broadway-shows/the-book-of-mormon')\n",
        "bookmor3\n",
        "soup119=BeautifulSoup(bookmor3.text, 'html.parser')\n",
        "soup119.prettify\n",
        "\n",
        "shophor3=rq.get('https://www.show-score.com/off-broadway-shows/little-shop-of-horrors-westside-theatre')\n",
        "shophor3\n",
        "soup120=BeautifulSoup(shophor3.text, 'html.parser')\n",
        "soup120.prettify\n",
        "\n",
        "jb3=rq.get('https://www.show-score.com/off-broadway-shows/jersey-boys')\n",
        "jb3\n",
        "soup121=BeautifulSoup(jb3.text, 'html.parser')\n",
        "soup121.prettify\n",
        "\n",
        "utopia3=rq.get('https://www.show-score.com/broadway-shows/david-byrne-s-american-utopia')\n",
        "utopia3\n",
        "soup122=BeautifulSoup(utopia3.text, 'html.parser')\n",
        "soup122.prettify\n",
        "\n",
        "aladdin3=rq.get('https://www.show-score.com/broadway-shows/aladdin')\n",
        "aladdin3\n",
        "soup123=BeautifulSoup(aladdin3.text, 'html.parser')\n",
        "soup123.prettify\n",
        "\n",
        "stomp3=rq.get('https://www.show-score.com/off-broadway-shows/stomp')\n",
        "stomp3\n",
        "soup124=BeautifulSoup(stomp3.text, 'html.parser')\n",
        "soup124.prettify\n",
        "\n",
        "mj3=rq.get('https://www.show-score.com/broadway-shows/mj')\n",
        "mj3\n",
        "soup125=BeautifulSoup(mj3.text, 'html.parser')\n",
        "soup125.prettify\n",
        "\n",
        "rig3=rq.get('https://www.show-score.com/off-broadway-shows/rigoletto')\n",
        "rig3\n",
        "soup126=BeautifulSoup(rig3.text, 'html.parser')\n",
        "soup126.prettify\n",
        "\n",
        "mrs3=rq.get('https://www.show-score.com/broadway-shows/mrs-doubtfire')\n",
        "mrs3\n",
        "soup127=BeautifulSoup(mrs3.text, 'html.parser')\n",
        "soup127.prettify\n",
        "\n",
        "act3=rq.get('https://www.show-score.com/off-broadway-shows/a-class-act-j2-spotlight-theatre')\n",
        "act3\n",
        "soup128=BeautifulSoup(act3.text, 'html.parser')\n",
        "soup128.prettify\n",
        "\n",
        "appar3=rq.get('https://www.show-score.com/off-broadway-shows/intimate-apparel')\n",
        "appar3\n",
        "soup129=BeautifulSoup(appar3.text, 'html.parser')\n",
        "soup129.prettify\n",
        "\n",
        "office3=rq.get('https://www.show-score.com/off-broadway-shows/the-office-a-musical-parody')\n",
        "office3\n",
        "soup130=BeautifulSoup(office3.text, 'html.parser')\n",
        "soup130.prettify\n",
        "\n",
        "tosca3=rq.get('https://www.show-score.com/off-broadway-shows/tosca')\n",
        "tosca3\n",
        "soup131=BeautifulSoup(tosca3.text, 'html.parser')\n",
        "soup131.prettify\n",
        "\n",
        "tur3=rq.get('https://www.show-score.com/off-broadway-shows/turandot')\n",
        "tur3\n",
        "soup132=BeautifulSoup(tur3.text, 'html.parser')\n",
        "soup132.prettify\n",
        "\n",
        "figaro3=rq.get('https://www.show-score.com/off-broadway-shows/le-nozze-di-figaro')\n",
        "figaro3\n",
        "soup133=BeautifulSoup(figaro3.text, 'html.parser')\n",
        "soup133.prettify\n",
        "\n",
        "boh3=rq.get('https://www.show-score.com/off-broadway-shows/la-boheme')\n",
        "boh3\n",
        "soup134=BeautifulSoup(boh3.text, 'html.parser')\n",
        "soup134.prettify\n",
        "\n",
        "mancha3=rq.get('https://www.show-score.com/off-broadway-shows/man-of-la-mancha-astoria-performing-arts-center')\n",
        "mancha3\n",
        "soup135=BeautifulSoup(mancha3.text, 'html.parser')\n",
        "soup135.prettify\n",
        "\n",
        "sq3=rq.get('https://www.show-score.com/broadway-shows/paradise-square')\n",
        "sq3\n",
        "soup136=BeautifulSoup(sq3.text, 'html.parser')\n",
        "soup136.prettify\n",
        "\n",
        "woods3=rq.get('https://www.show-score.com/off-broadway-shows/into-the-woods-new-york-city-center')\n",
        "woods3\n",
        "soup137=BeautifulSoup(woods3.text, 'html.parser')\n",
        "soup137.prettify\n",
        "\n",
        "ed3=rq.get('https://www.show-score.com/theatre-shows/the-mystery-of-edwin-drood')\n",
        "ed3\n",
        "soup138=BeautifulSoup(ed3.text, 'html.parser')\n",
        "soup138.prettify\n",
        "\n",
        "funny3=rq.get('https://www.show-score.com/broadway-shows/funny-girl')\n",
        "funny3\n",
        "soup139=BeautifulSoup(funny3.text, 'html.parser')\n",
        "soup139.prettify\n",
        "\n",
        "sat3=rq.get('https://www.show-score.com/broadway-shows/mr-saturday-night')\n",
        "sat3\n",
        "soup140=BeautifulSoup(sat3.text, 'html.parser')\n",
        "soup140.prettify\n",
        "\n",
        "prince3=rq.get('https://www.show-score.com/broadway-shows/the-little-prince-broadway')\n",
        "prince3\n",
        "soup141=BeautifulSoup(prince3.text, 'html.parser')\n",
        "soup141.prettify\n",
        "\n",
        "grbl3=rq.get('https://www.show-score.com/off-broadway-shows/little-girl-blue')\n",
        "grbl3\n",
        "soup142=BeautifulSoup(grbl3.text, 'html.parser')\n",
        "soup142.prettify\n",
        "\n",
        "don3=rq.get('https://www.show-score.com/off-broadway-shows/don-carlos')\n",
        "don3\n",
        "soup143=BeautifulSoup(don3.text, 'html.parser')\n",
        "soup143.prettify\n",
        "\n",
        "elek3=rq.get('https://www.show-score.com/off-broadway-shows/elektra')\n",
        "elek3\n",
        "soup144=BeautifulSoup(elek3.text, 'html.parser')\n",
        "soup144.prettify\n",
        "\n",
        "mad3=rq.get('https://www.show-score.com/off-broadway-shows/madama-butterfly')\n",
        "mad3\n",
        "soup145=BeautifulSoup(mad3.text, 'html.parser')\n",
        "soup145.prettify\n",
        "\n",
        "hamlet3=rq.get('https://www.show-score.com/off-broadway-shows/hamlet-the-metropolitan-opera')\n",
        "hamlet3\n",
        "soup146=BeautifulSoup(hamlet3.text, 'html.parser')\n",
        "soup146.prettify\n",
        "\n",
        "loop3=rq.get('https://www.show-score.com/broadway-shows/a-strange-loop-broadway')\n",
        "loop3\n",
        "soup147=BeautifulSoup(loop3.text, 'html.parser')\n",
        "soup147.prettify\n",
        "\n",
        "bb3=rq.get('https://www.show-score.com/off-broadway-shows/beauty-and-the-beast-the-musical-the-players-theatre')\n",
        "bb3\n",
        "soup148=BeautifulSoup(bb3.text, 'html.parser')\n",
        "soup148.prettify\n",
        "\n",
        "lines3=rq.get('https://www.broadway.com/shows/between-lines')\n",
        "lines3\n",
        "soup149=BeautifulSoup(lines3.text, 'html.parser')\n",
        "soup149.prettify\n",
        "\n",
        "once3=rq.get('https://www.broadway.com/shows/once-upon-one-more-time')\n",
        "once3\n",
        "soup150=BeautifulSoup(once3.text, 'html.parser')\n",
        "soup150.prettify\n",
        "\n",
        "rock3=rq.get('https://www.show-score.com/off-broadway-shows/rock-of-ages')\n",
        "rock3\n",
        "soup151=BeautifulSoup(rock3.text, 'html.parser')\n",
        "soup151.prettify\n",
        "\n",
        "sing3=rq.get('https://www.show-score.com/off-broadway-shows/sing-street')\n",
        "sing3\n",
        "soup152=BeautifulSoup(sing3.text, 'html.parser')\n",
        "soup152.prettify\n",
        "\n",
        "prada3=rq.get('https://www.broadway.com/shows/devil-wears-prada')\n",
        "prada3\n",
        "soup153=BeautifulSoup(prada3.text, 'html.parser')\n",
        "soup153.prettify\n",
        "\n",
        "garden3=rq.get('https://www.broadway.com/shows/secret-garden')\n",
        "garden3\n",
        "soup154=BeautifulSoup(garden3.text, 'html.parser')\n",
        "soup154.prettify\n",
        "\n",
        "tina3=rq.get('https://www.show-score.com/broadway-shows/tina-the-tina-turner-musical')\n",
        "tina3\n",
        "soup155=BeautifulSoup(tina3.text, 'html.parser')\n",
        "soup155.prettify\n",
        "\n",
        "heat3=rq.get('https://www.broadway.com/shows/heathers')\n",
        "heat3\n",
        "soup156=BeautifulSoup(heat3.text, 'html.parser')\n",
        "soup156.prettify"
      ],
      "metadata": {
        "id": "3h5ZC8cYjP7d"
      },
      "execution_count": null,
      "outputs": []
    },
    {
      "cell_type": "code",
      "source": [
        "# soup116.find_all('div',attrs={'class':'show-page-v2__title'})\n",
        "# for y in soup116.find_all('div',attrs={'class':'show-page-v2__title'}):\n",
        "#   print(y.text)\n",
        "# with open(\"deh_name.txt\", \"a\") as file:\n",
        "#     for y in soup116.find_all('div',attrs={'class':'show-page-v2__title'}):\n",
        "#         file.write(y.text)\n",
        "# for z in soup116.find_all('div',attrs={'class':'show-page-v2__rating-bars-title'}):\n",
        "#   print(z.text)\n",
        "# with open(\"deh_rate.txt\", \"a\") as file:\n",
        "#     for z in soup116.find_all('div',attrs={'class':'show-page-v2__rating-bars-title'}):\n",
        "#         file.write(z.text)\n",
        "\n",
        "# soup117.find_all('div',attrs={'class':'show-page-v2__title'})\n",
        "# for y in soup117.find_all('div',attrs={'class':'show-page-v2__title'}):\n",
        "#   print(y.text)\n",
        "# with open(\"cfa_name.txt\", \"a\") as file:\n",
        "#     for y in soup117.find_all('div',attrs={'class':'show-page-v2__title'}):\n",
        "#         file.write(y.text)\n",
        "# for z in soup117.find_all('div',attrs={'class':'show-page-v2__rating-bars-title'}):\n",
        "#   print(z.text)\n",
        "# with open(\"cfa_rate.txt\", \"a\") as file:\n",
        "#     for z in soup117.find_all('div',attrs={'class':'show-page-v2__rating-bars-title'}):\n",
        "#         file.write(z.text)\n",
        "\n",
        "# soup118.find_all('div',attrs={'class':'show-page-v2__title'})       \n",
        "# for y in soup118.find_all('div',attrs={'class':'show-page-v2__title'}):\n",
        "#   print(y.text)\n",
        "# with open(\"lion_name.txt\", \"a\") as file:\n",
        "#     for y in soup118.find_all('div',attrs={'class':'show-page-v2__title'}):\n",
        "#         file.write(y.text)\n",
        "# for z in soup118.find_all('div',attrs={'class':'show-page-v2__rating-bars-title'}):\n",
        "#   print(z.text)\n",
        "# with open(\"lion_rate.txt\", \"a\") as file:\n",
        "#     for z in soup118.find_all('div',attrs={'class':'show-page-v2__rating-bars-title'}):\n",
        "#         file.write(z.text)\n",
        "\n",
        "# soup119.find_all('div',attrs={'class':'show-page-v2__title'})        \n",
        "# for y in soup119.find_all('div',attrs={'class':'show-page-v2__title'}):\n",
        "#   print(y.text)\n",
        "# with open(\"bookmor_name.txt\", \"a\") as file:\n",
        "#     for y in soup119.find_all('div',attrs={'class':'show-page-v2__title'}):\n",
        "#         file.write(y.text)\n",
        "# for z in soup119.find_all('div',attrs={'class':'show-page-v2__rating-bars-title'}):\n",
        "#   print(z.text)\n",
        "# with open(\"bookmor_rate.txt\", \"a\") as file:\n",
        "#     for z in soup119.find_all('div',attrs={'class':'show-page-v2__rating-bars-title'}):\n",
        "#         file.write(z.text)\n",
        "\n",
        "# soup120.find_all('div',attrs={'class':'show-page-v2__title'})        \n",
        "# for y in soup120.find_all('div',attrs={'class':'show-page-v2__title'}):\n",
        "#   print(y.text)\n",
        "# with open(\"shophor_name.txt\", \"a\") as file:\n",
        "#     for y in soup120.find_all('div',attrs={'class':'show-page-v2__title'}):\n",
        "#         file.write(y.text)\n",
        "# for z in soup120.find_all('div',attrs={'class':'show-page-v2__rating-bars-title'}):\n",
        "#   print(z.text)\n",
        "# with open(\"shophor_rate.txt\", \"a\") as file:\n",
        "#     for z in soup120.find_all('div',attrs={'class':'show-page-v2__rating-bars-title'}):\n",
        "#         file.write(z.text)\n",
        "\n",
        "# soup121.find_all('div',attrs={'class':'show-page-v2__title'}) \n",
        "# for y in soup121.find_all('div',attrs={'class':'show-page-v2__title'}):\n",
        "#   print(y.text)\n",
        "# with open(\"jb_name.txt\", \"a\") as file:\n",
        "#     for y in soup121.find_all('div',attrs={'class':'show-page-v2__title'}):\n",
        "#         file.write(y.text)\n",
        "# for z in soup121.find_all('div',attrs={'class':'show-page-v2__rating-bars-title'}):\n",
        "#   print(z.text)\n",
        "# with open(\"jb_rate.txt\", \"a\") as file:\n",
        "#     for z in soup121.find_all('div',attrs={'class':'show-page-v2__rating-bars-title'}):\n",
        "#         file.write(z.text)\n",
        "       \n",
        "# soup122.find_all('div',attrs={'class':'show-page-v2__title'})\n",
        "# for y in soup122.find_all('div',attrs={'class':'show-page-v2__title'}):\n",
        "#   print(y.text)\n",
        "# with open(\"utopia_name.txt\", \"a\") as file:\n",
        "#     for y in soup122.find_all('div',attrs={'class':'show-page-v2__title'}):\n",
        "#         file.write(y.text)\n",
        "# for z in soup122.find_all('div',attrs={'class':'show-page-v2__rating-bars-title'}):\n",
        "#   print(z.text)\n",
        "# with open(\"utopia_rate.txt\", \"a\") as file:\n",
        "#     for z in soup122.find_all('div',attrs={'class':'show-page-v2__rating-bars-title'}):\n",
        "#         file.write(z.text)\n",
        "                \n",
        "# soup123.find_all('div',attrs={'class':'show-page-v2__title'})\n",
        "# for y in soup123.find_all('div',attrs={'class':'show-page-v2__title'}):\n",
        "#   print(y.text)\n",
        "# with open(\"aladdin_name.txt\", \"a\") as file:\n",
        "#     for y in soup123.find_all('div',attrs={'class':'show-page-v2__title'}):\n",
        "#         file.write(y.text)\n",
        "# for z in soup123.find_all('div',attrs={'class':'show-page-v2__rating-bars-title'}):\n",
        "#   print(z.text)\n",
        "# with open(\"aladdin_rate.txt\", \"a\") as file:\n",
        "#     for z in soup123.find_all('div',attrs={'class':'show-page-v2__rating-bars-title'}):\n",
        "#         file.write(z.text)\n",
        "               \n",
        "# soup124.find_all('div',attrs={'class':'show-page-v2__title'})\n",
        "# for y in soup124.find_all('div',attrs={'class':'show-page-v2__title'}):\n",
        "#   print(y.text)\n",
        "# with open(\"stomp_name.txt\", \"a\") as file:\n",
        "#     for y in soup124.find_all('div',attrs={'class':'show-page-v2__title'}):\n",
        "#         file.write(y.text)\n",
        "# for z in soup124.find_all('div',attrs={'class':'show-page-v2__rating-bars-title'}):\n",
        "#   print(z.text)\n",
        "# with open(\"stomp_rate.txt\", \"a\") as file:\n",
        "#     for z in soup124.find_all('div',attrs={'class':'show-page-v2__rating-bars-title'}):\n",
        "#         file.write(z.text)\n",
        "               \n",
        "# soup125.find_all('div',attrs={'class':'show-page-v2__title'}) \n",
        "# for y in soup125.find_all('div',attrs={'class':'show-page-v2__title'}):\n",
        "#   print(y.text)\n",
        "# with open(\"mj_name.txt\", \"a\") as file:\n",
        "#     for y in soup125.find_all('div',attrs={'class':'show-page-v2__title'}):\n",
        "#         file.write(y.text)\n",
        "# for z in soup125.find_all('div',attrs={'class':'show-page-v2__rating-bars-title'}):\n",
        "#   print(z.text)\n",
        "# with open(\"mj_rate.txt\", \"a\") as file:\n",
        "#     for z in soup125.find_all('div',attrs={'class':'show-page-v2__rating-bars-title'}):\n",
        "#         file.write(z.text)\n",
        "                \n",
        "# soup126.find_all('div',attrs={'class':'show-page-v2__title'})\n",
        "# for y in soup126.find_all('div',attrs={'class':'show-page-v2__title'}):\n",
        "#   print(y.text)\n",
        "# with open(\"rig_name.txt\", \"a\") as file:\n",
        "#     for y in soup126.find_all('div',attrs={'class':'show-page-v2__title'}):\n",
        "#         file.write(y.text)\n",
        "# for z in soup126.find_all('div',attrs={'class':'show-page-v2__rating-bars-title'}):\n",
        "#   print(z.text)\n",
        "# with open(\"rig_rate.txt\", \"a\") as file:\n",
        "#     for z in soup126.find_all('div',attrs={'class':'show-page-v2__rating-bars-title'}):\n",
        "#         file.write(z.text)\n",
        "               \n",
        "# soup127.find_all('div',attrs={'class':'show-page-v2__title'})\n",
        "# for y in soup127.find_all('div',attrs={'class':'show-page-v2__title'}):\n",
        "#   print(y.text)\n",
        "# with open(\"mrs_name.txt\", \"a\") as file:\n",
        "#     for y in soup127.find_all('div',attrs={'class':'show-page-v2__title'}):\n",
        "#         file.write(y.text)\n",
        "# for z in soup127.find_all('div',attrs={'class':'show-page-v2__rating-bars-title'}):\n",
        "#   print(z.text)\n",
        "# with open(\"mrs_rate.txt\", \"a\") as file:\n",
        "#     for z in soup127.find_all('div',attrs={'class':'show-page-v2__rating-bars-title'}):\n",
        "#         file.write(z.text)\n",
        "               \n",
        "# soup128.find_all('div',attrs={'class':'show-page-v2__title'})\n",
        "# for y in soup128.find_all('div',attrs={'class':'show-page-v2__title'}):\n",
        "#   print(y.text)\n",
        "# with open(\"act_name.txt\", \"a\") as file:\n",
        "#     for y in soup128.find_all('div',attrs={'class':'show-page-v2__title'}):\n",
        "#         file.write(y.text)\n",
        "# for z in soup128.find_all('div',attrs={'class':'show-page-v2__rating-bars-title'}):\n",
        "#   print(z.text)\n",
        "# with open(\"act_rate.txt\", \"a\") as file:\n",
        "#     for z in soup128.find_all('div',attrs={'class':'show-page-v2__rating-bars-title'}):\n",
        "#         file.write(z.text)\n",
        "                \n",
        "# soup129.find_all('div',attrs={'class':'show-page-v2__title'})\n",
        "# for y in soup129.find_all('div',attrs={'class':'show-page-v2__title'}):\n",
        "#   print(y.text)\n",
        "# with open(\"appar_name.txt\", \"a\") as file:\n",
        "#     for y in soup129.find_all('div',attrs={'class':'show-page-v2__title'}):\n",
        "#         file.write(y.text)\n",
        "# for z in soup129.find_all('div',attrs={'class':'show-page-v2__rating-bars-title'}):\n",
        "#   print(z.text)\n",
        "# with open(\"appar_rate.txt\", \"a\") as file:\n",
        "#     for z in soup129.find_all('div',attrs={'class':'show-page-v2__rating-bars-title'}):\n",
        "#         file.write(z.text)\n",
        "                \n",
        "# soup130.find_all('div',attrs={'class':'show-page-v2__title'})\n",
        "# for y in soup130.find_all('div',attrs={'class':'show-page-v2__title'}):\n",
        "#   print(y.text)\n",
        "# with open(\"office_name.txt\", \"a\") as file:\n",
        "#     for y in soup130.find_all('div',attrs={'class':'show-page-v2__title'}):\n",
        "#         file.write(y.text)\n",
        "# for z in soup130.find_all('div',attrs={'class':'show-page-v2__rating-bars-title'}):\n",
        "#   print(z.text)\n",
        "# with open(\"office_rate.txt\", \"a\") as file:\n",
        "#     for z in soup130.find_all('div',attrs={'class':'show-page-v2__rating-bars-title'}):\n",
        "#         file.write(z.text)\n",
        "              \n",
        "# soup131.find_all('div',attrs={'class':'show-page-v2__title'})  \n",
        "# for y in soup131.find_all('div',attrs={'class':'show-page-v2__title'}):\n",
        "#   print(y.text)\n",
        "# with open(\"tosca_name.txt\", \"a\") as file:\n",
        "#     for y in soup131.find_all('div',attrs={'class':'show-page-v2__title'}):\n",
        "#         file.write(y.text)\n",
        "# for z in soup131.find_all('div',attrs={'class':'show-page-v2__rating-bars-title'}):\n",
        "#   print(z.text)\n",
        "# with open(\"tosca_rate.txt\", \"a\") as file:\n",
        "#     for z in soup131.find_all('div',attrs={'class':'show-page-v2__rating-bars-title'}):\n",
        "#         file.write(z.text)\n",
        "             \n",
        "# soup132.find_all('div',attrs={'class':'show-page-v2__title'})   \n",
        "# for y in soup132.find_all('div',attrs={'class':'show-page-v2__title'}):\n",
        "#   print(y.text)\n",
        "# with open(\"tur_name.txt\", \"a\") as file:\n",
        "#     for y in soup132.find_all('div',attrs={'class':'show-page-v2__title'}):\n",
        "#         file.write(y.text)\n",
        "# for z in soup132.find_all('div',attrs={'class':'show-page-v2__rating-bars-title'}):\n",
        "#   print(z.text)\n",
        "# with open(\"tur_rate.txt\", \"a\") as file:\n",
        "#     for z in soup132.find_all('div',attrs={'class':'show-page-v2__rating-bars-title'}):\n",
        "#         file.write(z.text)\n",
        "             \n",
        "# soup133.find_all('div',attrs={'class':'show-page-v2__title'})   \n",
        "# for y in soup133.find_all('div',attrs={'class':'show-page-v2__title'}):\n",
        "#   print(y.text)\n",
        "# with open(\"figaro_name.txt\", \"a\") as file:\n",
        "#     for y in soup133.find_all('div',attrs={'class':'show-page-v2__title'}):\n",
        "#         file.write(y.text)\n",
        "# for z in soup133.find_all('div',attrs={'class':'show-page-v2__rating-bars-title'}):\n",
        "#   print(z.text)\n",
        "# with open(\"figaro_rate.txt\", \"a\") as file:\n",
        "#     for z in soup133.find_all('div',attrs={'class':'show-page-v2__rating-bars-title'}):\n",
        "#         file.write(z.text)\n",
        "             \n",
        "# soup134.find_all('div',attrs={'class':'show-page-v2__title'})   \n",
        "# for y in soup134.find_all('div',attrs={'class':'show-page-v2__title'}):\n",
        "#   print(y.text)\n",
        "# with open(\"boh_name.txt\", \"a\") as file:\n",
        "#     for y in soup134.find_all('div',attrs={'class':'show-page-v2__title'}):\n",
        "#         file.write(y.text)\n",
        "# for z in soup134.find_all('div',attrs={'class':'show-page-v2__rating-bars-title'}):\n",
        "#   print(z.text)\n",
        "# with open(\"boh_rate.txt\", \"a\") as file:\n",
        "#     for z in soup134.find_all('div',attrs={'class':'show-page-v2__rating-bars-title'}):\n",
        "#         file.write(z.text)\n",
        "               \n",
        "# soup135.find_all('div',attrs={'class':'show-page-v2__title'}) \n",
        "# for y in soup135.find_all('div',attrs={'class':'show-page-v2__title'}):\n",
        "#   print(y.text)\n",
        "# with open(\"mancha_name.txt\", \"a\") as file:\n",
        "#     for y in soup135.find_all('div',attrs={'class':'show-page-v2__title'}):\n",
        "#         file.write(y.text)\n",
        "# for z in soup135.find_all('div',attrs={'class':'show-page-v2__rating-bars-title'}):\n",
        "#   print(z.text)\n",
        "# with open(\"mancha_rate.txt\", \"a\") as file:\n",
        "#     for z in soup135.find_all('div',attrs={'class':'show-page-v2__rating-bars-title'}):\n",
        "#         file.write(z.text)\n",
        "           \n",
        "# soup136.find_all('div',attrs={'class':'show-page-v2__title'})    \n",
        "# for y in soup136.find_all('div',attrs={'class':'show-page-v2__title'}):\n",
        "#   print(y.text)\n",
        "# with open(\"sq_name.txt\", \"a\") as file:\n",
        "#     for y in soup136.find_all('div',attrs={'class':'show-page-v2__title'}):\n",
        "#         file.write(y.text)\n",
        "# for z in soup136.find_all('div',attrs={'class':'show-page-v2__rating-bars-title'}):\n",
        "#   print(z.text)\n",
        "# with open(\"sq_rate.txt\", \"a\") as file:\n",
        "#     for z in soup136.find_all('div',attrs={'class':'show-page-v2__rating-bars-title'}):\n",
        "#         file.write(z.text)\n",
        "            \n",
        "# soup137.find_all('div',attrs={'class':'show-page-v2__title'})    \n",
        "# for y in soup137.find_all('div',attrs={'class':'show-page-v2__title'}):\n",
        "#   print(y.text)\n",
        "# with open(\"woods_name.txt\", \"a\") as file:\n",
        "#     for y in soup137.find_all('div',attrs={'class':'show-page-v2__title'}):\n",
        "#         file.write(y.text)\n",
        "# for z in soup137.find_all('div',attrs={'class':'show-page-v2__rating-bars-title'}):\n",
        "#   print(z.text)\n",
        "# with open(\"woods_rate.txt\", \"a\") as file:\n",
        "#     for z in soup137.find_all('div',attrs={'class':'show-page-v2__rating-bars-title'}):\n",
        "#         file.write(z.text)\n",
        "            \n",
        "# soup138.find_all('div',attrs={'class':'show-page-v2__title'})   \n",
        "# for y in soup138.find_all('div',attrs={'class':'show-page-v2__title'}):\n",
        "#   print(y.text)\n",
        "# with open(\"ed_name.txt\", \"a\") as file:\n",
        "#     for y in soup138.find_all('div',attrs={'class':'show-page-v2__title'}):\n",
        "#         file.write(y.text)\n",
        "# for z in soup138.find_all('div',attrs={'class':'show-page-v2__rating-bars-title'}):\n",
        "#   print(z.text)\n",
        "# with open(\"ed_rate.txt\", \"a\") as file:\n",
        "#     for z in soup138.find_all('div',attrs={'class':'show-page-v2__rating-bars-title'}):\n",
        "#         file.write(z.text)\n",
        "             \n",
        "# soup139.find_all('div',attrs={'class':'show-page-v2__title'})  \n",
        "# for y in soup139.find_all('div',attrs={'class':'show-page-v2__title'}):\n",
        "#   print(y.text)\n",
        "# with open(\"funny_name.txt\", \"a\") as file:\n",
        "#     for y in soup139.find_all('div',attrs={'class':'show-page-v2__title'}):\n",
        "#         file.write(y.text)\n",
        "# for z in soup139.find_all('div',attrs={'class':'show-page-v2__rating-bars-title'}):\n",
        "#   print(z.text)\n",
        "# with open(\"funny_rate.txt\", \"a\") as file:\n",
        "#     for z in soup139.find_all('div',attrs={'class':'show-page-v2__rating-bars-title'}):\n",
        "#         file.write(z.text)\n",
        "\n",
        "# soup140.find_all('div',attrs={'class':'show-page-v2__title'})   \n",
        "# for y in soup140.find_all('div',attrs={'class':'show-page-v2__title'}):\n",
        "#   print(y.text)\n",
        "# with open(\"sat_name.txt\", \"a\") as file:\n",
        "#     for y in soup140.find_all('div',attrs={'class':'show-page-v2__title'}):\n",
        "#         file.write(y.text)\n",
        "# for z in soup140.find_all('div',attrs={'class':'show-page-v2__rating-bars-title'}):\n",
        "#   print(z.text)\n",
        "# with open(\"sat_rate.txt\", \"a\") as file:\n",
        "#     for z in soup140.find_all('div',attrs={'class':'show-page-v2__rating-bars-title'}):\n",
        "#         file.write(z.text)\n",
        "\n",
        "# soup141.find_all('div',attrs={'class':'show-page-v2__title'})  \n",
        "# for y in soup141.find_all('div',attrs={'class':'show-page-v2__title'}):\n",
        "#   print(y.text)\n",
        "# with open(\"prince_name.txt\", \"a\") as file:\n",
        "#     for y in soup141.find_all('div',attrs={'class':'show-page-v2__title'}):\n",
        "#         file.write(y.text)\n",
        "# for z in soup141.find_all('div',attrs={'class':'show-page-v2__rating-bars-title'}):\n",
        "#   print(z.text)\n",
        "# with open(\"prince_rate.txt\", \"a\") as file:\n",
        "#     for z in soup141.find_all('div',attrs={'class':'show-page-v2__rating-bars-title'}):\n",
        "#         file.write(z.text)\n",
        "             \n",
        "# soup142.find_all('div',attrs={'class':'show-page-v2__title'})   \n",
        "# for y in soup142.find_all('div',attrs={'class':'show-page-v2__title'}):\n",
        "#   print(y.text)\n",
        "# with open(\"grbl_name.txt\", \"a\") as file:\n",
        "#     for y in soup142.find_all('div',attrs={'class':'show-page-v2__title'}):\n",
        "#         file.write(y.text)\n",
        "# for z in soup142.find_all('div',attrs={'class':'show-page-v2__rating-bars-title'}):\n",
        "#   print(z.text)\n",
        "# with open(\"grbl_rate.txt\", \"a\") as file:\n",
        "#     for z in soup142.find_all('div',attrs={'class':'show-page-v2__rating-bars-title'}):\n",
        "#         file.write(z.text)\n",
        "               \n",
        "# soup143.find_all('div',attrs={'class':'show-page-v2__title'}) \n",
        "# for y in soup143.find_all('div',attrs={'class':'show-page-v2__title'}):\n",
        "#   print(y.text)\n",
        "# with open(\"don_name.txt\", \"a\") as file:\n",
        "#     for y in soup143.find_all('div',attrs={'class':'show-page-v2__title'}):\n",
        "#         file.write(y.text)\n",
        "# for z in soup143.find_all('div',attrs={'class':'show-page-v2__rating-bars-title'}):\n",
        "#   print(z.text)\n",
        "# with open(\"don_rate.txt\", \"a\") as file:\n",
        "#     for z in soup143.find_all('div',attrs={'class':'show-page-v2__rating-bars-title'}):\n",
        "#         file.write(z.text)\n",
        "                \n",
        "# soup144.find_all('div',attrs={'class':'show-page-v2__title'})\n",
        "# for y in soup144.find_all('div',attrs={'class':'show-page-v2__title'}):\n",
        "#   print(y.text)\n",
        "# with open(\"elek_name.txt\", \"a\") as file:\n",
        "#     for y in soup144.find_all('div',attrs={'class':'show-page-v2__title'}):\n",
        "#         file.write(y.text)\n",
        "# for z in soup144.find_all('div',attrs={'class':'show-page-v2__rating-bars-title'}):\n",
        "#   print(z.text)\n",
        "# with open(\"elek_rate.txt\", \"a\") as file:\n",
        "#     for z in soup144.find_all('div',attrs={'class':'show-page-v2__rating-bars-title'}):\n",
        "#         file.write(z.text)\n",
        "                \n",
        "# soup145.find_all('div',attrs={'class':'show-page-v2__title'})\n",
        "# for y in soup145.find_all('div',attrs={'class':'show-page-v2__title'}):\n",
        "#   print(y.text)\n",
        "# with open(\"mad_name.txt\", \"a\") as file:\n",
        "#     for y in soup145.find_all('div',attrs={'class':'show-page-v2__title'}):\n",
        "#         file.write(y.text)\n",
        "# for z in soup145.find_all('div',attrs={'class':'show-page-v2__rating-bars-title'}):\n",
        "#   print(z.text)\n",
        "# with open(\"mad_rate.txt\", \"a\") as file:\n",
        "#     for z in soup145.find_all('div',attrs={'class':'show-page-v2__rating-bars-title'}):\n",
        "#         file.write(z.text)\n",
        "                \n",
        "# soup146.find_all('div',attrs={'class':'show-page-v2__title'})\n",
        "# for y in soup146.find_all('div',attrs={'class':'show-page-v2__title'}):\n",
        "#   print(y.text)\n",
        "# with open(\"hamlet_name.txt\", \"a\") as file:\n",
        "#     for y in soup146.find_all('div',attrs={'class':'show-page-v2__title'}):\n",
        "#         file.write(y.text)\n",
        "# for z in soup146.find_all('div',attrs={'class':'show-page-v2__rating-bars-title'}):\n",
        "#   print(z.text)\n",
        "# with open(\"hamlet_rate.txt\", \"a\") as file:\n",
        "#     for z in soup146.find_all('div',attrs={'class':'show-page-v2__rating-bars-title'}):\n",
        "#         file.write(z.text)\n",
        "                \n",
        "# soup147.find_all('div',attrs={'class':'show-page-v2__title'})\n",
        "# for y in soup147.find_all('div',attrs={'class':'show-page-v2__title'}):\n",
        "#   print(y.text)\n",
        "# with open(\"loop_name.txt\", \"a\") as file:\n",
        "#     for y in soup147.find_all('div',attrs={'class':'show-page-v2__title'}):\n",
        "#         file.write(y.text)\n",
        "# for z in soup147.find_all('div',attrs={'class':'show-page-v2__rating-bars-title'}):\n",
        "#   print(z.text)\n",
        "# with open(\"loop_rate.txt\", \"a\") as file:\n",
        "#     for z in soup147.find_all('div',attrs={'class':'show-page-v2__rating-bars-title'}):\n",
        "#         file.write(z.text)\n",
        "                \n",
        "# soup148.find_all('div',attrs={'class':'show-page-v2__title'})\n",
        "# for y in soup148.find_all('div',attrs={'class':'show-page-v2__title'}):\n",
        "#   print(y.text)\n",
        "# with open(\"bb_name.txt\", \"a\") as file:\n",
        "#     for y in soup148.find_all('div',attrs={'class':'show-page-v2__title'}):\n",
        "#         file.write(y.text)\n",
        "# for z in soup148.find_all('div',attrs={'class':'show-page-v2__rating-bars-title'}):\n",
        "#   print(z.text)\n",
        "# with open(\"bb_rate.txt\", \"a\") as file:\n",
        "#     for z in soup148.find_all('div',attrs={'class':'show-page-v2__rating-bars-title'}):\n",
        "#         file.write(z.text)\n",
        "         \n",
        "# soup151.find_all('div',attrs={'class':'show-page-v2__title'})\n",
        "# for y in soup151.find_all('div',attrs={'class':'show-page-v2__title'}):\n",
        "#   print(y.text)\n",
        "# with open(\"rock_name.txt\", \"a\") as file:\n",
        "#     for y in soup151.find_all('div',attrs={'class':'show-page-v2__title'}):\n",
        "#         file.write(y.text)\n",
        "# for z in soup151.find_all('div',attrs={'class':'show-page-v2__rating-bars-title'}):\n",
        "#   print(z.text)\n",
        "# with open(\"rock_rate.txt\", \"a\") as file:\n",
        "#     for z in soup151.find_all('div',attrs={'class':'show-page-v2__rating-bars-title'}):\n",
        "#         file.write(z.text)\n",
        "        \n",
        "# soup152.find_all('div',attrs={'class':'show-page-v2__title'}) \n",
        "# for y in soup152.find_all('div',attrs={'class':'show-page-v2__title'}):\n",
        "#   print(y.text)\n",
        "# with open(\"sing_name.txt\", \"a\") as file:\n",
        "#     for y in soup152.find_all('div',attrs={'class':'show-page-v2__title'}):\n",
        "#         file.write(y.text)\n",
        "# for z in soup152.find_all('div',attrs={'class':'show-page-v2__rating-bars-title'}):\n",
        "#   print(z.text)\n",
        "# with open(\"sing_rate.txt\", \"a\") as file:\n",
        "#     for z in soup152.find_all('div',attrs={'class':'show-page-v2__rating-bars-title'}):\n",
        "#         file.write(z.text)\n",
        "                \n",
        "# soup155.find_all('div',attrs={'class':'show-page-v2__title'})\n",
        "# for y in soup155.find_all('div',attrs={'class':'show-page-v2__title'}):\n",
        "#   print(y.text)\n",
        "# with open(\"tina_name.txt\", \"a\") as file:\n",
        "#     for y in soup155.find_all('div',attrs={'class':'show-page-v2__title'}):\n",
        "#         file.write(y.text)\n",
        "# for z in soup155.find_all('div',attrs={'class':'show-page-v2__rating-bars-title'}):\n",
        "#   print(z.text)\n",
        "# with open(\"tina_rate.txt\", \"a\") as file:\n",
        "#     for z in soup155.find_all('div',attrs={'class':'show-page-v2__rating-bars-title'}):\n",
        "#         file.write(z.text)\n",
        "\n",
        "# soup154.find_all('h1',attrs={'class':'rspHeroHeader__title'})\n",
        "# for y in soup154.find_all('h1',attrs={'class':'rspHeroHeader__title'}):\n",
        "#   print(y.text)\n",
        "# with open('garden_name.txt','a') as file:\n",
        "#   for y in soup154.find_all('h1',attrs={'class':'rspHeroHeader__title'}):\n",
        "#     file.write(y.text)\n",
        "\n",
        "# soup156.find_all('h1',attrs={'class':'rspHeroHeader__title'})\n",
        "# for y in soup156.find_all('h1',attrs={'class':'rspHeroHeader__title'}):\n",
        "#   print(y.text)\n",
        "# with open('heat_name.txt','a') as file:\n",
        "#   for y in soup156.find_all('h1',attrs={'class':'rspHeroHeader__title'}):\n",
        "#     file.write(y.text)\n",
        "\n",
        "# soup149.find_all('h1',attrs={'class':'rspHeroHeader__title'})\n",
        "# for y in soup149.find_all('h1',attrs={'class':'rspHeroHeader__title'}):\n",
        "#   print(y.text)\n",
        "# with open('lines_name.txt','a') as file:\n",
        "#   for y in soup149.find_all('h1',attrs={'class':'rspHeroHeader__title'}):\n",
        "#     file.write(y.text)\n",
        "\n",
        "# soup150.find_all('h1',attrs={'class':'rspHeroHeader__title'})\n",
        "# for y in soup150.find_all('h1',attrs={'class':'rspHeroHeader__title'}):\n",
        "#   print(y.text)\n",
        "# with open('once_name.txt','a') as file:\n",
        "#   for y in soup150.find_all('h1',attrs={'class':'rspHeroHeader__title'}):\n",
        "#     file.write(y.text)\n",
        "\n",
        "soup153.find_all('h1',attrs={'class':'rspHeroHeader__title'})\n",
        "for y in soup153.find_all('h1',attrs={'class':'rspHeroHeader__title'}):\n",
        "  print(y.text)\n",
        "with open('prada_name.txt','a') as file:\n",
        "  for y in soup153.find_all('h1',attrs={'class':'rspHeroHeader__title'}):\n",
        "    file.write(y.text)"
      ],
      "metadata": {
        "colab": {
          "base_uri": "https://localhost:8080/"
        },
        "id": "IpQWVygyQNEu",
        "outputId": "08e91dd9-179f-4ac7-86f0-a807436815bf"
      },
      "execution_count": 15,
      "outputs": [
        {
          "output_type": "stream",
          "name": "stdout",
          "text": [
            "\n",
            "                        The Devil Wears Prada Tickets\n",
            "\n"
          ]
        }
      ]
    },
    {
      "cell_type": "code",
      "source": [
        ""
      ],
      "metadata": {
        "id": "36p_vFH8VTNn"
      },
      "execution_count": null,
      "outputs": []
    }
  ]
}